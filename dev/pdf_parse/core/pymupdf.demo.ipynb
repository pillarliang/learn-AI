{
 "cells": [
  {
   "cell_type": "code",
   "execution_count": 1,
   "metadata": {},
   "outputs": [
    {
     "name": "stdout",
     "output_type": "stream",
     "text": [
      "Collecting pymupdf4llm\n",
      "  Downloading pymupdf4llm-0.0.5-py3-none-any.whl.metadata (3.9 kB)\n",
      "Collecting pymupdf>=1.24.2 (from pymupdf4llm)\n",
      "  Downloading PyMuPDF-1.24.5-cp312-none-macosx_10_9_x86_64.whl.metadata (3.4 kB)\n",
      "Collecting PyMuPDFb==1.24.3 (from pymupdf>=1.24.2->pymupdf4llm)\n",
      "  Downloading PyMuPDFb-1.24.3-py3-none-macosx_10_9_x86_64.whl.metadata (1.4 kB)\n",
      "Downloading pymupdf4llm-0.0.5-py3-none-any.whl (18 kB)\n",
      "Downloading PyMuPDF-1.24.5-cp312-none-macosx_10_9_x86_64.whl (3.2 MB)\n",
      "\u001b[2K   \u001b[90m━━━━━━━━━━━━━━━━━━━━━━━━━━━━━━━━━━━━━━━━\u001b[0m \u001b[32m3.2/3.2 MB\u001b[0m \u001b[31m2.8 MB/s\u001b[0m eta \u001b[36m0:00:00\u001b[0ma \u001b[36m0:00:01\u001b[0m0m\n",
      "\u001b[?25hDownloading PyMuPDFb-1.24.3-py3-none-macosx_10_9_x86_64.whl (15.3 MB)\n",
      "\u001b[2K   \u001b[90m━━━━━━━━━━━━━━━━━━━━━━━━━━━━━━━━━━━━━━━━\u001b[0m \u001b[32m15.3/15.3 MB\u001b[0m \u001b[31m2.9 MB/s\u001b[0m eta \u001b[36m0:00:00\u001b[0m00:01\u001b[0m00:01\u001b[0m\n",
      "\u001b[?25hInstalling collected packages: PyMuPDFb, pymupdf, pymupdf4llm\n",
      "  Attempting uninstall: PyMuPDFb\n",
      "    Found existing installation: PyMuPDFb 1.24.1\n",
      "    Uninstalling PyMuPDFb-1.24.1:\n",
      "      Successfully uninstalled PyMuPDFb-1.24.1\n",
      "  Attempting uninstall: pymupdf\n",
      "    Found existing installation: PyMuPDF 1.24.1\n",
      "    Uninstalling PyMuPDF-1.24.1:\n",
      "      Successfully uninstalled PyMuPDF-1.24.1\n",
      "Successfully installed PyMuPDFb-1.24.3 pymupdf-1.24.5 pymupdf4llm-0.0.5\n"
     ]
    }
   ],
   "source": [
    "!pip install -U pymupdf4llm"
   ]
  },
  {
   "cell_type": "code",
   "execution_count": 6,
   "metadata": {},
   "outputs": [
    {
     "data": {
      "text/plain": [
       "2631"
      ]
     },
     "execution_count": 6,
     "metadata": {},
     "output_type": "execute_result"
    }
   ],
   "source": [
    "import pymupdf4llm\n",
    "\n",
    "md_text = pymupdf4llm.to_markdown(\"../data/basic.pdf\", write_images=True)\n",
    "\n",
    "# now work with the markdown text, e.g. store as a UTF8-encoded file\n",
    "import pathlib\n",
    "pathlib.Path(\"output.md\").write_bytes(md_text.encode())"
   ]
  },
  {
   "cell_type": "code",
   "execution_count": null,
   "metadata": {},
   "outputs": [],
   "source": []
  }
 ],
 "metadata": {
  "kernelspec": {
   "display_name": "llm",
   "language": "python",
   "name": "python3"
  },
  "language_info": {
   "codemirror_mode": {
    "name": "ipython",
    "version": 3
   },
   "file_extension": ".py",
   "mimetype": "text/x-python",
   "name": "python",
   "nbconvert_exporter": "python",
   "pygments_lexer": "ipython3",
   "version": "3.12.2"
  }
 },
 "nbformat": 4,
 "nbformat_minor": 2
}
