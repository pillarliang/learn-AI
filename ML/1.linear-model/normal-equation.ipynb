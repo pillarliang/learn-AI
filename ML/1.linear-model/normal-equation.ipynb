{
 "cells": [
  {
   "cell_type": "code",
   "execution_count": 7,
   "metadata": {},
   "outputs": [
    {
     "data": {
      "text/plain": [
       "matrix([[5.34328137e-12],\n",
       "        [3.00000000e-01],\n",
       "        [7.00000000e-01]])"
      ]
     },
     "execution_count": 7,
     "metadata": {},
     "output_type": "execute_result"
    }
   ],
   "source": [
    "import numpy as np\n",
    "from sklearn.linear_model import LinearRegression\n",
    "\n",
    "# feature\n",
    "x = np.mat([[80, 86],\n",
    "            [82, 80],\n",
    "            [85, 78],\n",
    "            [90, 90],\n",
    "            [86, 82],\n",
    "            [82, 90],\n",
    "            [78, 80],\n",
    "            [92, 94]])\n",
    "# target\n",
    "y = np.mat([84.2, 80.6, 80.1, 90, 83.2, 87.6, 79.4, 93.4]).transpose()\n",
    "\n",
    "# add a column of 1 for features\n",
    "ones_array = np.ones((len(x), 1))\n",
    "ones_array\n",
    "x = np.hstack([ones_array, x])\n",
    "\n",
    "# # calculate x,b by using normal equtation\n",
    "w = (x.transpose() * x) ** -1 * x.transpose() * y\n",
    "\n",
    "# create model\n",
    "estimator = LinearRegression(fit_intercept=True)\n",
    "# train model\n",
    "estimator.fit(x, y)\n",
    "print(estimator.coef_[0])\n",
    "\n",
    "\n"
   ]
  }
 ],
 "metadata": {
  "kernelspec": {
   "display_name": "base",
   "language": "python",
   "name": "python3"
  },
  "language_info": {
   "codemirror_mode": {
    "name": "ipython",
    "version": 3
   },
   "file_extension": ".py",
   "mimetype": "text/x-python",
   "name": "python",
   "nbconvert_exporter": "python",
   "pygments_lexer": "ipython3",
   "version": "3.10.10"
  },
  "orig_nbformat": 4
 },
 "nbformat": 4,
 "nbformat_minor": 2
}
