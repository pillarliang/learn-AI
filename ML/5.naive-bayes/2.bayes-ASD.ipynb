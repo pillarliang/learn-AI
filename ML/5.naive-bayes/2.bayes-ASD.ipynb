{
 "cells": [
  {
   "cell_type": "markdown",
   "metadata": {},
   "source": [
    "# [Workshop] Abductive Reasoning using Bayes Method"
   ]
  },
  {
   "cell_type": "markdown",
   "metadata": {},
   "source": [
    "# 0. Installation"
   ]
  },
  {
   "cell_type": "code",
   "execution_count": 1,
   "metadata": {},
   "outputs": [],
   "source": [
    "# !pip install scikit-learn==0.23.1 "
   ]
  },
  {
   "cell_type": "markdown",
   "metadata": {},
   "source": [
    "# 1. Import Library"
   ]
  },
  {
   "cell_type": "code",
   "execution_count": 2,
   "metadata": {},
   "outputs": [],
   "source": [
    "import numpy as np\n",
    "import pandas as pd\n",
    "import matplotlib.pyplot as plt\n",
    "from sklearn.model_selection import train_test_split\n",
    "from sklearn.naive_bayes import MultinomialNB"
   ]
  },
  {
   "cell_type": "markdown",
   "metadata": {},
   "source": [
    "# 2. Check Data"
   ]
  },
  {
   "cell_type": "code",
   "execution_count": 3,
   "metadata": {},
   "outputs": [
    {
     "name": "stdout",
     "output_type": "stream",
     "text": [
      "   Case_No  A1  A2  A3  A4  A5  A6  A7  A8  A9  A10  Age_Mons  Qchat-10-Score  \\\n",
      "0        1   0   0   0   0   0   0   1   1   0    1        28               3   \n",
      "1        2   1   1   0   0   0   1   1   0   0    0        36               4   \n",
      "2        3   1   0   0   0   0   0   1   1   0    1        36               4   \n",
      "3        4   1   1   1   1   1   1   1   1   1    1        24              10   \n",
      "4        5   1   1   0   1   1   1   1   1   1    1        20               9   \n",
      "\n",
      "  Sex       Ethnicity Jaundice Family_mem_with_ASD Who completed the test  \\\n",
      "0   f  middle eastern      yes                  no          family member   \n",
      "1   m  White European      yes                  no          family member   \n",
      "2   m  middle eastern      yes                  no          family member   \n",
      "3   m        Hispanic       no                  no          family member   \n",
      "4   f  White European       no                 yes          family member   \n",
      "\n",
      "  Class/ASD Traits   \n",
      "0                No  \n",
      "1               Yes  \n",
      "2               Yes  \n",
      "3               Yes  \n",
      "4               Yes  \n"
     ]
    }
   ],
   "source": [
    "# Loading the dataset\n",
    "# ASD_data = pd.read_csv('./data.csv')\n",
    "ASD_data = pd.read_csv('../data/Toddler Autism dataset.csv')\n",
    "\n",
    "# Print the first 5 rows of the dataframe.\n",
    "print(ASD_data.head())"
   ]
  },
  {
   "cell_type": "code",
   "execution_count": 4,
   "metadata": {},
   "outputs": [
    {
     "name": "stdout",
     "output_type": "stream",
     "text": [
      "   Case_No  A1  A2  A3  A4  A5  A6  A7  A8  A9  A10  Age_Mons  Qchat_10_Score  \\\n",
      "0        1   0   0   0   0   0   0   1   1   0    1        28               3   \n",
      "1        2   1   1   0   0   0   1   1   0   0    0        36               4   \n",
      "2        3   1   0   0   0   0   0   1   1   0    1        36               4   \n",
      "3        4   1   1   1   1   1   1   1   1   1    1        24              10   \n",
      "4        5   1   1   0   1   1   1   1   1   1    1        20               9   \n",
      "\n",
      "  Sex       Ethnicity Jaundice Family_mem_with_ASD Who_completed_the_test  \\\n",
      "0   f  middle eastern      yes                  no          family member   \n",
      "1   m  White European      yes                  no          family member   \n",
      "2   m  middle eastern      yes                  no          family member   \n",
      "3   m        Hispanic       no                  no          family member   \n",
      "4   f  White European       no                 yes          family member   \n",
      "\n",
      "  Class_ASD_Traits_  \n",
      "0                No  \n",
      "1               Yes  \n",
      "2               Yes  \n",
      "3               Yes  \n",
      "4               Yes  \n"
     ]
    }
   ],
   "source": [
    "# Replace special \n",
    "ASD_data.columns=ASD_data.columns.str.replace('-','_')\n",
    "ASD_data.columns=ASD_data.columns.str.replace('/','_')\n",
    "ASD_data.columns=ASD_data.columns.str.replace(' ','_')\n",
    "print(ASD_data.head())"
   ]
  },
  {
   "cell_type": "code",
   "execution_count": 5,
   "metadata": {},
   "outputs": [
    {
     "name": "stdout",
     "output_type": "stream",
     "text": [
      "(1054, 19)\n"
     ]
    }
   ],
   "source": [
    "# observing the shape of the data\n",
    "print(ASD_data.shape)"
   ]
  },
  {
   "cell_type": "markdown",
   "metadata": {},
   "source": [
    "# 3. Data Preprocessing"
   ]
  },
  {
   "cell_type": "markdown",
   "metadata": {},
   "source": [
    "## 3.1. Choose appropriate features "
   ]
  },
  {
   "cell_type": "code",
   "execution_count": 6,
   "metadata": {},
   "outputs": [
    {
     "data": {
      "text/html": [
       "<div>\n",
       "<style scoped>\n",
       "    .dataframe tbody tr th:only-of-type {\n",
       "        vertical-align: middle;\n",
       "    }\n",
       "\n",
       "    .dataframe tbody tr th {\n",
       "        vertical-align: top;\n",
       "    }\n",
       "\n",
       "    .dataframe thead th {\n",
       "        text-align: right;\n",
       "    }\n",
       "</style>\n",
       "<table border=\"1\" class=\"dataframe\">\n",
       "  <thead>\n",
       "    <tr style=\"text-align: right;\">\n",
       "      <th></th>\n",
       "      <th>A1</th>\n",
       "      <th>A2</th>\n",
       "      <th>A3</th>\n",
       "      <th>A4</th>\n",
       "      <th>A5</th>\n",
       "      <th>A6</th>\n",
       "      <th>A7</th>\n",
       "      <th>A8</th>\n",
       "      <th>A9</th>\n",
       "      <th>A10</th>\n",
       "      <th>Sex</th>\n",
       "      <th>Ethnicity</th>\n",
       "      <th>Jaundice</th>\n",
       "      <th>Family_mem_with_ASD</th>\n",
       "    </tr>\n",
       "  </thead>\n",
       "  <tbody>\n",
       "    <tr>\n",
       "      <th>0</th>\n",
       "      <td>0</td>\n",
       "      <td>0</td>\n",
       "      <td>0</td>\n",
       "      <td>0</td>\n",
       "      <td>0</td>\n",
       "      <td>0</td>\n",
       "      <td>1</td>\n",
       "      <td>1</td>\n",
       "      <td>0</td>\n",
       "      <td>1</td>\n",
       "      <td>0</td>\n",
       "      <td>8</td>\n",
       "      <td>1</td>\n",
       "      <td>0</td>\n",
       "    </tr>\n",
       "    <tr>\n",
       "      <th>1</th>\n",
       "      <td>1</td>\n",
       "      <td>1</td>\n",
       "      <td>0</td>\n",
       "      <td>0</td>\n",
       "      <td>0</td>\n",
       "      <td>1</td>\n",
       "      <td>1</td>\n",
       "      <td>0</td>\n",
       "      <td>0</td>\n",
       "      <td>0</td>\n",
       "      <td>1</td>\n",
       "      <td>5</td>\n",
       "      <td>1</td>\n",
       "      <td>0</td>\n",
       "    </tr>\n",
       "    <tr>\n",
       "      <th>2</th>\n",
       "      <td>1</td>\n",
       "      <td>0</td>\n",
       "      <td>0</td>\n",
       "      <td>0</td>\n",
       "      <td>0</td>\n",
       "      <td>0</td>\n",
       "      <td>1</td>\n",
       "      <td>1</td>\n",
       "      <td>0</td>\n",
       "      <td>1</td>\n",
       "      <td>1</td>\n",
       "      <td>8</td>\n",
       "      <td>1</td>\n",
       "      <td>0</td>\n",
       "    </tr>\n",
       "    <tr>\n",
       "      <th>3</th>\n",
       "      <td>1</td>\n",
       "      <td>1</td>\n",
       "      <td>1</td>\n",
       "      <td>1</td>\n",
       "      <td>1</td>\n",
       "      <td>1</td>\n",
       "      <td>1</td>\n",
       "      <td>1</td>\n",
       "      <td>1</td>\n",
       "      <td>1</td>\n",
       "      <td>1</td>\n",
       "      <td>0</td>\n",
       "      <td>0</td>\n",
       "      <td>0</td>\n",
       "    </tr>\n",
       "    <tr>\n",
       "      <th>4</th>\n",
       "      <td>1</td>\n",
       "      <td>1</td>\n",
       "      <td>0</td>\n",
       "      <td>1</td>\n",
       "      <td>1</td>\n",
       "      <td>1</td>\n",
       "      <td>1</td>\n",
       "      <td>1</td>\n",
       "      <td>1</td>\n",
       "      <td>1</td>\n",
       "      <td>0</td>\n",
       "      <td>5</td>\n",
       "      <td>0</td>\n",
       "      <td>1</td>\n",
       "    </tr>\n",
       "    <tr>\n",
       "      <th>...</th>\n",
       "      <td>...</td>\n",
       "      <td>...</td>\n",
       "      <td>...</td>\n",
       "      <td>...</td>\n",
       "      <td>...</td>\n",
       "      <td>...</td>\n",
       "      <td>...</td>\n",
       "      <td>...</td>\n",
       "      <td>...</td>\n",
       "      <td>...</td>\n",
       "      <td>...</td>\n",
       "      <td>...</td>\n",
       "      <td>...</td>\n",
       "      <td>...</td>\n",
       "    </tr>\n",
       "    <tr>\n",
       "      <th>1049</th>\n",
       "      <td>0</td>\n",
       "      <td>0</td>\n",
       "      <td>0</td>\n",
       "      <td>0</td>\n",
       "      <td>0</td>\n",
       "      <td>0</td>\n",
       "      <td>0</td>\n",
       "      <td>0</td>\n",
       "      <td>0</td>\n",
       "      <td>1</td>\n",
       "      <td>0</td>\n",
       "      <td>5</td>\n",
       "      <td>0</td>\n",
       "      <td>1</td>\n",
       "    </tr>\n",
       "    <tr>\n",
       "      <th>1050</th>\n",
       "      <td>0</td>\n",
       "      <td>0</td>\n",
       "      <td>1</td>\n",
       "      <td>1</td>\n",
       "      <td>1</td>\n",
       "      <td>0</td>\n",
       "      <td>1</td>\n",
       "      <td>0</td>\n",
       "      <td>1</td>\n",
       "      <td>0</td>\n",
       "      <td>1</td>\n",
       "      <td>7</td>\n",
       "      <td>1</td>\n",
       "      <td>0</td>\n",
       "    </tr>\n",
       "    <tr>\n",
       "      <th>1051</th>\n",
       "      <td>1</td>\n",
       "      <td>0</td>\n",
       "      <td>1</td>\n",
       "      <td>1</td>\n",
       "      <td>1</td>\n",
       "      <td>1</td>\n",
       "      <td>1</td>\n",
       "      <td>1</td>\n",
       "      <td>1</td>\n",
       "      <td>1</td>\n",
       "      <td>1</td>\n",
       "      <td>8</td>\n",
       "      <td>1</td>\n",
       "      <td>0</td>\n",
       "    </tr>\n",
       "    <tr>\n",
       "      <th>1052</th>\n",
       "      <td>1</td>\n",
       "      <td>0</td>\n",
       "      <td>0</td>\n",
       "      <td>0</td>\n",
       "      <td>0</td>\n",
       "      <td>0</td>\n",
       "      <td>0</td>\n",
       "      <td>1</td>\n",
       "      <td>0</td>\n",
       "      <td>1</td>\n",
       "      <td>1</td>\n",
       "      <td>5</td>\n",
       "      <td>0</td>\n",
       "      <td>1</td>\n",
       "    </tr>\n",
       "    <tr>\n",
       "      <th>1053</th>\n",
       "      <td>1</td>\n",
       "      <td>1</td>\n",
       "      <td>0</td>\n",
       "      <td>0</td>\n",
       "      <td>1</td>\n",
       "      <td>1</td>\n",
       "      <td>0</td>\n",
       "      <td>1</td>\n",
       "      <td>1</td>\n",
       "      <td>0</td>\n",
       "      <td>1</td>\n",
       "      <td>6</td>\n",
       "      <td>1</td>\n",
       "      <td>1</td>\n",
       "    </tr>\n",
       "  </tbody>\n",
       "</table>\n",
       "<p>1054 rows × 14 columns</p>\n",
       "</div>"
      ],
      "text/plain": [
       "      A1  A2  A3  A4  A5  A6  A7  A8  A9  A10 Sex Ethnicity Jaundice  \\\n",
       "0      0   0   0   0   0   0   1   1   0    1   0         8        1   \n",
       "1      1   1   0   0   0   1   1   0   0    0   1         5        1   \n",
       "2      1   0   0   0   0   0   1   1   0    1   1         8        1   \n",
       "3      1   1   1   1   1   1   1   1   1    1   1         0        0   \n",
       "4      1   1   0   1   1   1   1   1   1    1   0         5        0   \n",
       "...   ..  ..  ..  ..  ..  ..  ..  ..  ..  ...  ..       ...      ...   \n",
       "1049   0   0   0   0   0   0   0   0   0    1   0         5        0   \n",
       "1050   0   0   1   1   1   0   1   0   1    0   1         7        1   \n",
       "1051   1   0   1   1   1   1   1   1   1    1   1         8        1   \n",
       "1052   1   0   0   0   0   0   0   1   0    1   1         5        0   \n",
       "1053   1   1   0   0   1   1   0   1   1    0   1         6        1   \n",
       "\n",
       "     Family_mem_with_ASD  \n",
       "0                      0  \n",
       "1                      0  \n",
       "2                      0  \n",
       "3                      0  \n",
       "4                      1  \n",
       "...                  ...  \n",
       "1049                   1  \n",
       "1050                   0  \n",
       "1051                   0  \n",
       "1052                   1  \n",
       "1053                   1  \n",
       "\n",
       "[1054 rows x 14 columns]"
      ]
     },
     "execution_count": 6,
     "metadata": {},
     "output_type": "execute_result"
    }
   ],
   "source": [
    "Sex = pd.Categorical(pd.Categorical(ASD_data['Sex']).codes)\n",
    "Ethnicity = pd.Categorical(pd.Categorical(ASD_data['Ethnicity']).codes)\n",
    "Jaundice = pd.Categorical(pd.Categorical(ASD_data['Jaundice']).codes)\n",
    "Family_mem_with_ASD = pd.Categorical(pd.Categorical(ASD_data['Family_mem_with_ASD']).codes)\n",
    "Class_ASD_Traits_ = pd.Categorical(pd.Categorical(ASD_data['Class_ASD_Traits_']).codes)\n",
    "\n",
    "ASD_data['Sex'] = Sex\n",
    "ASD_data['Ethnicity'] = Ethnicity\n",
    "ASD_data['Jaundice'] = Jaundice\n",
    "ASD_data['Family_mem_with_ASD'] = Family_mem_with_ASD\n",
    "ASD_data['Class_ASD_Traits_'] = Class_ASD_Traits_\n",
    "\n",
    "# Check the data and think why we drop these variables?\n",
    "X = ASD_data.drop(['Case_No', 'Who_completed_the_test', 'Qchat_10_Score', 'Class_ASD_Traits_', 'Age_Mons'], axis=1)\n",
    "# X = ASD_data.drop(['Case_No', 'Who_completed_the_test', 'Class_ASD_Traits_'], axis=1)\n",
    "X\n"
   ]
  },
  {
   "cell_type": "markdown",
   "metadata": {},
   "source": [
    "## 3.2 Choose target"
   ]
  },
  {
   "cell_type": "code",
   "execution_count": 7,
   "metadata": {},
   "outputs": [],
   "source": [
    "# Y_classification = ASD_data.Outcome\n",
    "Y_classification = ASD_data.Class_ASD_Traits_"
   ]
  },
  {
   "cell_type": "markdown",
   "metadata": {},
   "source": [
    "# 4. Build Naive Bayes Model"
   ]
  },
  {
   "cell_type": "markdown",
   "metadata": {},
   "source": [
    "## 4.1 Split the dataset into training set and test set"
   ]
  },
  {
   "cell_type": "code",
   "execution_count": 8,
   "metadata": {},
   "outputs": [
    {
     "name": "stdout",
     "output_type": "stream",
     "text": [
      "(843, 14)\n",
      "(211, 14)\n"
     ]
    }
   ],
   "source": [
    "X_train, X_test, y_train, y_test = train_test_split(X, Y_classification, test_size=1 / 5, random_state=1,\n",
    "                                                    stratify=Y_classification)\n",
    "print(X_train.shape)\n",
    "print(X_test.shape)"
   ]
  },
  {
   "cell_type": "markdown",
   "metadata": {},
   "source": [
    "## 4.2. Build Naive Bayes Model"
   ]
  },
  {
   "cell_type": "code",
   "execution_count": 9,
   "metadata": {},
   "outputs": [
    {
     "name": "stdout",
     "output_type": "stream",
     "text": [
      "Score in training set: 0.924\n",
      "Score in test set: 0.928910\n"
     ]
    }
   ],
   "source": [
    "NaiveBayesModel = MultinomialNB()\n",
    "NaiveBayesModel.fit(X_train, y_train)\n",
    "\n",
    "print('Score in training set: {:.3f}'.format(NaiveBayesModel.score(X_train, y_train)))\n",
    "print('Score in test set: {:3f}'.format(NaiveBayesModel.score(X_test,y_test)))\n"
   ]
  },
  {
   "cell_type": "markdown",
   "metadata": {},
   "source": [
    "# 5. Visualize the Outcome"
   ]
  },
  {
   "cell_type": "code",
   "execution_count": 10,
   "metadata": {
    "scrolled": false
   },
   "outputs": [
    {
     "data": {
      "image/png": "[encoded data removed]",
      "text/plain": [
       "<Figure size 432x288 with 1 Axes>"
      ]
     },
     "metadata": {
      "needs_background": "light"
     },
     "output_type": "display_data"
    },
    {
     "data": {
      "image/png": "[encoded data removed]",
      "text/plain": [
       "<Figure size 432x288 with 1 Axes>"
      ]
     },
     "metadata": {
      "needs_background": "light"
     },
     "output_type": "display_data"
    }
   ],
   "source": [
    "from sklearn.decomposition import PCA\n",
    "pca = PCA(n_components=2)\n",
    "X_new = pca.fit_transform(np.concatenate((X_train,X_test)))\n",
    "\n",
    "# Train set\n",
    "plt.scatter(X_new[:843, 0][y_train==1], X_new[:843, 1][y_train==1], marker='o', c='orange') # Orange: ASD_in_train; \n",
    "plt.scatter(X_new[:843, 0][y_train==0], X_new[:843, 1][y_train==0], marker='o', c='b') # Blue Not ASD_in_train;\n",
    "plt.legend(['ASD (Train)', 'Not ASD (Train)'])\n",
    "plt.show()\n",
    "\n",
    "# Test set\n",
    "plt.scatter(X_new[843:, 0][y_test==1], X_new[843:, 1][y_test==1], marker='o', c='orange') # Orange: ASD_in_test; \n",
    "plt.scatter(X_new[843:, 0][y_test==0], X_new[843:, 1][y_test==0], marker='o', c='b') # Blue Not ASD_in_test;\n",
    "plt.legend(['ASD (Test)', 'Not ASD (Test)'])\n",
    "plt.show()"
   ]
  },
  {
   "cell_type": "markdown",
   "metadata": {},
   "source": [
    "### Confusion matrix: TP; TN; FP; FN\n",
    "\n",
    "https://en.wikipedia.org/wiki/Confusion_matrix\n",
    "\n",
    "\n",
    "| Confusion Matrix  |   |  |  |\n",
    "| :-: | :-: | :-: | :-: |\n",
    "|  |  | Actual Class | Actual Class |\n",
    "|  |  | **Positive** | **Negative** |\n",
    "| Predicted Class | **Positive** | TP: True Positive | FP: False Positive |\n",
    "| Predicted Class | **Negative** | FN: False Negative | TN: True Negative |\n"
   ]
  },
  {
   "cell_type": "code",
   "execution_count": 11,
   "metadata": {},
   "outputs": [
    {
     "data": {
      "image/png": "[encoded data removed]",
      "text/plain": [
       "<Figure size 432x288 with 1 Axes>"
      ]
     },
     "metadata": {
      "needs_background": "light"
     },
     "output_type": "display_data"
    }
   ],
   "source": [
    "\n",
    "ASD_ASD = pd.Series(dtype = 'int')  # Ture Positive: y_test is ASD and recognized as ASD (Correct)\n",
    "NOT_ASD_NOT_ASD = pd.Series(dtype = 'int') # Ture Negative: y_test is NOT ASD and recognized as NOT ASD (Correct)\n",
    "wrong_answer = pd.Series(dtype = 'int') # False: y_test is ASD and recognized as NOT ASD  or y_test is NOT ASD and recognized as ASD (Wrong)\n",
    "\n",
    "y_predict = NaiveBayesModel.predict(X_test)\n",
    "for y_gt, y_pd in zip(list(y_test), y_predict):\n",
    "    if y_gt == 1 and y_pd == 1:\n",
    "        ASD_ASD=ASD_ASD.append(pd.Series(1))\n",
    "        NOT_ASD_NOT_ASD=NOT_ASD_NOT_ASD.append(pd.Series(0))\n",
    "        wrong_answer=wrong_answer.append(pd.Series(0))\n",
    "    elif y_gt == 0 and y_pd == 0:\n",
    "        ASD_ASD=ASD_ASD.append(pd.Series(0))\n",
    "        NOT_ASD_NOT_ASD=NOT_ASD_NOT_ASD.append(pd.Series(1))\n",
    "        wrong_answer=wrong_answer.append(pd.Series(0))\n",
    "    else:\n",
    "        ASD_ASD=ASD_ASD.append(pd.Series(0))\n",
    "        NOT_ASD_NOT_ASD=NOT_ASD_NOT_ASD.append(pd.Series(0))\n",
    "        wrong_answer=wrong_answer.append(pd.Series(1))\n",
    "plt.scatter(X_new[843:, 0][ASD_ASD==1], X_new[843:, 1][ASD_ASD==1], \n",
    "            marker='.', c='orange') # Ture Positive: y_test is ASD and recognized as ASD (Correct)\n",
    "\n",
    "plt.scatter(X_new[843:, 0][NOT_ASD_NOT_ASD==1], X_new[843:, 1][NOT_ASD_NOT_ASD==1], \n",
    "            marker='.', c='blue') # Ture Negative: y_test is NOT ASD and recognized as NOT ASD (Correct)\n",
    "\n",
    "plt.scatter(X_new[843:, 0][wrong_answer==1], X_new[843:, 1][wrong_answer==1], \n",
    "            marker='x', c='grey') # False: y_test is ASD and recognized as NOT ASD  or y_test is NOT ASD and recognized as ASD (Wrong)\n",
    "\n",
    "\n",
    "plt.legend(['Ture Positive', 'Ture Negative', 'False'],loc='lower right')\n",
    "plt.show()"
   ]
  },
  {
   "cell_type": "markdown",
   "metadata": {},
   "source": [
    "### Quiz: What you observe from the above figure? Where do wrong predicitons mostly like to occur?"
   ]
  },
  {
   "cell_type": "code",
   "execution_count": 12,
   "metadata": {},
   "outputs": [],
   "source": [
    "# Your answer and reasoning:\n",
    "#\n",
    "#\n",
    "#"
   ]
  }
 ],
 "metadata": {
  "kernelspec": {
   "display_name": "Python 3",
   "language": "python",
   "name": "python3"
  },
  "language_info": {
   "codemirror_mode": {
    "name": "ipython",
    "version": 3
   },
   "file_extension": ".py",
   "mimetype": "text/x-python",
   "name": "python",
   "nbconvert_exporter": "python",
   "pygments_lexer": "ipython3",
   "version": "3.6.12"
  }
 },
 "nbformat": 4,
 "nbformat_minor": 4
}
