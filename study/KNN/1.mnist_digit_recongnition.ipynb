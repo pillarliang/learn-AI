{
 "cells": [
  {
   "cell_type": "code",
   "execution_count": 1,
   "metadata": {},
   "outputs": [
    {
     "name": "stdout",
     "output_type": "stream",
     "text": [
      "the label for current digit: 1\n"
     ]
    },
    {
     "data": {
      "image/png": "[encoded data removed]",
      "text/plain": [
       "<Figure size 640x480 with 1 Axes>"
      ]
     },
     "metadata": {},
     "output_type": "display_data"
    }
   ],
   "source": [
    "from sklearn.neighbors import KNeighborsClassifier\n",
    "from sklearn.model_selection import train_test_split\n",
    "import pandas as pd\n",
    "import matplotlib.pyplot as plt\n",
    "from collections import Counter\n",
    "import joblib\n",
    "\n",
    "def show_digit(idx):\n",
    "    data = pd.read_csv('../data/手写数字识别.csv')\n",
    "    \n",
    "    if idx < 0 or idx > len(data)-1:\n",
    "        return\n",
    "    \n",
    "    x = data.iloc[:, 1:]\n",
    "    y = data.iloc[:, 0]\n",
    "\n",
    "    print('the label for current digit:', y[idx])\n",
    "\n",
    "    data_ = x.iloc[idx].values\n",
    "    data_ = data_.reshape(28,28)\n",
    "\n",
    "    plt.axis('off')\n",
    "    plt.imshow(data_)\n",
    "    plt.show()\n",
    "\n",
    "show_digit(2)"
   ]
  },
  {
   "cell_type": "code",
   "execution_count": null,
   "metadata": {},
   "outputs": [
    {
     "name": "stdout",
     "output_type": "stream",
     "text": [
      "basic information: (42000, 784)\n",
      "the porporation of data type: Counter({1: 4684, 7: 4401, 3: 4351, 9: 4188, 2: 4177, 6: 4137, 0: 4132, 4: 4072, 8: 4063, 5: 3795})\n"
     ]
    },
    {
     "ename": "",
     "evalue": "",
     "output_type": "error",
     "traceback": [
      "\u001b[1;31m无法执行代码，已释放会话。请尝试重新启动内核。"
     ]
    },
    {
     "ename": "",
     "evalue": "",
     "output_type": "error",
     "traceback": [
      "\u001b[1;31m在当前单元格或上一个单元格中执行代码时 Kernel 崩溃。请查看单元格中的代码，以确定故障的可能原因。有关详细信息，请单击 <a href='https://aka.ms/vscodeJupyterKernelCrash'>此处</a>。有关更多详细信息，请查看 Jupyter <a href='command:jupyter.viewOutput'>log</a>。"
     ]
    }
   ],
   "source": [
    "from sklearn.neighbors import KNeighborsClassifier\n",
    "from sklearn.model_selection import train_test_split\n",
    "import pandas as pd\n",
    "import matplotlib.pyplot as plt\n",
    "from collections import Counter\n",
    "import joblib\n",
    "\n",
    "data = pd.read_csv('../data/手写数字识别.csv')\n",
    "\n",
    "x = data.iloc[:, 1:] / 255 # To scale the range of pixel values from 0-255 to 0-1 to better accommodate the training process of the machine learning model.\n",
    "y = data.iloc[:, 0]\n",
    "\n",
    "# print the baisc information of data\n",
    "print('basic information:', x.shape)\n",
    "print('the porporation of data type:', Counter(y))\n",
    "\n",
    "# divide dataset\n",
    "x_train, x_test, y_train, y_test = train_test_split(x, y, test_size=0.2, stratify=y, random_state=0)\n",
    "\n",
    "# create model\n",
    "estimator = KNeighborsClassifier(n_neighbors=3)\n",
    "\n",
    "# train model\n",
    "estimator.fit(x_train, y_train)\n",
    "\n",
    "# estimate model\n",
    "estimator.score(x_test, y_test)\n",
    "\n",
    "# save model\n",
    "# joblib.dump(estimator, '../model/knn.pth')"
   ]
  }
 ],
 "metadata": {
  "kernelspec": {
   "display_name": "base",
   "language": "python",
   "name": "python3"
  },
  "language_info": {
   "codemirror_mode": {
    "name": "ipython",
    "version": 3
   },
   "file_extension": ".py",
   "mimetype": "text/x-python",
   "name": "python",
   "nbconvert_exporter": "python",
   "pygments_lexer": "ipython3",
   "version": "3.10.10"
  },
  "orig_nbformat": 4
 },
 "nbformat": 4,
 "nbformat_minor": 2
}
