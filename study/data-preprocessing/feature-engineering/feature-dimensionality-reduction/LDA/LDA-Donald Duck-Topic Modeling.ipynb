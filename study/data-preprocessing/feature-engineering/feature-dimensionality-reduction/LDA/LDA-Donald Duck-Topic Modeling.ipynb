{
 "cells": [
  {
   "cell_type": "markdown",
   "metadata": {},
   "source": [
    "# 0. Installation (one time job)"
   ]
  },
  {
   "cell_type": "code",
   "execution_count": 1,
   "metadata": {},
   "outputs": [],
   "source": [
    "#!pip install scikit-learn==0.23.1"
   ]
  },
  {
   "cell_type": "code",
   "execution_count": 2,
   "metadata": {
    "scrolled": false
   },
   "outputs": [
    {
     "name": "stdout",
     "output_type": "stream",
     "text": [
      "Requirement already satisfied: openpyxl in /home/ai-user/anaconda3/envs/py36/lib/python3.6/site-packages (3.0.5)\r\n",
      "Requirement already satisfied: et-xmlfile in /home/ai-user/anaconda3/envs/py36/lib/python3.6/site-packages (from openpyxl) (1.0.1)\r\n",
      "Requirement already satisfied: jdcal in /home/ai-user/anaconda3/envs/py36/lib/python3.6/site-packages (from openpyxl) (1.4.1)\r\n"
     ]
    }
   ],
   "source": [
    "# xlrd no longer support xlsx - https://stackoverflow.com/questions/65254535/xlrd-biffh-xlrderror-excel-xlsx-file-not-supported\n",
    "!pip install openpyxl"
   ]
  },
  {
   "cell_type": "markdown",
   "metadata": {},
   "source": [
    "# 1. Import Library"
   ]
  },
  {
   "cell_type": "code",
   "execution_count": 3,
   "metadata": {},
   "outputs": [],
   "source": [
    "import pandas as pd\n",
    "from sklearn.feature_extraction.text import TfidfVectorizer, CountVectorizer\n",
    "from sklearn.decomposition import LatentDirichletAllocation\n",
    "from TextPreprocessing import text_preprocessing"
   ]
  },
  {
   "cell_type": "markdown",
   "metadata": {},
   "source": [
    "# 2. Check Data"
   ]
  },
  {
   "cell_type": "code",
   "execution_count": 4,
   "metadata": {
    "scrolled": true
   },
   "outputs": [
    {
     "data": {
      "text/html": [
       "<div>\n",
       "<style scoped>\n",
       "    .dataframe tbody tr th:only-of-type {\n",
       "        vertical-align: middle;\n",
       "    }\n",
       "\n",
       "    .dataframe tbody tr th {\n",
       "        vertical-align: top;\n",
       "    }\n",
       "\n",
       "    .dataframe thead th {\n",
       "        text-align: right;\n",
       "    }\n",
       "</style>\n",
       "<table border=\"1\" class=\"dataframe\">\n",
       "  <thead>\n",
       "    <tr style=\"text-align: right;\">\n",
       "      <th></th>\n",
       "      <th>sn</th>\n",
       "      <th>Question</th>\n",
       "      <th>Long_Answer</th>\n",
       "      <th>Short_Answer</th>\n",
       "      <th>Source</th>\n",
       "      <th>Remarks</th>\n",
       "    </tr>\n",
       "  </thead>\n",
       "  <tbody>\n",
       "    <tr>\n",
       "      <th>0</th>\n",
       "      <td>1</td>\n",
       "      <td>What are Autism Spectrum Disorders (ASD)?</td>\n",
       "      <td>ASD refers to a wide spectrum of neurodevelopm...</td>\n",
       "      <td>NaN</td>\n",
       "      <td>http://birchtreecenter.org/learn/autism</td>\n",
       "      <td>NaN</td>\n",
       "    </tr>\n",
       "    <tr>\n",
       "      <th>1</th>\n",
       "      <td>2</td>\n",
       "      <td>How common is autism?</td>\n",
       "      <td>According to a 2020 report commissioned by the...</td>\n",
       "      <td>NaN</td>\n",
       "      <td>http://birchtreecenter.org/learn/autism</td>\n",
       "      <td>NaN</td>\n",
       "    </tr>\n",
       "    <tr>\n",
       "      <th>2</th>\n",
       "      <td>3</td>\n",
       "      <td>What causes autism? Can it be cured?</td>\n",
       "      <td>The causes of this complex disorder remain unc...</td>\n",
       "      <td>NaN</td>\n",
       "      <td>http://birchtreecenter.org/learn/autism</td>\n",
       "      <td>NaN</td>\n",
       "    </tr>\n",
       "    <tr>\n",
       "      <th>3</th>\n",
       "      <td>4</td>\n",
       "      <td>Why doesn’t intervention center refer to its s...</td>\n",
       "      <td>Our students are children or youth who are cha...</td>\n",
       "      <td>NaN</td>\n",
       "      <td>http://birchtreecenter.org/learn/autism</td>\n",
       "      <td>NaN</td>\n",
       "    </tr>\n",
       "    <tr>\n",
       "      <th>4</th>\n",
       "      <td>5</td>\n",
       "      <td>What are the types of Autism Spectrum Disorders?</td>\n",
       "      <td>Autistic Disorder; Asperger Syndrome; Pervasiv...</td>\n",
       "      <td>NaN</td>\n",
       "      <td>http://dhss.alaska.gov/dph/wcfh/Pages/autism/s...</td>\n",
       "      <td>NaN</td>\n",
       "    </tr>\n",
       "  </tbody>\n",
       "</table>\n",
       "</div>"
      ],
      "text/plain": [
       "   sn                                           Question  \\\n",
       "0   1          What are Autism Spectrum Disorders (ASD)?   \n",
       "1   2                              How common is autism?   \n",
       "2   3               What causes autism? Can it be cured?   \n",
       "3   4  Why doesn’t intervention center refer to its s...   \n",
       "4   5   What are the types of Autism Spectrum Disorders?   \n",
       "\n",
       "                                         Long_Answer  Short_Answer  \\\n",
       "0  ASD refers to a wide spectrum of neurodevelopm...           NaN   \n",
       "1  According to a 2020 report commissioned by the...           NaN   \n",
       "2  The causes of this complex disorder remain unc...           NaN   \n",
       "3  Our students are children or youth who are cha...           NaN   \n",
       "4  Autistic Disorder; Asperger Syndrome; Pervasiv...           NaN   \n",
       "\n",
       "                                              Source  Remarks  \n",
       "0            http://birchtreecenter.org/learn/autism      NaN  \n",
       "1            http://birchtreecenter.org/learn/autism      NaN  \n",
       "2            http://birchtreecenter.org/learn/autism      NaN  \n",
       "3            http://birchtreecenter.org/learn/autism      NaN  \n",
       "4  http://dhss.alaska.gov/dph/wcfh/Pages/autism/s...      NaN  "
      ]
     },
     "execution_count": 4,
     "metadata": {},
     "output_type": "execute_result"
    }
   ],
   "source": [
    "# Read data\n",
    "pd.set_option('display.max_columns', None)\n",
    "\n",
    "# data = pd.read_excel('./ASD FAQ KB v001.xlsx', sheet_name='FAQ')\n",
    "data = pd.read_excel('./ASD FAQ KB v001.xlsx', sheet_name='FAQ', engine='openpyxl')\n",
    "\n",
    "data.head()"
   ]
  },
  {
   "cell_type": "code",
   "execution_count": 5,
   "metadata": {},
   "outputs": [
    {
     "name": "stdout",
     "output_type": "stream",
     "text": [
      "(226, 6)\n"
     ]
    }
   ],
   "source": [
    "print(data.shape)"
   ]
  },
  {
   "cell_type": "markdown",
   "metadata": {},
   "source": [
    "# 3. Data Preprocessing"
   ]
  },
  {
   "cell_type": "code",
   "execution_count": 6,
   "metadata": {},
   "outputs": [
    {
     "name": "stdout",
     "output_type": "stream",
     "text": [
      "(226, 2753)\n"
     ]
    }
   ],
   "source": [
    "# Select long_answer from the data\n",
    "long_answer = data.get('Long_Answer')\n",
    "\n",
    "# Preprocess the long_answer\n",
    "long_answer = long_answer.map(lambda x: ' '.join(text_preprocessing(x)))\n",
    "\n",
    "# Vectorize the answers (one-hot)\n",
    "sparse_vectorizer = CountVectorizer(strip_accents = 'unicode')\n",
    "sparse_vectors = sparse_vectorizer.fit_transform(long_answer)\n",
    "\n",
    "# (226, 2753)\n",
    "print(sparse_vectors.shape)"
   ]
  },
  {
   "cell_type": "markdown",
   "metadata": {},
   "source": [
    "# 4. Build Topic Model using LDA"
   ]
  },
  {
   "cell_type": "code",
   "execution_count": 7,
   "metadata": {},
   "outputs": [
    {
     "data": {
      "text/plain": [
       "LatentDirichletAllocation(learning_method='online', max_iter=1000,\n",
       "                          n_components=4, random_state=0)"
      ]
     },
     "execution_count": 7,
     "metadata": {},
     "output_type": "execute_result"
    }
   ],
   "source": [
    "# Your super power to define number of topics\n",
    "n_topics = 4\n",
    "\n",
    "# Run LDA to generate topics/clusters\n",
    "lda = LatentDirichletAllocation(n_components=n_topics, max_iter=1000,\n",
    "                                learning_method='online',\n",
    "                                random_state=0)\n",
    "\n",
    "lda.fit(sparse_vectors)"
   ]
  },
  {
   "cell_type": "markdown",
   "metadata": {},
   "source": [
    "# 5. Display the resulting topics/clusters of ASD FAQ's Long_Answer field"
   ]
  },
  {
   "cell_type": "code",
   "execution_count": 8,
   "metadata": {},
   "outputs": [],
   "source": [
    "# Print the top-n key words\n",
    "def print_top_words(model, feature_names, n_top_words):\n",
    "    for topic_idx, topic in enumerate(model.components_):\n",
    "        print(\"Topic #%d:\" % topic_idx)\n",
    "        print(\" \".join([feature_names[i] for i in topic.argsort()[:-n_top_words - 1:-1]]))\n",
    "    print()"
   ]
  },
  {
   "cell_type": "code",
   "execution_count": 9,
   "metadata": {},
   "outputs": [
    {
     "name": "stdout",
     "output_type": "stream",
     "text": [
      "Topic 1\n",
      "autism disorder asd child may spectrum people behavior social cause\n",
      "\n",
      "Topic 2\n",
      "child autism may treatment intervention diagnosis early help parent therapy\n",
      "\n",
      "Topic 3\n",
      "institute national autism tel information health disorder fax behavior md\n",
      "\n",
      "Topic 4\n",
      "ability assessment behaviour concern specific characteristic academic ot memory diet\n",
      "\n"
     ]
    }
   ],
   "source": [
    "# Show the first n_top_words key words\n",
    "n_top_words = 10\n",
    "feature_names = sparse_vectorizer.get_feature_names()\n",
    "\n",
    "for i, topic in enumerate(lda.components_):\n",
    "    print('Topic {num}'.format(num=i+1))\n",
    "    print(\" \".join([feature_names[i] for i in topic.argsort()[:-n_top_words - 1:-1]]))\n",
    "    print()"
   ]
  },
  {
   "cell_type": "code",
   "execution_count": 10,
   "metadata": {},
   "outputs": [
    {
     "name": "stdout",
     "output_type": "stream",
     "text": [
      "1st document(long FAQ answer) belongs to Topic 1\n"
     ]
    }
   ],
   "source": [
    "print(\"1st document(long FAQ answer) belongs to Topic\",lda.transform(sparse_vectors[0]).argmax()+1)"
   ]
  },
  {
   "cell_type": "code",
   "execution_count": 11,
   "metadata": {
    "scrolled": true
   },
   "outputs": [
    {
     "name": "stdout",
     "output_type": "stream",
     "text": [
      "Document (long FAQ answer) 1 belongs to Topic 1\n",
      "Document (long FAQ answer) 2 belongs to Topic 1\n",
      "Document (long FAQ answer) 3 belongs to Topic 1\n",
      "Document (long FAQ answer) 4 belongs to Topic 1\n",
      "Document (long FAQ answer) 5 belongs to Topic 1\n",
      "Document (long FAQ answer) 6 belongs to Topic 1\n",
      "Document (long FAQ answer) 7 belongs to Topic 3\n",
      "Document (long FAQ answer) 8 belongs to Topic 1\n",
      "Document (long FAQ answer) 9 belongs to Topic 1\n",
      "Document (long FAQ answer) 10 belongs to Topic 1\n",
      "Document (long FAQ answer) 11 belongs to Topic 1\n",
      "Document (long FAQ answer) 12 belongs to Topic 1\n",
      "Document (long FAQ answer) 13 belongs to Topic 1\n",
      "Document (long FAQ answer) 14 belongs to Topic 1\n",
      "Document (long FAQ answer) 15 belongs to Topic 1\n",
      "Document (long FAQ answer) 16 belongs to Topic 2\n",
      "Document (long FAQ answer) 17 belongs to Topic 2\n",
      "Document (long FAQ answer) 18 belongs to Topic 2\n",
      "Document (long FAQ answer) 19 belongs to Topic 2\n",
      "Document (long FAQ answer) 20 belongs to Topic 2\n"
     ]
    }
   ],
   "source": [
    "# Display topics of first 20 long FAQ answers:\n",
    "for i in range(0, 20):\n",
    "    print(\"Document (long FAQ answer)\", i+1, \"belongs to Topic\", lda.transform(sparse_vectors[i]).argmax()+1)"
   ]
  },
  {
   "cell_type": "markdown",
   "metadata": {},
   "source": [
    "# 6. Interpret the identified topics (using top 10 words)"
   ]
  },
  {
   "cell_type": "markdown",
   "metadata": {},
   "source": [
    "### Topic 1 is about: \n",
    "Definition of autism (ASD), its frequency in children and diverse populations, and related social behaviors and causes.\n",
    "\n",
    "### Topic 2 is about: \n",
    "Diagnosis, early intervention, and treatment methods for children with autism, to provide assistance and support for parents.\n",
    "\n",
    "### Topic 3 is about: \n",
    "According to the information provided by the National Autism Research Institute, including health and behavioral disorders, they provide services through telephone (tel) and fax.\n",
    "\n",
    "### Topic 4 is about: \n",
    "Ability assessment, behavioral issues, specific characteristics, academic performance, occupational therapy, memory and diet, and other related topics.\n"
   ]
  },
  {
   "cell_type": "markdown",
   "metadata": {},
   "source": [
    "# 7. Food for thought: What about the clusters/topics of \"Questons\"?"
   ]
  },
  {
   "cell_type": "markdown",
   "metadata": {},
   "source": [
    "---\n",
    "`The end is called the new start.` --- ISS : **I** **S**(elf) **S**(tudy)"
   ]
  }
 ],
 "metadata": {
  "kernelspec": {
   "display_name": "Python 3",
   "language": "python",
   "name": "python3"
  },
  "language_info": {
   "codemirror_mode": {
    "name": "ipython",
    "version": 3
   },
   "file_extension": ".py",
   "mimetype": "text/x-python",
   "name": "python",
   "nbconvert_exporter": "python",
   "pygments_lexer": "ipython3",
   "version": "3.10.12"
  }
 },
 "nbformat": 4,
 "nbformat_minor": 4
}
