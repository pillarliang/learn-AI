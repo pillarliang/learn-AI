{
 "cells": [
  {
   "cell_type": "markdown",
   "metadata": {},
   "source": [
    "# ChatGLM3 的直接使用\n"
   ]
  },
  {
   "cell_type": "code",
   "execution_count": null,
   "metadata": {},
   "outputs": [],
   "source": [
    "!pip install protobuf transformers==4.30.2 cpm_kernels gradio mdtex2html sentencepiece accelerate\n",
    "!pip install -U torch"
   ]
  },
  {
   "cell_type": "code",
   "execution_count": null,
   "metadata": {},
   "outputs": [],
   "source": [
    "from transformers import AutoModel, Audotokenizer\n",
    "\n",
    "tokenizer = Audotokenizer.from_pretrained(\"THUDM/chatglm3-6b\")\n",
    "model = (\n",
    "    AutoModel.from_pretrained(\"THUDM/chatglm3-6b\", trust_remote_code=True).half().cuda()\n",
    ")\n",
    "\n",
    "model.eval()  # 将模型切换到评估模式, 默认是训练模式\n",
    "\n",
    "response, history = model.chat(tokenizer, \"你好\", history=[])\n",
    "print(response)\n",
    "response, history = model.chat(tokenizer, \"晚上睡不着应该怎么办\", history=history)\n",
    "print(response)"
   ]
  },
  {
   "cell_type": "markdown",
   "metadata": {},
   "source": [
    "你好 👋！我是人工智能助手 ChatGLM3-6B，很高兴见到你，欢迎问我任何问题。\n",
    "晚上睡不着觉可能是由多种原因引起的，例如压力、焦虑、饮食、睡眠环境等。这里有一些建议，可以帮助你更容易入睡：\n",
    "\n",
    "1. 保持规律的作息时间：尽量每天在相同的时间上床睡觉和起床，这有助于调整你的生物钟。\n",
    "\n",
    "2. 创造舒适的睡眠环境：确保你的卧室温度适中、光线柔和、噪音较低，并使用舒适的床上用品。\n",
    "\n",
    "3. 避免咖啡因和酒精：咖啡因和酒精都可能影响睡眠质量，因此晚上避免摄入这些物质。\n",
    "\n",
    "4. 注意饮食：尽量避免在睡前摄入过多的食物和饮水，以免导致夜间频繁上厕所影响睡眠。同时，可以考虑摄入一些有助于睡眠的食物，如燕麦、香蕉、蜂蜜等。\n",
    "\n",
    "5. 进行放松活动：在睡前进行一些放松活动，如深呼吸、瑜伽、阅读等，可以帮助你放松身心，更容易入睡。\n",
    "\n",
    "6. 避免使用电子产品：睡前避免使用手机、电脑等电子产品，这些产品的蓝光可能会干扰你的睡眠。\n",
    "\n",
    "7. 进行适当的白天活动：白天进行适当的运动，有助于提高睡眠质量。但避免在临近睡觉的时间内进行剧烈运动。\n",
    "\n",
    "8. 尝试冥想和放松技巧：如上所述，冥想和放松技巧可以帮助你更容易入睡。可以尝试在睡前进行这些活动，看看是否能帮助你入睡。\n",
    "\n",
    "如果以上方法都无法解决问题，建议寻求专业医生的帮助，以排除任何潜在的健康问题。\n"
   ]
  }
 ],
 "metadata": {
  "language_info": {
   "name": "python"
  }
 },
 "nbformat": 4,
 "nbformat_minor": 2
}
