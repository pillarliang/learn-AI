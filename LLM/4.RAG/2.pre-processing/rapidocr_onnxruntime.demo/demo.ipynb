{
 "cells": [
  {
   "cell_type": "code",
   "execution_count": 5,
   "metadata": {},
   "outputs": [],
   "source": [
    "from langchain_community.document_loaders import PyPDFium2Loader\n",
    "import os\n",
    "\n",
    "\n",
    "file_path = '../data/image_分栏&表格.pdf'\n",
    "loader = PyPDFium2Loader(file_path, extract_images=True)\n",
    "docs = loader.load()\n",
    "\n",
    "with open('./image_分栏&表格.txt', 'w') as file:\n",
    "    for doc in docs:\n",
    "        file.write(doc.page_content)"
   ]
  },
  {
   "cell_type": "code",
   "execution_count": null,
   "metadata": {},
   "outputs": [],
   "source": []
  }
 ],
 "metadata": {
  "kernelspec": {
   "display_name": "llm",
   "language": "python",
   "name": "python3"
  },
  "language_info": {
   "codemirror_mode": {
    "name": "ipython",
    "version": 3
   },
   "file_extension": ".py",
   "mimetype": "text/x-python",
   "name": "python",
   "nbconvert_exporter": "python",
   "pygments_lexer": "ipython3",
   "version": "3.11.8"
  }
 },
 "nbformat": 4,
 "nbformat_minor": 2
}
