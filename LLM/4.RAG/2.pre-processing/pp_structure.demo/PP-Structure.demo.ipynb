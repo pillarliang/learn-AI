{
 "cells": [
  {
   "cell_type": "markdown",
   "metadata": {},
   "source": [
    "## 版面分析+表格识别\n"
   ]
  },
  {
   "cell_type": "markdown",
   "metadata": {},
   "source": [
    "image"
   ]
  },
  {
   "cell_type": "code",
   "execution_count": 10,
   "metadata": {},
   "outputs": [
    {
     "name": "stdout",
     "output_type": "stream",
     "text": [
      "[2024/06/04 20:42:16] ppocr DEBUG: Namespace(help='==SUPPRESS==', use_gpu=True, use_xpu=False, use_npu=False, ir_optim=True, use_tensorrt=False, min_subgraph_size=15, precision='fp32', gpu_mem=500, gpu_id=0, image_dir=None, page_num=0, det_algorithm='DB', det_model_dir='/home/liangzhu/.paddleocr/whl/det/ch/ch_PP-OCRv4_det_infer', det_limit_side_len=960, det_limit_type='max', det_box_type='quad', det_db_thresh=0.3, det_db_box_thresh=0.6, det_db_unclip_ratio=1.5, max_batch_size=10, use_dilation=False, det_db_score_mode='fast', det_east_score_thresh=0.8, det_east_cover_thresh=0.1, det_east_nms_thresh=0.2, det_sast_score_thresh=0.5, det_sast_nms_thresh=0.2, det_pse_thresh=0, det_pse_box_thresh=0.85, det_pse_min_area=16, det_pse_scale=1, scales=[8, 16, 32], alpha=1.0, beta=1.0, fourier_degree=5, rec_algorithm='SVTR_LCNet', rec_model_dir='/home/liangzhu/.paddleocr/whl/rec/ch/ch_PP-OCRv4_rec_infer', rec_image_inverse=True, rec_image_shape='3, 48, 320', rec_batch_num=6, max_text_length=25, rec_char_dict_path='/home/liangzhu/anaconda3/envs/llm/lib/python3.11/site-packages/paddleocr/ppocr/utils/ppocr_keys_v1.txt', use_space_char=True, vis_font_path='./doc/fonts/simfang.ttf', drop_score=0.5, e2e_algorithm='PGNet', e2e_model_dir=None, e2e_limit_side_len=768, e2e_limit_type='max', e2e_pgnet_score_thresh=0.5, e2e_char_dict_path='./ppocr/utils/ic15_dict.txt', e2e_pgnet_valid_set='totaltext', e2e_pgnet_mode='fast', use_angle_cls=False, cls_model_dir=None, cls_image_shape='3, 48, 192', label_list=['0', '180'], cls_batch_num=6, cls_thresh=0.9, enable_mkldnn=False, cpu_threads=10, use_pdserving=False, warmup=False, sr_model_dir=None, sr_image_shape='3, 32, 128', sr_batch_num=1, draw_img_save_dir='./inference_results', save_crop_res=False, crop_res_save_dir='./output', use_mp=False, total_process_num=1, process_id=0, benchmark=False, save_log_path='./log_output/', show_log=True, use_onnx=False, output='./output', table_max_len=488, table_algorithm='TableAttn', table_model_dir='/home/liangzhu/.paddleocr/whl/table/ch_ppstructure_mobile_v2.0_SLANet_infer', merge_no_span_structure=True, table_char_dict_path='/home/liangzhu/anaconda3/envs/llm/lib/python3.11/site-packages/paddleocr/ppocr/utils/dict/table_structure_dict_ch.txt', layout_model_dir='/home/liangzhu/.paddleocr/whl/layout/picodet_lcnet_x1_0_fgd_layout_cdla_infer', layout_dict_path='/home/liangzhu/anaconda3/envs/llm/lib/python3.11/site-packages/paddleocr/ppocr/utils/dict/layout_dict/layout_cdla_dict.txt', layout_score_threshold=0.5, layout_nms_threshold=0.5, kie_algorithm='LayoutXLM', ser_model_dir=None, re_model_dir=None, use_visual_backbone=True, ser_dict_path='../train_data/XFUND/class_list_xfun.txt', ocr_order_method=None, mode='structure', image_orientation=False, layout=True, table=True, ocr=True, recovery=False, use_pdf2docx_api=False, invert=False, binarize=False, alphacolor=(255, 255, 255), lang='ch', det=True, rec=True, type='ocr', ocr_version='PP-OCRv4', structure_version='PP-StructureV2')\n",
      "[2024/06/04 20:42:22] ppocr DEBUG: dt_boxes num : 16, elapsed : 0.035120248794555664\n",
      "[2024/06/04 20:42:22] ppocr DEBUG: rec_res num  : 16, elapsed : 0.14071989059448242\n",
      "[2024/06/04 20:42:22] ppocr DEBUG: dt_boxes num : 7, elapsed : 0.024543285369873047\n",
      "[2024/06/04 20:42:22] ppocr DEBUG: rec_res num  : 7, elapsed : 0.07980036735534668\n",
      "[2024/06/04 20:42:22] ppocr DEBUG: dt_boxes num : 12, elapsed : 0.029100418090820312\n",
      "[2024/06/04 20:42:22] ppocr DEBUG: rec_res num  : 12, elapsed : 0.11400055885314941\n",
      "[2024/06/04 20:42:22] ppocr DEBUG: dt_boxes num : 3, elapsed : 0.022290945053100586\n",
      "[2024/06/04 20:42:22] ppocr DEBUG: rec_res num  : 3, elapsed : 0.03216743469238281\n",
      "[2024/06/04 20:42:22] ppocr DEBUG: dt_boxes num : 1, elapsed : 0.019101858139038086\n",
      "[2024/06/04 20:42:22] ppocr DEBUG: rec_res num  : 1, elapsed : 0.01596379280090332\n",
      "[2024/06/04 20:42:22] ppocr DEBUG: dt_boxes num : 9, elapsed : 0.0350186824798584\n",
      "[2024/06/04 20:42:22] ppocr DEBUG: rec_res num  : 9, elapsed : 0.043920040130615234\n",
      "[2024/06/04 20:42:22] ppocr DEBUG: dt_boxes num : 0, elapsed : 0.024098873138427734\n",
      "[2024/06/04 20:42:22] ppocr DEBUG: rec_res num  : 0, elapsed : 1.1920928955078125e-06\n",
      "[2024/06/04 20:42:22] ppocr DEBUG: dt_boxes num : 6, elapsed : 0.021602153778076172\n",
      "[2024/06/04 20:42:22] ppocr DEBUG: rec_res num  : 6, elapsed : 0.03713059425354004\n",
      "[2024/06/04 20:42:23] ppocr DEBUG: dt_boxes num : 36, elapse : 0.03390955924987793\n",
      "[2024/06/04 20:42:23] ppocr DEBUG: rec_res num  : 36, elapse : 0.09393668174743652\n",
      "[2024/06/04 20:42:23] ppocr DEBUG: dt_boxes num : 3, elapse : 0.012558460235595703\n",
      "[2024/06/04 20:42:24] ppocr DEBUG: rec_res num  : 3, elapse : 0.031203746795654297\n",
      "[2024/06/04 20:42:24] ppocr DEBUG: dt_boxes num : 1, elapsed : 0.0125579833984375\n",
      "[2024/06/04 20:42:24] ppocr DEBUG: rec_res num  : 1, elapsed : 0.009029150009155273\n",
      "[2024/06/04 20:42:24] ppocr DEBUG: dt_boxes num : 7, elapsed : 0.021246910095214844\n",
      "[2024/06/04 20:42:24] ppocr DEBUG: rec_res num  : 7, elapsed : 0.0489041805267334\n",
      "[2024/06/04 20:42:24] ppocr DEBUG: dt_boxes num : 3, elapsed : 0.013002634048461914\n",
      "[2024/06/04 20:42:24] ppocr DEBUG: rec_res num  : 3, elapsed : 0.036789655685424805\n",
      "{'type': 'text', 'bbox': [102, 1030, 598, 1423], 'res': [{'text': 'Wealsoexaminehowourdatasetcanhelpwithareal-', 'confidence': 0.9932684898376465, 'text_region': [[131.0, 1030.0], [595.0, 1030.0], [595.0, 1050.0], [131.0, 1050.0]]}, {'text': 'worlddocumentdigitizationapplication.Whendigitizing', 'confidence': 0.9951867461204529, 'text_region': [[103.0, 1052.0], [596.0, 1055.0], [596.0, 1076.0], [103.0, 1074.0]]}, {'text': 'newpublications,researchersusuallydonotgeneratelarge', 'confidence': 0.9891995787620544, 'text_region': [[103.0, 1079.0], [596.0, 1080.0], [596.0, 1101.0], [103.0, 1100.0]]}, {'text': 'scalegroundtruthdatatotraintheirlayoutanalysismodels.', 'confidence': 0.980578601360321, 'text_region': [[104.0, 1105.0], [594.0, 1104.0], [594.0, 1124.0], [104.0, 1125.0]]}, {'text': 'Iftheyareabletoadaptourdataset,ormodelstrainedon', 'confidence': 0.9902154803276062, 'text_region': [[104.0, 1129.0], [597.0, 1129.0], [597.0, 1150.0], [104.0, 1150.0]]}, {'text': 'ourdataset,todevelopmodelsontheirdata,theycanbuild', 'confidence': 0.9661633968353271, 'text_region': [[105.0, 1155.0], [595.0, 1155.0], [595.0, 1172.0], [105.0, 1172.0]]}, {'text': 'theirpipelinesmoreefficientlyanddevelopmoreaccurate', 'confidence': 0.9951169490814209, 'text_region': [[103.0, 1177.0], [596.0, 1178.0], [596.0, 1199.0], [103.0, 1198.0]]}, {'text': 'models.Tothis end,we conducttwoexperiments.Firstwe', 'confidence': 0.9748214483261108, 'text_region': [[104.0, 1204.0], [596.0, 1204.0], [596.0, 1224.0], [104.0, 1224.0]]}, {'text': 'examinehowlayoutanalysismodelstrainedonthemain', 'confidence': 0.9963588118553162, 'text_region': [[103.0, 1229.0], [597.0, 1228.0], [597.0, 1248.0], [103.0, 1249.0]]}, {'text': 'pages can be used for understanding index pages.More-', 'confidence': 0.9579518437385559, 'text_region': [[102.0, 1252.0], [595.0, 1251.0], [595.0, 1276.0], [102.0, 1277.0]]}, {'text': 'over,westudyhowthepre-trainedmodelsperformonother', 'confidence': 0.9822191596031189, 'text_region': [[103.0, 1279.0], [596.0, 1278.0], [596.0, 1298.0], [103.0, 1299.0]]}, {'text': 'historicalJapanesedocuments.', 'confidence': 0.9968604445457458, 'text_region': [[104.0, 1302.0], [360.0, 1303.0], [360.0, 1324.0], [104.0, 1323.0]]}, {'text': 'Table4comparestheperformanceoffiveFasterR-CNN', 'confidence': 0.996940016746521, 'text_region': [[128.0, 1327.0], [596.0, 1328.0], [596.0, 1351.0], [128.0, 1350.0]]}, {'text': 'models that are trained differently on index pages. If the', 'confidence': 0.9790475368499756, 'text_region': [[103.0, 1353.0], [597.0, 1353.0], [597.0, 1377.0], [103.0, 1377.0]]}, {'text': 'modelloadspre-trainedweightsfromHJDataset,itincludes', 'confidence': 0.9832767844200134, 'text_region': [[105.0, 1381.0], [595.0, 1381.0], [595.0, 1398.0], [105.0, 1398.0]]}, {'text': 'informationlearnedfrommainpages.Modelstrainedover', 'confidence': 0.9946092963218689, 'text_region': [[105.0, 1406.0], [595.0, 1406.0], [595.0, 1422.0], [105.0, 1422.0]]}], 'img_idx': 0}\n",
      "{'type': 'text', 'bbox': [102, 771, 597, 961], 'res': [{'text': 'tionoverunion(IOU)level[0.50:0.95]²，onthetestdata.In', 'confidence': 0.9323233366012573, 'text_region': [[104.0, 773.0], [595.0, 772.0], [595.0, 790.0], [104.0, 791.0]]}, {'text': 'general,thehighmAPvaluesindicateaccuratedetectionof', 'confidence': 0.9870548844337463, 'text_region': [[104.0, 797.0], [596.0, 796.0], [596.0, 816.0], [104.0, 817.0]]}, {'text': 'thelayoutelements.TheFasterR-CNNandMaskR-CNN', 'confidence': 0.9904849529266357, 'text_region': [[106.0, 822.0], [594.0, 822.0], [594.0, 839.0], [106.0, 839.0]]}, {'text': 'achievecomparableresults,betterthanRetinaNet.Notice-', 'confidence': 0.9825710654258728, 'text_region': [[104.0, 846.0], [595.0, 845.0], [595.0, 865.0], [104.0, 866.0]]}, {'text': 'ably,thedetectionsforsmallblocksliketitlearelesspre', 'confidence': 0.987683117389679, 'text_region': [[104.0, 871.0], [594.0, 872.0], [594.0, 892.0], [104.0, 891.0]]}, {'text': 'cise,and theaccuracydropssharplyforthetitlecategory.In', 'confidence': 0.9795662760734558, 'text_region': [[104.0, 894.0], [596.0, 896.0], [596.0, 916.0], [104.0, 914.0]]}, {'text': 'Figure8,(a)and(b)illustratetheaccuratepredictionresults', 'confidence': 0.970809817314148, 'text_region': [[104.0, 920.0], [595.0, 919.0], [595.0, 939.0], [104.0, 940.0]]}], 'img_idx': 0}\n",
      "{'type': 'text', 'bbox': [640, 772, 1136, 1038], 'res': [{'text': 'allthetrainingdatacanbeviewedasthebenchmarks,while', 'confidence': 0.9898964166641235, 'text_region': [[643.0, 773.0], [1133.0, 772.0], [1133.0, 790.0], [643.0, 791.0]]}, {'text': 'trainingwithfewsamples（fiveinthiscase)areconsid', 'confidence': 0.9824724197387695, 'text_region': [[644.0, 797.0], [1131.0, 797.0], [1131.0, 815.0], [644.0, 815.0]]}, {'text': 'eredtomimicreal-worldscenarios.Givendifferenttrain', 'confidence': 0.9941989779472351, 'text_region': [[644.0, 822.0], [1130.0, 822.0], [1130.0, 840.0], [644.0, 840.0]]}, {'text': 'ingdata,modelspre-trainedonHJDatasetperformsignifi', 'confidence': 0.9832257032394409, 'text_region': [[642.0, 846.0], [1132.0, 846.0], [1132.0, 867.0], [642.0, 867.0]]}, {'text': 'cantlybetterthanthoseinitializedwithCOCOweights.In', 'confidence': 0.9873540997505188, 'text_region': [[642.0, 870.0], [1132.0, 871.0], [1132.0, 892.0], [642.0, 890.0]]}, {'text': 'tuitively,modelstrainedonmoredataperformbetterthan', 'confidence': 0.9801177382469177, 'text_region': [[642.0, 895.0], [1135.0, 894.0], [1135.0, 914.0], [642.0, 915.0]]}, {'text': 'thosewithfewersamples.Wealsodirectlyusethemodel', 'confidence': 0.9948967695236206, 'text_region': [[643.0, 920.0], [1134.0, 920.0], [1134.0, 940.0], [643.0, 940.0]]}, {'text': 'trained on main to predict index pages without fine-', 'confidence': 0.9769344329833984, 'text_region': [[642.0, 943.0], [1135.0, 942.0], [1135.0, 967.0], [642.0, 968.0]]}, {'text': 'tuning.Thelowzero-shotpredictionaccuracyindicatesthe', 'confidence': 0.9954124093055725, 'text_region': [[644.0, 972.0], [1132.0, 972.0], [1132.0, 989.0], [644.0, 989.0]]}, {'text': 'dissimilarity between index and main pages. The large', 'confidence': 0.9815517663955688, 'text_region': [[643.0, 993.0], [1135.0, 993.0], [1135.0, 1017.0], [643.0, 1017.0]]}, {'text': 'increaseinmAPfrom0.344to0.471afterthemodel', 'confidence': 0.9854918718338013, 'text_region': [[644.0, 1021.0], [1123.0, 1021.0], [1123.0, 1036.0], [644.0, 1036.0]]}, {'text': '19', 'confidence': 0.859749972820282, 'text_region': [[1123.0, 1024.0], [1131.0, 1024.0], [1131.0, 1034.0], [1123.0, 1034.0]]}], 'img_idx': 0}\n",
      "{'type': 'text', 'bbox': [642, 1082, 1137, 1150], 'res': [{'text': 'Table3:Detectionr', 'confidence': 0.964935302734375, 'text_region': [[645.0, 1082.0], [822.0, 1086.0], [821.0, 1100.0], [645.0, 1096.0]]}, {'text': 'eren', 'confidence': 0.7051958441734314, 'text_region': [[1096.0, 1088.0], [1131.0, 1088.0], [1131.0, 1096.0], [1096.0, 1096.0]]}, {'text': 'models for each category on the test set.All values are given', 'confidence': 0.9556640982627869, 'text_region': [[642.0, 1104.0], [1134.0, 1105.0], [1134.0, 1128.0], [642.0, 1127.0]]}], 'img_idx': 0}\n",
      "{'type': 'title', 'bbox': [103, 989, 440, 1009], 'res': [{'text': 'tnrotnernatase', 'confidence': 0.5595569014549255, 'text_region': [[264.0, 995.0], [426.0, 996.0], [426.0, 1003.0], [264.0, 1002.0]]}], 'img_idx': 0}\n",
      "{'type': 'figure', 'bbox': [450, 146, 1139, 659], 'res': [{'text': '(b)MainPageAnnotationExample2', 'confidence': 0.969889223575592, 'text_region': [[497.0, 590.0], [738.0, 591.0], [738.0, 608.0], [497.0, 607.0]]}, {'text': '(c)IndexPageAnnotationExample', 'confidence': 0.9639586806297302, 'text_region': [[865.0, 591.0], [1096.0, 591.0], [1096.0, 608.0], [865.0, 608.0]]}, {'text': 'Page Frame', 'confidence': 0.9605069160461426, 'text_region': [[642.0, 637.0], [703.0, 637.0], [703.0, 651.0], [642.0, 651.0]]}, {'text': 'Row', 'confidence': 0.9937278628349304, 'text_region': [[735.0, 637.0], [761.0, 637.0], [761.0, 652.0], [735.0, 652.0]]}, {'text': 'Text Region', 'confidence': 0.9671493172645569, 'text_region': [[792.0, 637.0], [852.0, 637.0], [852.0, 651.0], [792.0, 651.0]]}, {'text': 'TitleRegion', 'confidence': 0.9915983080863953, 'text_region': [[865.0, 637.0], [927.0, 637.0], [927.0, 651.0], [865.0, 651.0]]}, {'text': 'Title', 'confidence': 0.9853087663650513, 'text_region': [[957.0, 638.0], [981.0, 638.0], [981.0, 650.0], [957.0, 650.0]]}, {'text': 'Subtitle', 'confidence': 0.9879194498062134, 'text_region': [[1024.0, 637.0], [1065.0, 637.0], [1065.0, 651.0], [1024.0, 651.0]]}, {'text': 'Other', 'confidence': 0.9820008277893066, 'text_region': [[1103.0, 637.0], [1134.0, 637.0], [1134.0, 651.0], [1103.0, 651.0]]}], 'img_idx': 0}\n",
      "{'type': 'figure', 'bbox': [99, 160, 418, 594], 'res': [], 'img_idx': 0}\n",
      "{'type': 'figure_caption', 'bbox': [169, 675, 1105, 743], 'res': [{'text': 'A0T9', 'confidence': 0.5873739123344421, 'text_region': [[180.0, 681.0], [251.0, 681.0], [251.0, 689.0], [180.0, 689.0]]}, {'text': '110', 'confidence': 0.4832225739955902, 'text_region': [[570.0, 683.0], [596.0, 683.0], [596.0, 691.0], [570.0, 691.0]]}, {'text': 'VA', 'confidence': 0.26271000504493713, 'text_region': [[695.0, 685.0], [745.0, 685.0], [745.0, 692.0], [695.0, 692.0]]}, {'text': 'reddifferentlytoreflectthelayoutelementcategories.', 'confidence': 0.9914870262145996, 'text_region': [[170.0, 700.0], [640.0, 703.0], [640.0, 721.0], [170.0, 719.0]]}, {'text': '.Illustratedin（),theitemsineachindexpagerow', 'confidence': 0.9565584063529968, 'text_region': [[631.0, 702.0], [1101.0, 703.0], [1101.0, 721.0], [631.0, 720.0]]}, {'text': 'enser', 'confidence': 0.7759279012680054, 'text_region': [[529.0, 732.0], [580.0, 732.0], [580.0, 740.0], [529.0, 740.0]]}], 'img_idx': 0}\n",
      "{'type': 'table', 'bbox': [644, 1171, 1136, 1412], 'res': {'cell_bbox': [[10.875150680541992, 11.059144020080566, 87.36418914794922, 11.192017555236816, 87.19924926757812, 29.675065994262695, 10.5900297164917, 29.415119171142578], [125.82929229736328, 10.263545036315918, 250.21096801757812, 10.108015060424805, 250.8021697998047, 28.9749813079834, 125.87694549560547, 29.40766716003418], [259.6744689941406, 11.315183639526367, 385.94110107421875, 11.165029525756836, 386.5233459472656, 29.8476505279541, 260.5204162597656, 30.09235191345215], [388.1372985839844, 10.952347755432129, 479.88995361328125, 10.96408748626709, 479.83343505859375, 31.343608856201172, 388.8835754394531, 31.218503952026367], [8.579934120178223, 43.61764144897461, 98.99139404296875, 43.5606803894043, 98.76044464111328, 65.82913208007812, 8.379364967346191, 65.74361419677734], [149.86293029785156, 44.190101623535156, 223.75772094726562, 44.06248092651367, 224.15806579589844, 64.17471313476562, 149.01303100585938, 64.34962463378906], [283.3512878417969, 44.30353927612305, 349.0475158691406, 44.39841842651367, 348.8383483886719, 63.742488861083984, 282.81842041015625, 63.69226837158203], [403.9676513671875, 43.54384994506836, 472.30816650390625, 43.571815490722656, 471.9939880371094, 64.26908111572266, 403.21905517578125, 64.39686584472656], [10.438125610351562, 68.41394805908203, 83.08314514160156, 68.26296997070312, 82.62654876708984, 87.03875732421875, 10.297807693481445, 87.26165008544922], [149.39437866210938, 68.25747680664062, 220.96435546875, 68.1503677368164, 220.68919372558594, 87.02436065673828, 148.63357543945312, 87.28351593017578], [280.91473388671875, 68.65243530273438, 349.6642150878906, 68.77774047851562, 349.0939025878906, 86.81681823730469, 280.2139587402344, 86.85006713867188], [399.8719482421875, 67.68158721923828, 470.48895263671875, 67.79527282714844, 470.11163330078125, 87.78144836425781, 398.9538879394531, 87.80398559570312], [8.637862205505371, 90.92935943603516, 96.27723693847656, 91.04714965820312, 95.60678100585938, 110.05648803710938, 8.487418174743652, 109.9992904663086], [151.5574493408203, 91.1720962524414, 221.4251251220703, 91.16588592529297, 221.2780303955078, 109.37672424316406, 150.99465942382812, 109.55118560791016], [280.04058837890625, 91.36957550048828, 350.3142395019531, 91.50247192382812, 349.8331604003906, 109.37525177001953, 279.4564208984375, 109.43327331542969], [399.6912536621094, 90.55382537841797, 470.1275939941406, 90.72286224365234, 469.7691650390625, 110.51129913330078, 398.7782897949219, 110.5079345703125], [8.480035781860352, 112.52681732177734, 98.28050994873047, 112.76253509521484, 97.85787963867188, 133.32513427734375, 8.350456237792969, 133.1631622314453], [153.45809936523438, 113.42813110351562, 218.92630004882812, 113.53858947753906, 218.72581481933594, 131.81072998046875, 152.80747985839844, 131.87149047851562], [281.21661376953125, 113.8428726196289, 347.8868713378906, 113.97439575195312, 347.5490417480469, 132.23974609375, 280.7647705078125, 132.29074096679688], [399.7991027832031, 113.01305389404297, 468.8165588378906, 113.22672271728516, 468.4903564453125, 133.1368408203125, 399.01043701171875, 133.09124755859375], [11.870243072509766, 136.20236206054688, 84.01358795166016, 136.4782257080078, 83.3166275024414, 155.1492462158203, 11.671807289123535, 154.95408630371094], [153.528564453125, 136.7158660888672, 217.98756408691406, 136.89837646484375, 217.610107421875, 154.11660766601562, 152.6860809326172, 154.1157684326172], [281.2745361328125, 136.96804809570312, 346.6527099609375, 137.1507110595703, 346.2617492675781, 154.63832092285156, 280.7483825683594, 154.6190185546875], [400.6691589355469, 136.36959838867188, 469.7679443359375, 136.6009979248047, 469.526123046875, 155.6145782470703, 400.1092224121094, 155.52508544921875], [8.411084175109863, 159.71768188476562, 86.03744506835938, 160.00717163085938, 85.4887924194336, 178.2133026123047, 8.265506744384766, 177.98388671875], [153.9578857421875, 160.1045379638672, 216.81410217285156, 160.38377380371094, 216.7263946533203, 177.85800170898438, 153.3602752685547, 177.7512969970703], [280.6681823730469, 160.2613525390625, 347.90069580078125, 160.53538513183594, 347.828857421875, 178.10626220703125, 280.3572082519531, 177.98963928222656], [401.736328125, 159.44993591308594, 470.2760925292969, 159.69935607910156, 470.0869445800781, 178.51058959960938, 401.26123046875, 178.42373657226562], [10.814834594726562, 180.4516143798828, 73.25885009765625, 180.8599395751953, 73.26983642578125, 200.37789916992188, 10.698914527893066, 200.10350036621094], [155.88255310058594, 180.94198608398438, 217.2993621826172, 181.30184936523438, 217.29046630859375, 200.48817443847656, 155.23350524902344, 200.3319091796875], [280.53314208984375, 181.43719482421875, 348.154052734375, 181.72982788085938, 348.22027587890625, 200.05648803710938, 280.18218994140625, 199.9505157470703], [402.86517333984375, 180.78115844726562, 470.27935791015625, 181.04608154296875, 470.1888732910156, 200.40216064453125, 402.6224365234375, 200.31761169433594], [8.424585342407227, 213.3739013671875, 71.82740020751953, 213.71546936035156, 71.91020965576172, 234.54934692382812, 8.35020923614502, 234.40469360351562], [148.53184509277344, 213.22210693359375, 222.8236846923828, 213.7498016357422, 222.4200897216797, 233.04110717773438, 147.72669982910156, 232.87152099609375], [277.20111083984375, 213.65261840820312, 349.1507263183594, 213.99362182617188, 349.12506103515625, 234.1265106201172, 276.3455505371094, 234.03268432617188], [402.2029113769531, 213.56784057617188, 470.8216247558594, 213.86473083496094, 470.66229248046875, 234.79335021972656, 401.7060852050781, 234.73001098632812]], 'html': '<html><body><table><thead><tr><td>Category</td><td>Faster R-CNN</td><td>Mask R-CNNa</td><td>RetinaNet</td></tr></thead><tbody><tr><td> Page Frame</td><td>99.046</td><td>99.097</td><td>99.038</td></tr><tr><td>Row</td><td>98.831</td><td>98.482</td><td>95.067</td></tr><tr><td>Title Region</td><td>87.571</td><td>89.483</td><td>69.593</td></tr><tr><td>Text Region</td><td>94.463</td><td>86.798</td><td>89.531</td></tr><tr><td>Title</td><td>65.908</td><td>71.517</td><td>72.566</td></tr><tr><td>Subtitle</td><td>84.093</td><td>84.174</td><td>85.865</td></tr><tr><td>Other</td><td>44.023</td><td>39.849</td><td>14.371</td></tr><tr><td>mAP</td><td>81.991</td><td>81.343</td><td>75.223</td></tr></tbody></table></body></html>'}, 'img_idx': 0}\n",
      "{'type': 'table', 'bbox': [642, 1080, 1135, 1152], 'res': {'cell_bbox': [[3.116962432861328, 0.8446800708770752, 278.6263427734375, 0.9113206267356873, 279.5974426269531, 18.974754333496094, 2.9841933250427246, 18.952342987060547], [10.342660903930664, 14.302124977111816, 479.597900390625, 13.947904586791992, 480.2402648925781, 58.4350700378418, 10.579182624816895, 58.837867736816406]], 'html': '<html><body><table><tr><td>Table 3: Detection mAP @ IOU [0.50:0.95] of different</td></tr><tr><td>models for each category on the test set. All values are given aspercentages.</td></tr></table></body></html>'}, 'img_idx': 0}\n",
      "{'type': 'table_caption', 'bbox': [655, 1081, 1122, 1150], 'res': [{'text': 'able3:', 'confidence': 0.885202169418335, 'text_region': [[659.0, 1085.0], [712.0, 1085.0], [712.0, 1096.0], [659.0, 1096.0]]}], 'img_idx': 0}\n",
      "{'type': 'reference', 'bbox': [103, 1449, 597, 1485], 'res': [{'text': 'Thisisacoremetric', 'confidence': 0.9940692782402039, 'text_region': [[128.0, 1449.0], [286.0, 1451.0], [286.0, 1466.0], [128.0, 1464.0]]}, {'text': 'developed', 'confidence': 0.9930419921875, 'text_region': [[281.0, 1451.0], [349.0, 1452.0], [349.0, 1464.0], [281.0, 1462.0]]}, {'text': 'fort', 'confidence': 0.9202163815498352, 'text_region': [[353.0, 1453.0], [384.0, 1453.0], [384.0, 1461.0], [353.0, 1461.0]]}, {'text': 'the', 'confidence': 0.9940604567527771, 'text_region': [[381.0, 1452.0], [410.0, 1452.0], [410.0, 1464.0], [381.0, 1464.0]]}, {'text': 'COCOcompetition[12]for', 'confidence': 0.9618627429008484, 'text_region': [[405.0, 1451.0], [596.0, 1451.0], [596.0, 1466.0], [405.0, 1466.0]]}, {'text': 'evaluating', 'confidence': 0.8231679201126099, 'text_region': [[106.0, 1474.0], [174.0, 1474.0], [174.0, 1482.0], [106.0, 1482.0]]}, {'text': 'the', 'confidence': 0.7968228459358215, 'text_region': [[172.0, 1474.0], [198.0, 1474.0], [198.0, 1482.0], [172.0, 1482.0]]}], 'img_idx': 0}\n",
      "{'type': 'reference', 'bbox': [655, 1421, 1122, 1479], 'res': [{'text': 'Fortraining', 'confidence': 0.9426870942115784, 'text_region': [[660.0, 1425.0], [739.0, 1425.0], [739.0, 1434.0], [660.0, 1434.0]]}, {'text': 'asksaretheguad', 'confidence': 0.9384258985519409, 'text_region': [[991.0, 1426.0], [1115.0, 1426.0], [1115.0, 1435.0], [991.0, 1435.0]]}, {'text': 'ateralregionsforeachblock.Comparedtotherectangularboundin', 'confidence': 0.9935504198074341, 'text_region': [[656.0, 1443.0], [1119.0, 1442.0], [1119.0, 1457.0], [656.0, 1458.0]]}], 'img_idx': 0}\n",
      "[2024/06/04 20:42:24] ppocr INFO: docx save to ./output/layout_ocr.docx\n"
     ]
    }
   ],
   "source": [
    "import os\n",
    "import cv2\n",
    "from paddleocr import PPStructure,draw_structure_result,save_structure_res\n",
    "from paddleocr.ppstructure.recovery.recovery_to_doc import sorted_layout_boxes, convert_info_docx\n",
    "\n",
    "table_engine = PPStructure(show_log=True)\n",
    "\n",
    "save_folder = './output'\n",
    "img_path = '../data/layout.jpg'\n",
    "img = cv2.imread(img_path)\n",
    "result = table_engine(img)\n",
    "save_structure_res(result, save_folder, os.path.basename(img_path).split('.')[0])\n",
    "\n",
    "for line in result:\n",
    "    line.pop('img')\n",
    "    print(line)\n",
    "    \n",
    "h, w, _ = img.shape\n",
    "res = sorted_layout_boxes(result, w)\n",
    "convert_info_docx(img, res, save_folder, os.path.basename(img_path).split('.')[0])"
   ]
  },
  {
   "cell_type": "code",
   "execution_count": 12,
   "metadata": {},
   "outputs": [],
   "source": [
    "from PIL import Image\n",
    "\n",
    "font_path = '../fonts/simfang.ttf' # PaddleOCR下提供字体包\n",
    "image = Image.open(img_path).convert('RGB')\n",
    "im_show = draw_structure_result(image, result,font_path=font_path)\n",
    "im_show = Image.fromarray(im_show)\n",
    "im_show.save('result.jpg')"
   ]
  },
  {
   "cell_type": "markdown",
   "metadata": {},
   "source": [
    "## 版面分析\n"
   ]
  },
  {
   "cell_type": "markdown",
   "metadata": {},
   "source": [
    "image"
   ]
  },
  {
   "cell_type": "code",
   "execution_count": 9,
   "metadata": {},
   "outputs": [
    {
     "name": "stdout",
     "output_type": "stream",
     "text": [
      "[2024/06/03 16:51:28] ppocr DEBUG: Namespace(help='==SUPPRESS==', use_gpu=True, use_xpu=False, use_npu=False, ir_optim=True, use_tensorrt=False, min_subgraph_size=15, precision='fp32', gpu_mem=500, gpu_id=0, image_dir=None, page_num=0, det_algorithm='DB', det_model_dir='/home/liangzhu/.paddleocr/whl/det/ch/ch_PP-OCRv4_det_infer', det_limit_side_len=960, det_limit_type='max', det_box_type='quad', det_db_thresh=0.3, det_db_box_thresh=0.6, det_db_unclip_ratio=1.5, max_batch_size=10, use_dilation=False, det_db_score_mode='fast', det_east_score_thresh=0.8, det_east_cover_thresh=0.1, det_east_nms_thresh=0.2, det_sast_score_thresh=0.5, det_sast_nms_thresh=0.2, det_pse_thresh=0, det_pse_box_thresh=0.85, det_pse_min_area=16, det_pse_scale=1, scales=[8, 16, 32], alpha=1.0, beta=1.0, fourier_degree=5, rec_algorithm='SVTR_LCNet', rec_model_dir='/home/liangzhu/.paddleocr/whl/rec/ch/ch_PP-OCRv4_rec_infer', rec_image_inverse=True, rec_image_shape='3, 48, 320', rec_batch_num=6, max_text_length=25, rec_char_dict_path='/home/liangzhu/anaconda3/envs/llm/lib/python3.11/site-packages/paddleocr/ppocr/utils/ppocr_keys_v1.txt', use_space_char=True, vis_font_path='./doc/fonts/simfang.ttf', drop_score=0.5, e2e_algorithm='PGNet', e2e_model_dir=None, e2e_limit_side_len=768, e2e_limit_type='max', e2e_pgnet_score_thresh=0.5, e2e_char_dict_path='./ppocr/utils/ic15_dict.txt', e2e_pgnet_valid_set='totaltext', e2e_pgnet_mode='fast', use_angle_cls=False, cls_model_dir=None, cls_image_shape='3, 48, 192', label_list=['0', '180'], cls_batch_num=6, cls_thresh=0.9, enable_mkldnn=False, cpu_threads=10, use_pdserving=False, warmup=False, sr_model_dir=None, sr_image_shape='3, 32, 128', sr_batch_num=1, draw_img_save_dir='./inference_results', save_crop_res=False, crop_res_save_dir='./output', use_mp=False, total_process_num=1, process_id=0, benchmark=False, save_log_path='./log_output/', show_log=True, use_onnx=False, output='./output', table_max_len=488, table_algorithm='TableAttn', table_model_dir='/home/liangzhu/.paddleocr/whl/table/ch_ppstructure_mobile_v2.0_SLANet_infer', merge_no_span_structure=True, table_char_dict_path='/home/liangzhu/anaconda3/envs/llm/lib/python3.11/site-packages/paddleocr/ppocr/utils/dict/table_structure_dict_ch.txt', layout_model_dir='/home/liangzhu/.paddleocr/whl/layout/picodet_lcnet_x1_0_fgd_layout_cdla_infer', layout_dict_path='/home/liangzhu/anaconda3/envs/llm/lib/python3.11/site-packages/paddleocr/ppocr/utils/dict/layout_dict/layout_cdla_dict.txt', layout_score_threshold=0.5, layout_nms_threshold=0.5, kie_algorithm='LayoutXLM', ser_model_dir=None, re_model_dir=None, use_visual_backbone=True, ser_dict_path='../train_data/XFUND/class_list_xfun.txt', ocr_order_method=None, mode='structure', image_orientation=False, layout=True, table=False, ocr=False, recovery=False, use_pdf2docx_api=False, invert=False, binarize=False, alphacolor=(255, 255, 255), lang='ch', det=True, rec=True, type='ocr', ocr_version='PP-OCRv4', structure_version='PP-StructureV2')\n",
      "{'type': 'text', 'bbox': [21, 71, 502, 451], 'res': '', 'img_idx': 0}\n",
      "{'type': 'text', 'bbox': [19, 496, 501, 876], 'res': '', 'img_idx': 0}\n",
      "{'type': 'text', 'bbox': [544, 71, 1025, 548], 'res': '', 'img_idx': 0}\n",
      "{'type': 'text', 'bbox': [544, 660, 1025, 876], 'res': '', 'img_idx': 0}\n",
      "{'type': 'text', 'bbox': [19, 1131, 501, 1499], 'res': '', 'img_idx': 0}\n",
      "{'type': 'text', 'bbox': [544, 1098, 1024, 1419], 'res': '', 'img_idx': 0}\n",
      "{'type': 'title', 'bbox': [544, 591, 877, 617], 'res': '', 'img_idx': 0}\n",
      "{'type': 'title', 'bbox': [19, 464, 227, 483], 'res': '', 'img_idx': 0}\n",
      "{'type': 'title', 'bbox': [21, 1099, 205, 1119], 'res': '', 'img_idx': 0}\n",
      "{'type': 'table', 'bbox': [22, 928, 1022, 1081], 'res': '', 'img_idx': 0}\n",
      "{'type': 'table_caption', 'bbox': [301, 906, 744, 922], 'res': '', 'img_idx': 0}\n",
      "{'type': 'header', 'bbox': [944, 24, 1003, 40], 'res': '', 'img_idx': 0}\n",
      "{'type': 'header', 'bbox': [400, 23, 644, 40], 'res': '', 'img_idx': 0}\n",
      "{'type': 'header', 'bbox': [38, 26, 66, 39], 'res': '', 'img_idx': 0}\n",
      "{'type': 'reference', 'bbox': [577, 1466, 1023, 1499], 'res': '', 'img_idx': 0}\n"
     ]
    }
   ],
   "source": [
    "import os\n",
    "import cv2\n",
    "from paddleocr import PPStructure,save_structure_res\n",
    "\n",
    "table_engine = PPStructure(table=False, ocr=False, show_log=True)\n",
    "\n",
    "save_folder = './output'\n",
    "img_path = '../data/val_0888.jpg'\n",
    "img = cv2.imread(img_path)\n",
    "result = table_engine(img)\n",
    "save_structure_res(result, save_folder, os.path.basename(img_path).split('.')[0])\n",
    "\n",
    "for line in result:\n",
    "    line.pop('img')\n",
    "    print(line)"
   ]
  },
  {
   "cell_type": "code",
   "execution_count": 6,
   "metadata": {},
   "outputs": [
    {
     "name": "stdout",
     "output_type": "stream",
     "text": [
      "[2024/06/04 18:28:20] ppocr DEBUG: Namespace(help='==SUPPRESS==', use_gpu=True, use_xpu=False, use_npu=False, ir_optim=True, use_tensorrt=False, min_subgraph_size=15, precision='fp32', gpu_mem=500, gpu_id=0, image_dir=None, page_num=0, det_algorithm='DB', det_model_dir='/home/liangzhu/.paddleocr/whl/det/ch/ch_PP-OCRv4_det_infer', det_limit_side_len=960, det_limit_type='max', det_box_type='quad', det_db_thresh=0.3, det_db_box_thresh=0.6, det_db_unclip_ratio=1.5, max_batch_size=10, use_dilation=False, det_db_score_mode='fast', det_east_score_thresh=0.8, det_east_cover_thresh=0.1, det_east_nms_thresh=0.2, det_sast_score_thresh=0.5, det_sast_nms_thresh=0.2, det_pse_thresh=0, det_pse_box_thresh=0.85, det_pse_min_area=16, det_pse_scale=1, scales=[8, 16, 32], alpha=1.0, beta=1.0, fourier_degree=5, rec_algorithm='SVTR_LCNet', rec_model_dir='/home/liangzhu/.paddleocr/whl/rec/ch/ch_PP-OCRv4_rec_infer', rec_image_inverse=True, rec_image_shape='3, 48, 320', rec_batch_num=6, max_text_length=25, rec_char_dict_path='/home/liangzhu/anaconda3/envs/llm/lib/python3.11/site-packages/paddleocr/ppocr/utils/ppocr_keys_v1.txt', use_space_char=True, vis_font_path='./doc/fonts/simfang.ttf', drop_score=0.5, e2e_algorithm='PGNet', e2e_model_dir=None, e2e_limit_side_len=768, e2e_limit_type='max', e2e_pgnet_score_thresh=0.5, e2e_char_dict_path='./ppocr/utils/ic15_dict.txt', e2e_pgnet_valid_set='totaltext', e2e_pgnet_mode='fast', use_angle_cls=False, cls_model_dir=None, cls_image_shape='3, 48, 192', label_list=['0', '180'], cls_batch_num=6, cls_thresh=0.9, enable_mkldnn=False, cpu_threads=10, use_pdserving=False, warmup=False, sr_model_dir=None, sr_image_shape='3, 32, 128', sr_batch_num=1, draw_img_save_dir='./inference_results', save_crop_res=False, crop_res_save_dir='./output', use_mp=False, total_process_num=1, process_id=0, benchmark=False, save_log_path='./log_output/', show_log=True, use_onnx=False, output='./output', table_max_len=488, table_algorithm='TableAttn', table_model_dir='/home/liangzhu/.paddleocr/whl/table/ch_ppstructure_mobile_v2.0_SLANet_infer', merge_no_span_structure=True, table_char_dict_path='/home/liangzhu/anaconda3/envs/llm/lib/python3.11/site-packages/paddleocr/ppocr/utils/dict/table_structure_dict_ch.txt', layout_model_dir='/home/liangzhu/.paddleocr/whl/layout/picodet_lcnet_x1_0_fgd_layout_cdla_infer', layout_dict_path='/home/liangzhu/anaconda3/envs/llm/lib/python3.11/site-packages/paddleocr/ppocr/utils/dict/layout_dict/layout_cdla_dict.txt', layout_score_threshold=0.5, layout_nms_threshold=0.5, kie_algorithm='LayoutXLM', ser_model_dir=None, re_model_dir=None, use_visual_backbone=True, ser_dict_path='../train_data/XFUND/class_list_xfun.txt', ocr_order_method=None, mode='structure', image_orientation=False, layout=True, table=True, ocr=True, recovery=False, use_pdf2docx_api=False, invert=False, binarize=False, alphacolor=(255, 255, 255), lang='ch', det=True, rec=True, type='ocr', ocr_version='PP-OCRv4', structure_version='PP-StructureV2')\n",
      "[2024/06/04 18:28:26] ppocr DEBUG: dt_boxes num : 5, elapsed : 0.020545482635498047\n",
      "[2024/06/04 18:28:26] ppocr DEBUG: rec_res num  : 5, elapsed : 0.030596256256103516\n",
      "[2024/06/04 18:28:26] ppocr DEBUG: dt_boxes num : 8, elapsed : 0.02165508270263672\n",
      "[2024/06/04 18:28:26] ppocr DEBUG: rec_res num  : 8, elapsed : 0.04652523994445801\n",
      "[2024/06/04 18:28:26] ppocr DEBUG: dt_boxes num : 15, elapsed : 0.0289459228515625\n",
      "[2024/06/04 18:28:27] ppocr DEBUG: rec_res num  : 15, elapsed : 0.07745671272277832\n",
      "[2024/06/04 18:28:27] ppocr DEBUG: dt_boxes num : 3, elapsed : 0.014333963394165039\n",
      "[2024/06/04 18:28:27] ppocr DEBUG: rec_res num  : 3, elapsed : 0.01695561408996582\n",
      "[2024/06/04 18:28:27] ppocr DEBUG: dt_boxes num : 1, elapsed : 0.012775182723999023\n",
      "[2024/06/04 18:28:27] ppocr DEBUG: rec_res num  : 1, elapsed : 0.011487245559692383\n",
      "[2024/06/04 18:28:27] ppocr DEBUG: dt_boxes num : 3, elapsed : 0.013052225112915039\n",
      "[2024/06/04 18:28:27] ppocr DEBUG: rec_res num  : 3, elapsed : 0.013925790786743164\n",
      "[2024/06/04 18:28:27] ppocr DEBUG: dt_boxes num : 1, elapsed : 0.011927604675292969\n",
      "[2024/06/04 18:28:27] ppocr DEBUG: rec_res num  : 1, elapsed : 0.009226322174072266\n",
      "[2024/06/04 18:28:27] ppocr DEBUG: dt_boxes num : 3, elapsed : 0.013077020645141602\n",
      "[2024/06/04 18:28:27] ppocr DEBUG: rec_res num  : 3, elapsed : 0.017401456832885742\n",
      "[2024/06/04 18:28:27] ppocr DEBUG: dt_boxes num : 1, elapsed : 0.012216567993164062\n",
      "[2024/06/04 18:28:27] ppocr DEBUG: rec_res num  : 1, elapsed : 0.009035348892211914\n",
      "[2024/06/04 18:28:27] ppocr DEBUG: dt_boxes num : 1, elapsed : 0.011166572570800781\n",
      "[2024/06/04 18:28:27] ppocr DEBUG: rec_res num  : 1, elapsed : 0.009370088577270508\n",
      "[2024/06/04 18:28:27] ppocr DEBUG: dt_boxes num : 1, elapsed : 0.011669397354125977\n",
      "[2024/06/04 18:28:27] ppocr DEBUG: rec_res num  : 1, elapsed : 0.009597539901733398\n",
      "[2024/06/04 18:28:27] ppocr DEBUG: dt_boxes num : 1, elapsed : 0.012372732162475586\n",
      "[2024/06/04 18:28:27] ppocr DEBUG: rec_res num  : 1, elapsed : 0.008469820022583008\n",
      "[2024/06/04 18:28:27] ppocr DEBUG: dt_boxes num : 1, elapsed : 0.011193513870239258\n",
      "[2024/06/04 18:28:27] ppocr DEBUG: rec_res num  : 1, elapsed : 0.009165763854980469\n",
      "[2024/06/04 18:28:27] ppocr DEBUG: dt_boxes num : 28, elapse : 0.025531768798828125\n",
      "[2024/06/04 18:28:27] ppocr DEBUG: rec_res num  : 28, elapse : 0.07757925987243652\n",
      "[2024/06/04 18:28:27] ppocr DEBUG: dt_boxes num : 1, elapsed : 0.012251853942871094\n",
      "[2024/06/04 18:28:27] ppocr DEBUG: rec_res num  : 1, elapsed : 0.009357690811157227\n",
      "[2024/06/04 18:28:27] ppocr DEBUG: dt_boxes num : 1, elapsed : 0.011770963668823242\n",
      "[2024/06/04 18:28:27] ppocr DEBUG: rec_res num  : 1, elapsed : 0.008891105651855469\n",
      "{'type': 'text', 'bbox': [144, 789, 542, 989], 'res': [{'text': '《宣言》最初用德文出版，它用这种文字在德', 'confidence': 0.995232105255127, 'text_region': [[156.0, 794.0], [537.0, 794.0], [537.0, 812.0], [156.0, 812.0]]}, {'text': '国、英国和美国至少印过十二种不同的版本。', 'confidence': 0.9985848665237427, 'text_region': [[149.0, 838.0], [530.0, 838.0], [530.0, 856.0], [149.0, 856.0]]}, {'text': '第一个英译本是由海伦·麦克法林女士翻译', 'confidence': 0.9963751435279846, 'text_region': [[148.0, 883.0], [522.0, 883.0], [522.0, 900.0], [148.0, 900.0]]}, {'text': '的，于1850年在伦敦《红色共和党人》杂志', 'confidence': 0.9993735551834106, 'text_region': [[149.0, 928.0], [539.0, 928.0], [539.0, 945.0], [149.0, 945.0]]}, {'text': '中连4', 'confidence': 0.7404881119728088, 'text_region': [[467.0, 976.0], [527.0, 976.0], [527.0, 984.0], [467.0, 984.0]]}], 'img_idx': 0}\n",
      "{'type': 'text', 'bbox': [143, 300, 543, 643], 'res': [{'text': '1.1标题一', 'confidence': 0.9993581771850586, 'text_region': [[147.0, 307.0], [269.0, 307.0], [269.0, 331.0], [147.0, 331.0]]}, {'text': '结果就产生了这个《宣言》，《宣言》原稿在', 'confidence': 0.9933897256851196, 'text_region': [[147.0, 356.0], [541.0, 356.0], [541.0, 375.0], [147.0, 375.0]]}, {'text': '二月革命前儿星期送到伦敦付。不管最近25', 'confidence': 0.9760677218437195, 'text_region': [[153.0, 402.0], [533.0, 402.0], [533.0, 419.0], [153.0, 419.0]]}, {'text': '丰来的情况发生了多大的变化，', 'confidence': 0.959725022315979, 'text_region': [[151.0, 446.0], [408.0, 446.0], [408.0, 463.0], [151.0, 463.0]]}, {'text': '当时（1847年12月)，卷入无产阶级运动的', 'confidence': 0.9749578833580017, 'text_region': [[152.0, 491.0], [531.0, 491.0], [531.0, 510.0], [152.0, 510.0]]}, {'text': '地区是多么狭小，这从《宣言》最后一章《共', 'confidence': 0.9958940744400024, 'text_region': [[148.0, 536.0], [540.0, 536.0], [540.0, 555.0], [148.0, 555.0]]}, {'text': '产党人对各国各种反对党派的态度》中可以看', 'confidence': 0.9892428517341614, 'text_region': [[147.0, 581.0], [539.0, 581.0], [539.0, 600.0], [147.0, 600.0]]}, {'text': '得很清楚。', 'confidence': 0.8867230415344238, 'text_region': [[148.0, 625.0], [228.0, 625.0], [228.0, 642.0], [148.0, 642.0]]}], 'img_idx': 0}\n",
      "{'type': 'text', 'bbox': [646, 340, 1049, 1004], 'res': [{'text': '1.2.1第二部分', 'confidence': 0.9997289180755615, 'text_region': [[651.0, 359.0], [797.0, 359.0], [797.0, 380.0], [651.0, 380.0]]}, {'text': '今天，情况完全不同了！正是欧洲移民，使北', 'confidence': 0.9659872055053711, 'text_region': [[652.0, 403.0], [1045.0, 403.0], [1045.0, 423.0], [652.0, 423.0]]}, {'text': '美能够进行大规模的农业生产，这种农业生产', 'confidence': 0.9988452792167664, 'text_region': [[652.0, 447.0], [1045.0, 447.0], [1045.0, 466.0], [652.0, 466.0]]}, {'text': '的竞争震撼着欧洲大小土地所有制的根基。此', 'confidence': 0.9682415127754211, 'text_region': [[653.0, 493.0], [1046.0, 493.0], [1046.0, 510.0], [653.0, 510.0]]}, {'text': '外，这种移民还使美国能够以巨大的力量和规', 'confidence': 0.9946392774581909, 'text_region': [[653.0, 538.0], [1045.0, 538.0], [1045.0, 557.0], [653.0, 557.0]]}, {'text': '模开发其丰富的工业资源，以至于很快就会摧', 'confidence': 0.9787492752075195, 'text_region': [[652.0, 582.0], [1045.0, 583.0], [1045.0, 603.0], [652.0, 602.0]]}, {'text': '設西欧特别是英国迄今为止的工业垄断地位。', 'confidence': 0.9581238627433777, 'text_region': [[653.0, 627.0], [1034.0, 627.0], [1034.0, 646.0], [653.0, 646.0]]}, {'text': '这两种情况反过来对美国本身也起着革命作', 'confidence': 0.9968209266662598, 'text_region': [[651.0, 673.0], [1026.0, 673.0], [1026.0, 693.0], [651.0, 693.0]]}, {'text': '用。作为整个政治制度基础的农场主的中小土', 'confidence': 0.9988487958908081, 'text_region': [[651.0, 717.0], [1045.0, 717.0], [1045.0, 737.0], [651.0, 737.0]]}, {'text': '地所有制，止逐渐被大农场的竞争所征服；同', 'confidence': 0.9787859916687012, 'text_region': [[652.0, 763.0], [1045.0, 763.0], [1045.0, 783.0], [652.0, 783.0]]}, {'text': '时，在各工业区，人数众多的无产阶级和神话', 'confidence': 0.9957302212715149, 'text_region': [[652.0, 809.0], [1046.0, 809.0], [1046.0, 826.0], [652.0, 826.0]]}, {'text': '般的资本积聚第一次发展起来了。在波兰人中', 'confidence': 0.9801304936408997, 'text_region': [[653.0, 854.0], [1044.0, 854.0], [1044.0, 871.0], [653.0, 871.0]]}, {'text': '间，共产党人支持那个把土地革命当做民族解', 'confidence': 0.9950416684150696, 'text_region': [[651.0, 897.0], [1045.0, 898.0], [1045.0, 918.0], [651.0, 917.0]]}, {'text': '放的条件的政党，即发动过1846年克拉科关起', 'confidence': 0.9881463646888733, 'text_region': [[652.0, 944.0], [1046.0, 944.0], [1046.0, 961.0], [652.0, 961.0]]}, {'text': '义的政党', 'confidence': 0.999591588973999, 'text_region': [[654.0, 987.0], [726.0, 987.0], [726.0, 1003.0], [654.0, 1003.0]]}], 'img_idx': 0}\n",
      "{'type': 'text', 'bbox': [145, 1325, 538, 1394], 'res': [{'text': '在德国，只要资产阶级采取革命的行动，共', 'confidence': 0.9994486570358276, 'text_region': [[146.0, 1327.0], [535.0, 1328.0], [535.0, 1351.0], [146.0, 1350.0]]}, {'text': '去反对专制君主制', 'confidence': 0.8773453831672668, 'text_region': [[291.0, 1379.0], [453.0, 1379.0], [453.0, 1390.0], [291.0, 1390.0]]}, {'text': '建二', 'confidence': 0.6290192604064941, 'text_region': [[466.0, 1380.0], [524.0, 1380.0], [524.0, 1388.0], [466.0, 1388.0]]}], 'img_idx': 0}\n",
      "{'type': 'text', 'bbox': [648, 1272, 905, 1292], 'res': [{'text': '听有制和少市民的反动收', 'confidence': 0.8357219696044922, 'text_region': [[673.0, 1276.0], [888.0, 1276.0], [888.0, 1287.0], [673.0, 1287.0]]}], 'img_idx': 0}\n",
      "{'type': 'text', 'bbox': [536, 246, 664, 266], 'res': [{'text': '马克思', 'confidence': 0.9816853404045105, 'text_region': [[542.0, 250.0], [598.0, 250.0], [598.0, 261.0], [542.0, 261.0]]}, {'text': '', 'confidence': 0.0, 'text_region': [[593.0, 252.0], [610.0, 252.0], [610.0, 259.0], [593.0, 259.0]]}, {'text': '因校', 'confidence': 0.8196216225624084, 'text_region': [[606.0, 252.0], [650.0, 252.0], [650.0, 259.0], [606.0, 259.0]]}], 'img_idx': 0}\n",
      "{'type': 'text', 'bbox': [649, 292, 755, 312], 'res': [{'text': '军美国出版', 'confidence': 0.9232624173164368, 'text_region': [[656.0, 296.0], [742.0, 296.0], [742.0, 307.0], [656.0, 307.0]]}], 'img_idx': 0}\n",
      "{'type': 'text', 'bbox': [649, 1338, 1060, 1408], 'res': [{'text': '1.3标题三', 'confidence': 0.999774694442749, 'text_region': [[650.0, 1341.0], [770.0, 1339.0], [771.0, 1362.0], [650.0, 1364.0]]}, {'text': '日会', 'confidence': 0.21723423898220062, 'text_region': [[657.0, 1393.0], [732.0, 1393.0], [732.0, 1400.0], [657.0, 1400.0]]}, {'text': '分钟也不忽略教育工人尽可能', 'confidence': 0.9526833891868591, 'text_region': [[802.0, 1388.0], [1055.0, 1391.0], [1055.0, 1405.0], [802.0, 1402.0]]}], 'img_idx': 0}\n",
      "{'type': 'title', 'bbox': [144, 745, 294, 768], 'res': [{'text': '1.2.1第一部分', 'confidence': 0.9390695095062256, 'text_region': [[148.0, 749.0], [284.0, 749.0], [284.0, 764.0], [148.0, 764.0]]}], 'img_idx': 0}\n",
      "{'type': 'title', 'bbox': [145, 1281, 295, 1304], 'res': [{'text': '1.2.3第三部个', 'confidence': 0.8708348274230957, 'text_region': [[148.0, 1285.0], [287.0, 1285.0], [287.0, 1300.0], [148.0, 1300.0]]}], 'img_idx': 0}\n",
      "{'type': 'title', 'bbox': [145, 685, 268, 713], 'res': [{'text': '1.2标题', 'confidence': 0.9994398951530457, 'text_region': [[145.0, 690.0], [240.0, 688.0], [240.0, 707.0], [145.0, 709.0]]}], 'img_idx': 0}\n",
      "{'type': 'title', 'bbox': [649, 1339, 768, 1363], 'res': [{'text': '1.3标题一', 'confidence': 0.9284847378730774, 'text_region': [[650.0, 1344.0], [764.0, 1342.0], [764.0, 1357.0], [650.0, 1359.0]]}], 'img_idx': 0}\n",
      "{'type': 'title', 'bbox': [523, 186, 700, 220], 'res': [{'text': '共产党宣', 'confidence': 0.9357485771179199, 'text_region': [[533.0, 191.0], [678.0, 191.0], [678.0, 214.0], [533.0, 214.0]]}], 'img_idx': 0}\n",
      "{'type': 'table', 'bbox': [143, 1057, 1112, 1230], 'res': {'cell_bbox': [[20.46175193786621, 10.053261756896973, 105.48991394042969, 11.989470481872559, 96.23080444335938, 41.80498504638672, 17.62613296508789, 37.7552604675293], [244.4289093017578, 23.06482696533203, 241.58346557617188, 26.139423370361328, 198.3029327392578, 31.28712272644043, 198.51510620117188, 27.603839874267578], [460.4879150390625, 22.941011428833008, 417.62945556640625, 25.819623947143555, 359.96600341796875, 32.059146881103516, 399.394287109375, 28.674318313598633], [595.727294921875, 23.958433151245117, 545.0347900390625, 26.817018508911133, 487.3041687011719, 31.310470581054688, 534.846923828125, 28.23371696472168], [708.63671875, 23.05997657775879, 671.46044921875, 26.066003799438477, 616.5806274414062, 31.7840518951416, 652.6415405273438, 28.537900924682617], [831.9403076171875, 22.43355369567871, 787.7032470703125, 25.479219436645508, 745.0934448242188, 31.027935028076172, 793.3115844726562, 27.762950897216797], [919.9058227539062, 24.07695770263672, 877.91552734375, 27.433046340942383, 852.1195678710938, 33.855934143066406, 902.5955200195312, 30.361207962036133], [53.58076095581055, 58.93843078613281, 102.51429748535156, 66.51366424560547, 82.5665283203125, 76.23555755615234, 42.063358306884766, 68.8895492553711], [245.35922241210938, 61.126014709472656, 268.348876953125, 68.76844787597656, 214.9303436279297, 72.14205932617188, 192.10379028320312, 65.09856414794922], [458.36151123046875, 60.88996124267578, 434.5190124511719, 68.41596221923828, 370.4438781738281, 71.98824310302734, 390.73486328125, 65.19235229492188], [583.4453125, 64.06033325195312, 552.33203125, 71.2719955444336, 489.935791015625, 73.50083923339844, 518.4586791992188, 67.09532165527344], [697.9599609375, 64.04847717285156, 677.7256469726562, 71.1651382446289, 621.5048828125, 73.7772216796875, 640.7113647460938, 67.41265106201172], [829.0499267578125, 64.77767181396484, 795.7706298828125, 71.42124938964844, 753.77294921875, 73.05150604248047, 790.8870239257812, 67.08424377441406], [925.378662109375, 67.50568389892578, 895.6652221679688, 73.50382232666016, 873.9641723632812, 74.63795471191406, 910.1741333007812, 69.39897155761719], [53.24690246582031, 102.68518829345703, 95.35831451416016, 110.23600006103516, 79.02449035644531, 113.63574981689453, 43.13654708862305, 106.89281463623047], [252.98611450195312, 105.88246154785156, 254.545166015625, 112.88362121582031, 206.33416748046875, 108.08118438720703, 202.05258178710938, 101.39523315429688], [463.94873046875, 103.48213195800781, 431.46868896484375, 110.5828628540039, 371.062255859375, 107.85133361816406, 400.4523620605469, 101.31001281738281], [591.1215209960938, 105.40048217773438, 550.8502807617188, 112.07147979736328, 492.22540283203125, 109.32672119140625, 530.6256713867188, 103.25770568847656], [706.220458984375, 105.53071594238281, 678.0032348632812, 112.113037109375, 625.0150756835938, 109.516357421875, 652.8997802734375, 103.55754089355469], [833.5380249023438, 105.57730865478516, 794.0752563476562, 111.6923599243164, 753.33935546875, 107.18466186523438, 797.1658325195312, 101.54906463623047], [925.7553100585938, 107.17228698730469, 892.9907836914062, 112.54986572265625, 871.0872802734375, 108.32289123535156, 910.8333740234375, 103.49903869628906], [45.1831169128418, 141.6376495361328, 100.02861785888672, 146.34523010253906, 83.19778442382812, 150.24420166015625, 36.453487396240234, 146.49449157714844], [251.316162109375, 143.70652770996094, 243.97657775878906, 147.79290771484375, 196.69615173339844, 147.90386962890625, 199.15538024902344, 144.23977661132812], [464.7966613769531, 142.53585815429688, 427.7956848144531, 146.5550537109375, 367.70196533203125, 147.8665313720703, 400.1013488769531, 144.46107482910156], [592.7929077148438, 143.6883544921875, 547.5741577148438, 147.30856323242188, 489.04559326171875, 148.58566284179688, 530.9472045898438, 145.57177734375], [709.030517578125, 143.88731384277344, 678.1331176757812, 147.4253387451172, 625.6517333984375, 148.71180725097656, 655.0191040039062, 145.82493591308594], [837.2909545898438, 143.1376953125, 794.7140502929688, 146.50469970703125, 753.5464477539062, 145.7339324951172, 800.3385009765625, 142.82691955566406], [929.1602172851562, 144.6306915283203, 882.640625, 147.41571044921875, 857.793701171875, 145.80470275878906, 914.7556762695312, 143.47433471679688]], 'html': '<html><body><table><tr><td>类型</td><td>制造商</td><td>模型</td><td>最高速度</td><td>平均成本</td><td>安全评级</td><td>燃料类型</td></tr><tr><td>汽车</td><td>丰田</td><td>卡罗拉</td><td>180 km/h</td><td>$20,000</td><td>5星</td><td>汽油</td></tr><tr><td>电动自行车</td><td>特斯拉</td><td>Model X Bike</td><td>25 km/h</td><td>$800</td><td>-</td><td>电</td></tr><tr><td>高速列车</td><td>法国国家铁路公司</td><td>TGV Duplex</td><td>320 km/h</td><td>$100 million</td><td>5星</td><td>电</td></tr></table></body></html>'}, 'img_idx': 0}\n",
      "{'type': 'table_caption', 'bbox': [544, 1033, 680, 1053], 'res': [{'text': '表1水平表机', 'confidence': 0.8767023682594299, 'text_region': [[548.0, 1037.0], [668.0, 1037.0], [668.0, 1048.0], [548.0, 1048.0]]}], 'img_idx': 0}\n",
      "{'type': 'header', 'bbox': [523, 186, 700, 220], 'res': [{'text': '共产党宣', 'confidence': 0.9357485771179199, 'text_region': [[533.0, 191.0], [678.0, 191.0], [678.0, 214.0], [533.0, 214.0]]}], 'img_idx': 0}\n",
      "[2024/06/04 18:28:28] ppocr DEBUG: dt_boxes num : 5, elapsed : 0.01834869384765625\n",
      "[2024/06/04 18:28:28] ppocr DEBUG: rec_res num  : 5, elapsed : 0.02805948257446289\n",
      "[2024/06/04 18:28:28] ppocr DEBUG: dt_boxes num : 6, elapsed : 0.019269943237304688\n",
      "[2024/06/04 18:28:28] ppocr DEBUG: rec_res num  : 6, elapsed : 0.032097578048706055\n",
      "{'type': 'text', 'bbox': [144, 147, 555, 404], 'res': [{'text': '明确地意识到资产阶级和无产阶级的敌对的对', 'confidence': 0.9533411860466003, 'text_region': [[152.0, 152.0], [547.0, 152.0], [547.0, 169.0], [152.0, 169.0]]}, {'text': '立，以便德国工人能够立刻利用资产阶级统治', 'confidence': 0.9947422742843628, 'text_region': [[150.0, 199.0], [551.0, 199.0], [551.0, 216.0], [150.0, 216.0]]}, {'text': '所必然带来的社会的和政治的条件作为反对资', 'confidence': 0.9998543858528137, 'text_region': [[149.0, 243.0], [552.0, 244.0], [552.0, 265.0], [149.0, 264.0]]}, {'text': '产阶级的武器，以便在推翻德国的反动阶级', 'confidence': 0.9975830912590027, 'text_region': [[150.0, 294.0], [551.0, 294.0], [551.0, 311.0], [150.0, 311.0]]}, {'text': '之后立即开始反对资产阶级本身的斗争。', 'confidence': 0.9776073098182678, 'text_region': [[147.0, 339.0], [510.0, 339.0], [510.0, 359.0], [147.0, 359.0]]}], 'img_idx': 0}\n",
      "{'type': 'text', 'bbox': [646, 147, 1060, 402], 'res': [{'text': '因为德国正处在资产阶级革命的前夜，因为同', 'confidence': 0.9884869456291199, 'text_region': [[654.0, 153.0], [1056.0, 153.0], [1056.0, 170.0], [654.0, 170.0]]}, {'text': '17世纪的英国和18世纪的法国相比，德国将', 'confidence': 0.9969810247421265, 'text_region': [[652.0, 200.0], [1055.0, 200.0], [1055.0, 217.0], [652.0, 217.0]]}, {'text': '在整个欧洲文明更进步的条件下，拥有发展得', 'confidence': 0.9993592500686646, 'text_region': [[652.0, 245.0], [1056.0, 246.0], [1056.0, 266.0], [652.0, 265.0]]}, {'text': '多的无产阶级去实现这个变革，因而德国的', 'confidence': 0.9986851215362549, 'text_region': [[653.0, 292.0], [1055.0, 292.0], [1055.0, 312.0], [653.0, 312.0]]}, {'text': '资产阶级革命只能是无产阶级革命的直接序', 'confidence': 0.9995660185813904, 'text_region': [[652.0, 339.0], [1056.0, 339.0], [1056.0, 359.0], [652.0, 359.0]]}, {'text': '幕', 'confidence': 0.9525322914123535, 'text_region': [[652.0, 388.0], [673.0, 388.0], [673.0, 401.0], [652.0, 401.0]]}], 'img_idx': 0}\n"
     ]
    }
   ],
   "source": [
    "import os\n",
    "import cv2\n",
    "import numpy as np\n",
    "from paddleocr import PPStructure,save_structure_res\n",
    "from paddle.utils import try_import\n",
    "from PIL import Image\n",
    "\n",
    "ocr_engine = PPStructure()\n",
    "\n",
    "save_folder = './output'\n",
    "img_path = '../data/基础版.pdf'\n",
    "\n",
    "fitz = try_import(\"fitz\")\n",
    "imgs = []\n",
    "with fitz.open(img_path) as pdf:\n",
    "    for pg in range(0, pdf.page_count):\n",
    "        page = pdf[pg]\n",
    "        mat = fitz.Matrix(2, 2)\n",
    "        pm = page.get_pixmap(matrix=mat, alpha=False)\n",
    "\n",
    "        # if width or height > 2000 pixels, don't enlarge the image\n",
    "        if pm.width > 2000 or pm.height > 2000:\n",
    "            pm = page.get_pixmap(matrix=fitz.Matrix(1, 1), alpha=False)\n",
    "\n",
    "        img = Image.frombytes(\"RGB\", [pm.width, pm.height], pm.samples)\n",
    "        img = cv2.cvtColor(np.array(img), cv2.COLOR_RGB2BGR)\n",
    "        imgs.append(img)\n",
    "\n",
    "for index, img in enumerate(imgs):\n",
    "    result = ocr_engine(img)\n",
    "    save_structure_res(result, save_folder, os.path.basename(img_path).split('.')[0], index)\n",
    "    for line in result:\n",
    "        line.pop('img')\n",
    "        print(line)"
   ]
  },
  {
   "cell_type": "markdown",
   "metadata": {},
   "source": [
    "## 版面恢复:\n",
    "\n",
    "包含版面分析 + 表格识别\n"
   ]
  },
  {
   "cell_type": "markdown",
   "metadata": {},
   "source": [
    "##### Image\n"
   ]
  },
  {
   "cell_type": "code",
   "execution_count": 14,
   "metadata": {},
   "outputs": [
    {
     "name": "stdout",
     "output_type": "stream",
     "text": [
      "[2024/06/03 17:50:48] ppocr DEBUG: Namespace(help='==SUPPRESS==', use_gpu=True, use_xpu=False, use_npu=False, ir_optim=True, use_tensorrt=False, min_subgraph_size=15, precision='fp32', gpu_mem=500, gpu_id=0, image_dir=None, page_num=0, det_algorithm='DB', det_model_dir='/home/liangzhu/.paddleocr/whl/det/ch/ch_PP-OCRv4_det_infer', det_limit_side_len=960, det_limit_type='max', det_box_type='quad', det_db_thresh=0.3, det_db_box_thresh=0.6, det_db_unclip_ratio=1.5, max_batch_size=10, use_dilation=False, det_db_score_mode='fast', det_east_score_thresh=0.8, det_east_cover_thresh=0.1, det_east_nms_thresh=0.2, det_sast_score_thresh=0.5, det_sast_nms_thresh=0.2, det_pse_thresh=0, det_pse_box_thresh=0.85, det_pse_min_area=16, det_pse_scale=1, scales=[8, 16, 32], alpha=1.0, beta=1.0, fourier_degree=5, rec_algorithm='SVTR_LCNet', rec_model_dir='/home/liangzhu/.paddleocr/whl/rec/ch/ch_PP-OCRv4_rec_infer', rec_image_inverse=True, rec_image_shape='3, 48, 320', rec_batch_num=6, max_text_length=25, rec_char_dict_path='/home/liangzhu/anaconda3/envs/llm/lib/python3.11/site-packages/paddleocr/ppocr/utils/ppocr_keys_v1.txt', use_space_char=True, vis_font_path='./doc/fonts/simfang.ttf', drop_score=0.5, e2e_algorithm='PGNet', e2e_model_dir=None, e2e_limit_side_len=768, e2e_limit_type='max', e2e_pgnet_score_thresh=0.5, e2e_char_dict_path='./ppocr/utils/ic15_dict.txt', e2e_pgnet_valid_set='totaltext', e2e_pgnet_mode='fast', use_angle_cls=False, cls_model_dir=None, cls_image_shape='3, 48, 192', label_list=['0', '180'], cls_batch_num=6, cls_thresh=0.9, enable_mkldnn=False, cpu_threads=10, use_pdserving=False, warmup=False, sr_model_dir=None, sr_image_shape='3, 32, 128', sr_batch_num=1, draw_img_save_dir='./inference_results', save_crop_res=False, crop_res_save_dir='./output', use_mp=False, total_process_num=1, process_id=0, benchmark=False, save_log_path='./log_output/', show_log=True, use_onnx=False, output='./output', table_max_len=488, table_algorithm='TableAttn', table_model_dir='/home/liangzhu/.paddleocr/whl/table/ch_ppstructure_mobile_v2.0_SLANet_infer', merge_no_span_structure=True, table_char_dict_path='/home/liangzhu/anaconda3/envs/llm/lib/python3.11/site-packages/paddleocr/ppocr/utils/dict/table_structure_dict_ch.txt', layout_model_dir='/home/liangzhu/.paddleocr/whl/layout/picodet_lcnet_x1_0_fgd_layout_cdla_infer', layout_dict_path='/home/liangzhu/anaconda3/envs/llm/lib/python3.11/site-packages/paddleocr/ppocr/utils/dict/layout_dict/layout_cdla_dict.txt', layout_score_threshold=0.5, layout_nms_threshold=0.5, kie_algorithm='LayoutXLM', ser_model_dir=None, re_model_dir=None, use_visual_backbone=True, ser_dict_path='../train_data/XFUND/class_list_xfun.txt', ocr_order_method=None, mode='structure', image_orientation=False, layout=True, table=True, ocr=True, recovery=True, use_pdf2docx_api=False, invert=False, binarize=False, alphacolor=(255, 255, 255), lang='ch', det=True, rec=True, type='ocr', ocr_version='PP-OCRv4', structure_version='PP-StructureV2')\n",
      "[2024/06/03 17:50:54] ppocr DEBUG: dt_boxes num : 23, elapsed : 0.02916860580444336\n",
      "[2024/06/03 17:50:54] ppocr DEBUG: rec_res num  : 23, elapsed : 0.07756948471069336\n",
      "[2024/06/03 17:50:55] ppocr INFO: docx save to ./output/image_ocr.docx\n"
     ]
    }
   ],
   "source": [
    "import os\n",
    "import cv2\n",
    "from paddleocr import PPStructure,save_structure_res\n",
    "from paddleocr.ppstructure.recovery.recovery_to_doc import sorted_layout_boxes, convert_info_docx\n",
    "\n",
    "# 中文测试图\n",
    "table_engine = PPStructure(recovery=True)\n",
    "# 英文测试图\n",
    "# table_engine = PPStructure(recovery=True, lang='en')\n",
    "\n",
    "save_folder = './output'\n",
    "img_path = '../data/image.png'\n",
    "img = cv2.imread(img_path)\n",
    "result = table_engine(img)\n",
    "save_structure_res(result, save_folder, os.path.basename(img_path).split('.')[0])\n",
    "\n",
    "h, w, _ = img.shape\n",
    "res = sorted_layout_boxes(result, w)\n",
    "convert_info_docx(img, res, save_folder, os.path.basename(img_path).split('.')[0])"
   ]
  },
  {
   "cell_type": "markdown",
   "metadata": {},
   "source": [
    "##### PDF\n"
   ]
  },
  {
   "cell_type": "code",
   "execution_count": 9,
   "metadata": {},
   "outputs": [
    {
     "name": "stdout",
     "output_type": "stream",
     "text": [
      "[2024/06/04 18:59:20] ppocr DEBUG: Namespace(help='==SUPPRESS==', use_gpu=True, use_xpu=False, use_npu=False, ir_optim=True, use_tensorrt=False, min_subgraph_size=15, precision='fp32', gpu_mem=500, gpu_id=0, image_dir=None, page_num=0, det_algorithm='DB', det_model_dir='/home/liangzhu/.paddleocr/whl/det/ch/ch_PP-OCRv4_det_infer', det_limit_side_len=960, det_limit_type='max', det_box_type='quad', det_db_thresh=0.3, det_db_box_thresh=0.6, det_db_unclip_ratio=1.5, max_batch_size=10, use_dilation=False, det_db_score_mode='fast', det_east_score_thresh=0.8, det_east_cover_thresh=0.1, det_east_nms_thresh=0.2, det_sast_score_thresh=0.5, det_sast_nms_thresh=0.2, det_pse_thresh=0, det_pse_box_thresh=0.85, det_pse_min_area=16, det_pse_scale=1, scales=[8, 16, 32], alpha=1.0, beta=1.0, fourier_degree=5, rec_algorithm='SVTR_LCNet', rec_model_dir='/home/liangzhu/.paddleocr/whl/rec/ch/ch_PP-OCRv4_rec_infer', rec_image_inverse=True, rec_image_shape='3, 48, 320', rec_batch_num=6, max_text_length=25, rec_char_dict_path='/home/liangzhu/anaconda3/envs/llm/lib/python3.11/site-packages/paddleocr/ppocr/utils/ppocr_keys_v1.txt', use_space_char=True, vis_font_path='./doc/fonts/simfang.ttf', drop_score=0.5, e2e_algorithm='PGNet', e2e_model_dir=None, e2e_limit_side_len=768, e2e_limit_type='max', e2e_pgnet_score_thresh=0.5, e2e_char_dict_path='./ppocr/utils/ic15_dict.txt', e2e_pgnet_valid_set='totaltext', e2e_pgnet_mode='fast', use_angle_cls=False, cls_model_dir=None, cls_image_shape='3, 48, 192', label_list=['0', '180'], cls_batch_num=6, cls_thresh=0.9, enable_mkldnn=False, cpu_threads=10, use_pdserving=False, warmup=False, sr_model_dir=None, sr_image_shape='3, 32, 128', sr_batch_num=1, draw_img_save_dir='./inference_results', save_crop_res=False, crop_res_save_dir='./output', use_mp=False, total_process_num=1, process_id=0, benchmark=False, save_log_path='./log_output/', show_log=True, use_onnx=False, output='./output', table_max_len=488, table_algorithm='TableAttn', table_model_dir='/home/liangzhu/.paddleocr/whl/table/ch_ppstructure_mobile_v2.0_SLANet_infer', merge_no_span_structure=True, table_char_dict_path='/home/liangzhu/anaconda3/envs/llm/lib/python3.11/site-packages/paddleocr/ppocr/utils/dict/table_structure_dict_ch.txt', layout_model_dir='/home/liangzhu/.paddleocr/whl/layout/picodet_lcnet_x1_0_fgd_layout_cdla_infer', layout_dict_path='/home/liangzhu/anaconda3/envs/llm/lib/python3.11/site-packages/paddleocr/ppocr/utils/dict/layout_dict/layout_cdla_dict.txt', layout_score_threshold=0.5, layout_nms_threshold=0.5, kie_algorithm='LayoutXLM', ser_model_dir=None, re_model_dir=None, use_visual_backbone=True, ser_dict_path='../train_data/XFUND/class_list_xfun.txt', ocr_order_method=None, mode='structure', image_orientation=False, layout=True, table=True, ocr=True, recovery=False, use_pdf2docx_api=False, invert=False, binarize=False, alphacolor=(255, 255, 255), lang='ch', det=True, rec=True, type='structure', ocr_version='PP-OCRv4', structure_version='PP-StructureV2')\n",
      "[2024/06/04 18:59:26] ppocr DEBUG: dt_boxes num : 5, elapsed : 0.021991968154907227\n",
      "[2024/06/04 18:59:26] ppocr DEBUG: rec_res num  : 5, elapsed : 0.03320455551147461\n",
      "[2024/06/04 18:59:26] ppocr DEBUG: dt_boxes num : 8, elapsed : 0.02216053009033203\n",
      "[2024/06/04 18:59:26] ppocr DEBUG: rec_res num  : 8, elapsed : 0.04677295684814453\n",
      "[2024/06/04 18:59:26] ppocr DEBUG: dt_boxes num : 15, elapsed : 0.027631521224975586\n",
      "[2024/06/04 18:59:27] ppocr DEBUG: rec_res num  : 15, elapsed : 0.0939323902130127\n",
      "[2024/06/04 18:59:27] ppocr DEBUG: dt_boxes num : 3, elapsed : 0.014468669891357422\n",
      "[2024/06/04 18:59:27] ppocr DEBUG: rec_res num  : 3, elapsed : 0.017682790756225586\n",
      "[2024/06/04 18:59:27] ppocr DEBUG: dt_boxes num : 1, elapsed : 0.012987136840820312\n",
      "[2024/06/04 18:59:27] ppocr DEBUG: rec_res num  : 1, elapsed : 0.012181282043457031\n",
      "[2024/06/04 18:59:27] ppocr DEBUG: dt_boxes num : 3, elapsed : 0.01265406608581543\n",
      "[2024/06/04 18:59:27] ppocr DEBUG: rec_res num  : 3, elapsed : 0.014699697494506836\n",
      "[2024/06/04 18:59:27] ppocr DEBUG: dt_boxes num : 1, elapsed : 0.012182950973510742\n",
      "[2024/06/04 18:59:27] ppocr DEBUG: rec_res num  : 1, elapsed : 0.009940862655639648\n",
      "[2024/06/04 18:59:27] ppocr DEBUG: dt_boxes num : 3, elapsed : 0.012784242630004883\n",
      "[2024/06/04 18:59:27] ppocr DEBUG: rec_res num  : 3, elapsed : 0.021419525146484375\n",
      "[2024/06/04 18:59:27] ppocr DEBUG: dt_boxes num : 1, elapsed : 0.015286684036254883\n",
      "[2024/06/04 18:59:27] ppocr DEBUG: rec_res num  : 1, elapsed : 0.009407758712768555\n",
      "[2024/06/04 18:59:27] ppocr DEBUG: dt_boxes num : 1, elapsed : 0.012631416320800781\n",
      "[2024/06/04 18:59:27] ppocr DEBUG: rec_res num  : 1, elapsed : 0.009320974349975586\n",
      "[2024/06/04 18:59:27] ppocr DEBUG: dt_boxes num : 1, elapsed : 0.011635303497314453\n",
      "[2024/06/04 18:59:27] ppocr DEBUG: rec_res num  : 1, elapsed : 0.008770227432250977\n",
      "[2024/06/04 18:59:27] ppocr DEBUG: dt_boxes num : 1, elapsed : 0.012398242950439453\n",
      "[2024/06/04 18:59:27] ppocr DEBUG: rec_res num  : 1, elapsed : 0.00928640365600586\n",
      "[2024/06/04 18:59:27] ppocr DEBUG: dt_boxes num : 1, elapsed : 0.011769533157348633\n",
      "[2024/06/04 18:59:27] ppocr DEBUG: rec_res num  : 1, elapsed : 0.008803844451904297\n",
      "[2024/06/04 18:59:27] ppocr DEBUG: dt_boxes num : 28, elapse : 0.02846074104309082\n",
      "[2024/06/04 18:59:27] ppocr DEBUG: rec_res num  : 28, elapse : 0.09110546112060547\n",
      "[2024/06/04 18:59:28] ppocr DEBUG: dt_boxes num : 1, elapsed : 0.01325225830078125\n",
      "[2024/06/04 18:59:28] ppocr DEBUG: rec_res num  : 1, elapsed : 0.010442733764648438\n",
      "[2024/06/04 18:59:28] ppocr DEBUG: dt_boxes num : 1, elapsed : 0.012215137481689453\n",
      "[2024/06/04 18:59:28] ppocr DEBUG: rec_res num  : 1, elapsed : 0.009833812713623047\n",
      "[2024/06/04 18:59:28] ppocr INFO: docx save to ./output_pp_structure/基础版_ocr.docx\n"
     ]
    }
   ],
   "source": [
    "import os\n",
    "import cv2\n",
    "import numpy as np\n",
    "from paddleocr import PPStructure,save_structure_res, PaddleOCR\n",
    "from paddle.utils import try_import\n",
    "from PIL import Image\n",
    "from paddleocr.ppstructure.recovery.recovery_to_doc import sorted_layout_boxes, convert_info_docx\n",
    "\n",
    "ocr_engine = PPStructure(show_log=True, type='structure')\n",
    "\n",
    "save_folder = './output_pp_structure'\n",
    "pdf_path = '../data/基础版.pdf'\n",
    "\n",
    "fitz = try_import(\"fitz\")\n",
    "imgs = []\n",
    "with fitz.open(pdf_path) as pdf:\n",
    "    for pg in range(0, pdf.page_count):\n",
    "        page = pdf[pg]\n",
    "        mat = fitz.Matrix(2, 2)\n",
    "        pm = page.get_pixmap(matrix=mat, alpha=False)\n",
    "\n",
    "        # if width or height > 2000 pixels, don't enlarge the image\n",
    "        if pm.width > 2000 or pm.height > 2000:\n",
    "            pm = page.get_pixmap(matrix=fitz.Matrix(1, 1), alpha=False)\n",
    "\n",
    "        img = Image.frombytes(\"RGB\", [pm.width, pm.height], pm.samples)\n",
    "        img = cv2.cvtColor(np.array(img), cv2.COLOR_RGB2BGR)\n",
    "        imgs.append(img)\n",
    "\n",
    "# for index, img in enumerate(imgs):\n",
    "result = ocr_engine(imgs[0])\n",
    "save_structure_res(result, save_folder, os.path.basename(pdf_path).split('.')[0], 0)\n",
    "h, w, _ = img.shape\n",
    "res = sorted_layout_boxes(result, w)\n",
    "convert_info_docx(img, res, save_folder, os.path.basename(pdf_path).split('.')[0])"
   ]
  },
  {
   "cell_type": "markdown",
   "metadata": {},
   "source": [
    "use_pdf2docx_api: True 和 False 解析时间上没有差别。28s 左右。\n"
   ]
  },
  {
   "cell_type": "code",
   "execution_count": null,
   "metadata": {},
   "outputs": [],
   "source": []
  }
 ],
 "metadata": {
  "kernelspec": {
   "display_name": "dify",
   "language": "python",
   "name": "python3"
  },
  "language_info": {
   "codemirror_mode": {
    "name": "ipython",
    "version": 3
   },
   "file_extension": ".py",
   "mimetype": "text/x-python",
   "name": "python",
   "nbconvert_exporter": "python",
   "pygments_lexer": "ipython3",
   "version": "3.11.8"
  }
 },
 "nbformat": 4,
 "nbformat_minor": 2
}
