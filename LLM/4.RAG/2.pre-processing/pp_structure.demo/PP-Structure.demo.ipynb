{
 "cells": [
  {
   "cell_type": "markdown",
   "metadata": {},
   "source": [
    "## 版面分析+表格识别\n"
   ]
  },
  {
   "cell_type": "code",
   "execution_count": 4,
   "metadata": {},
   "outputs": [
    {
     "name": "stdout",
     "output_type": "stream",
     "text": [
      "[2024/06/04 12:58:39] ppocr DEBUG: Namespace(help='==SUPPRESS==', use_gpu=True, use_xpu=False, use_npu=False, ir_optim=True, use_tensorrt=False, min_subgraph_size=15, precision='fp32', gpu_mem=500, gpu_id=0, image_dir=None, page_num=0, det_algorithm='DB', det_model_dir='/home/liangzhu/.paddleocr/whl/det/ch/ch_PP-OCRv4_det_infer', det_limit_side_len=960, det_limit_type='max', det_box_type='quad', det_db_thresh=0.3, det_db_box_thresh=0.6, det_db_unclip_ratio=1.5, max_batch_size=10, use_dilation=False, det_db_score_mode='fast', det_east_score_thresh=0.8, det_east_cover_thresh=0.1, det_east_nms_thresh=0.2, det_sast_score_thresh=0.5, det_sast_nms_thresh=0.2, det_pse_thresh=0, det_pse_box_thresh=0.85, det_pse_min_area=16, det_pse_scale=1, scales=[8, 16, 32], alpha=1.0, beta=1.0, fourier_degree=5, rec_algorithm='SVTR_LCNet', rec_model_dir='/home/liangzhu/.paddleocr/whl/rec/ch/ch_PP-OCRv4_rec_infer', rec_image_inverse=True, rec_image_shape='3, 48, 320', rec_batch_num=6, max_text_length=25, rec_char_dict_path='/home/liangzhu/anaconda3/envs/llm/lib/python3.11/site-packages/paddleocr/ppocr/utils/ppocr_keys_v1.txt', use_space_char=True, vis_font_path='./doc/fonts/simfang.ttf', drop_score=0.5, e2e_algorithm='PGNet', e2e_model_dir=None, e2e_limit_side_len=768, e2e_limit_type='max', e2e_pgnet_score_thresh=0.5, e2e_char_dict_path='./ppocr/utils/ic15_dict.txt', e2e_pgnet_valid_set='totaltext', e2e_pgnet_mode='fast', use_angle_cls=False, cls_model_dir=None, cls_image_shape='3, 48, 192', label_list=['0', '180'], cls_batch_num=6, cls_thresh=0.9, enable_mkldnn=False, cpu_threads=10, use_pdserving=False, warmup=False, sr_model_dir=None, sr_image_shape='3, 32, 128', sr_batch_num=1, draw_img_save_dir='./inference_results', save_crop_res=False, crop_res_save_dir='./output', use_mp=False, total_process_num=1, process_id=0, benchmark=False, save_log_path='./log_output/', show_log=True, use_onnx=False, output='./output', table_max_len=488, table_algorithm='TableAttn', table_model_dir='/home/liangzhu/.paddleocr/whl/table/ch_ppstructure_mobile_v2.0_SLANet_infer', merge_no_span_structure=True, table_char_dict_path='/home/liangzhu/anaconda3/envs/llm/lib/python3.11/site-packages/paddleocr/ppocr/utils/dict/table_structure_dict_ch.txt', layout_model_dir='/home/liangzhu/.paddleocr/whl/layout/picodet_lcnet_x1_0_fgd_layout_cdla_infer', layout_dict_path='/home/liangzhu/anaconda3/envs/llm/lib/python3.11/site-packages/paddleocr/ppocr/utils/dict/layout_dict/layout_cdla_dict.txt', layout_score_threshold=0.5, layout_nms_threshold=0.5, kie_algorithm='LayoutXLM', ser_model_dir=None, re_model_dir=None, use_visual_backbone=True, ser_dict_path='../train_data/XFUND/class_list_xfun.txt', ocr_order_method=None, mode='structure', image_orientation=False, layout=True, table=True, ocr=True, recovery=False, use_pdf2docx_api=False, invert=False, binarize=False, alphacolor=(255, 255, 255), lang='ch', det=True, rec=True, type='ocr', ocr_version='PP-OCRv4', structure_version='PP-StructureV2')\n",
      "[2024/06/04 12:58:46] ppocr DEBUG: dt_boxes num : 16, elapsed : 0.029099702835083008\n",
      "[2024/06/04 12:58:46] ppocr DEBUG: rec_res num  : 16, elapsed : 0.1234121322631836\n",
      "[2024/06/04 12:58:46] ppocr DEBUG: dt_boxes num : 7, elapsed : 0.017688989639282227\n",
      "[2024/06/04 12:58:46] ppocr DEBUG: rec_res num  : 7, elapsed : 0.050325632095336914\n",
      "[2024/06/04 12:58:46] ppocr DEBUG: dt_boxes num : 12, elapsed : 0.02288818359375\n",
      "[2024/06/04 12:58:46] ppocr DEBUG: rec_res num  : 12, elapsed : 0.08329558372497559\n",
      "[2024/06/04 12:58:46] ppocr DEBUG: dt_boxes num : 3, elapsed : 0.01983952522277832\n",
      "[2024/06/04 12:58:46] ppocr DEBUG: rec_res num  : 3, elapsed : 0.01963043212890625\n",
      "[2024/06/04 12:58:46] ppocr DEBUG: dt_boxes num : 1, elapsed : 0.013393402099609375\n",
      "[2024/06/04 12:58:46] ppocr DEBUG: rec_res num  : 1, elapsed : 0.012264013290405273\n",
      "[2024/06/04 12:58:46] ppocr DEBUG: dt_boxes num : 9, elapsed : 0.030147552490234375\n",
      "[2024/06/04 12:58:46] ppocr DEBUG: rec_res num  : 9, elapsed : 0.0373530387878418\n",
      "[2024/06/04 12:58:46] ppocr DEBUG: dt_boxes num : 0, elapsed : 0.01846599578857422\n",
      "[2024/06/04 12:58:46] ppocr DEBUG: rec_res num  : 0, elapsed : 3.337860107421875e-06\n",
      "[2024/06/04 12:58:46] ppocr DEBUG: dt_boxes num : 6, elapsed : 0.015482187271118164\n",
      "[2024/06/04 12:58:46] ppocr DEBUG: rec_res num  : 6, elapsed : 0.03225827217102051\n",
      "[2024/06/04 12:58:47] ppocr DEBUG: dt_boxes num : 36, elapse : 0.028094768524169922\n",
      "[2024/06/04 12:58:47] ppocr DEBUG: rec_res num  : 36, elapse : 0.09929943084716797\n",
      "[2024/06/04 12:58:47] ppocr DEBUG: dt_boxes num : 3, elapse : 0.013289213180541992\n",
      "[2024/06/04 12:58:47] ppocr DEBUG: rec_res num  : 3, elapse : 0.020789384841918945\n",
      "[2024/06/04 12:58:48] ppocr DEBUG: dt_boxes num : 1, elapsed : 0.012986898422241211\n",
      "[2024/06/04 12:58:48] ppocr DEBUG: rec_res num  : 1, elapsed : 0.009870529174804688\n",
      "[2024/06/04 12:58:48] ppocr DEBUG: dt_boxes num : 7, elapsed : 0.014233589172363281\n",
      "[2024/06/04 12:58:48] ppocr DEBUG: rec_res num  : 7, elapsed : 0.030333518981933594\n",
      "[2024/06/04 12:58:48] ppocr DEBUG: dt_boxes num : 3, elapsed : 0.013460159301757812\n",
      "[2024/06/04 12:58:48] ppocr DEBUG: rec_res num  : 3, elapsed : 0.02600860595703125\n",
      "{'type': 'text', 'bbox': [102, 1030, 598, 1423], 'res': [{'text': 'Wealsoexaminehowourdatasetcanhelpwithareal-', 'confidence': 0.9932684898376465, 'text_region': [[131.0, 1030.0], [595.0, 1030.0], [595.0, 1050.0], [131.0, 1050.0]]}, {'text': 'worlddocumentdigitizationapplication.Whendigitizing', 'confidence': 0.9951867461204529, 'text_region': [[103.0, 1052.0], [596.0, 1055.0], [596.0, 1076.0], [103.0, 1074.0]]}, {'text': 'newpublications,researchersusuallydonotgeneratelarge', 'confidence': 0.9891995787620544, 'text_region': [[103.0, 1079.0], [596.0, 1080.0], [596.0, 1101.0], [103.0, 1100.0]]}, {'text': 'scalegroundtruthdatatotraintheirlayoutanalysismodels.', 'confidence': 0.980578601360321, 'text_region': [[104.0, 1105.0], [594.0, 1104.0], [594.0, 1124.0], [104.0, 1125.0]]}, {'text': 'Iftheyareabletoadaptourdataset,ormodelstrainedon', 'confidence': 0.9902154803276062, 'text_region': [[104.0, 1129.0], [597.0, 1129.0], [597.0, 1150.0], [104.0, 1150.0]]}, {'text': 'ourdataset,todevelopmodelsontheirdata,theycanbuild', 'confidence': 0.9661633968353271, 'text_region': [[105.0, 1155.0], [595.0, 1155.0], [595.0, 1172.0], [105.0, 1172.0]]}, {'text': 'theirpipelinesmoreefficientlyanddevelopmoreaccurate', 'confidence': 0.9951169490814209, 'text_region': [[103.0, 1177.0], [596.0, 1178.0], [596.0, 1199.0], [103.0, 1198.0]]}, {'text': 'models.Tothis end,we conducttwoexperiments.Firstwe', 'confidence': 0.9748214483261108, 'text_region': [[104.0, 1204.0], [596.0, 1204.0], [596.0, 1224.0], [104.0, 1224.0]]}, {'text': 'examinehowlayoutanalysismodelstrainedonthemain', 'confidence': 0.9963588118553162, 'text_region': [[103.0, 1229.0], [597.0, 1228.0], [597.0, 1248.0], [103.0, 1249.0]]}, {'text': 'pages can be used for understanding index pages.More-', 'confidence': 0.9579518437385559, 'text_region': [[102.0, 1252.0], [595.0, 1251.0], [595.0, 1276.0], [102.0, 1277.0]]}, {'text': 'over,westudyhowthepre-trainedmodelsperformonother', 'confidence': 0.9822191596031189, 'text_region': [[103.0, 1279.0], [596.0, 1278.0], [596.0, 1298.0], [103.0, 1299.0]]}, {'text': 'historicalJapanesedocuments.', 'confidence': 0.9968604445457458, 'text_region': [[104.0, 1302.0], [360.0, 1303.0], [360.0, 1324.0], [104.0, 1323.0]]}, {'text': 'Table4comparestheperformanceoffiveFasterR-CNN', 'confidence': 0.996940016746521, 'text_region': [[128.0, 1327.0], [596.0, 1328.0], [596.0, 1351.0], [128.0, 1350.0]]}, {'text': 'models that are trained differently on index pages. If the', 'confidence': 0.9790475368499756, 'text_region': [[103.0, 1353.0], [597.0, 1353.0], [597.0, 1377.0], [103.0, 1377.0]]}, {'text': 'modelloadspre-trainedweightsfromHJDataset,itincludes', 'confidence': 0.9832767844200134, 'text_region': [[105.0, 1381.0], [595.0, 1381.0], [595.0, 1398.0], [105.0, 1398.0]]}, {'text': 'informationlearnedfrommainpages.Modelstrainedover', 'confidence': 0.9946092963218689, 'text_region': [[105.0, 1406.0], [595.0, 1406.0], [595.0, 1422.0], [105.0, 1422.0]]}], 'img_idx': 0}\n",
      "{'type': 'text', 'bbox': [102, 771, 597, 961], 'res': [{'text': 'tionoverunion(IOU)level[0.50:0.95]²，onthetestdata.In', 'confidence': 0.9323233366012573, 'text_region': [[104.0, 773.0], [595.0, 772.0], [595.0, 790.0], [104.0, 791.0]]}, {'text': 'general,thehighmAPvaluesindicateaccuratedetectionof', 'confidence': 0.9870548844337463, 'text_region': [[104.0, 797.0], [596.0, 796.0], [596.0, 816.0], [104.0, 817.0]]}, {'text': 'thelayoutelements.TheFasterR-CNNandMaskR-CNN', 'confidence': 0.9904849529266357, 'text_region': [[106.0, 822.0], [594.0, 822.0], [594.0, 839.0], [106.0, 839.0]]}, {'text': 'achievecomparableresults,betterthanRetinaNet.Notice-', 'confidence': 0.9825710654258728, 'text_region': [[104.0, 846.0], [595.0, 845.0], [595.0, 865.0], [104.0, 866.0]]}, {'text': 'ably,thedetectionsforsmallblocksliketitlearelesspre', 'confidence': 0.987683117389679, 'text_region': [[104.0, 871.0], [594.0, 872.0], [594.0, 892.0], [104.0, 891.0]]}, {'text': 'cise,and theaccuracydropssharplyforthetitlecategory.In', 'confidence': 0.9795662760734558, 'text_region': [[104.0, 894.0], [596.0, 896.0], [596.0, 916.0], [104.0, 914.0]]}, {'text': 'Figure8,(a)and(b)illustratetheaccuratepredictionresults', 'confidence': 0.970809817314148, 'text_region': [[104.0, 920.0], [595.0, 919.0], [595.0, 939.0], [104.0, 940.0]]}], 'img_idx': 0}\n",
      "{'type': 'text', 'bbox': [640, 772, 1136, 1038], 'res': [{'text': 'allthetrainingdatacanbeviewedasthebenchmarks,while', 'confidence': 0.9898964166641235, 'text_region': [[643.0, 773.0], [1133.0, 772.0], [1133.0, 790.0], [643.0, 791.0]]}, {'text': 'trainingwithfewsamples（fiveinthiscase)areconsid', 'confidence': 0.9824724197387695, 'text_region': [[644.0, 797.0], [1131.0, 797.0], [1131.0, 815.0], [644.0, 815.0]]}, {'text': 'eredtomimicreal-worldscenarios.Givendifferenttrain', 'confidence': 0.9941989779472351, 'text_region': [[644.0, 822.0], [1130.0, 822.0], [1130.0, 840.0], [644.0, 840.0]]}, {'text': 'ingdata,modelspre-trainedonHJDatasetperformsignifi', 'confidence': 0.9832257032394409, 'text_region': [[642.0, 846.0], [1132.0, 846.0], [1132.0, 867.0], [642.0, 867.0]]}, {'text': 'cantlybetterthanthoseinitializedwithCOCOweights.In', 'confidence': 0.9873540997505188, 'text_region': [[642.0, 870.0], [1132.0, 871.0], [1132.0, 892.0], [642.0, 890.0]]}, {'text': 'tuitively,modelstrainedonmoredataperformbetterthan', 'confidence': 0.9801177382469177, 'text_region': [[642.0, 895.0], [1135.0, 894.0], [1135.0, 914.0], [642.0, 915.0]]}, {'text': 'thosewithfewersamples.Wealsodirectlyusethemodel', 'confidence': 0.9948967695236206, 'text_region': [[643.0, 920.0], [1134.0, 920.0], [1134.0, 940.0], [643.0, 940.0]]}, {'text': 'trained on main to predict index pages without fine-', 'confidence': 0.9769344329833984, 'text_region': [[642.0, 943.0], [1135.0, 942.0], [1135.0, 967.0], [642.0, 968.0]]}, {'text': 'tuning.Thelowzero-shotpredictionaccuracyindicatesthe', 'confidence': 0.9954124093055725, 'text_region': [[644.0, 972.0], [1132.0, 972.0], [1132.0, 989.0], [644.0, 989.0]]}, {'text': 'dissimilarity between index and main pages. The large', 'confidence': 0.9815517663955688, 'text_region': [[643.0, 993.0], [1135.0, 993.0], [1135.0, 1017.0], [643.0, 1017.0]]}, {'text': 'increaseinmAPfrom0.344to0.471afterthemodel', 'confidence': 0.9854918718338013, 'text_region': [[644.0, 1021.0], [1123.0, 1021.0], [1123.0, 1036.0], [644.0, 1036.0]]}, {'text': '19', 'confidence': 0.859749972820282, 'text_region': [[1123.0, 1024.0], [1131.0, 1024.0], [1131.0, 1034.0], [1123.0, 1034.0]]}], 'img_idx': 0}\n",
      "{'type': 'text', 'bbox': [642, 1082, 1137, 1150], 'res': [{'text': 'Table3:Detectionr', 'confidence': 0.964935302734375, 'text_region': [[645.0, 1082.0], [822.0, 1086.0], [821.0, 1100.0], [645.0, 1096.0]]}, {'text': 'eren', 'confidence': 0.7051958441734314, 'text_region': [[1096.0, 1088.0], [1131.0, 1088.0], [1131.0, 1096.0], [1096.0, 1096.0]]}, {'text': 'models for each category on the test set.All values are given', 'confidence': 0.9556640982627869, 'text_region': [[642.0, 1104.0], [1134.0, 1105.0], [1134.0, 1128.0], [642.0, 1127.0]]}], 'img_idx': 0}\n",
      "{'type': 'title', 'bbox': [103, 989, 440, 1009], 'res': [{'text': 'tnrotnernatase', 'confidence': 0.5595569014549255, 'text_region': [[264.0, 995.0], [426.0, 996.0], [426.0, 1003.0], [264.0, 1002.0]]}], 'img_idx': 0}\n",
      "{'type': 'figure', 'bbox': [450, 146, 1139, 659], 'res': [{'text': '(b)MainPageAnnotationExample2', 'confidence': 0.969889223575592, 'text_region': [[497.0, 590.0], [738.0, 591.0], [738.0, 608.0], [497.0, 607.0]]}, {'text': '(c)IndexPageAnnotationExample', 'confidence': 0.9639586806297302, 'text_region': [[865.0, 591.0], [1096.0, 591.0], [1096.0, 608.0], [865.0, 608.0]]}, {'text': 'Page Frame', 'confidence': 0.9605069160461426, 'text_region': [[642.0, 637.0], [703.0, 637.0], [703.0, 651.0], [642.0, 651.0]]}, {'text': 'Row', 'confidence': 0.9937278628349304, 'text_region': [[735.0, 637.0], [761.0, 637.0], [761.0, 652.0], [735.0, 652.0]]}, {'text': 'Text Region', 'confidence': 0.9671493172645569, 'text_region': [[792.0, 637.0], [852.0, 637.0], [852.0, 651.0], [792.0, 651.0]]}, {'text': 'TitleRegion', 'confidence': 0.9915983080863953, 'text_region': [[865.0, 637.0], [927.0, 637.0], [927.0, 651.0], [865.0, 651.0]]}, {'text': 'Title', 'confidence': 0.9853087663650513, 'text_region': [[957.0, 638.0], [981.0, 638.0], [981.0, 650.0], [957.0, 650.0]]}, {'text': 'Subtitle', 'confidence': 0.9879194498062134, 'text_region': [[1024.0, 637.0], [1065.0, 637.0], [1065.0, 651.0], [1024.0, 651.0]]}, {'text': 'Other', 'confidence': 0.9820008277893066, 'text_region': [[1103.0, 637.0], [1134.0, 637.0], [1134.0, 651.0], [1103.0, 651.0]]}], 'img_idx': 0}\n",
      "{'type': 'figure', 'bbox': [99, 160, 418, 594], 'res': [], 'img_idx': 0}\n",
      "{'type': 'figure_caption', 'bbox': [169, 675, 1105, 743], 'res': [{'text': 'A0T9', 'confidence': 0.5873739123344421, 'text_region': [[180.0, 681.0], [251.0, 681.0], [251.0, 689.0], [180.0, 689.0]]}, {'text': '110', 'confidence': 0.4832225739955902, 'text_region': [[570.0, 683.0], [596.0, 683.0], [596.0, 691.0], [570.0, 691.0]]}, {'text': 'VA', 'confidence': 0.26271000504493713, 'text_region': [[695.0, 685.0], [745.0, 685.0], [745.0, 692.0], [695.0, 692.0]]}, {'text': 'reddifferentlytoreflectthelayoutelementcategories.', 'confidence': 0.9914870262145996, 'text_region': [[170.0, 700.0], [640.0, 703.0], [640.0, 721.0], [170.0, 719.0]]}, {'text': '.Illustratedin（),theitemsineachindexpagerow', 'confidence': 0.9565584063529968, 'text_region': [[631.0, 702.0], [1101.0, 703.0], [1101.0, 721.0], [631.0, 720.0]]}, {'text': 'enser', 'confidence': 0.7759279012680054, 'text_region': [[529.0, 732.0], [580.0, 732.0], [580.0, 740.0], [529.0, 740.0]]}], 'img_idx': 0}\n",
      "{'type': 'table', 'bbox': [644, 1171, 1136, 1412], 'res': {'cell_bbox': [[10.875150680541992, 11.059144020080566, 87.36418914794922, 11.192017555236816, 87.19924926757812, 29.675065994262695, 10.5900297164917, 29.415119171142578], [125.82929229736328, 10.263545036315918, 250.21096801757812, 10.108015060424805, 250.8021697998047, 28.9749813079834, 125.87694549560547, 29.40766716003418], [259.6744689941406, 11.315183639526367, 385.94110107421875, 11.165029525756836, 386.5233459472656, 29.8476505279541, 260.5204162597656, 30.09235191345215], [388.1372985839844, 10.952347755432129, 479.88995361328125, 10.96408748626709, 479.83343505859375, 31.343608856201172, 388.8835754394531, 31.218503952026367], [8.579934120178223, 43.61764144897461, 98.99139404296875, 43.5606803894043, 98.76044464111328, 65.82913208007812, 8.379364967346191, 65.74361419677734], [149.86293029785156, 44.190101623535156, 223.75772094726562, 44.06248092651367, 224.15806579589844, 64.17471313476562, 149.01303100585938, 64.34962463378906], [283.3512878417969, 44.30353927612305, 349.0475158691406, 44.39841842651367, 348.8383483886719, 63.742488861083984, 282.81842041015625, 63.69226837158203], [403.9676513671875, 43.54384994506836, 472.30816650390625, 43.571815490722656, 471.9939880371094, 64.26908111572266, 403.21905517578125, 64.39686584472656], [10.438125610351562, 68.41394805908203, 83.08314514160156, 68.26296997070312, 82.62654876708984, 87.03875732421875, 10.297807693481445, 87.26165008544922], [149.39437866210938, 68.25747680664062, 220.96435546875, 68.1503677368164, 220.68919372558594, 87.02436065673828, 148.63357543945312, 87.28351593017578], [280.91473388671875, 68.65243530273438, 349.6642150878906, 68.77774047851562, 349.0939025878906, 86.81681823730469, 280.2139587402344, 86.85006713867188], [399.8719482421875, 67.68158721923828, 470.48895263671875, 67.79527282714844, 470.11163330078125, 87.78144836425781, 398.9538879394531, 87.80398559570312], [8.637862205505371, 90.92935943603516, 96.27723693847656, 91.04714965820312, 95.60678100585938, 110.05648803710938, 8.487418174743652, 109.9992904663086], [151.5574493408203, 91.1720962524414, 221.4251251220703, 91.16588592529297, 221.2780303955078, 109.37672424316406, 150.99465942382812, 109.55118560791016], [280.04058837890625, 91.36957550048828, 350.3142395019531, 91.50247192382812, 349.8331604003906, 109.37525177001953, 279.4564208984375, 109.43327331542969], [399.6912536621094, 90.55382537841797, 470.1275939941406, 90.72286224365234, 469.7691650390625, 110.51129913330078, 398.7782897949219, 110.5079345703125], [8.480035781860352, 112.52681732177734, 98.28050994873047, 112.76253509521484, 97.85787963867188, 133.32513427734375, 8.350456237792969, 133.1631622314453], [153.45809936523438, 113.42813110351562, 218.92630004882812, 113.53858947753906, 218.72581481933594, 131.81072998046875, 152.80747985839844, 131.87149047851562], [281.21661376953125, 113.8428726196289, 347.8868713378906, 113.97439575195312, 347.5490417480469, 132.23974609375, 280.7647705078125, 132.29074096679688], [399.7991027832031, 113.01305389404297, 468.8165588378906, 113.22672271728516, 468.4903564453125, 133.1368408203125, 399.01043701171875, 133.09124755859375], [11.870243072509766, 136.20236206054688, 84.01358795166016, 136.4782257080078, 83.3166275024414, 155.1492462158203, 11.671807289123535, 154.95408630371094], [153.528564453125, 136.7158660888672, 217.98756408691406, 136.89837646484375, 217.610107421875, 154.11660766601562, 152.6860809326172, 154.1157684326172], [281.2745361328125, 136.96804809570312, 346.6527099609375, 137.1507110595703, 346.2617492675781, 154.63832092285156, 280.7483825683594, 154.6190185546875], [400.6691589355469, 136.36959838867188, 469.7679443359375, 136.6009979248047, 469.526123046875, 155.6145782470703, 400.1092224121094, 155.52508544921875], [8.411084175109863, 159.71768188476562, 86.03744506835938, 160.00717163085938, 85.4887924194336, 178.2133026123047, 8.265506744384766, 177.98388671875], [153.9578857421875, 160.1045379638672, 216.81410217285156, 160.38377380371094, 216.7263946533203, 177.85800170898438, 153.3602752685547, 177.7512969970703], [280.6681823730469, 160.2613525390625, 347.90069580078125, 160.53538513183594, 347.828857421875, 178.10626220703125, 280.3572082519531, 177.98963928222656], [401.736328125, 159.44993591308594, 470.2760925292969, 159.69935607910156, 470.0869445800781, 178.51058959960938, 401.26123046875, 178.42373657226562], [10.814834594726562, 180.4516143798828, 73.25885009765625, 180.8599395751953, 73.26983642578125, 200.37789916992188, 10.698914527893066, 200.10350036621094], [155.88255310058594, 180.94198608398438, 217.2993621826172, 181.30184936523438, 217.29046630859375, 200.48817443847656, 155.23350524902344, 200.3319091796875], [280.53314208984375, 181.43719482421875, 348.154052734375, 181.72982788085938, 348.22027587890625, 200.05648803710938, 280.18218994140625, 199.9505157470703], [402.86517333984375, 180.78115844726562, 470.27935791015625, 181.04608154296875, 470.1888732910156, 200.40216064453125, 402.6224365234375, 200.31761169433594], [8.424585342407227, 213.3739013671875, 71.82740020751953, 213.71546936035156, 71.91020965576172, 234.54934692382812, 8.35020923614502, 234.40469360351562], [148.53184509277344, 213.22210693359375, 222.8236846923828, 213.7498016357422, 222.4200897216797, 233.04110717773438, 147.72669982910156, 232.87152099609375], [277.20111083984375, 213.65261840820312, 349.1507263183594, 213.99362182617188, 349.12506103515625, 234.1265106201172, 276.3455505371094, 234.03268432617188], [402.2029113769531, 213.56784057617188, 470.8216247558594, 213.86473083496094, 470.66229248046875, 234.79335021972656, 401.7060852050781, 234.73001098632812]], 'html': '<html><body><table><thead><tr><td>Category</td><td>Faster R-CNN</td><td>Mask R-CNNa</td><td>RetinaNet</td></tr></thead><tbody><tr><td> Page Frame</td><td>99.046</td><td>99.097</td><td>99.038</td></tr><tr><td>Row</td><td>98.831</td><td>98.482</td><td>95.067</td></tr><tr><td>Title Region</td><td>87.571</td><td>89.483</td><td>69.593</td></tr><tr><td>Text Region</td><td>94.463</td><td>86.798</td><td>89.531</td></tr><tr><td>Title</td><td>65.908</td><td>71.517</td><td>72.566</td></tr><tr><td>Subtitle</td><td>84.093</td><td>84.174</td><td>85.865</td></tr><tr><td>Other</td><td>44.023</td><td>39.849</td><td>14.371</td></tr><tr><td>mAP</td><td>81.991</td><td>81.343</td><td>75.223</td></tr></tbody></table></body></html>'}, 'img_idx': 0}\n",
      "{'type': 'table', 'bbox': [642, 1080, 1135, 1152], 'res': {'cell_bbox': [[3.116962432861328, 0.8446800708770752, 278.6263427734375, 0.9113206267356873, 279.5974426269531, 18.974754333496094, 2.9841933250427246, 18.952342987060547], [10.342660903930664, 14.302124977111816, 479.597900390625, 13.947904586791992, 480.2402648925781, 58.4350700378418, 10.579182624816895, 58.837867736816406]], 'html': '<html><body><table><tr><td>Table 3: Detection mAP @ IOU [0.50:0.95] of different</td></tr><tr><td>models for each category on the test set. All values are given aspercentages.</td></tr></table></body></html>'}, 'img_idx': 0}\n",
      "{'type': 'table_caption', 'bbox': [655, 1081, 1122, 1150], 'res': [{'text': 'able3:', 'confidence': 0.885202169418335, 'text_region': [[659.0, 1085.0], [712.0, 1085.0], [712.0, 1096.0], [659.0, 1096.0]]}], 'img_idx': 0}\n",
      "{'type': 'reference', 'bbox': [103, 1449, 597, 1485], 'res': [{'text': 'Thisisacoremetric', 'confidence': 0.9940692782402039, 'text_region': [[128.0, 1449.0], [286.0, 1451.0], [286.0, 1466.0], [128.0, 1464.0]]}, {'text': 'developed', 'confidence': 0.9930419921875, 'text_region': [[281.0, 1451.0], [349.0, 1452.0], [349.0, 1464.0], [281.0, 1462.0]]}, {'text': 'fort', 'confidence': 0.9202163815498352, 'text_region': [[353.0, 1453.0], [384.0, 1453.0], [384.0, 1461.0], [353.0, 1461.0]]}, {'text': 'the', 'confidence': 0.9940604567527771, 'text_region': [[381.0, 1452.0], [410.0, 1452.0], [410.0, 1464.0], [381.0, 1464.0]]}, {'text': 'COCOcompetition[12]for', 'confidence': 0.9618627429008484, 'text_region': [[405.0, 1451.0], [596.0, 1451.0], [596.0, 1466.0], [405.0, 1466.0]]}, {'text': 'evaluating', 'confidence': 0.8231679201126099, 'text_region': [[106.0, 1474.0], [174.0, 1474.0], [174.0, 1482.0], [106.0, 1482.0]]}, {'text': 'the', 'confidence': 0.7968228459358215, 'text_region': [[172.0, 1474.0], [198.0, 1474.0], [198.0, 1482.0], [172.0, 1482.0]]}], 'img_idx': 0}\n",
      "{'type': 'reference', 'bbox': [655, 1421, 1122, 1479], 'res': [{'text': 'Fortraining', 'confidence': 0.9426870942115784, 'text_region': [[660.0, 1425.0], [739.0, 1425.0], [739.0, 1434.0], [660.0, 1434.0]]}, {'text': 'asksaretheguad', 'confidence': 0.9384258985519409, 'text_region': [[991.0, 1426.0], [1115.0, 1426.0], [1115.0, 1435.0], [991.0, 1435.0]]}, {'text': 'ateralregionsforeachblock.Comparedtotherectangularboundin', 'confidence': 0.9935504198074341, 'text_region': [[656.0, 1443.0], [1119.0, 1442.0], [1119.0, 1457.0], [656.0, 1458.0]]}], 'img_idx': 0}\n",
      "[2024/06/04 12:58:48] ppocr INFO: docx save to ./output/layout_ocr.docx\n"
     ]
    }
   ],
   "source": [
    "import os\n",
    "import cv2\n",
    "from paddleocr import PPStructure,draw_structure_result,save_structure_res\n",
    "from paddleocr.ppstructure.recovery.recovery_to_doc import sorted_layout_boxes, convert_info_docx\n",
    "\n",
    "table_engine = PPStructure(show_log=True)\n",
    "\n",
    "save_folder = './output'\n",
    "img_path = '../data/layout.jpg'\n",
    "img = cv2.imread(img_path)\n",
    "result = table_engine(img)\n",
    "save_structure_res(result, save_folder, os.path.basename(img_path).split('.')[0])\n",
    "\n",
    "for line in result:\n",
    "    line.pop('img')\n",
    "    print(line)\n",
    "    \n",
    "h, w, _ = img.shape\n",
    "res = sorted_layout_boxes(result, w)\n",
    "convert_info_docx(img, res, save_folder, os.path.basename(img_path).split('.')[0])"
   ]
  },
  {
   "cell_type": "code",
   "execution_count": null,
   "metadata": {},
   "outputs": [],
   "source": [
    "from PIL import Image\n",
    "\n",
    "font_path = '../data/ppocr_img/fonts/simfang.ttf' # PaddleOCR下提供字体包\n",
    "image = Image.open(img_path).convert('RGB')\n",
    "im_show = draw_structure_result(image, result,font_path=font_path)\n",
    "im_show = Image.fromarray(im_show)\n",
    "im_show.save('result.jpg')"
   ]
  },
  {
   "cell_type": "markdown",
   "metadata": {},
   "source": [
    "## 版面分析\n"
   ]
  },
  {
   "cell_type": "code",
   "execution_count": 9,
   "metadata": {},
   "outputs": [
    {
     "name": "stdout",
     "output_type": "stream",
     "text": [
      "[2024/06/03 16:51:28] ppocr DEBUG: Namespace(help='==SUPPRESS==', use_gpu=True, use_xpu=False, use_npu=False, ir_optim=True, use_tensorrt=False, min_subgraph_size=15, precision='fp32', gpu_mem=500, gpu_id=0, image_dir=None, page_num=0, det_algorithm='DB', det_model_dir='/home/liangzhu/.paddleocr/whl/det/ch/ch_PP-OCRv4_det_infer', det_limit_side_len=960, det_limit_type='max', det_box_type='quad', det_db_thresh=0.3, det_db_box_thresh=0.6, det_db_unclip_ratio=1.5, max_batch_size=10, use_dilation=False, det_db_score_mode='fast', det_east_score_thresh=0.8, det_east_cover_thresh=0.1, det_east_nms_thresh=0.2, det_sast_score_thresh=0.5, det_sast_nms_thresh=0.2, det_pse_thresh=0, det_pse_box_thresh=0.85, det_pse_min_area=16, det_pse_scale=1, scales=[8, 16, 32], alpha=1.0, beta=1.0, fourier_degree=5, rec_algorithm='SVTR_LCNet', rec_model_dir='/home/liangzhu/.paddleocr/whl/rec/ch/ch_PP-OCRv4_rec_infer', rec_image_inverse=True, rec_image_shape='3, 48, 320', rec_batch_num=6, max_text_length=25, rec_char_dict_path='/home/liangzhu/anaconda3/envs/llm/lib/python3.11/site-packages/paddleocr/ppocr/utils/ppocr_keys_v1.txt', use_space_char=True, vis_font_path='./doc/fonts/simfang.ttf', drop_score=0.5, e2e_algorithm='PGNet', e2e_model_dir=None, e2e_limit_side_len=768, e2e_limit_type='max', e2e_pgnet_score_thresh=0.5, e2e_char_dict_path='./ppocr/utils/ic15_dict.txt', e2e_pgnet_valid_set='totaltext', e2e_pgnet_mode='fast', use_angle_cls=False, cls_model_dir=None, cls_image_shape='3, 48, 192', label_list=['0', '180'], cls_batch_num=6, cls_thresh=0.9, enable_mkldnn=False, cpu_threads=10, use_pdserving=False, warmup=False, sr_model_dir=None, sr_image_shape='3, 32, 128', sr_batch_num=1, draw_img_save_dir='./inference_results', save_crop_res=False, crop_res_save_dir='./output', use_mp=False, total_process_num=1, process_id=0, benchmark=False, save_log_path='./log_output/', show_log=True, use_onnx=False, output='./output', table_max_len=488, table_algorithm='TableAttn', table_model_dir='/home/liangzhu/.paddleocr/whl/table/ch_ppstructure_mobile_v2.0_SLANet_infer', merge_no_span_structure=True, table_char_dict_path='/home/liangzhu/anaconda3/envs/llm/lib/python3.11/site-packages/paddleocr/ppocr/utils/dict/table_structure_dict_ch.txt', layout_model_dir='/home/liangzhu/.paddleocr/whl/layout/picodet_lcnet_x1_0_fgd_layout_cdla_infer', layout_dict_path='/home/liangzhu/anaconda3/envs/llm/lib/python3.11/site-packages/paddleocr/ppocr/utils/dict/layout_dict/layout_cdla_dict.txt', layout_score_threshold=0.5, layout_nms_threshold=0.5, kie_algorithm='LayoutXLM', ser_model_dir=None, re_model_dir=None, use_visual_backbone=True, ser_dict_path='../train_data/XFUND/class_list_xfun.txt', ocr_order_method=None, mode='structure', image_orientation=False, layout=True, table=False, ocr=False, recovery=False, use_pdf2docx_api=False, invert=False, binarize=False, alphacolor=(255, 255, 255), lang='ch', det=True, rec=True, type='ocr', ocr_version='PP-OCRv4', structure_version='PP-StructureV2')\n",
      "{'type': 'text', 'bbox': [21, 71, 502, 451], 'res': '', 'img_idx': 0}\n",
      "{'type': 'text', 'bbox': [19, 496, 501, 876], 'res': '', 'img_idx': 0}\n",
      "{'type': 'text', 'bbox': [544, 71, 1025, 548], 'res': '', 'img_idx': 0}\n",
      "{'type': 'text', 'bbox': [544, 660, 1025, 876], 'res': '', 'img_idx': 0}\n",
      "{'type': 'text', 'bbox': [19, 1131, 501, 1499], 'res': '', 'img_idx': 0}\n",
      "{'type': 'text', 'bbox': [544, 1098, 1024, 1419], 'res': '', 'img_idx': 0}\n",
      "{'type': 'title', 'bbox': [544, 591, 877, 617], 'res': '', 'img_idx': 0}\n",
      "{'type': 'title', 'bbox': [19, 464, 227, 483], 'res': '', 'img_idx': 0}\n",
      "{'type': 'title', 'bbox': [21, 1099, 205, 1119], 'res': '', 'img_idx': 0}\n",
      "{'type': 'table', 'bbox': [22, 928, 1022, 1081], 'res': '', 'img_idx': 0}\n",
      "{'type': 'table_caption', 'bbox': [301, 906, 744, 922], 'res': '', 'img_idx': 0}\n",
      "{'type': 'header', 'bbox': [944, 24, 1003, 40], 'res': '', 'img_idx': 0}\n",
      "{'type': 'header', 'bbox': [400, 23, 644, 40], 'res': '', 'img_idx': 0}\n",
      "{'type': 'header', 'bbox': [38, 26, 66, 39], 'res': '', 'img_idx': 0}\n",
      "{'type': 'reference', 'bbox': [577, 1466, 1023, 1499], 'res': '', 'img_idx': 0}\n"
     ]
    }
   ],
   "source": [
    "import os\n",
    "import cv2\n",
    "from paddleocr import PPStructure,save_structure_res\n",
    "\n",
    "table_engine = PPStructure(table=False, ocr=False, show_log=True)\n",
    "\n",
    "save_folder = './output'\n",
    "img_path = '../data/val_0888.jpg'\n",
    "img = cv2.imread(img_path)\n",
    "result = table_engine(img)\n",
    "save_structure_res(result, save_folder, os.path.basename(img_path).split('.')[0])\n",
    "\n",
    "for line in result:\n",
    "    line.pop('img')\n",
    "    print(line)"
   ]
  },
  {
   "cell_type": "code",
   "execution_count": null,
   "metadata": {},
   "outputs": [],
   "source": [
    "import os\n",
    "import cv2\n",
    "from paddleocr import PPStructure,save_structure_res\n",
    "\n",
    "ocr_engine = PPStructure(table=False, ocr=True, show_log=True)\n",
    "\n",
    "save_folder = './output'\n",
    "img_path = '../data/测试.pdf'\n",
    "\n",
    "result = ocr_engine(img_path)\n",
    "for index, res in enumerate(result):\n",
    "    save_structure_res(res, save_folder, os.path.basename(img_path).split('.')[0], index)\n",
    "\n",
    "for res in result:\n",
    "    for line in res:\n",
    "        line.pop('img')\n",
    "        print(line)"
   ]
  },
  {
   "cell_type": "code",
   "execution_count": 13,
   "metadata": {},
   "outputs": [
    {
     "name": "stdout",
     "output_type": "stream",
     "text": [
      "[2024/06/03 21:32:02] ppocr DEBUG: Namespace(help='==SUPPRESS==', use_gpu=True, use_xpu=False, use_npu=False, ir_optim=True, use_tensorrt=False, min_subgraph_size=15, precision='fp32', gpu_mem=500, gpu_id=0, image_dir=None, page_num=0, det_algorithm='DB', det_model_dir='/home/liangzhu/.paddleocr/whl/det/ch/ch_PP-OCRv4_det_infer', det_limit_side_len=960, det_limit_type='max', det_box_type='quad', det_db_thresh=0.3, det_db_box_thresh=0.6, det_db_unclip_ratio=1.5, max_batch_size=10, use_dilation=False, det_db_score_mode='fast', det_east_score_thresh=0.8, det_east_cover_thresh=0.1, det_east_nms_thresh=0.2, det_sast_score_thresh=0.5, det_sast_nms_thresh=0.2, det_pse_thresh=0, det_pse_box_thresh=0.85, det_pse_min_area=16, det_pse_scale=1, scales=[8, 16, 32], alpha=1.0, beta=1.0, fourier_degree=5, rec_algorithm='SVTR_LCNet', rec_model_dir='/home/liangzhu/.paddleocr/whl/rec/ch/ch_PP-OCRv4_rec_infer', rec_image_inverse=True, rec_image_shape='3, 48, 320', rec_batch_num=6, max_text_length=25, rec_char_dict_path='/home/liangzhu/anaconda3/envs/llm/lib/python3.11/site-packages/paddleocr/ppocr/utils/ppocr_keys_v1.txt', use_space_char=True, vis_font_path='./doc/fonts/simfang.ttf', drop_score=0.5, e2e_algorithm='PGNet', e2e_model_dir=None, e2e_limit_side_len=768, e2e_limit_type='max', e2e_pgnet_score_thresh=0.5, e2e_char_dict_path='./ppocr/utils/ic15_dict.txt', e2e_pgnet_valid_set='totaltext', e2e_pgnet_mode='fast', use_angle_cls=False, cls_model_dir=None, cls_image_shape='3, 48, 192', label_list=['0', '180'], cls_batch_num=6, cls_thresh=0.9, enable_mkldnn=False, cpu_threads=10, use_pdserving=False, warmup=False, sr_model_dir=None, sr_image_shape='3, 32, 128', sr_batch_num=1, draw_img_save_dir='./inference_results', save_crop_res=False, crop_res_save_dir='./output', use_mp=False, total_process_num=1, process_id=0, benchmark=False, save_log_path='./log_output/', show_log=True, use_onnx=False, output='./output', table_max_len=488, table_algorithm='TableAttn', table_model_dir='/home/liangzhu/.paddleocr/whl/table/ch_ppstructure_mobile_v2.0_SLANet_infer', merge_no_span_structure=True, table_char_dict_path='/home/liangzhu/anaconda3/envs/llm/lib/python3.11/site-packages/paddleocr/ppocr/utils/dict/table_structure_dict_ch.txt', layout_model_dir='/home/liangzhu/.paddleocr/whl/layout/picodet_lcnet_x1_0_fgd_layout_cdla_infer', layout_dict_path='/home/liangzhu/anaconda3/envs/llm/lib/python3.11/site-packages/paddleocr/ppocr/utils/dict/layout_dict/layout_cdla_dict.txt', layout_score_threshold=0.5, layout_nms_threshold=0.5, kie_algorithm='LayoutXLM', ser_model_dir=None, re_model_dir=None, use_visual_backbone=True, ser_dict_path='../train_data/XFUND/class_list_xfun.txt', ocr_order_method=None, mode='structure', image_orientation=False, layout=True, table=True, ocr=True, recovery=False, use_pdf2docx_api=False, invert=False, binarize=False, alphacolor=(255, 255, 255), lang='ch', det=True, rec=True, type='ocr', ocr_version='PP-OCRv4', structure_version='PP-StructureV2')\n",
      "[2024/06/03 21:32:08] ppocr DEBUG: dt_boxes num : 5, elapsed : 0.018355846405029297\n",
      "[2024/06/03 21:32:08] ppocr DEBUG: rec_res num  : 5, elapsed : 0.030481815338134766\n",
      "[2024/06/03 21:32:08] ppocr DEBUG: dt_boxes num : 1, elapsed : 0.01350092887878418\n",
      "[2024/06/03 21:32:08] ppocr DEBUG: rec_res num  : 1, elapsed : 0.012675762176513672\n",
      "[2024/06/03 21:32:09] ppocr DEBUG: dt_boxes num : 22, elapse : 0.026584625244140625\n",
      "[2024/06/03 21:32:09] ppocr DEBUG: rec_res num  : 22, elapse : 0.07756733894348145\n",
      "[2024/06/03 21:32:09] ppocr DEBUG: dt_boxes num : 21, elapse : 0.033600807189941406\n",
      "[2024/06/03 21:32:10] ppocr DEBUG: rec_res num  : 21, elapse : 0.08027410507202148\n",
      "[2024/06/03 21:32:10] ppocr DEBUG: dt_boxes num : 28, elapse : 0.03410458564758301\n",
      "[2024/06/03 21:32:10] ppocr DEBUG: rec_res num  : 28, elapse : 0.07932066917419434\n",
      "[2024/06/03 21:32:11] ppocr DEBUG: dt_boxes num : 12, elapse : 0.02297067642211914\n",
      "[2024/06/03 21:32:11] ppocr DEBUG: rec_res num  : 12, elapse : 0.04558205604553223\n",
      "[2024/06/03 21:32:11] ppocr DEBUG: dt_boxes num : 3, elapsed : 0.013013124465942383\n",
      "[2024/06/03 21:32:11] ppocr DEBUG: rec_res num  : 3, elapsed : 0.01613640785217285\n",
      "[2024/06/03 21:32:11] ppocr DEBUG: dt_boxes num : 1, elapsed : 0.011633634567260742\n",
      "[2024/06/03 21:32:11] ppocr DEBUG: rec_res num  : 1, elapsed : 0.008902549743652344\n",
      "[2024/06/03 21:32:11] ppocr DEBUG: dt_boxes num : 1, elapsed : 0.01140284538269043\n",
      "[2024/06/03 21:32:11] ppocr DEBUG: rec_res num  : 1, elapsed : 0.008654356002807617\n",
      "[2024/06/03 21:32:11] ppocr DEBUG: dt_boxes num : 1, elapsed : 0.011392831802368164\n",
      "[2024/06/03 21:32:11] ppocr DEBUG: rec_res num  : 1, elapsed : 0.012247800827026367\n",
      "[2024/06/03 21:32:11] ppocr DEBUG: dt_boxes num : 2, elapsed : 0.011586904525756836\n",
      "[2024/06/03 21:32:11] ppocr DEBUG: rec_res num  : 2, elapsed : 0.014210224151611328\n",
      "[2024/06/03 21:32:11] ppocr DEBUG: dt_boxes num : 0, elapsed : 0.010680437088012695\n",
      "[2024/06/03 21:32:11] ppocr DEBUG: rec_res num  : 0, elapsed : 7.152557373046875e-07\n",
      "[2024/06/03 21:32:11] ppocr DEBUG: dt_boxes num : 2, elapsed : 0.011569023132324219\n",
      "[2024/06/03 21:32:11] ppocr DEBUG: rec_res num  : 2, elapsed : 0.020322084426879883\n",
      "{'type': 'text', 'bbox': [163, 153, 1058, 213], 'res': [{'text': '个表格每', 'confidence': 0.9603410959243774, 'text_region': [[168.0, 159.0], [249.0, 159.0], [249.0, 171.0], [168.0, 171.0]]}, {'text': '一行展示了一', 'confidence': 0.9741499423980713, 'text_region': [[243.0, 160.0], [378.0, 160.0], [378.0, 172.0], [243.0, 172.0]]}, {'text': '确交用1具的持用信息', 'confidence': 0.5429383516311646, 'text_region': [[374.0, 161.0], [597.0, 161.0], [597.0, 170.0], [374.0, 170.0]]}, {'text': '付活尖型', 'confidence': 0.513512372970581, 'text_region': [[598.0, 161.0], [716.0, 161.0], [716.0, 170.0], [598.0, 170.0]]}, {'text': '制造商、模型、最高速度、平均成本', 'confidence': 0.9984709024429321, 'text_region': [[709.0, 157.0], [1046.0, 157.0], [1046.0, 173.0], [709.0, 173.0]]}], 'img_idx': 0}\n",
      "{'type': 'text', 'bbox': [163, 1138, 1059, 1195], 'res': [{'text': '个表格包括了不同类型的水果、它们的产地', 'confidence': 0.9964279532432556, 'text_region': [[167.0, 1142.0], [563.0, 1144.0], [563.0, 1159.0], [167.0, 1158.0]]}], 'img_idx': 0}\n",
      "{'type': 'table', 'bbox': [141, 1233, 1116, 1447], 'res': {'cell_bbox': [[13.304854393005371, 1.638075351715088, 137.2276153564453, 1.6702041625976562, 136.3275909423828, 36.91514205932617, 12.943684577941895, 37.382354736328125], [145.9922637939453, 2.3507723808288574, 278.8708190917969, 2.405454635620117, 280.5639343261719, 40.700111389160156, 146.58377075195312, 40.95924377441406], [277.24371337890625, 2.7253034114837646, 407.23162841796875, 2.822619915008545, 407.3187255859375, 47.341552734375, 275.8480224609375, 47.378055572509766], [426.3563537597656, 2.4595248699188232, 970.9039306640625, 2.543546438217163, 970.9622802734375, 46.93173599243164, 431.3863830566406, 47.3746223449707], [2.8358986377716064, 46.98869323730469, 159.67405700683594, 47.62944793701172, 158.85293579101562, 114.2939682006836, 2.7715654373168945, 113.14639282226562], [133.0510711669922, 43.34911346435547, 261.3854064941406, 43.822227478027344, 261.187744140625, 84.69781494140625, 132.2910919189453, 84.2293472290039], [279.6673889160156, 44.80006408691406, 400.2997741699219, 45.66701889038086, 396.3530578613281, 83.17252349853516, 273.7949523925781, 82.42701721191406], [419.2129211425781, 49.231075286865234, 594.3067016601562, 49.998687744140625, 592.4642944335938, 88.07601165771484, 416.32965087890625, 87.3262939453125], [554.8668212890625, 43.70862579345703, 970.4915771484375, 44.97554016113281, 970.291259765625, 86.0703353881836, 547.3790893554688, 84.84266662597656], [118.89997863769531, 79.73392486572266, 261.9056701660156, 81.19457244873047, 260.6345520019531, 121.77964782714844, 117.69036102294922, 120.30475616455078], [255.50076293945312, 81.81253814697266, 396.0625305175781, 82.65251922607422, 395.39019775390625, 119.90316772460938, 252.90870666503906, 118.92790222167969], [405.35723876953125, 84.78434753417969, 584.0199584960938, 85.95701599121094, 582.9917602539062, 123.15361022949219, 403.3819274902344, 121.9776611328125], [568.6591186523438, 82.83149719238281, 970.2337646484375, 84.49189758300781, 970.1563720703125, 121.76250457763672, 567.5540771484375, 120.12944793701172], [5.533187389373779, 134.29698181152344, 142.447998046875, 133.21075439453125, 140.31756591796875, 210.92886352539062, 5.367373943328857, 210.9307403564453], [150.53221130371094, 128.53887939453125, 270.7382507324219, 129.58607482910156, 270.0970458984375, 169.04281616210938, 149.8218231201172, 168.46531677246094], [278.0793151855469, 127.23422241210938, 407.84161376953125, 127.9129638671875, 405.1519470214844, 166.09022521972656, 274.04107666015625, 165.82830810546875], [416.7655334472656, 128.4260711669922, 600.0270385742188, 128.85475158691406, 599.3598022460938, 168.57308959960938, 415.01904296875, 168.42471313476562], [552.1124267578125, 124.08111572265625, 970.6632080078125, 124.939208984375, 970.511962890625, 165.392578125, 545.989013671875, 164.92027282714844], [149.2406005859375, 166.66287231445312, 282.06915283203125, 167.23570251464844, 279.54205322265625, 204.97860717773438, 147.08485412597656, 204.6893768310547], [266.97052001953125, 167.68359375, 405.2994689941406, 168.15321350097656, 402.9548034667969, 203.51040649414062, 262.6235656738281, 203.24302673339844], [415.4548034667969, 169.30645751953125, 598.1283569335938, 169.79222106933594, 597.3626098632812, 203.61859130859375, 413.0904541015625, 203.37588500976562], [560.90673828125, 168.81443786621094, 969.0653076171875, 169.13385009765625, 969.0712890625, 206.04310607910156, 562.8285522460938, 205.87322998046875]], 'html': '<html><body><table><tbody><tr><td>类型</td><td>水果名称</td><td>产地</td><td colspan=\"2\">详细信息</td></tr><tr><td rowspan=\"2\">柑橘类</td><td>橙子</td><td>佛罗里达</td><td>$1 - $3/kg</td><td>维生素 C,钾</td></tr><tr><td>柠檬</td><td>加利福尼亚</td><td>$1 - $2/kg</td><td>维生素 C,维生素 B6</td></tr><tr><td rowspan=\"2\">苹果类</td><td>红富士</td><td>华盛顿州</td><td>$2 - $4/kg</td><td>纤维,维生素 C</td></tr><tr><td>青苹果</td><td>新西兰</td><td>$2 - $3/kg</td><td>纤维,维生素 C</td></tr></tbody></table></body></html>'}, 'img_idx': 0}\n",
      "{'type': 'table', 'bbox': [140, 865, 1116, 1073], 'res': {'cell_bbox': [[18.958341598510742, 7.340744972229004, 147.97605895996094, 8.201865196228027, 142.82601928710938, 74.19112396240234, 17.034517288208008, 72.04008483886719], [340.4075622558594, 8.350749015808105, 446.9259948730469, 9.686019897460938, 387.5169677734375, 39.94377136230469, 287.6196594238281, 35.792388916015625], [719.421630859375, 10.336759567260742, 882.8077392578125, 11.600822448730469, 865.2457275390625, 33.30156707763672, 679.7144165039062, 30.953201293945312], [256.94549560546875, 52.726287841796875, 324.755859375, 58.671695709228516, 292.06695556640625, 77.89717864990234, 228.0269317626953, 71.43212127685547], [493.49786376953125, 56.55513000488281, 518.4390258789062, 61.913673400878906, 474.03717041015625, 74.98212432861328, 443.2296447753906, 69.298828125], [671.956787109375, 55.10379409790039, 734.1334838867188, 60.768653869628906, 696.8633422851562, 75.47463989257812, 627.0496826171875, 69.65242004394531], [864.2841796875, 54.32607650756836, 894.3145751953125, 59.82757568359375, 877.6111450195312, 76.12512969970703, 839.9617919921875, 70.56517791748047], [50.6785774230957, 95.7723388671875, 128.37989807128906, 103.50425720214844, 109.38544464111328, 118.38569641113281, 41.988800048828125, 111.5383529663086], [274.51910400390625, 97.1371078491211, 318.2850036621094, 104.45096588134766, 271.8499755859375, 113.13737487792969, 229.76559448242188, 106.71552276611328], [496.4429931640625, 96.86095428466797, 517.7647705078125, 104.38230895996094, 467.327392578125, 114.32648468017578, 443.24713134765625, 107.89530181884766], [702.5404663085938, 99.13288879394531, 727.8900756835938, 106.19760131835938, 684.5299072265625, 115.55705261230469, 653.001708984375, 109.52265930175781], [870.3436279296875, 96.8914566040039, 904.2179565429688, 103.14897155761719, 887.4736328125, 112.75157165527344, 843.9522705078125, 107.44473266601562], [51.381202697753906, 133.5615234375, 121.08153533935547, 140.7450408935547, 103.92724609375, 149.69607543945312, 42.81195068359375, 143.703125], [294.6466979980469, 136.6863555908203, 310.45269775390625, 143.2408447265625, 264.6118469238281, 147.6903533935547, 246.19007873535156, 142.04954528808594], [502.6490173339844, 136.6054229736328, 510.7135009765625, 143.0908203125, 459.7996826171875, 149.78884887695312, 447.8586730957031, 144.4864501953125], [711.3499755859375, 139.3652801513672, 715.4573364257812, 145.39584350585938, 668.8502807617188, 151.92245483398438, 659.9454956054688, 146.98927307128906], [875.456298828125, 136.4449005126953, 902.4437866210938, 141.68905639648438, 884.1141357421875, 148.84922790527344, 848.0438232421875, 144.64797973632812], [57.54233169555664, 173.12733459472656, 117.09769439697266, 177.64866638183594, 101.50291442871094, 183.3087921142578, 48.28734588623047, 179.92037963867188], [298.07952880859375, 178.31019592285156, 300.29351806640625, 182.16770935058594, 255.44212341308594, 184.81375122070312, 249.4821319580078, 181.7147216796875], [513.8907470703125, 178.24142456054688, 500.7427673339844, 181.8047637939453, 449.3089294433594, 186.91688537597656, 457.76922607421875, 184.4304656982422], [714.2017822265625, 179.32899475097656, 704.5726928710938, 182.56326293945312, 655.0626831054688, 188.72064208984375, 660.88671875, 186.6163787841797], [884.1936645507812, 176.1654052734375, 889.5375366210938, 179.1795654296875, 866.7545166015625, 186.28907775878906, 856.856689453125, 184.37179565429688]], 'html': '<html><body><table><tr><td rowspan=\"2\">名称</td><td colspan=\"2\">2020年</td><td colspan=\"2\">2021年</td></tr><tr><td>销售额</td><td>利润</td><td>销售额</td><td>利润</td></tr><tr><td>北京</td><td>1000</td><td>100</td><td>1200</td><td>150</td></tr><tr><td>上海</td><td>800</td><td></td><td>1000</td><td>120</td></tr><tr><td>深圳</td><td>1200</td><td>120</td><td>2000</td><td>230</td></tr></table></body></html>'}, 'img_idx': 0}\n",
      "{'type': 'table', 'bbox': [140, 245, 1115, 423], 'res': {'cell_bbox': [[21.134910583496094, 11.954590797424316, 118.99531555175781, 13.486002922058105, 111.16105651855469, 46.331634521484375, 18.592376708984375, 43.00743103027344], [184.77149963378906, 16.076738357543945, 297.0481262207031, 17.537939071655273, 264.1727294921875, 43.19581985473633, 159.722900390625, 40.1451416015625], [400.2920837402344, 15.528668403625488, 465.7392272949219, 17.031221389770508, 423.3637390136719, 44.21122360229492, 359.1006164550781, 41.04194259643555], [546.5576171875, 18.146970748901367, 579.9893188476562, 19.866348266601562, 539.0147705078125, 44.260032653808594, 502.0711669921875, 41.218109130859375], [662.6880493164062, 17.898258209228516, 708.98486328125, 19.778846740722656, 672.310791015625, 44.61176300048828, 619.9515380859375, 41.46202087402344], [790.972412109375, 17.13418197631836, 816.668212890625, 19.060049057006836, 790.1570434570312, 43.700714111328125, 758.984130859375, 40.51144790649414], [889.1559448242188, 18.004444122314453, 924.7108764648438, 20.215192794799805, 913.89794921875, 43.92767333984375, 870.1395874023438, 40.54270553588867], [45.02647399902344, 53.61014175415039, 116.14671325683594, 59.03379821777344, 100.6561279296875, 78.17781066894531, 37.9239387512207, 72.58689880371094], [195.15887451171875, 55.0185661315918, 307.5216979980469, 60.30314636230469, 269.4090270996094, 77.67376708984375, 165.03286743164062, 72.46050262451172], [403.2325439453125, 55.44606399536133, 464.62091064453125, 60.632686614990234, 422.74334716796875, 78.57405090332031, 360.1054992675781, 73.65596008300781], [540.443359375, 58.91057205200195, 583.3300170898438, 64.11685180664062, 543.5778198242188, 82.69068908691406, 497.2784118652344, 77.92527770996094], [656.4644165039062, 58.69468307495117, 708.2284545898438, 63.92885208129883, 673.495361328125, 83.66633605957031, 616.1798095703125, 78.84117889404297], [794.5116577148438, 59.363555908203125, 816.1256103515625, 64.4322738647461, 790.579345703125, 83.70874786376953, 765.165771484375, 78.9797134399414], [897.3804931640625, 60.558380126953125, 931.9652709960938, 65.64219665527344, 922.6991577148438, 82.84085083007812, 880.8711547851562, 78.21416473388672], [30.244388580322266, 95.65251922607422, 126.41667938232422, 102.56859588623047, 109.67890167236328, 122.56410217285156, 25.424489974975586, 116.95011901855469], [197.50607299804688, 97.46471405029297, 295.40252685546875, 103.82750701904297, 254.3736572265625, 118.08897399902344, 164.29400634765625, 112.71029663085938], [409.72271728515625, 97.11146545410156, 462.2382507324219, 103.42862701416016, 415.70635986328125, 118.31953430175781, 362.4658508300781, 113.12747192382812], [550.5047607421875, 99.38895416259766, 580.9611206054688, 105.48824310302734, 537.3778076171875, 121.1485366821289, 503.59442138671875, 116.32012939453125], [665.9452514648438, 99.41414642333984, 709.5347900390625, 105.48133087158203, 671.7718505859375, 121.8998031616211, 622.6531372070312, 117.15330505371094], [801.0711669921875, 99.38845825195312, 812.3826293945312, 105.21221160888672, 783.5809936523438, 119.76966857910156, 768.8096923828125, 115.09626770019531], [899.5845947265625, 100.53724670410156, 920.2760009765625, 106.16191101074219, 907.6339111328125, 118.26419067382812, 881.7349853515625, 113.77477264404297], [25.56414031982422, 133.86044311523438, 126.95049285888672, 139.00148010253906, 110.32955932617188, 158.69468688964844, 21.451705932617188, 155.99163818359375], [199.07264709472656, 134.89566040039062, 290.5069580078125, 139.55914306640625, 248.89328002929688, 157.19862365722656, 164.10296630859375, 154.6250457763672], [405.8463134765625, 134.12954711914062, 466.77850341796875, 138.6630096435547, 418.0813903808594, 157.39459228515625, 356.3050842285156, 155.04347229003906], [550.1334228515625, 135.8865509033203, 582.678955078125, 140.09075927734375, 535.1310424804688, 159.5116729736328, 498.2229309082031, 157.5301055908203], [666.7609252929688, 136.03125, 714.121337890625, 140.26043701171875, 673.7088012695312, 161.6423797607422, 619.7058715820312, 159.85980224609375], [802.0872192382812, 135.23861694335938, 814.0582885742188, 139.38641357421875, 782.9632568359375, 159.3310546875, 766.7461547851562, 157.39797973632812], [899.0403442382812, 136.40054321289062, 915.1617431640625, 140.3351287841797, 900.21484375, 157.5480499267578, 879.3450927734375, 155.57501220703125]], 'html': '<html><body><table><tr><td>类型</td><td>制造商</td><td>模型</td><td>最高速度</td><td>平均成本</td><td>安全评级</td><td>燃料类型</td></tr><tr><td>汽车</td><td>丰田</td><td>卡罗拉</td><td>180 km/h</td><td>$20,000</td><td>5星</td><td>汽油</td></tr><tr><td>电动自行车</td><td>特斯拉</td><td>Model X Bike</td><td>25 km/h</td><td>$800</td><td>—</td><td>电</td></tr><tr><td>高速列车</td><td>法国国家铁路公司</td><td>TGV Duplex</td><td>320 km/h</td><td>$100 million</td><td>5星</td><td>电</td></tr></table></body></html>'}, 'img_idx': 0}\n",
      "{'type': 'table', 'bbox': [135, 530, 1132, 771], 'res': {'cell_bbox': [[15.028059005737305, 2.4118995666503906, 300.68011474609375, 2.617016315460205, 295.3251953125, 39.21245574951172, 13.999614715576172, 38.82598876953125], [287.2189025878906, 2.281308889389038, 987.1520385742188, 2.4385178089141846, 986.880126953125, 39.38978958129883, 283.592041015625, 38.972198486328125], [4.975382328033447, 37.752174377441406, 297.8501281738281, 37.8830680847168, 301.355712890625, 75.23001098632812, 5.0141754150390625, 75.2492904663086], [315.0586853027344, 40.03287887573242, 975.6671142578125, 40.437950134277344, 974.9705810546875, 77.27225494384766, 308.4927978515625, 76.73967742919922], [5.089922904968262, 78.80291748046875, 294.26446533203125, 79.29212188720703, 297.54583740234375, 115.53241729736328, 5.161224842071533, 115.42988586425781], [305.47833251953125, 78.91400909423828, 989.454345703125, 79.63911437988281, 989.443603515625, 118.51795196533203, 305.2926025390625, 118.01295471191406], [7.325075149536133, 116.8656234741211, 303.7818908691406, 118.04784393310547, 307.3756103515625, 151.4855194091797, 7.396765232086182, 150.67909240722656], [298.1352844238281, 117.14630889892578, 991.5105590820312, 118.1778335571289, 991.5208129882812, 154.77735900878906, 298.6570129394531, 154.04974365234375], [7.056124687194824, 158.50509643554688, 297.0506896972656, 159.3390655517578, 299.8774108886719, 198.2048797607422, 7.116759777069092, 197.7979278564453], [303.762939453125, 157.6666259765625, 990.9826049804688, 158.2220458984375, 990.9862060546875, 199.1190643310547, 304.41717529296875, 198.81175231933594], [7.453488826751709, 200.99575805664062, 298.6963806152344, 201.55108642578125, 299.5602111816406, 237.1575164794922, 7.448742389678955, 237.07781982421875], [307.4059143066406, 197.98681640625, 989.4307861328125, 197.7483673095703, 989.3245849609375, 237.25320434570312, 304.5914001464844, 237.25454711914062]], 'html': '<html><body><table><tr><td>项目</td><td>信息</td></tr><tr><td>产品类型</td><td>智能手机</td></tr><tr><td>品牌</td><td>苹果</td></tr><tr><td>型号</td><td>iPhone 13</td></tr><tr><td>主要特点</td><td>A15芯片，双摄像头系统</td></tr><tr><td>市场价格</td><td>$799</td></tr></table></body></html>'}, 'img_idx': 0}\n",
      "{'type': 'table_caption', 'bbox': [470, 839, 743, 861], 'res': [{'text': '', 'confidence': 0.0, 'text_region': [[487.0, 847.0], [501.0, 847.0], [501.0, 852.0], [487.0, 852.0]]}, {'text': '合开电元校', 'confidence': 0.607172429561615, 'text_region': [[529.0, 846.0], [626.0, 846.0], [626.0, 855.0], [529.0, 855.0]]}, {'text': '（层表校', 'confidence': 0.8828191757202148, 'text_region': [[625.0, 846.0], [728.0, 846.0], [728.0, 855.0], [625.0, 855.0]]}], 'img_idx': 0}\n",
      "{'type': 'table_caption', 'bbox': [543, 1212, 678, 1232], 'res': [{'text': '表4复杂表', 'confidence': 0.9991133809089661, 'text_region': [[546.0, 1215.0], [665.0, 1216.0], [665.0, 1228.0], [546.0, 1226.0]]}], 'img_idx': 0}\n",
      "{'type': 'table_caption', 'bbox': [547, 500, 676, 520], 'res': [{'text': '表2垂直表格', 'confidence': 0.9755434989929199, 'text_region': [[549.0, 503.0], [670.0, 503.0], [670.0, 516.0], [549.0, 516.0]]}], 'img_idx': 0}\n",
      "{'type': 'table_caption', 'bbox': [145, 806, 428, 826], 'res': [{'text': '街文的宝自用务利不', 'confidence': 0.28942230343818665, 'text_region': [[190.0, 813.0], [369.0, 813.0], [369.0, 819.0], [190.0, 819.0]]}], 'img_idx': 0}\n",
      "{'type': 'table_caption', 'bbox': [544, 227, 679, 247], 'res': [{'text': 'K.', 'confidence': 0.36366236209869385, 'text_region': [[554.0, 233.0], [556.0, 240.0], [561.0, 236.0], [549.0, 238.0]]}, {'text': '1水平表', 'confidence': 0.968483567237854, 'text_region': [[556.0, 231.0], [663.0, 231.0], [663.0, 242.0], [556.0, 242.0]]}], 'img_idx': 0}\n",
      "{'type': 'table_caption', 'bbox': [753, 539, 792, 559], 'res': [], 'img_idx': 0}\n",
      "{'type': 'table_caption', 'bbox': [144, 459, 996, 513], 'res': [{'text': '包含了多种电子产品的基本信息，包括产品类型、品牌、型号、主要特点、市场价格和用户', 'confidence': 0.9980295300483704, 'text_region': [[148.0, 462.0], [993.0, 462.0], [993.0, 482.0], [148.0, 482.0]]}, {'text': '表2承百表校', 'confidence': 0.8722361922264099, 'text_region': [[550.0, 503.0], [673.0, 503.0], [673.0, 512.0], [550.0, 512.0]]}], 'img_idx': 0}\n",
      "[2024/06/03 21:32:11] ppocr DEBUG: dt_boxes num : 5, elapsed : 0.013467788696289062\n",
      "[2024/06/03 21:32:11] ppocr DEBUG: rec_res num  : 5, elapsed : 0.0334017276763916\n",
      "[2024/06/03 21:32:11] ppocr DEBUG: dt_boxes num : 50, elapse : 0.04935789108276367\n",
      "[2024/06/03 21:32:12] ppocr DEBUG: rec_res num  : 50, elapse : 0.17027783393859863\n",
      "[2024/06/03 21:32:12] ppocr DEBUG: dt_boxes num : 17, elapse : 0.022467613220214844\n",
      "[2024/06/03 21:32:12] ppocr DEBUG: rec_res num  : 17, elapse : 0.06251764297485352\n",
      "[2024/06/03 21:32:12] ppocr DEBUG: dt_boxes num : 2, elapsed : 0.013173103332519531\n",
      "[2024/06/03 21:32:12] ppocr DEBUG: rec_res num  : 2, elapsed : 0.012948274612426758\n",
      "[2024/06/03 21:32:12] ppocr DEBUG: dt_boxes num : 0, elapsed : 0.010670185089111328\n",
      "[2024/06/03 21:32:12] ppocr DEBUG: rec_res num  : 0, elapsed : 7.152557373046875e-07\n",
      "{'type': 'text', 'bbox': [143, 347, 996, 404], 'res': [{'text': '这个表格包括了电影的名称', 'confidence': 0.9798534512519836, 'text_region': [[149.0, 353.0], [398.0, 353.0], [398.0, 366.0], [149.0, 366.0]]}, {'text': '予满', 'confidence': 0.16616782546043396, 'text_region': [[393.0, 356.0], [485.0, 356.0], [485.0, 365.0], [393.0, 365.0]]}, {'text': '短门电安用店', 'confidence': 0.23835723102092743, 'text_region': [[486.0, 357.0], [681.0, 357.0], [681.0, 363.0], [486.0, 363.0]]}, {'text': '类型以及全球票房，展示了各种', 'confidence': 0.9955586791038513, 'text_region': [[691.0, 353.0], [990.0, 351.0], [990.0, 367.0], [691.0, 368.0]]}, {'text': '影信息', 'confidence': 0.9981241226196289, 'text_region': [[150.0, 390.0], [214.0, 390.0], [214.0, 402.0], [150.0, 402.0]]}], 'img_idx': 0}\n",
      "{'type': 'table', 'bbox': [150, 470, 1095, 885], 'res': {'cell_bbox': [[24.392574310302734, 12.138022422790527, 186.48219299316406, 12.105515480041504, 186.689208984375, 41.682098388671875, 23.90365982055664, 41.979461669921875], [219.35475158691406, 11.870116233825684, 312.3459777832031, 11.637225151062012, 315.168212890625, 35.3496208190918, 221.0809326171875, 35.955039978027344], [366.4478454589844, 10.80440616607666, 442.6748962402344, 10.665677070617676, 444.601806640625, 36.798282623291016, 367.26971435546875, 37.260013580322266], [508.490478515625, 7.8266706466674805, 673.81689453125, 7.785646438598633, 674.4953002929688, 38.29753494262695, 509.99322509765625, 38.87900924682617], [748.0170288085938, 9.257973670959473, 813.3948974609375, 9.26092529296875, 813.6739501953125, 35.35481643676758, 747.99560546875, 35.558319091796875], [848.443359375, 8.94747543334961, 930.6720581054688, 9.012327194213867, 930.5929565429688, 38.5387077331543, 848.2665405273438, 38.72319030761719], [17.982900619506836, 68.73339080810547, 162.845947265625, 68.11359405517578, 162.14874267578125, 114.24899291992188, 17.610675811767578, 114.33299255371094], [221.08816528320312, 62.66020584106445, 338.19952392578125, 62.78882598876953, 337.3241271972656, 119.98490905761719, 219.9523468017578, 119.75011444091797], [398.9785461425781, 62.492042541503906, 439.9573059082031, 62.35751724243164, 438.46807861328125, 106.87293243408203, 397.3895568847656, 107.08070373535156], [483.58746337890625, 57.82857894897461, 706.632080078125, 58.49808883666992, 705.9124755859375, 114.77334594726562, 482.4946594238281, 114.02909851074219], [738.708740234375, 60.8785514831543, 833.8202514648438, 61.144561767578125, 832.7232666015625, 111.24012756347656, 737.2767333984375, 111.18658447265625], [864.0311279296875, 60.07426834106445, 928.6912841796875, 60.04585266113281, 928.0066528320312, 111.45616912841797, 861.876953125, 112.07759857177734], [16.758228302001953, 131.17013549804688, 169.82528686523438, 130.78565979003906, 169.65631103515625, 188.97088623046875, 16.648120880126953, 189.2010040283203], [221.36224365234375, 128.19798278808594, 334.2467041015625, 128.29734802246094, 333.437255859375, 180.7924346923828, 220.23971557617188, 180.8164825439453], [392.2663879394531, 133.93310546875, 435.11279296875, 134.49124145507812, 433.5047607421875, 176.02883911132812, 390.2287902832031, 175.77745056152344], [489.734130859375, 121.82688903808594, 699.9224853515625, 122.32796478271484, 698.4228515625, 184.35707092285156, 487.34674072265625, 184.15682983398438], [741.0641479492188, 124.29407501220703, 829.3370361328125, 124.45353698730469, 827.7086181640625, 174.13079833984375, 738.7936401367188, 174.18896484375], [866.1380004882812, 122.08750915527344, 927.8448486328125, 122.5483169555664, 927.3176879882812, 173.2405242919922, 864.5781860351562, 173.32382202148438], [13.174188613891602, 196.4622802734375, 167.60313415527344, 195.83604431152344, 166.64598083496094, 259.5508117675781, 12.95118522644043, 259.7407531738281], [223.8414306640625, 192.64854431152344, 333.9486083984375, 192.2587127685547, 333.6581726074219, 246.15370178222656, 223.01712036132812, 246.4378662109375], [396.27166748046875, 198.3226318359375, 441.5030212402344, 198.1665802001953, 439.9219055175781, 240.34786987304688, 394.25714111328125, 240.61572265625], [489.35650634765625, 187.51124572753906, 702.09033203125, 187.28623962402344, 701.689453125, 247.3706817626953, 488.61541748046875, 247.67913818359375], [743.3076782226562, 189.3506622314453, 823.7740478515625, 189.07028198242188, 823.3701171875, 237.16744995117188, 742.7202758789062, 237.68243408203125], [865.2606811523438, 183.9977569580078, 925.46728515625, 183.71885681152344, 925.0064086914062, 236.8587188720703, 864.0162963867188, 237.81382751464844], [26.800668716430664, 267.7405090332031, 151.36244201660156, 266.9265441894531, 151.28562927246094, 324.80621337890625, 26.5432186126709, 324.9475402832031], [220.32247924804688, 263.5766906738281, 330.2657165527344, 262.8021545410156, 330.65087890625, 317.74359130859375, 220.1298370361328, 318.0669860839844], [396.271484375, 270.43133544921875, 439.8124694824219, 269.8135986328125, 439.8310241699219, 306.91961669921875, 395.56622314453125, 307.35406494140625], [497.1107482910156, 264.93603515625, 693.0492553710938, 264.76519775390625, 693.6764526367188, 317.34759521484375, 497.4068603515625, 317.4729309082031], [739.6375122070312, 263.6884460449219, 829.1713256835938, 263.00042724609375, 829.6656494140625, 310.3489074707031, 739.9308471679688, 310.9773254394531], [863.3400268554688, 252.7849578857422, 924.2601928710938, 252.11895751953125, 923.7696533203125, 309.64208984375, 861.8985595703125, 310.72918701171875], [36.19700622558594, 334.2647399902344, 149.58950805664062, 333.7509460449219, 149.93490600585938, 380.8595275878906, 36.17245864868164, 380.75384521484375], [217.26022338867188, 329.4872741699219, 342.7763977050781, 328.9588317871094, 342.913818359375, 380.6194152832031, 217.29757690429688, 380.6614990234375], [401.15972900390625, 335.5991516113281, 435.764892578125, 335.14544677734375, 435.1375732421875, 374.8139343261719, 400.4873962402344, 374.9488830566406], [503.72064208984375, 334.44073486328125, 702.6168823242188, 333.8184509277344, 703.6541137695312, 378.77935791015625, 504.4627990722656, 379.0408630371094], [739.3154296875, 332.47760009765625, 829.5360717773438, 331.38153076171875, 829.945556640625, 377.62249755859375, 739.7246704101562, 378.1162414550781], [861.4599609375, 321.4866027832031, 926.5560302734375, 320.2489929199219, 926.05078125, 374.13934326171875, 859.6749267578125, 374.93585205078125]], 'html': '<html><body><table><thead><tr><td>电影名称</td><td>导演</td><td>发行年份</td><td>主要演员</td><td>类型</td><td>全球票房</td></tr></thead><tbody><tr><td>《泰坦尼克号》</td><td>詹姆斯·卡梅 隆</td><td>1997</td><td>莱昂纳多·迪卡普里奥 凯特·温丝莱特</td><td>剧情/爱情</td><td>$2.2 billion</td></tr><tr><td>《复仇者联盟4：终 局之战》</td><td>安东尼·罗 素、乔·罗素</td><td>2019</td><td>罗伯特·唐尼丶克里 斯·埃文斯</td><td>超级英雄/ 科幻</td><td>$2.79 billion</td></tr><tr><td>《星球大战：原力觉 醒》</td><td>JJ.艾布拉姆斯</td><td>2015</td><td>黛西·雷德利丶约翰·博 耶加</td><td>科幻/冒险</td><td>$2.068</td></tr><tr><td>《狮子王》</td><td>乔恩·费儒</td><td>2019</td><td>唐纳德·格洛弗、碧昂斯</td><td>动画/冒险</td><td>billion $1.657</td></tr><tr><td>《小丑》</td><td>托德·菲利普 斯</td><td>2019</td><td>杰昆·菲尼克斯</td><td>剧情/惊悚</td><td>billion $1.074 billion</td></tr></tbody></table></body></html>'}, 'img_idx': 0}\n",
      "{'type': 'table', 'bbox': [129, 135, 1119, 311], 'res': {'cell_bbox': [[36.67720031738281, 9.411067962646484, 199.25924682617188, 10.502784729003906, 191.36318969726562, 78.10828399658203, 33.0497932434082, 75.27214050292969], [179.02865600585938, 15.330717086791992, 254.70704650878906, 16.376300811767578, 235.89710998535156, 50.0927734375, 162.86886596679688, 47.629154205322266], [329.05621337890625, 14.990015029907227, 403.4812316894531, 15.92144775390625, 379.05743408203125, 47.827884674072266, 305.36181640625, 45.885589599609375], [482.749755859375, 13.466971397399902, 578.9627075195312, 14.308869361877441, 549.3960571289062, 47.881011962890625, 451.1691589355469, 46.20512771606445], [622.6143798828125, 11.889769554138184, 859.297119140625, 12.73796558380127, 843.321044921875, 47.472007751464844, 589.8658447265625, 45.80667495727539], [39.55916213989258, 58.79557418823242, 141.7596893310547, 61.30591583251953, 133.7689971923828, 114.95295715332031, 36.64787673950195, 112.66770935058594], [171.94056701660156, 52.75434112548828, 260.5057678222656, 55.29728698730469, 244.3538055419922, 95.65141296386719, 159.6003875732422, 93.0838851928711], [307.7585754394531, 53.11061096191406, 415.855224609375, 55.42009353637695, 399.0146484375, 90.2022933959961, 290.95635986328125, 88.0374755859375], [460.91064453125, 53.29153060913086, 577.273681640625, 55.74901580810547, 558.01708984375, 88.6108169555664, 440.34588623046875, 86.38224792480469], [590.6981811523438, 52.10924530029297, 959.3051147460938, 54.763938903808594, 956.2817993164062, 90.92031860351562, 568.16748046875, 88.64861297607422], [26.885845184326172, 106.94842529296875, 139.81080627441406, 108.52079010009766, 133.7142333984375, 164.10794067382812, 25.1805362701416, 163.69393920898438], [165.9116668701172, 101.20108032226562, 252.60792541503906, 102.92249298095703, 239.24185180664062, 152.85122680664062, 156.1929473876953, 152.2026824951172], [308.2578430175781, 100.9523696899414, 415.299072265625, 102.52436065673828, 401.61737060546875, 146.55340576171875, 295.5199279785156, 145.91171264648438], [459.0730895996094, 100.00700378417969, 578.2557983398438, 101.7928466796875, 561.505126953125, 140.23031616210938, 441.2124938964844, 139.41397094726562], [586.0691528320312, 99.22216796875, 961.9432983398438, 101.11075592041016, 959.5199584960938, 139.68927001953125, 566.8141479492188, 138.86148071289062]], 'html': '<html><body><table><tr><td>热带水果</td><td>香蕉</td><td></td><td> $0.5 - $1/kg</td><td>钾,维生素 B6</td></tr><tr><td></td><td>菠萝</td><td>菲律宾</td><td>$1 - $2/kg</td><td>维生素C,锰</td></tr><tr><td>浆果类</td><td>蓝莓 草莓</td><td>缅因州 加利福尼亚</td><td>$3 - $6/kg $2 - $5/kg</td><td>抗氧化剂,维生素 C 抗氧化剂,铁</td></tr></table></body></html>'}, 'img_idx': 0}\n",
      "{'type': 'table_caption', 'bbox': [544, 421, 679, 440], 'res': [{'text': '文', 'confidence': 0.03133552521467209, 'text_region': [[548.0, 431.0], [555.0, 427.0], [560.0, 430.0], [553.0, 433.0]]}, {'text': '5无线表', 'confidence': 0.9585689902305603, 'text_region': [[556.0, 425.0], [661.0, 425.0], [661.0, 435.0], [556.0, 435.0]]}], 'img_idx': 0}\n",
      "{'type': 'table_caption', 'bbox': [208, 476, 286, 495], 'res': [], 'img_idx': 0}\n"
     ]
    }
   ],
   "source": [
    "import os\n",
    "import cv2\n",
    "import numpy as np\n",
    "from paddleocr import PPStructure,save_structure_res\n",
    "from paddle.utils import try_import\n",
    "from PIL import Image\n",
    "\n",
    "ocr_engine = PPStructure(ocr=True, show_log=True)\n",
    "\n",
    "save_folder = './output'\n",
    "img_path = '../data/表格.pdf'\n",
    "\n",
    "fitz = try_import(\"fitz\")\n",
    "imgs = []\n",
    "with fitz.open(img_path) as pdf:\n",
    "    for pg in range(0, pdf.page_count):\n",
    "        page = pdf[pg]\n",
    "        mat = fitz.Matrix(2, 2)\n",
    "        pm = page.get_pixmap(matrix=mat, alpha=False)\n",
    "\n",
    "        # if width or height > 2000 pixels, don't enlarge the image\n",
    "        if pm.width > 2000 or pm.height > 2000:\n",
    "            pm = page.get_pixmap(matrix=fitz.Matrix(1, 1), alpha=False)\n",
    "\n",
    "        img = Image.frombytes(\"RGB\", [pm.width, pm.height], pm.samples)\n",
    "        img = cv2.cvtColor(np.array(img), cv2.COLOR_RGB2BGR)\n",
    "        imgs.append(img)\n",
    "\n",
    "for index, img in enumerate(imgs):\n",
    "    result = ocr_engine(img)\n",
    "    save_structure_res(result, save_folder, os.path.basename(img_path).split('.')[0], index)\n",
    "    for line in result:\n",
    "        line.pop('img')\n",
    "        print(line)"
   ]
  },
  {
   "cell_type": "markdown",
   "metadata": {},
   "source": [
    "## 版面恢复:\n",
    "\n",
    "包含版面分析 + 表格识别\n"
   ]
  },
  {
   "cell_type": "markdown",
   "metadata": {},
   "source": [
    "##### Image\n"
   ]
  },
  {
   "cell_type": "code",
   "execution_count": 14,
   "metadata": {},
   "outputs": [
    {
     "name": "stdout",
     "output_type": "stream",
     "text": [
      "[2024/06/03 17:50:48] ppocr DEBUG: Namespace(help='==SUPPRESS==', use_gpu=True, use_xpu=False, use_npu=False, ir_optim=True, use_tensorrt=False, min_subgraph_size=15, precision='fp32', gpu_mem=500, gpu_id=0, image_dir=None, page_num=0, det_algorithm='DB', det_model_dir='/home/liangzhu/.paddleocr/whl/det/ch/ch_PP-OCRv4_det_infer', det_limit_side_len=960, det_limit_type='max', det_box_type='quad', det_db_thresh=0.3, det_db_box_thresh=0.6, det_db_unclip_ratio=1.5, max_batch_size=10, use_dilation=False, det_db_score_mode='fast', det_east_score_thresh=0.8, det_east_cover_thresh=0.1, det_east_nms_thresh=0.2, det_sast_score_thresh=0.5, det_sast_nms_thresh=0.2, det_pse_thresh=0, det_pse_box_thresh=0.85, det_pse_min_area=16, det_pse_scale=1, scales=[8, 16, 32], alpha=1.0, beta=1.0, fourier_degree=5, rec_algorithm='SVTR_LCNet', rec_model_dir='/home/liangzhu/.paddleocr/whl/rec/ch/ch_PP-OCRv4_rec_infer', rec_image_inverse=True, rec_image_shape='3, 48, 320', rec_batch_num=6, max_text_length=25, rec_char_dict_path='/home/liangzhu/anaconda3/envs/llm/lib/python3.11/site-packages/paddleocr/ppocr/utils/ppocr_keys_v1.txt', use_space_char=True, vis_font_path='./doc/fonts/simfang.ttf', drop_score=0.5, e2e_algorithm='PGNet', e2e_model_dir=None, e2e_limit_side_len=768, e2e_limit_type='max', e2e_pgnet_score_thresh=0.5, e2e_char_dict_path='./ppocr/utils/ic15_dict.txt', e2e_pgnet_valid_set='totaltext', e2e_pgnet_mode='fast', use_angle_cls=False, cls_model_dir=None, cls_image_shape='3, 48, 192', label_list=['0', '180'], cls_batch_num=6, cls_thresh=0.9, enable_mkldnn=False, cpu_threads=10, use_pdserving=False, warmup=False, sr_model_dir=None, sr_image_shape='3, 32, 128', sr_batch_num=1, draw_img_save_dir='./inference_results', save_crop_res=False, crop_res_save_dir='./output', use_mp=False, total_process_num=1, process_id=0, benchmark=False, save_log_path='./log_output/', show_log=True, use_onnx=False, output='./output', table_max_len=488, table_algorithm='TableAttn', table_model_dir='/home/liangzhu/.paddleocr/whl/table/ch_ppstructure_mobile_v2.0_SLANet_infer', merge_no_span_structure=True, table_char_dict_path='/home/liangzhu/anaconda3/envs/llm/lib/python3.11/site-packages/paddleocr/ppocr/utils/dict/table_structure_dict_ch.txt', layout_model_dir='/home/liangzhu/.paddleocr/whl/layout/picodet_lcnet_x1_0_fgd_layout_cdla_infer', layout_dict_path='/home/liangzhu/anaconda3/envs/llm/lib/python3.11/site-packages/paddleocr/ppocr/utils/dict/layout_dict/layout_cdla_dict.txt', layout_score_threshold=0.5, layout_nms_threshold=0.5, kie_algorithm='LayoutXLM', ser_model_dir=None, re_model_dir=None, use_visual_backbone=True, ser_dict_path='../train_data/XFUND/class_list_xfun.txt', ocr_order_method=None, mode='structure', image_orientation=False, layout=True, table=True, ocr=True, recovery=True, use_pdf2docx_api=False, invert=False, binarize=False, alphacolor=(255, 255, 255), lang='ch', det=True, rec=True, type='ocr', ocr_version='PP-OCRv4', structure_version='PP-StructureV2')\n",
      "[2024/06/03 17:50:54] ppocr DEBUG: dt_boxes num : 23, elapsed : 0.02916860580444336\n",
      "[2024/06/03 17:50:54] ppocr DEBUG: rec_res num  : 23, elapsed : 0.07756948471069336\n",
      "[2024/06/03 17:50:55] ppocr INFO: docx save to ./output/image_ocr.docx\n"
     ]
    }
   ],
   "source": [
    "import os\n",
    "import cv2\n",
    "from paddleocr import PPStructure,save_structure_res\n",
    "from paddleocr.ppstructure.recovery.recovery_to_doc import sorted_layout_boxes, convert_info_docx\n",
    "\n",
    "# 中文测试图\n",
    "table_engine = PPStructure(recovery=True)\n",
    "# 英文测试图\n",
    "# table_engine = PPStructure(recovery=True, lang='en')\n",
    "\n",
    "save_folder = './output'\n",
    "img_path = '../data/image.png'\n",
    "img = cv2.imread(img_path)\n",
    "result = table_engine(img)\n",
    "save_structure_res(result, save_folder, os.path.basename(img_path).split('.')[0])\n",
    "\n",
    "h, w, _ = img.shape\n",
    "res = sorted_layout_boxes(result, w)\n",
    "convert_info_docx(img, res, save_folder, os.path.basename(img_path).split('.')[0])"
   ]
  },
  {
   "cell_type": "markdown",
   "metadata": {},
   "source": [
    "##### PDF\n"
   ]
  },
  {
   "cell_type": "code",
   "execution_count": 16,
   "metadata": {},
   "outputs": [
    {
     "name": "stdout",
     "output_type": "stream",
     "text": [
      "[2024/06/03 18:07:42] ppocr DEBUG: Namespace(help='==SUPPRESS==', use_gpu=True, use_xpu=False, use_npu=False, ir_optim=True, use_tensorrt=False, min_subgraph_size=15, precision='fp32', gpu_mem=500, gpu_id=0, image_dir=None, page_num=0, det_algorithm='DB', det_model_dir='/home/liangzhu/.paddleocr/whl/det/ch/ch_PP-OCRv4_det_infer', det_limit_side_len=960, det_limit_type='max', det_box_type='quad', det_db_thresh=0.3, det_db_box_thresh=0.6, det_db_unclip_ratio=1.5, max_batch_size=10, use_dilation=False, det_db_score_mode='fast', det_east_score_thresh=0.8, det_east_cover_thresh=0.1, det_east_nms_thresh=0.2, det_sast_score_thresh=0.5, det_sast_nms_thresh=0.2, det_pse_thresh=0, det_pse_box_thresh=0.85, det_pse_min_area=16, det_pse_scale=1, scales=[8, 16, 32], alpha=1.0, beta=1.0, fourier_degree=5, rec_algorithm='SVTR_LCNet', rec_model_dir='/home/liangzhu/.paddleocr/whl/rec/ch/ch_PP-OCRv4_rec_infer', rec_image_inverse=True, rec_image_shape='3, 48, 320', rec_batch_num=6, max_text_length=25, rec_char_dict_path='/home/liangzhu/anaconda3/envs/llm/lib/python3.11/site-packages/paddleocr/ppocr/utils/ppocr_keys_v1.txt', use_space_char=True, vis_font_path='./doc/fonts/simfang.ttf', drop_score=0.5, e2e_algorithm='PGNet', e2e_model_dir=None, e2e_limit_side_len=768, e2e_limit_type='max', e2e_pgnet_score_thresh=0.5, e2e_char_dict_path='./ppocr/utils/ic15_dict.txt', e2e_pgnet_valid_set='totaltext', e2e_pgnet_mode='fast', use_angle_cls=False, cls_model_dir=None, cls_image_shape='3, 48, 192', label_list=['0', '180'], cls_batch_num=6, cls_thresh=0.9, enable_mkldnn=False, cpu_threads=10, use_pdserving=False, warmup=False, sr_model_dir=None, sr_image_shape='3, 32, 128', sr_batch_num=1, draw_img_save_dir='./inference_results', save_crop_res=False, crop_res_save_dir='./output', use_mp=False, total_process_num=1, process_id=0, benchmark=False, save_log_path='./log_output/', show_log=True, use_onnx=False, output='./output', table_max_len=488, table_algorithm='TableAttn', table_model_dir='/home/liangzhu/.paddleocr/whl/table/ch_ppstructure_mobile_v2.0_SLANet_infer', merge_no_span_structure=True, table_char_dict_path='/home/liangzhu/anaconda3/envs/llm/lib/python3.11/site-packages/paddleocr/ppocr/utils/dict/table_structure_dict_ch.txt', layout_model_dir='/home/liangzhu/.paddleocr/whl/layout/picodet_lcnet_x1_0_fgd_layout_cdla_infer', layout_dict_path='/home/liangzhu/anaconda3/envs/llm/lib/python3.11/site-packages/paddleocr/ppocr/utils/dict/layout_dict/layout_cdla_dict.txt', layout_score_threshold=0.5, layout_nms_threshold=0.5, kie_algorithm='LayoutXLM', ser_model_dir=None, re_model_dir=None, use_visual_backbone=True, ser_dict_path='../train_data/XFUND/class_list_xfun.txt', ocr_order_method=None, mode='structure', image_orientation=False, layout=True, table=True, ocr=True, recovery=True, use_pdf2docx_api=False, invert=False, binarize=False, alphacolor=(255, 255, 255), lang='ch', det=True, rec=True, type='ocr', ocr_version='PP-OCRv4', structure_version='PP-StructureV2')\n",
      "[2024/06/03 18:07:48] ppocr DEBUG: dt_boxes num : 5, elapsed : 0.04220104217529297\n",
      "[2024/06/03 18:07:48] ppocr DEBUG: rec_res num  : 5, elapsed : 0.04180717468261719\n",
      "[2024/06/03 18:07:48] ppocr DEBUG: dt_boxes num : 9, elapsed : 0.03944587707519531\n",
      "[2024/06/03 18:07:48] ppocr DEBUG: rec_res num  : 9, elapsed : 0.0840599536895752\n",
      "[2024/06/03 18:07:48] ppocr DEBUG: dt_boxes num : 15, elapsed : 0.04149889945983887\n",
      "[2024/06/03 18:07:48] ppocr DEBUG: rec_res num  : 15, elapsed : 0.11796092987060547\n",
      "[2024/06/03 18:07:49] ppocr DEBUG: dt_boxes num : 2, elapsed : 0.03688192367553711\n",
      "[2024/06/03 18:07:49] ppocr DEBUG: rec_res num  : 2, elapsed : 0.029264450073242188\n",
      "[2024/06/03 18:07:49] ppocr DEBUG: dt_boxes num : 1, elapsed : 0.036847829818725586\n",
      "[2024/06/03 18:07:49] ppocr DEBUG: rec_res num  : 1, elapsed : 0.017590999603271484\n",
      "[2024/06/03 18:07:49] ppocr DEBUG: dt_boxes num : 1, elapsed : 0.03662610054016113\n",
      "[2024/06/03 18:07:49] ppocr DEBUG: rec_res num  : 1, elapsed : 0.010354280471801758\n",
      "[2024/06/03 18:07:49] ppocr DEBUG: dt_boxes num : 1, elapsed : 0.036148786544799805\n",
      "[2024/06/03 18:07:49] ppocr DEBUG: rec_res num  : 1, elapsed : 0.010106563568115234\n",
      "[2024/06/03 18:07:49] ppocr DEBUG: dt_boxes num : 2, elapsed : 0.03611302375793457\n",
      "[2024/06/03 18:07:49] ppocr DEBUG: rec_res num  : 2, elapsed : 0.029889583587646484\n",
      "[2024/06/03 18:07:49] ppocr DEBUG: dt_boxes num : 1, elapsed : 0.036760568618774414\n",
      "[2024/06/03 18:07:49] ppocr DEBUG: rec_res num  : 1, elapsed : 0.010439634323120117\n",
      "[2024/06/03 18:07:49] ppocr DEBUG: dt_boxes num : 1, elapsed : 0.03621816635131836\n",
      "[2024/06/03 18:07:49] ppocr DEBUG: rec_res num  : 1, elapsed : 0.010084867477416992\n",
      "[2024/06/03 18:07:49] ppocr DEBUG: dt_boxes num : 1, elapsed : 0.03511929512023926\n",
      "[2024/06/03 18:07:49] ppocr DEBUG: rec_res num  : 1, elapsed : 0.009510040283203125\n",
      "[2024/06/03 18:07:49] ppocr DEBUG: dt_boxes num : 1, elapsed : 0.034560203552246094\n",
      "[2024/06/03 18:07:49] ppocr DEBUG: rec_res num  : 1, elapsed : 0.010151863098144531\n",
      "[2024/06/03 18:07:49] ppocr DEBUG: dt_boxes num : 1, elapsed : 0.0356898307800293\n",
      "[2024/06/03 18:07:49] ppocr DEBUG: rec_res num  : 1, elapsed : 0.010101795196533203\n",
      "[2024/06/03 18:07:50] ppocr DEBUG: dt_boxes num : 28, elapse : 0.029299497604370117\n",
      "[2024/06/03 18:07:50] ppocr DEBUG: rec_res num  : 28, elapse : 0.10541200637817383\n",
      "[2024/06/03 18:07:50] ppocr DEBUG: dt_boxes num : 1, elapsed : 0.037047624588012695\n",
      "[2024/06/03 18:07:50] ppocr DEBUG: rec_res num  : 1, elapsed : 0.009897232055664062\n",
      "[2024/06/03 18:07:50] ppocr DEBUG: dt_boxes num : 1, elapsed : 0.036260366439819336\n",
      "[2024/06/03 18:07:50] ppocr DEBUG: rec_res num  : 1, elapsed : 0.009711503982543945\n",
      "[2024/06/03 18:07:50] ppocr INFO: docx save to ./output_pp_structure/基础版_ocr.docx\n"
     ]
    }
   ],
   "source": [
    "import os\n",
    "import cv2\n",
    "import numpy as np\n",
    "from paddleocr import PPStructure,save_structure_res, PaddleOCR\n",
    "from paddle.utils import try_import\n",
    "from PIL import Image\n",
    "from paddleocr.ppstructure.recovery.recovery_to_doc import sorted_layout_boxes, convert_info_docx\n",
    "\n",
    "ocr_engine = PPStructure(recovery=True, show_log=True)\n",
    "\n",
    "save_folder = './output_pp_structure'\n",
    "pdf_path = '../data/基础版.pdf'\n",
    "\n",
    "fitz = try_import(\"fitz\")\n",
    "imgs = []\n",
    "with fitz.open(pdf_path) as pdf:\n",
    "    for pg in range(0, pdf.page_count):\n",
    "        page = pdf[pg]\n",
    "        mat = fitz.Matrix(2, 2)\n",
    "        pm = page.get_pixmap(matrix=mat, alpha=False)\n",
    "\n",
    "        # if width or height > 2000 pixels, don't enlarge the image\n",
    "        if pm.width > 2000 or pm.height > 2000:\n",
    "            pm = page.get_pixmap(matrix=fitz.Matrix(1, 1), alpha=False)\n",
    "\n",
    "        img = Image.frombytes(\"RGB\", [pm.width, pm.height], pm.samples)\n",
    "        img = cv2.cvtColor(np.array(img), cv2.COLOR_RGB2BGR)\n",
    "        imgs.append(img)\n",
    "\n",
    "# for index, img in enumerate(imgs):\n",
    "result = ocr_engine(imgs[0])\n",
    "save_structure_res(result, save_folder, os.path.basename(pdf_path).split('.')[0], 0)\n",
    "h, w, _ = img.shape\n",
    "res = sorted_layout_boxes(result, w)\n",
    "convert_info_docx(img, res, save_folder, os.path.basename(pdf_path).split('.')[0])"
   ]
  },
  {
   "cell_type": "markdown",
   "metadata": {},
   "source": [
    "use_pdf2docx_api: True 和 False 解析时间上没有差别。28s 左右。\n"
   ]
  },
  {
   "cell_type": "code",
   "execution_count": 1,
   "metadata": {},
   "outputs": [
    {
     "name": "stdout",
     "output_type": "stream",
     "text": [
      "[2024/06/04 12:54:41] ppocr DEBUG: Namespace(help='==SUPPRESS==', use_gpu=True, use_xpu=False, use_npu=False, ir_optim=True, use_tensorrt=False, min_subgraph_size=15, precision='fp32', gpu_mem=500, gpu_id=0, image_dir=None, page_num=0, det_algorithm='DB', det_model_dir='/home/liangzhu/.paddleocr/whl/det/ch/ch_PP-OCRv4_det_infer', det_limit_side_len=960, det_limit_type='max', det_box_type='quad', det_db_thresh=0.3, det_db_box_thresh=0.6, det_db_unclip_ratio=1.5, max_batch_size=10, use_dilation=False, det_db_score_mode='fast', det_east_score_thresh=0.8, det_east_cover_thresh=0.1, det_east_nms_thresh=0.2, det_sast_score_thresh=0.5, det_sast_nms_thresh=0.2, det_pse_thresh=0, det_pse_box_thresh=0.85, det_pse_min_area=16, det_pse_scale=1, scales=[8, 16, 32], alpha=1.0, beta=1.0, fourier_degree=5, rec_algorithm='SVTR_LCNet', rec_model_dir='/home/liangzhu/.paddleocr/whl/rec/ch/ch_PP-OCRv4_rec_infer', rec_image_inverse=True, rec_image_shape='3, 48, 320', rec_batch_num=6, max_text_length=25, rec_char_dict_path='/home/liangzhu/anaconda3/envs/llm/lib/python3.11/site-packages/paddleocr/ppocr/utils/ppocr_keys_v1.txt', use_space_char=True, vis_font_path='./doc/fonts/simfang.ttf', drop_score=0.5, e2e_algorithm='PGNet', e2e_model_dir=None, e2e_limit_side_len=768, e2e_limit_type='max', e2e_pgnet_score_thresh=0.5, e2e_char_dict_path='./ppocr/utils/ic15_dict.txt', e2e_pgnet_valid_set='totaltext', e2e_pgnet_mode='fast', use_angle_cls=False, cls_model_dir=None, cls_image_shape='3, 48, 192', label_list=['0', '180'], cls_batch_num=6, cls_thresh=0.9, enable_mkldnn=False, cpu_threads=10, use_pdserving=False, warmup=False, sr_model_dir=None, sr_image_shape='3, 32, 128', sr_batch_num=1, draw_img_save_dir='./inference_results', save_crop_res=False, crop_res_save_dir='./output', use_mp=False, total_process_num=1, process_id=0, benchmark=False, save_log_path='./log_output/', show_log=True, use_onnx=False, output='./output', table_max_len=488, table_algorithm='TableAttn', table_model_dir='/home/liangzhu/.paddleocr/whl/table/ch_ppstructure_mobile_v2.0_SLANet_infer', merge_no_span_structure=True, table_char_dict_path='/home/liangzhu/anaconda3/envs/llm/lib/python3.11/site-packages/paddleocr/ppocr/utils/dict/table_structure_dict_ch.txt', layout_model_dir='/home/liangzhu/.paddleocr/whl/layout/picodet_lcnet_x1_0_fgd_layout_cdla_infer', layout_dict_path='/home/liangzhu/anaconda3/envs/llm/lib/python3.11/site-packages/paddleocr/ppocr/utils/dict/layout_dict/layout_cdla_dict.txt', layout_score_threshold=0.5, layout_nms_threshold=0.5, kie_algorithm='LayoutXLM', ser_model_dir=None, re_model_dir=None, use_visual_backbone=True, ser_dict_path='../train_data/XFUND/class_list_xfun.txt', ocr_order_method=None, mode='structure', image_orientation=False, layout=True, table=True, ocr=True, recovery=False, use_pdf2docx_api=False, invert=False, binarize=False, alphacolor=(255, 255, 255), lang='ch', det=True, rec=True, type='ocr', ocr_version='PP-OCRv4', structure_version='PP-StructureV2')\n"
     ]
    },
    {
     "name": "stderr",
     "output_type": "stream",
     "text": [
      "[ WARN:0@8.481] global /io/opencv/modules/imgcodecs/src/loadsave.cpp (239) findDecoder imread_('../data/layout.png'): can't open/read file: check file path/integrity\n"
     ]
    },
    {
     "ename": "AttributeError",
     "evalue": "'NoneType' object has no attribute 'copy'",
     "output_type": "error",
     "traceback": [
      "\u001b[0;31m---------------------------------------------------------------------------\u001b[0m",
      "\u001b[0;31mAttributeError\u001b[0m                            Traceback (most recent call last)",
      "Cell \u001b[0;32mIn[1], line 10\u001b[0m\n\u001b[1;32m      8\u001b[0m img_path \u001b[38;5;241m=\u001b[39m \u001b[38;5;124m'\u001b[39m\u001b[38;5;124m../data/layout.png\u001b[39m\u001b[38;5;124m'\u001b[39m\n\u001b[1;32m      9\u001b[0m img \u001b[38;5;241m=\u001b[39m cv2\u001b[38;5;241m.\u001b[39mimread(img_path)\n\u001b[0;32m---> 10\u001b[0m result \u001b[38;5;241m=\u001b[39m \u001b[43mtable_engine\u001b[49m\u001b[43m(\u001b[49m\u001b[43mimg\u001b[49m\u001b[43m)\u001b[49m\n\u001b[1;32m     11\u001b[0m save_structure_res(result, save_folder,os\u001b[38;5;241m.\u001b[39mpath\u001b[38;5;241m.\u001b[39mbasename(img_path)\u001b[38;5;241m.\u001b[39msplit(\u001b[38;5;124m'\u001b[39m\u001b[38;5;124m.\u001b[39m\u001b[38;5;124m'\u001b[39m)[\u001b[38;5;241m0\u001b[39m])\n\u001b[1;32m     13\u001b[0m \u001b[38;5;28;01mfor\u001b[39;00m line \u001b[38;5;129;01min\u001b[39;00m result:\n",
      "File \u001b[0;32m~/anaconda3/envs/llm/lib/python3.11/site-packages/paddleocr/paddleocr.py:766\u001b[0m, in \u001b[0;36mPPStructure.__call__\u001b[0;34m(self, img, return_ocr_result_in_table, img_idx)\u001b[0m\n\u001b[1;32m    764\u001b[0m \u001b[38;5;28;01mdef\u001b[39;00m \u001b[38;5;21m__call__\u001b[39m(\u001b[38;5;28mself\u001b[39m, img, return_ocr_result_in_table\u001b[38;5;241m=\u001b[39m\u001b[38;5;28;01mFalse\u001b[39;00m, img_idx\u001b[38;5;241m=\u001b[39m\u001b[38;5;241m0\u001b[39m):\n\u001b[1;32m    765\u001b[0m     img \u001b[38;5;241m=\u001b[39m check_img(img)\n\u001b[0;32m--> 766\u001b[0m     res, _ \u001b[38;5;241m=\u001b[39m \u001b[38;5;28;43msuper\u001b[39;49m\u001b[43m(\u001b[49m\u001b[43m)\u001b[49m\u001b[38;5;241;43m.\u001b[39;49m\u001b[38;5;21;43m__call__\u001b[39;49m\u001b[43m(\u001b[49m\n\u001b[1;32m    767\u001b[0m \u001b[43m        \u001b[49m\u001b[43mimg\u001b[49m\u001b[43m,\u001b[49m\u001b[43m \u001b[49m\u001b[43mreturn_ocr_result_in_table\u001b[49m\u001b[43m,\u001b[49m\u001b[43m \u001b[49m\u001b[43mimg_idx\u001b[49m\u001b[38;5;241;43m=\u001b[39;49m\u001b[43mimg_idx\u001b[49m\u001b[43m)\u001b[49m\n\u001b[1;32m    768\u001b[0m     \u001b[38;5;28;01mreturn\u001b[39;00m res\n",
      "File \u001b[0;32m~/anaconda3/envs/llm/lib/python3.11/site-packages/paddleocr/ppstructure/predict_system.py:110\u001b[0m, in \u001b[0;36mStructureSystem.__call__\u001b[0;34m(self, img, return_ocr_result_in_table, img_idx)\u001b[0m\n\u001b[1;32m    108\u001b[0m     time_dict[\u001b[38;5;124m'\u001b[39m\u001b[38;5;124mimage_orientation\u001b[39m\u001b[38;5;124m'\u001b[39m] \u001b[38;5;241m=\u001b[39m toc \u001b[38;5;241m-\u001b[39m tic\n\u001b[1;32m    109\u001b[0m \u001b[38;5;28;01mif\u001b[39;00m \u001b[38;5;28mself\u001b[39m\u001b[38;5;241m.\u001b[39mmode \u001b[38;5;241m==\u001b[39m \u001b[38;5;124m'\u001b[39m\u001b[38;5;124mstructure\u001b[39m\u001b[38;5;124m'\u001b[39m:\n\u001b[0;32m--> 110\u001b[0m     ori_im \u001b[38;5;241m=\u001b[39m \u001b[43mimg\u001b[49m\u001b[38;5;241;43m.\u001b[39;49m\u001b[43mcopy\u001b[49m()\n\u001b[1;32m    111\u001b[0m     \u001b[38;5;28;01mif\u001b[39;00m \u001b[38;5;28mself\u001b[39m\u001b[38;5;241m.\u001b[39mlayout_predictor \u001b[38;5;129;01mis\u001b[39;00m \u001b[38;5;129;01mnot\u001b[39;00m \u001b[38;5;28;01mNone\u001b[39;00m:\n\u001b[1;32m    112\u001b[0m         layout_res, elapse \u001b[38;5;241m=\u001b[39m \u001b[38;5;28mself\u001b[39m\u001b[38;5;241m.\u001b[39mlayout_predictor(img)\n",
      "\u001b[0;31mAttributeError\u001b[0m: 'NoneType' object has no attribute 'copy'"
     ]
    }
   ],
   "source": [
    "import os\n",
    "import cv2\n",
    "from paddleocr import PPStructure,draw_structure_result,save_structure_res\n",
    "\n",
    "table_engine = PPStructure(show_log=True)\n",
    "\n",
    "save_folder = './output'\n",
    "img_path = '../data/layout.png'\n",
    "img = cv2.imread(img_path)\n",
    "result = table_engine(img)\n",
    "save_structure_res(result, save_folder,os.path.basename(img_path).split('.')[0])\n",
    "\n",
    "for line in result:\n",
    "    line.pop('img')\n",
    "    print(line)\n",
    "\n",
    "from PIL import Image\n",
    "\n",
    "font_path = '../fonts/simfang.ttf' # PaddleOCR下提供字体包\n",
    "image = Image.open(img_path).convert('RGB')\n",
    "im_show = draw_structure_result(image, result,font_path=font_path)\n",
    "im_show = Image.fromarray(im_show)\n",
    "im_show.save('result.jpg')"
   ]
  },
  {
   "cell_type": "code",
   "execution_count": 11,
   "metadata": {},
   "outputs": [
    {
     "name": "stdout",
     "output_type": "stream",
     "text": [
      "[2024/06/03 21:29:49] ppocr DEBUG: Namespace(help='==SUPPRESS==', use_gpu=True, use_xpu=False, use_npu=False, ir_optim=True, use_tensorrt=False, min_subgraph_size=15, precision='fp32', gpu_mem=500, gpu_id=0, image_dir=None, page_num=0, det_algorithm='DB', det_model_dir='/home/liangzhu/.paddleocr/whl/det/ch/ch_PP-OCRv4_det_infer', det_limit_side_len=960, det_limit_type='max', det_box_type='quad', det_db_thresh=0.3, det_db_box_thresh=0.6, det_db_unclip_ratio=1.5, max_batch_size=10, use_dilation=False, det_db_score_mode='fast', det_east_score_thresh=0.8, det_east_cover_thresh=0.1, det_east_nms_thresh=0.2, det_sast_score_thresh=0.5, det_sast_nms_thresh=0.2, det_pse_thresh=0, det_pse_box_thresh=0.85, det_pse_min_area=16, det_pse_scale=1, scales=[8, 16, 32], alpha=1.0, beta=1.0, fourier_degree=5, rec_algorithm='SVTR_LCNet', rec_model_dir='/home/liangzhu/.paddleocr/whl/rec/ch/ch_PP-OCRv4_rec_infer', rec_image_inverse=True, rec_image_shape='3, 48, 320', rec_batch_num=6, max_text_length=25, rec_char_dict_path='/home/liangzhu/anaconda3/envs/llm/lib/python3.11/site-packages/paddleocr/ppocr/utils/ppocr_keys_v1.txt', use_space_char=True, vis_font_path='./doc/fonts/simfang.ttf', drop_score=0.5, e2e_algorithm='PGNet', e2e_model_dir=None, e2e_limit_side_len=768, e2e_limit_type='max', e2e_pgnet_score_thresh=0.5, e2e_char_dict_path='./ppocr/utils/ic15_dict.txt', e2e_pgnet_valid_set='totaltext', e2e_pgnet_mode='fast', use_angle_cls=False, cls_model_dir=None, cls_image_shape='3, 48, 192', label_list=['0', '180'], cls_batch_num=6, cls_thresh=0.9, enable_mkldnn=False, cpu_threads=10, use_pdserving=False, warmup=False, sr_model_dir=None, sr_image_shape='3, 32, 128', sr_batch_num=1, draw_img_save_dir='./inference_results', save_crop_res=False, crop_res_save_dir='./output', use_mp=False, total_process_num=1, process_id=0, benchmark=False, save_log_path='./log_output/', show_log=True, use_onnx=False, output='./output', table_max_len=488, table_algorithm='TableAttn', table_model_dir='/home/liangzhu/.paddleocr/whl/table/ch_ppstructure_mobile_v2.0_SLANet_infer', merge_no_span_structure=True, table_char_dict_path='/home/liangzhu/anaconda3/envs/llm/lib/python3.11/site-packages/paddleocr/ppocr/utils/dict/table_structure_dict_ch.txt', layout_model_dir='/home/liangzhu/.paddleocr/whl/layout/picodet_lcnet_x1_0_fgd_layout_cdla_infer', layout_dict_path='/home/liangzhu/anaconda3/envs/llm/lib/python3.11/site-packages/paddleocr/ppocr/utils/dict/layout_dict/layout_cdla_dict.txt', layout_score_threshold=0.5, layout_nms_threshold=0.5, kie_algorithm='LayoutXLM', ser_model_dir=None, re_model_dir=None, use_visual_backbone=True, ser_dict_path='../train_data/XFUND/class_list_xfun.txt', ocr_order_method=None, mode='structure', image_orientation=False, layout=True, table=True, ocr=True, recovery=False, use_pdf2docx_api=False, invert=False, binarize=False, alphacolor=(255, 255, 255), lang='ch', det=True, rec=True, type='ocr', ocr_version='PP-OCRv4', structure_version='PP-StructureV2')\n"
     ]
    },
    {
     "name": "stdout",
     "output_type": "stream",
     "text": [
      "[2024/06/03 21:29:55] ppocr DEBUG: dt_boxes num : 2, elapsed : 0.018271446228027344\n",
      "[2024/06/03 21:29:55] ppocr DEBUG: rec_res num  : 2, elapsed : 0.019602298736572266\n",
      "[2024/06/03 21:29:55] ppocr DEBUG: dt_boxes num : 23, elapsed : 0.026715755462646484\n",
      "[2024/06/03 21:29:55] ppocr DEBUG: rec_res num  : 23, elapsed : 0.07410550117492676\n"
     ]
    }
   ],
   "source": [
    "import os\n",
    "import cv2\n",
    "from paddleocr import PPStructure, draw_structure_result, save_structure_res\n",
    "from PIL import Image\n",
    "\n",
    "img_path = \"./image.png\"\n",
    "\n",
    "table_engine = PPStructure(show_log=True)\n",
    "save_folder = './output'\n",
    "img = cv2.imread(img_path)\n",
    "result = table_engine(img)\n",
    "save_structure_res(result, save_folder, os.path.basename(img_path).split('.')[0])\n",
    "\n",
    "font_path = '../fonts/simfang.ttf'\n",
    "image = Image.open(img_path).convert('RGB')\n",
    "im_show = draw_structure_result(image, result, font_path=font_path)\n",
    "im_show = Image.fromarray(im_show)\n",
    "im_show.save('result.jpg')"
   ]
  },
  {
   "cell_type": "code",
   "execution_count": null,
   "metadata": {},
   "outputs": [],
   "source": []
  }
 ],
 "metadata": {
  "kernelspec": {
   "display_name": "dify",
   "language": "python",
   "name": "python3"
  },
  "language_info": {
   "codemirror_mode": {
    "name": "ipython",
    "version": 3
   },
   "file_extension": ".py",
   "mimetype": "text/x-python",
   "name": "python",
   "nbconvert_exporter": "python",
   "pygments_lexer": "ipython3",
   "version": "3.11.8"
  }
 },
 "nbformat": 4,
 "nbformat_minor": 2
}
