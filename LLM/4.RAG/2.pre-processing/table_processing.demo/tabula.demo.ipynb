{
 "cells": [
  {
   "cell_type": "code",
   "execution_count": 7,
   "metadata": {},
   "outputs": [
    {
     "name": "stdout",
     "output_type": "stream",
     "text": [
      "[      类型 Unnamed: 0  制造商            模型      最高速度          平均成本 安全评级 燃料类型\n",
      "0     汽车         丰田  NaN           卡罗拉  180 km/h       $20,000  5 星   汽油\n",
      "1  电动自行车        特斯拉  NaN  Model X Bike   25 km/h          $800    -    电\n",
      "2   高速列车   法国国家铁路公司  NaN    TGV Duplex  320 km/h  $100 million  5 星    电,   Unnamed: 0  项目     Unnamed: 1  信息\n",
      "0       产品类型 NaN           智能手机 NaN\n",
      "1         品牌 NaN             苹果 NaN\n",
      "2         型号 NaN      iPhone 13 NaN\n",
      "3       主要特点 NaN  A15 芯片,双摄像头系统 NaN\n",
      "4       市场价格 NaN           $799 NaN,   Unnamed: 0 Unnamed: 1  2020 年 Unnamed: 2 Unnamed: 3  2021 年 Unnamed: 4\n",
      "0         名称        NaN     NaN        NaN        NaN     NaN        NaN\n",
      "1        NaN        销售额     NaN         利润        销售额     NaN         利润\n",
      "2         北京       1000     NaN        100       1200     NaN        150\n",
      "3         上海        800     NaN        NaN       1000     NaN        120\n",
      "4         深圳       1200     NaN        120       2000     NaN        230,     类型 水果名称     产地  Unnamed: 0           详细信息\n",
      "0  NaN   橙子   佛罗里达  $1 - $3/kg       维生素 C, 钾\n",
      "1  柑橘类  NaN    NaN         NaN            NaN\n",
      "2  NaN   柠檬  加利福尼亚  $1 - $2/kg  维生素 C, 维生素 B6\n",
      "3  NaN  红富士   华盛顿州  $2 - $4/kg      纤维, 维生素 C\n",
      "4  苹果类  NaN    NaN         NaN            NaN\n",
      "5  NaN  青苹果    新西兰  $2 - $3/kg      纤维, 维生素 C,   Unnamed: 0   香蕉 Unnamed: 1 $0.5 - $1/kg    钾, 维生素 B6\n",
      "0       热带水果  NaN        NaN          NaN          NaN\n",
      "1        NaN   菠萝        菲律宾   $1 - $2/kg      维生素 C,锰\n",
      "2        NaN   蓝莓        缅因州   $3 - $6/kg  抗氧化剂, 维生素 C\n",
      "3        浆果类  NaN        NaN          NaN          NaN\n",
      "4        NaN   草莓      加利福尼亚   $2 - $5/kg      抗氧化剂, 铁,           电影名称          导演    发行年份         主要演员     类型     全球票房\n",
      "0          NaN      詹姆斯·卡梅     NaN  莱昂纳多·迪卡普里奥、    NaN     $2.2\n",
      "1      《泰坦尼克号》         NaN  1997.0          NaN  剧情/爱情      NaN\n",
      "2          NaN           隆     NaN      凯特·温丝莱特    NaN  billion\n",
      "3   《复仇者联盟 4:终       安东尼·罗     NaN    罗伯特·唐尼、克里  超级英雄/    $2.79\n",
      "4          NaN         NaN  2019.0          NaN    NaN      NaN\n",
      "5         局之战》      素、乔·罗素     NaN        斯·埃文斯     科幻  billion\n",
      "6    《星球大战:原力觉         NaN     NaN  黛西·雷德利、约翰·博    NaN   $2.068\n",
      "7          NaN  J.J. 艾布拉姆斯  2015.0          NaN  科幻/冒险      NaN\n",
      "8           醒》         NaN     NaN           耶加    NaN  billion\n",
      "9          NaN         NaN     NaN          NaN    NaN   $1.657\n",
      "10       《狮子王》       乔恩·费儒  2019.0  唐纳德·格洛弗、碧昂斯  动画/冒险      NaN\n",
      "11         NaN         NaN     NaN          NaN    NaN  billion\n",
      "12         NaN      托德·菲利普     NaN          NaN    NaN   $1.074\n",
      "13        《小丑》         NaN  2019.0      杰昆·菲尼克斯  剧情/惊悚      NaN\n",
      "14         NaN           斯     NaN          NaN    NaN  billion]\n"
     ]
    }
   ],
   "source": [
    "import tabula\n",
    "\n",
    "# Read pdf into list of DataFrame\n",
    "dfs = tabula.read_pdf(\"../data/表格.pdf\", pages='all')\n",
    "print(dfs)\n",
    "\n",
    "# convert PDF into CSV file\n",
    "tabula.convert_into(\"../data/表格.pdf\", \"output.csv\", output_format=\"csv\", pages='all')\n",
    "\n",
    "# # convert all PDFs in a directory\n",
    "# tabula.convert_into_by_batch(\"input_directory\", output_format='csv', pages='all')\n"
   ]
  },
  {
   "cell_type": "code",
   "execution_count": 6,
   "metadata": {},
   "outputs": [
    {
     "name": "stdout",
     "output_type": "stream",
     "text": [
      "         A           B  Value\n",
      "0  Group 1  Subgroup 1     10\n",
      "1  Group 1  Subgroup 1     20\n",
      "2  Group 2  Subgroup 2     30\n",
      "3  Group 2  Subgroup 2     40\n"
     ]
    }
   ],
   "source": [
    "import pandas as pd\n",
    "\n",
    "data = {\n",
    "    'A': ['Group 1', 'Group 1', 'Group 2', 'Group 2'],\n",
    "    'B': ['Subgroup 1', 'Subgroup 1', 'Subgroup 2', 'Subgroup 2'],\n",
    "    'Value': [10, 20, 30, 40]\n",
    "}\n",
    "\n",
    "df = pd.DataFrame(data)\n",
    "print(df)"
   ]
  },
  {
   "cell_type": "code",
   "execution_count": null,
   "metadata": {},
   "outputs": [],
   "source": [
    "# Creating a multi-index dataframe to simulate merged cells\n",
    "arrays = [\n",
    "    [\"柑橘类\", \"柑橘类\", \"苹果类\", \"苹果类\"],\n",
    "    [\"橙子\", \"柠檬\", \"红富士\", \"青苹果\"]\n",
    "]\n",
    "index = pd.MultiIndex.from_arrays(arrays, names=(\"类型\", \"水果名称\"))\n",
    "\n",
    "data = {\n",
    "    \"产地\": [\"佛罗里达\", \"加利福尼亚\", \"华盛顿州\", \"新西兰\"],\n",
    "    \"价格\": [\"$1 - $3/kg\", \"$1 - $2/kg\", \"$2 - $4/kg\", \"$2 - $3/kg\"],\n",
    "    \"详细信息\": [\"维生素C, 钾\", \"维生素C, 维生素B6\", \"纤维, 维生素C\", \"纤维, 维生素C\"]\n",
    "}\n",
    "\n",
    "df_multi = pd.DataFrame(data, index=index)\n",
    "\n",
    "# Display the DataFrame\n",
    "tools.display_dataframe_to_user(name=\"合并单元格效果的水果信息表\", dataframe=df_multi)\n",
    "\n",
    "df_multi\n"
   ]
  }
 ],
 "metadata": {
  "kernelspec": {
   "display_name": "llm",
   "language": "python",
   "name": "python3"
  },
  "language_info": {
   "codemirror_mode": {
    "name": "ipython",
    "version": 3
   },
   "file_extension": ".py",
   "mimetype": "text/x-python",
   "name": "python",
   "nbconvert_exporter": "python",
   "pygments_lexer": "ipython3",
   "version": "3.11.8"
  }
 },
 "nbformat": 4,
 "nbformat_minor": 2
}
