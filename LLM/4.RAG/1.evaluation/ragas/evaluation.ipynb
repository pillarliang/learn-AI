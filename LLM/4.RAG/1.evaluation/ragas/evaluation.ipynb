{
 "cells": [
  {
   "cell_type": "code",
   "execution_count": 7,
   "metadata": {},
   "outputs": [],
   "source": [
    "from langchain_community.document_loaders import PyPDFLoader\n",
    "\n",
    "\n",
    "loader = PyPDFLoader(f\"./高速公路养护管理办法.pdf\")\n",
    "pages = loader.load()"
   ]
  },
  {
   "cell_type": "markdown",
   "metadata": {},
   "source": [
    "模型配置\n"
   ]
  },
  {
   "cell_type": "code",
   "execution_count": 1,
   "metadata": {},
   "outputs": [],
   "source": [
    "from ragas.testset.generator import TestsetGenerator\n",
    "from ragas.testset.evolutions import simple, reasoning, multi_context\n",
    "from langchain_openai import ChatOpenAI, OpenAIEmbeddings\n",
    "\n",
    "OPENAI_API_KEY = 'FAKE_KEY'\n",
    "OPENAI_BASE_URL = 'http://10.10.11.2:8001/v1'\n",
    "OPENAI_MODEL_NAME = 'Qwen1.5-14B-Chat'\n",
    "\n",
    "generator_llm = critic_llm  = ChatOpenAI(\n",
    "    api_key=OPENAI_API_KEY,\n",
    "    base_url=OPENAI_BASE_URL,\n",
    "    model=OPENAI_MODEL_NAME,\n",
    ")\n",
    "\n",
    "# # generator with openai models\n",
    "# generator_llm = ChatOpenAI(model=\"gpt-3.5-turbo\")\n",
    "# critic_llm = ChatOpenAI(model=\"gpt-3.5-turbo\")\n",
    "\n",
    "embeddings = OpenAIEmbeddings()"
   ]
  },
  {
   "cell_type": "markdown",
   "metadata": {},
   "source": [
    "使用 ragas 生成 数据集，但是该生成的数据集没有 answer 字段。所以手动通过 gpt，输入 contexts 和 question 获取 answer。\n"
   ]
  },
  {
   "cell_type": "code",
   "execution_count": 10,
   "metadata": {},
   "outputs": [
    {
     "data": {
      "application/vnd.jupyter.widget-view+json": {
       "model_id": "51c04939729944b4a748766dbd4fec6c",
       "version_major": 2,
       "version_minor": 0
      },
      "text/plain": [
       "embedding nodes:   0%|          | 0/26 [00:00<?, ?it/s]"
      ]
     },
     "metadata": {},
     "output_type": "display_data"
    },
    {
     "name": "stderr",
     "output_type": "stream",
     "text": [
      "Filename and doc_id are the same for all nodes.\n"
     ]
    },
    {
     "data": {
      "application/vnd.jupyter.widget-view+json": {
       "model_id": "4b7fab7604544fbfb1173be143686a29",
       "version_major": 2,
       "version_minor": 0
      },
      "text/plain": [
       "Generating:   0%|          | 0/10 [00:00<?, ?it/s]"
      ]
     },
     "metadata": {},
     "output_type": "display_data"
    },
    {
     "name": "stdout",
     "output_type": "stream",
     "text": [
      "Dataset({\n",
      "    features: ['question', 'contexts', 'ground_truth', 'evolution_type', 'metadata', 'episode_done'],\n",
      "    num_rows: 10\n",
      "})\n"
     ]
    }
   ],
   "source": [
    "generator = TestsetGenerator.from_langchain(\n",
    "    generator_llm, # generates the questions\n",
    "    critic_llm, # evolves the question to make it more relevant\n",
    "    embeddings\n",
    ")\n",
    "\n",
    "distributions = {\n",
    "    simple: 0.5,\n",
    "    multi_context: 0.4,\n",
    "    reasoning: 0.1,\n",
    "}\n",
    "\n",
    "language = \"chinese\"\n",
    "generator.adapt(language, evolutions=[simple, reasoning, multi_context])\n",
    "\n",
    "# generate testset\n",
    "testset = generator.generate_with_langchain_docs(pages, test_size=10, distributions=distributions)\n",
    "print(testset.to_dataset())\n",
    "\n",
    "test_df = testset.to_pandas()\n",
    "test_df.to_csv('./output2.csv', index=False, encoding='utf-8')"
   ]
  },
  {
   "cell_type": "markdown",
   "metadata": {},
   "source": [
    "测试使用的数据集。使用 gpt-4 生成的。\n"
   ]
  },
  {
   "cell_type": "code",
   "execution_count": 4,
   "metadata": {},
   "outputs": [
    {
     "data": {
      "text/plain": [
       "{'question': '在遇到养护工程中的安全事故后，应如何按照应急预案进行报告？',\n",
       " 'answer': '在遇到养护工程中的安全事故后，应按应急预案规定的程序及时报告集团及有关单位(或)政府部门。',\n",
       " 'contexts': ['  - 6 -   理。事件发生后，应按应急预案规定的程序及时报告集团及有关\\n单位（或）政府部门。  \\n第二十二条  养护工程应加强综合管理，确保高速公路营运\\n安全。因管理工作不到位而出现质量、安全事故，未能实现养护\\n工作的质量、安全目标，视其性质严重程度追究有关单位和人员\\n的责任。  \\n第四章 前期工作  \\n第二十三条  高速公路养护管理单位按照规范规定的检测指\\n标和频率，定期组织对高速公路路基、路面、桥梁、隧道、附属\\n设施等进行检测和评定。按照相关规范标准、国家和省高速公路\\n养护规划、养护目标，分析养护需求，筛选排序拟实施养护工程\\n项目并提出年度计划安排。在检查、检测、评定时如发现有危及\\n高速公路营运安全的情况， 应及时将有关检测与评定资料上报集\\n团，以加快决策速度，消除安全隐患。  \\n第二十四条  高速公路养护管理单位应对拟实施养护工程的\\n路段、构造物或者附属设施等，及时组织专项检测和方案论证，\\n根据技术状况、病害情况及成因、发展趋势，综合考虑技术、经\\n济、安全、环保等因素，按照全寿命周期综 合效益最佳的原则，\\n合理确定技术方案。  \\n第二十五条  高速公'],\n",
       " 'ground_truth': '事件发生后，应按应急预案规定的程序及时报告集团及有关单位（或）政府部门。'}"
      ]
     },
     "execution_count": 4,
     "metadata": {},
     "output_type": "execute_result"
    }
   ],
   "source": [
    "from datasets import Dataset\n",
    "\n",
    "obj = {\n",
    "    \"question\": [\"在遇到养护工程中的安全事故后，应如何按照应急预案进行报告？\", \n",
    "                 \"高速公路养护工程分为哪几类？\",\n",
    "                 \"高速公路养护工程在安全管理中有哪些要求和责任追究机制？\",\n",
    "                 \"各级管理机构如何确保高速公路养护工作的有效进行？\",\n",
    "                 \"如何利用应急预案和信息化系统提升高速公路运维安全，同时优化隐患排查与决策执行效率？\"\n",
    "                 ],\n",
    "    \"answer\": [\"在遇到养护工程中的安全事故后，应按应急预案规定的程序及时报告集团及有关单位(或)政府部门。\", \n",
    "               \"根据第十三条，高速公路养护工程分为预防养护、修复养护、专项工程和应急养护四类。\",\n",
    "               \"通过科学规划和效益分析，确保养护工程达标。采用预防性养护，强化动态管理、病害监测，及时发现并解决问题。\",\n",
    "               \"养护分公司根据年度计划，制定季度和月度养护计划。\",\n",
    "               \"各级管理机构需明确养护管理部门，配备足够专职人员，执行法规，制定管理制度，指导、检查、监督和考核养护工作，确保其有效进行。\"\n",
    "               ],\n",
    "    \"contexts\": [['  - 6 -   理。事件发生后，应按应急预案规定的程序及时报告集团及有关\\n单位（或）政府部门。  \\n第二十二条  养护工程应加强综合管理，确保高速公路营运\\n安全。因管理工作不到位而出现质量、安全事故，未能实现养护\\n工作的质量、安全目标，视其性质严重程度追究有关单位和人员\\n的责任。  \\n第四章 前期工作  \\n第二十三条  高速公路养护管理单位按照规范规定的检测指\\n标和频率，定期组织对高速公路路基、路面、桥梁、隧道、附属\\n设施等进行检测和评定。按照相关规范标准、国家和省高速公路\\n养护规划、养护目标，分析养护需求，筛选排序拟实施养护工程\\n项目并提出年度计划安排。在检查、检测、评定时如发现有危及\\n高速公路营运安全的情况， 应及时将有关检测与评定资料上报集\\n团，以加快决策速度，消除安全隐患。  \\n第二十四条  高速公路养护管理单位应对拟实施养护工程的\\n路段、构造物或者附属设施等，及时组织专项检测和方案论证，\\n根据技术状况、病害情况及成因、发展趋势，综合考虑技术、经\\n济、安全、环保等因素，按照全寿命周期综 合效益最佳的原则，\\n合理确定技术方案。  \\n第二十五条  高速公'],\n",
    "        [\" - 4 -   第三章 目标与一般要求  \\n第十一条  养护管理目标，通过科学计划、合理组织、严谨\\n实施与严格考核等养护生产活动，保持路况完好，确保高速公路\\n安全、畅通、舒适、美观。  \\n第十二条  养护工程目标：  \\n(一)工程质量合格 率100%； \\n(二)工程投资不突破批复投资计划 （含经批准调整后的投资\\n计划）；  \\n(三)坚决杜绝重大安全责任事故， 避免发生较大安全责任事\\n故，控制一般安全责任事故 ； \\n(四)工程基本建设程序完善，资料完整。   \\n第十三条  养护工程分为预防养护、修复养护、专项工程和\\n应急养护四类。  \\n第十四条  髙速公路养护应加强技术管理，努力提高技术水\\n平。积极推进专业化队伍、专业化设备、专业化技术，加大资金\\n和技术投入，大力开展养护先进技术攻关，探索养护大数据平台\\n建设、养护标准化基地建设，总结适应高寒地区养护工作的系统\\n经验，促进养护实力提升 、积累养护工程业绩、提升养护 专业资\\n质，适应更加开放的市场竞争。  \\n第十五条  充分认识预防性养护的重要性和紧迫性， 贯彻 “预\\n防为主、防治结合 \"\"的方针，加强动态管理和病害监测，根据养\\n护质量检 \"],\n",
    "                 [\" - 7 -   第五章 计划编制  \\n第二十六条  高速公路的养护计划，按照作用和时间长短，\\n分为中长期计划、年度计划、季度计划和月度计划：  \\n（一）中长期计划：是高速公路经营期内的总体养护计划或\\n阶段性养护计划，通常指三年及以上的养护计划。中长期计划的\\n主要内容包括大中修规划、改造规划、养护资金的安排等。  \\n（二）年度计划：指养护生产的当年实施计划。是按照中长\\n期计划所确定的养护目标，根据高速公路现状，落实生产任务，\\n有效地指导养护生产活动的计划。年度计划由养护分公司编制，\\n高速公路养护管理单位审核。高速公路养护管理单位于每年的\\n12月份将次年的年度计划报集团审批，当年的年度计划执行情\\n况报集团备案。年度计划可在第三季度根据实际情况，经集团批\\n准后进行调整。  \\n（三）季度计划和月度计划： 养护分公司在年度计划的基础\\n上，编制季度和月度养护计划。  \\n第二十七条  养护工程计划编制应当优先安排以下项目：  \\n（一）严重影响公众安全通行的；  \\n（二）具有重大政治、经济和国防意义的；  \\n（三）国家、省有明确 要求的事项；  \\n（四）技术状况差、明显影响高速公路整体服务水 \"],\n",
    "                 [\" - 6 -   理。事件发生后，应按应急预案规定的程序及时报告集团及有关\\n单位（或）政府部门。  \\n第二十二条  养护工程应加强综合管理，确保高速公路营运\\n安全。因管理工作不到位而出现质量、安全事故，未能实现养护\\n工作的质量、安全目标，视其性质严重程度追究有关单位和人员\\n的责任。  \\n第四章 前期工作  \\n第二十三条  高速公路养护管理单位按照规范规定的检测指\\n标和频率，定期组织对高速公路路基、路面、桥梁、隧道、附属\\n设施等进行检测和评定。按照相关规范标准、国家和省高速公路\\n养护规划、养护目标，分析养护需求，筛选排序拟实施养护工程\\n项目并提出年度计划安排。在检查、检测、评定时如发现有危及\\n高速公路营运安全的情况， 应及时将有关检测与评定资料上报集\\n团，以加快决策速度，消除安全隐患。  \\n第二十四条  高速公路养护管理单位应对拟实施养护工程的\\n路段、构造物或者附属设施等，及时组织专项检测和方案论证，\\n根据技术状况、病害情况及成因、发展趋势，综合考虑技术、经\\n济、安全、环保等因素，按照全寿命周期综 合效益最佳的原则，\\n合理确定技术方案。  \\n第二十五条  高速公\"],\n",
    "                 [\"  - 2 -   第七条 各级管理机构必须明确养护管理部门，合理配备足\\n够的专职养护管理、技术人员，明确任职条件和职责。  \\n第八条 集团负责宏观调控养护工作，主要职责如下：  \\n（一）贯彻执行国家、行业主管部门制定的关于高速公路养\\n护的法律、法规，制定本集团相应的养护管理制度和企业标准。  \\n（二） 对高速公路养护管理单位的高速公路养护管理工作进\\n行指导、检查、监督和考核。   \\n（三） 确定养护工程总体规划， 审批年度养护工程生产计划。  \\n（四）批复大中修施工图设计，主持修复、应急养护工程验\\n收。 \\n第九条 高速公路养护管理单位作为管理主体，在集团的授\\n权下，负 责全集团养护工作的监督、指导、检查和管理。主要职\\n责如下：  \\n（一）贯彻执行国家、行业主管部门及集团制定的关于高速\\n公路养护的法律、法规或管理制度，制定本 企业相应的各项养护\\n管理办法和实施细则。  \\n（二）对养护分公司的养护管理工作作出具体要求，并进行\\n指导、检查、监督和考核。  \\n（三）养护工程项目储备及计划管理。  \\n（四）统一组织设计、施工、监理、技术咨询、养护设备的\\n招标采购。  \\n（五）审批小修工程施工图 ']，各级管理机构必须明确养护管理部门，合理配备足够的专职养护管理、技术人员，并明确任职条件和职责。他们需要执行相关法规，制定管理制度，进行指导、检查、监督和考核，以确保养护工作的有效进行。\"],\n",
    "                 ],\n",
    "    \"ground_truth\": [\"事件发生后，应按应急预案规定的程序及时报告集团及有关单位（或）政府部门。\", \n",
    "                     \"高速公路养护工程分为预防养护、修复养护、专项工程和应急养护四类。\",\n",
    "                     \"高速公路养护工程应加强综合管理，确保营运安全。如果因管理工作不到位导致质量、安全事故，未能实现养护工作的质量、安全目标，将视其性质严重程度追究有关单位和人员的责任。\",\n",
    "                     \"他们需要执行相关法规，制定管理制度，进行指导、检查、监督和考核，以确保养护工作的有效进行。\",\n",
    "                     \"根据应急预案的规定，事件发生后应及时报告集团及有关单位或政府部门，以加快决策速度，消除安全隐患。同时，高速公路养护管理单位应充分依靠养护信息化管理系统，推进大数据与养护工作深度融合，利用检测数据进行评估，提高养护工程决策和管理能力。例如，通过系统发现危及营运安全的情况，可以及时上报集团，以优化隐患排查与决策执行效率。\"\n",
    "                    ]\n",
    "}\n",
    "\n",
    "dataset = Dataset.from_dict(obj)\n",
    "dataset[0]"
   ]
  },
  {
   "cell_type": "markdown",
   "metadata": {},
   "source": [
    "英文 prompt + 中文语料。LLM 使用默认的 openai\n"
   ]
  },
  {
   "cell_type": "code",
   "execution_count": 11,
   "metadata": {},
   "outputs": [
    {
     "data": {
      "application/vnd.jupyter.widget-view+json": {
       "model_id": "ba35530f8c7b4d1587dedc6212e4b7b4",
       "version_major": 2,
       "version_minor": 0
      },
      "text/plain": [
       "Evaluating:   0%|          | 0/25 [00:00<?, ?it/s]"
      ]
     },
     "metadata": {},
     "output_type": "display_data"
    },
    {
     "data": {
      "text/html": [
       "<div>\n",
       "<style scoped>\n",
       "    .dataframe tbody tr th:only-of-type {\n",
       "        vertical-align: middle;\n",
       "    }\n",
       "\n",
       "    .dataframe tbody tr th {\n",
       "        vertical-align: top;\n",
       "    }\n",
       "\n",
       "    .dataframe thead th {\n",
       "        text-align: right;\n",
       "    }\n",
       "</style>\n",
       "<table border=\"1\" class=\"dataframe\">\n",
       "  <thead>\n",
       "    <tr style=\"text-align: right;\">\n",
       "      <th></th>\n",
       "      <th>question</th>\n",
       "      <th>answer</th>\n",
       "      <th>contexts</th>\n",
       "      <th>ground_truth</th>\n",
       "      <th>faithfulness</th>\n",
       "      <th>context_relevancy</th>\n",
       "      <th>answer_relevancy</th>\n",
       "      <th>answer_correctness</th>\n",
       "      <th>context_recall</th>\n",
       "    </tr>\n",
       "  </thead>\n",
       "  <tbody>\n",
       "    <tr>\n",
       "      <th>0</th>\n",
       "      <td>在遇到养护工程中的安全事故后，应如何按照应急预案进行报告？</td>\n",
       "      <td>在遇到养护工程中的安全事故后，应按应急预案规定的程序及时报告集团及有关单位(或)政府部门。</td>\n",
       "      <td>[  - 6 -   理。事件发生后，应按应急预案规定的程序及时报告集团及有关\\n单位（或）...</td>\n",
       "      <td>事件发生后，应按应急预案规定的程序及时报告集团及有关单位（或）政府部门。</td>\n",
       "      <td>1.0</td>\n",
       "      <td>0.000000</td>\n",
       "      <td>0.960942</td>\n",
       "      <td>0.736363</td>\n",
       "      <td>1.0</td>\n",
       "    </tr>\n",
       "    <tr>\n",
       "      <th>1</th>\n",
       "      <td>高速公路养护工程分为哪几类？</td>\n",
       "      <td>根据第十三条，高速公路养护工程分为预防养护、修复养护、专项工程和应急养护四类。</td>\n",
       "      <td>[ - 4 -   第三章 目标与一般要求  \\n第十一条  养护管理目标，通过科学计划、合...</td>\n",
       "      <td>高速公路养护工程分为预防养护、修复养护、专项工程和应急养护四类。</td>\n",
       "      <td>1.0</td>\n",
       "      <td>0.043478</td>\n",
       "      <td>0.993256</td>\n",
       "      <td>0.995450</td>\n",
       "      <td>1.0</td>\n",
       "    </tr>\n",
       "    <tr>\n",
       "      <th>2</th>\n",
       "      <td>高速公路养护工程在安全管理中有哪些要求和责任追究机制？</td>\n",
       "      <td>通过科学规划和效益分析，确保养护工程达标。采用预防性养护，强化动态管理、病害监测，及时发现并...</td>\n",
       "      <td>[ - 7 -   第五章 计划编制  \\n第二十六条  高速公路的养护计划，按照作用和时间...</td>\n",
       "      <td>高速公路养护工程应加强综合管理，确保营运安全。如果因管理工作不到位导致质量、安全事故，未能实...</td>\n",
       "      <td>1.0</td>\n",
       "      <td>0.000000</td>\n",
       "      <td>0.863221</td>\n",
       "      <td>0.719449</td>\n",
       "      <td>1.0</td>\n",
       "    </tr>\n",
       "    <tr>\n",
       "      <th>3</th>\n",
       "      <td>各级管理机构如何确保高速公路养护工作的有效进行？</td>\n",
       "      <td>养护分公司根据年度计划，制定季度和月度养护计划。</td>\n",
       "      <td>[ - 6 -   理。事件发生后，应按应急预案规定的程序及时报告集团及有关\\n单位（或）政...</td>\n",
       "      <td>他们需要执行相关法规，制定管理制度，进行指导、检查、监督和考核，以确保养护工作的有效进行。</td>\n",
       "      <td>1.0</td>\n",
       "      <td>0.000000</td>\n",
       "      <td>0.838871</td>\n",
       "      <td>0.715269</td>\n",
       "      <td>1.0</td>\n",
       "    </tr>\n",
       "    <tr>\n",
       "      <th>4</th>\n",
       "      <td>如何利用应急预案和信息化系统提升高速公路运维安全，同时优化隐患排查与决策执行效率？</td>\n",
       "      <td>各级管理机构需明确养护管理部门，配备足够专职人员，执行法规，制定管理制度，指导、检查、监督和...</td>\n",
       "      <td>[  - 2 -   第七条 各级管理机构必须明确养护管理部门，合理配备足\\n够的专职养护管...</td>\n",
       "      <td>根据应急预案的规定，事件发生后应及时报告集团及有关单位或政府部门，以加快决策速度，消除安全隐...</td>\n",
       "      <td>0.6</td>\n",
       "      <td>0.000000</td>\n",
       "      <td>0.820203</td>\n",
       "      <td>0.512419</td>\n",
       "      <td>1.0</td>\n",
       "    </tr>\n",
       "  </tbody>\n",
       "</table>\n",
       "</div>"
      ],
      "text/plain": [
       "                                    question  ... context_recall\n",
       "0              在遇到养护工程中的安全事故后，应如何按照应急预案进行报告？  ...            1.0\n",
       "1                             高速公路养护工程分为哪几类？  ...            1.0\n",
       "2                高速公路养护工程在安全管理中有哪些要求和责任追究机制？  ...            1.0\n",
       "3                   各级管理机构如何确保高速公路养护工作的有效进行？  ...            1.0\n",
       "4  如何利用应急预案和信息化系统提升高速公路运维安全，同时优化隐患排查与决策执行效率？  ...            1.0\n",
       "\n",
       "[5 rows x 9 columns]"
      ]
     },
     "execution_count": 11,
     "metadata": {},
     "output_type": "execute_result"
    }
   ],
   "source": [
    "from ragas.metrics import faithfulness, context_relevancy, answer_relevancy, answer_correctness, context_recall\n",
    "from ragas import evaluate\n",
    "\n",
    "metrics = [faithfulness, context_relevancy, answer_relevancy, answer_correctness, context_recall]\n",
    "score = evaluate(dataset, metrics=metrics)\n",
    "print(score)\n",
    "score.to_pandas()"
   ]
  },
  {
   "cell_type": "markdown",
   "metadata": {},
   "source": [
    "设置 metrics 适应中文\n"
   ]
  },
  {
   "cell_type": "code",
   "execution_count": 8,
   "metadata": {},
   "outputs": [],
   "source": [
    "from ragas.metrics import faithfulness, context_relevancy, answer_relevancy, answer_correctness, context_recall\n",
    "from ragas import evaluate\n",
    "from ragas import adapt\n",
    "from langchain_openai import ChatOpenAI, OpenAIEmbeddings\n",
    "\n",
    "llm = ChatOpenAI(\n",
    "    api_key=OPENAI_API_KEY,\n",
    "    base_url=OPENAI_BASE_URL,\n",
    "    model=OPENAI_MODEL_NAME,\n",
    ")\n",
    "\n",
    "openai_model = ChatOpenAI(model_name=\"gpt-4\")"
   ]
  },
  {
   "cell_type": "code",
   "execution_count": 12,
   "metadata": {},
   "outputs": [
    {
     "name": "stdout",
     "output_type": "stream",
     "text": [
      "Given a context, and an answer, analyze each sentence in the answer and classify if the sentence can be attributed to the given context or not. Use only \"Yes\" (1) or \"No\" (0) as a binary classification. Output json with reason.\n",
      "\n",
      "The output should be a well-formatted JSON instance that conforms to the JSON schema below.\n",
      "\n",
      "As an example, for the schema {{\"properties\": {{\"foo\": {{\"title\": \"Foo\", \"description\": \"a list of strings\", \"type\": \"array\", \"items\": {{\"type\": \"string\"}}}}}}, \"required\": [\"foo\"]}}\n",
      "the object {{\"foo\": [\"bar\", \"baz\"]}} is a well-formatted instance of the schema. The object {{\"properties\": {{\"foo\": [\"bar\", \"baz\"]}}}} is not well-formatted.\n",
      "\n",
      "Here is the output JSON schema:\n",
      "```\n",
      "{{\"type\": \"array\", \"items\": {{\"$ref\": \"#/definitions/ContextRecallClassificationAnswer\"}}, \"definitions\": {{\"ContextRecallClassificationAnswer\": {{\"title\": \"ContextRecallClassificationAnswer\", \"type\": \"object\", \"properties\": {{\"statement\": {{\"title\": \"Statement\", \"type\": \"string\"}}, \"attributed\": {{\"title\": \"Attributed\", \"type\": \"integer\"}}, \"reason\": {{\"title\": \"Reason\", \"type\": \"string\"}}}}, \"required\": [\"statement\", \"attributed\", \"reason\"]}}}}}}\n",
      "```\n",
      "\n",
      "Do not return any preamble or explanations, return only a pure JSON string surrounded by triple backticks (```).\n",
      "\n",
      "Examples:\n",
      "\n",
      "question: \"你能告诉我关于阿尔伯特·爱因斯坦的事情吗？\"\n",
      "context: \"阿尔伯特·爱因斯坦（1879年3月14日 - 1955年4月18日）是一位出生于德国的理论物理学家，被广泛认为是有史以来最伟大和最有影响力的科学家之一。他最为人所知的是发展了相对论，他还对量子力学做出了重要贡献，因此在二十世纪初的几十年里，他在科学对自然的理解的革命性重塑中起着核心作用。他的质能等价公式E = mc2，源于相对论，被誉为“世界上最著名的等式”。他因“对理论物理的贡献，特别是发现了光电效应的定律”而获得了1921年的诺贝尔物理学奖，这是量子理论发展的关键步骤。他的工作也因其对科学哲学的影响而闻名。在1999年由英国物理世界杂志对全球130位领先物理学家进行的投票中，爱因斯坦被评为有史以来最伟大的物理学家。他的智力成就和独创性使爱因斯坦与天才成为同义词。\"\n",
      "answer: \"阿尔伯特·爱因斯坦，1879年3月14日出生，是德国出生的理论物理学家，被广泛认为是有史以来最伟大和最有影响力的科学家之一。他因对理论物理学的贡献而获得了1921年的诺贝尔物理学奖。他在1905年发表了4篇论文。爱因斯坦于1895年移居瑞士。\"\n",
      "classification: ```[{{\"statement\": \"阿尔伯特·爱因斯坦，1879年3月14日出生，是一位出生于德国的理论物理学家，被广泛认为是有史以来最伟大和最有影响力的科学家之一。\", \"attributed\": 1, \"reason\": \"爱因斯坦的出生日期在上下文中明确提到。\"}}, {{\"statement\": \"他因对理论物理学的贡献获得了1921年的诺贝尔物理学奖。\", \"attributed\": 1, \"reason\": \"给定上下文中存在确切的句子。\"}}, {{\"statement\": \"他在1905年发表了4篇论文。\", \"attributed\": 0, \"reason\": \"在给定的上下文中没有提到他写的论文。\"}}, {{\"statement\": \"爱因斯坦在1895年移居瑞士。\", \"attributed\": 0, \"reason\": \"在给定的上下文中没有支持这一点的证据。\"}}]```\n",
      "\n",
      "question: \"谁赢得了2020年的国际板球理事会世界杯？\"\n",
      "context: \"2022年的ICC男子T20世界杯于2022年10月16日至11月13日在澳大利亚举行，这是该锦标赛的第八届。原定于2020年举行，但由于COVID-19大流行而推迟。英格兰在决赛中以五个投球击败巴基斯坦，赢得了他们的第二个ICC男子T20世界杯冠军。\"\n",
      "answer: \"英格兰\"\n",
      "classification: ```[{{\"statement\": \"英格兰赢得了2022年ICC男子T20世界杯。\", \"attributed\": 1, \"reason\": \"从上下文中可以清楚地看出，英格兰击败了巴基斯坦赢得了世界杯。\"}}]```\n",
      "\n",
      "question: \"太阳的主要燃料是什么？\"\n",
      "context: \"输入: \\\"NULL\\\"\\n输出: \\\"输入:“NULL”\\\"\"\n",
      "answer: \"氢\"\n",
      "classification: ```[{{\"statement\": \"太阳的主要燃料是氢。\", \"attributed\": 0, \"reason\": \"上下文中没有信息\"}}]```\n",
      "\n",
      "Your actual task:\n",
      "\n",
      "question: {question}\n",
      "context: {context}\n",
      "answer: {answer}\n",
      "classification: \n",
      "\n"
     ]
    }
   ],
   "source": [
    "adapt(metrics=[faithfulness, context_relevancy, answer_relevancy, answer_correctness, context_recall], language=\"中文\", llm=llm)\n",
    "print(context_recall.context_recall_prompt.to_string())"
   ]
  },
  {
   "cell_type": "markdown",
   "metadata": {},
   "source": [
    "中文 prompt + 中文数据集进行测试\n"
   ]
  },
  {
   "cell_type": "code",
   "execution_count": 13,
   "metadata": {},
   "outputs": [
    {
     "name": "stdout",
     "output_type": "stream",
     "text": [
      "Given a context, and an answer, analyze each sentence in the answer and classify if the sentence can be attributed to the given context or not. Use only \"Yes\" (1) or \"No\" (0) as a binary classification. Output json with reason.\n",
      "\n",
      "The output should be a well-formatted JSON instance that conforms to the JSON schema below.\n",
      "\n",
      "As an example, for the schema {{\"properties\": {{\"foo\": {{\"title\": \"Foo\", \"description\": \"a list of strings\", \"type\": \"array\", \"items\": {{\"type\": \"string\"}}}}}}, \"required\": [\"foo\"]}}\n",
      "the object {{\"foo\": [\"bar\", \"baz\"]}} is a well-formatted instance of the schema. The object {{\"properties\": {{\"foo\": [\"bar\", \"baz\"]}}}} is not well-formatted.\n",
      "\n",
      "Here is the output JSON schema:\n",
      "```\n",
      "{{\"type\": \"array\", \"items\": {{\"$ref\": \"#/definitions/ContextRecallClassificationAnswer\"}}, \"definitions\": {{\"ContextRecallClassificationAnswer\": {{\"title\": \"ContextRecallClassificationAnswer\", \"type\": \"object\", \"properties\": {{\"statement\": {{\"title\": \"Statement\", \"type\": \"string\"}}, \"attributed\": {{\"title\": \"Attributed\", \"type\": \"integer\"}}, \"reason\": {{\"title\": \"Reason\", \"type\": \"string\"}}}}, \"required\": [\"statement\", \"attributed\", \"reason\"]}}}}}}\n",
      "```\n",
      "\n",
      "Do not return any preamble or explanations, return only a pure JSON string surrounded by triple backticks (```).\n",
      "\n",
      "Examples:\n",
      "\n",
      "question: \"你能告诉我关于阿尔伯特·爱因斯坦的事情吗？\"\n",
      "context: \"阿尔伯特·爱因斯坦（1879年3月14日 - 1955年4月18日）是一位出生于德国的理论物理学家，被广泛认为是有史以来最伟大和最有影响力的科学家之一。他最为人所知的是发展了相对论，他还对量子力学做出了重要贡献，因此在二十世纪初的几十年里，他在科学对自然的理解的革命性重塑中起着核心作用。他的质能等价公式E = mc2，源于相对论，被誉为“世界上最著名的等式”。他因“对理论物理的贡献，特别是发现了光电效应的定律”而获得了1921年的诺贝尔物理学奖，这是量子理论发展的关键步骤。他的工作也因其对科学哲学的影响而闻名。在1999年由英国物理世界杂志对全球130位领先物理学家进行的投票中，爱因斯坦被评为有史以来最伟大的物理学家。他的智力成就和独创性使爱因斯坦与天才成为同义词。\"\n",
      "answer: \"阿尔伯特·爱因斯坦，1879年3月14日出生，是德国出生的理论物理学家，被广泛认为是有史以来最伟大和最有影响力的科学家之一。他因对理论物理学的贡献而获得了1921年的诺贝尔物理学奖。他在1905年发表了4篇论文。爱因斯坦于1895年移居瑞士。\"\n",
      "classification: ```[{{\"statement\": \"阿尔伯特·爱因斯坦，1879年3月14日出生，是一位出生于德国的理论物理学家，被广泛认为是有史以来最伟大和最有影响力的科学家之一。\", \"attributed\": 1, \"reason\": \"爱因斯坦的出生日期在上下文中明确提到。\"}}, {{\"statement\": \"他因对理论物理学的贡献获得了1921年的诺贝尔物理学奖。\", \"attributed\": 1, \"reason\": \"给定上下文中存在确切的句子。\"}}, {{\"statement\": \"他在1905年发表了4篇论文。\", \"attributed\": 0, \"reason\": \"在给定的上下文中没有提到他写的论文。\"}}, {{\"statement\": \"爱因斯坦在1895年移居瑞士。\", \"attributed\": 0, \"reason\": \"在给定的上下文中没有支持这一点的证据。\"}}]```\n",
      "\n",
      "question: \"谁赢得了2020年的国际板球理事会世界杯？\"\n",
      "context: \"2022年的ICC男子T20世界杯于2022年10月16日至11月13日在澳大利亚举行，这是该锦标赛的第八届。原定于2020年举行，但由于COVID-19大流行而推迟。英格兰在决赛中以五个投球击败巴基斯坦，赢得了他们的第二个ICC男子T20世界杯冠军。\"\n",
      "answer: \"英格兰\"\n",
      "classification: ```[{{\"statement\": \"英格兰赢得了2022年ICC男子T20世界杯。\", \"attributed\": 1, \"reason\": \"从上下文中可以清楚地看出，英格兰击败了巴基斯坦赢得了世界杯。\"}}]```\n",
      "\n",
      "question: \"太阳的主要燃料是什么？\"\n",
      "context: \"输入: \\\"NULL\\\"\\n输出: \\\"输入:“NULL”\\\"\"\n",
      "answer: \"氢\"\n",
      "classification: ```[{{\"statement\": \"太阳的主要燃料是氢。\", \"attributed\": 0, \"reason\": \"上下文中没有信息\"}}]```\n",
      "\n",
      "Your actual task:\n",
      "\n",
      "question: {question}\n",
      "context: {context}\n",
      "answer: {answer}\n",
      "classification: \n",
      "\n"
     ]
    },
    {
     "data": {
      "application/vnd.jupyter.widget-view+json": {
       "model_id": "5fbaeda75769470f9c1638de8a73c1c3",
       "version_major": 2,
       "version_minor": 0
      },
      "text/plain": [
       "Evaluating:   0%|          | 0/25 [00:00<?, ?it/s]"
      ]
     },
     "metadata": {},
     "output_type": "display_data"
    },
    {
     "name": "stdout",
     "output_type": "stream",
     "text": [
      "{'faithfulness': 0.9200, 'context_relevancy': 0.0087, 'answer_relevancy': 0.9006, 'answer_correctness': 0.7841, 'context_recall': 0.8333}\n"
     ]
    },
    {
     "data": {
      "text/html": [
       "<div>\n",
       "<style scoped>\n",
       "    .dataframe tbody tr th:only-of-type {\n",
       "        vertical-align: middle;\n",
       "    }\n",
       "\n",
       "    .dataframe tbody tr th {\n",
       "        vertical-align: top;\n",
       "    }\n",
       "\n",
       "    .dataframe thead th {\n",
       "        text-align: right;\n",
       "    }\n",
       "</style>\n",
       "<table border=\"1\" class=\"dataframe\">\n",
       "  <thead>\n",
       "    <tr style=\"text-align: right;\">\n",
       "      <th></th>\n",
       "      <th>question</th>\n",
       "      <th>answer</th>\n",
       "      <th>contexts</th>\n",
       "      <th>ground_truth</th>\n",
       "      <th>faithfulness</th>\n",
       "      <th>context_relevancy</th>\n",
       "      <th>answer_relevancy</th>\n",
       "      <th>answer_correctness</th>\n",
       "      <th>context_recall</th>\n",
       "    </tr>\n",
       "  </thead>\n",
       "  <tbody>\n",
       "    <tr>\n",
       "      <th>0</th>\n",
       "      <td>在遇到养护工程中的安全事故后，应如何按照应急预案进行报告？</td>\n",
       "      <td>在遇到养护工程中的安全事故后，应按应急预案规定的程序及时报告集团及有关单位(或)政府部门。</td>\n",
       "      <td>[  - 6 -   理。事件发生后，应按应急预案规定的程序及时报告集团及有关\\n单位（或）...</td>\n",
       "      <td>事件发生后，应按应急预案规定的程序及时报告集团及有关单位（或）政府部门。</td>\n",
       "      <td>1.0</td>\n",
       "      <td>0.000000</td>\n",
       "      <td>0.962356</td>\n",
       "      <td>0.986295</td>\n",
       "      <td>0.500000</td>\n",
       "    </tr>\n",
       "    <tr>\n",
       "      <th>1</th>\n",
       "      <td>高速公路养护工程分为哪几类？</td>\n",
       "      <td>根据第十三条，高速公路养护工程分为预防养护、修复养护、专项工程和应急养护四类。</td>\n",
       "      <td>[ - 4 -   第三章 目标与一般要求  \\n第十一条  养护管理目标，通过科学计划、合...</td>\n",
       "      <td>高速公路养护工程分为预防养护、修复养护、专项工程和应急养护四类。</td>\n",
       "      <td>1.0</td>\n",
       "      <td>0.043478</td>\n",
       "      <td>1.000000</td>\n",
       "      <td>0.995453</td>\n",
       "      <td>1.000000</td>\n",
       "    </tr>\n",
       "    <tr>\n",
       "      <th>2</th>\n",
       "      <td>高速公路养护工程在安全管理中有哪些要求和责任追究机制？</td>\n",
       "      <td>通过科学规划和效益分析，确保养护工程达标。采用预防性养护，强化动态管理、病害监测，及时发现并...</td>\n",
       "      <td>[ - 7 -   第五章 计划编制  \\n第二十六条  高速公路的养护计划，按照作用和时间...</td>\n",
       "      <td>高速公路养护工程应加强综合管理，确保营运安全。如果因管理工作不到位导致质量、安全事故，未能实...</td>\n",
       "      <td>1.0</td>\n",
       "      <td>0.000000</td>\n",
       "      <td>0.863197</td>\n",
       "      <td>0.594449</td>\n",
       "      <td>1.000000</td>\n",
       "    </tr>\n",
       "    <tr>\n",
       "      <th>3</th>\n",
       "      <td>各级管理机构如何确保高速公路养护工作的有效进行？</td>\n",
       "      <td>养护分公司根据年度计划，制定季度和月度养护计划。</td>\n",
       "      <td>[ - 6 -   理。事件发生后，应按应急预案规定的程序及时报告集团及有关\\n单位（或）政...</td>\n",
       "      <td>他们需要执行相关法规，制定管理制度，进行指导、检查、监督和考核，以确保养护工作的有效进行。</td>\n",
       "      <td>1.0</td>\n",
       "      <td>0.000000</td>\n",
       "      <td>0.855797</td>\n",
       "      <td>0.465269</td>\n",
       "      <td>1.000000</td>\n",
       "    </tr>\n",
       "    <tr>\n",
       "      <th>4</th>\n",
       "      <td>如何利用应急预案和信息化系统提升高速公路运维安全，同时优化隐患排查与决策执行效率？</td>\n",
       "      <td>各级管理机构需明确养护管理部门，配备足够专职人员，执行法规，制定管理制度，指导、检查、监督和...</td>\n",
       "      <td>[  - 2 -   第七条 各级管理机构必须明确养护管理部门，合理配备足\\n够的专职养护管...</td>\n",
       "      <td>根据应急预案的规定，事件发生后应及时报告集团及有关单位或政府部门，以加快决策速度，消除安全隐...</td>\n",
       "      <td>0.6</td>\n",
       "      <td>0.000000</td>\n",
       "      <td>0.821787</td>\n",
       "      <td>0.879085</td>\n",
       "      <td>0.666667</td>\n",
       "    </tr>\n",
       "  </tbody>\n",
       "</table>\n",
       "</div>"
      ],
      "text/plain": [
       "                                    question  \\\n",
       "0              在遇到养护工程中的安全事故后，应如何按照应急预案进行报告？   \n",
       "1                             高速公路养护工程分为哪几类？   \n",
       "2                高速公路养护工程在安全管理中有哪些要求和责任追究机制？   \n",
       "3                   各级管理机构如何确保高速公路养护工作的有效进行？   \n",
       "4  如何利用应急预案和信息化系统提升高速公路运维安全，同时优化隐患排查与决策执行效率？   \n",
       "\n",
       "                                              answer  \\\n",
       "0      在遇到养护工程中的安全事故后，应按应急预案规定的程序及时报告集团及有关单位(或)政府部门。   \n",
       "1            根据第十三条，高速公路养护工程分为预防养护、修复养护、专项工程和应急养护四类。   \n",
       "2  通过科学规划和效益分析，确保养护工程达标。采用预防性养护，强化动态管理、病害监测，及时发现并...   \n",
       "3                           养护分公司根据年度计划，制定季度和月度养护计划。   \n",
       "4  各级管理机构需明确养护管理部门，配备足够专职人员，执行法规，制定管理制度，指导、检查、监督和...   \n",
       "\n",
       "                                            contexts  \\\n",
       "0  [  - 6 -   理。事件发生后，应按应急预案规定的程序及时报告集团及有关\\n单位（或）...   \n",
       "1  [ - 4 -   第三章 目标与一般要求  \\n第十一条  养护管理目标，通过科学计划、合...   \n",
       "2  [ - 7 -   第五章 计划编制  \\n第二十六条  高速公路的养护计划，按照作用和时间...   \n",
       "3  [ - 6 -   理。事件发生后，应按应急预案规定的程序及时报告集团及有关\\n单位（或）政...   \n",
       "4  [  - 2 -   第七条 各级管理机构必须明确养护管理部门，合理配备足\\n够的专职养护管...   \n",
       "\n",
       "                                        ground_truth  faithfulness  \\\n",
       "0               事件发生后，应按应急预案规定的程序及时报告集团及有关单位（或）政府部门。           1.0   \n",
       "1                   高速公路养护工程分为预防养护、修复养护、专项工程和应急养护四类。           1.0   \n",
       "2  高速公路养护工程应加强综合管理，确保营运安全。如果因管理工作不到位导致质量、安全事故，未能实...           1.0   \n",
       "3      他们需要执行相关法规，制定管理制度，进行指导、检查、监督和考核，以确保养护工作的有效进行。           1.0   \n",
       "4  根据应急预案的规定，事件发生后应及时报告集团及有关单位或政府部门，以加快决策速度，消除安全隐...           0.6   \n",
       "\n",
       "   context_relevancy  answer_relevancy  answer_correctness  context_recall  \n",
       "0           0.000000          0.962356            0.986295        0.500000  \n",
       "1           0.043478          1.000000            0.995453        1.000000  \n",
       "2           0.000000          0.863197            0.594449        1.000000  \n",
       "3           0.000000          0.855797            0.465269        1.000000  \n",
       "4           0.000000          0.821787            0.879085        0.666667  "
      ]
     },
     "execution_count": 13,
     "metadata": {},
     "output_type": "execute_result"
    }
   ],
   "source": [
    "metrics = [faithfulness, context_relevancy, answer_relevancy, answer_correctness, context_recall]\n",
    "\n",
    "print(context_recall.context_recall_prompt.to_string()) # 检查prompt是否为中文\n",
    "score = evaluate(dataset, metrics=metrics)\n",
    "print(score)\n",
    "score.to_pandas()"
   ]
  },
  {
   "cell_type": "code",
   "execution_count": null,
   "metadata": {},
   "outputs": [],
   "source": []
  }
 ],
 "metadata": {
  "kernelspec": {
   "display_name": "llm",
   "language": "python",
   "name": "python3"
  },
  "language_info": {
   "codemirror_mode": {
    "name": "ipython",
    "version": 3
   },
   "file_extension": ".py",
   "mimetype": "text/x-python",
   "name": "python",
   "nbconvert_exporter": "python",
   "pygments_lexer": "ipython3",
   "version": "3.12.2"
  }
 },
 "nbformat": 4,
 "nbformat_minor": 2
}
