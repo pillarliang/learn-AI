{
 "cells": [
  {
   "cell_type": "code",
   "execution_count": null,
   "metadata": {},
   "outputs": [],
   "source": [
    "!pip install \"unstructured[pdf]\"\n",
    "# charset-normalizer must not be 2.04"
   ]
  },
  {
   "cell_type": "code",
   "execution_count": 1,
   "metadata": {},
   "outputs": [
    {
     "name": "stderr",
     "output_type": "stream",
     "text": [
      "This function will be deprecated in a future release and `unstructured` will simply use the DEFAULT_MODEL from `unstructured_inference.model.base` to set default model name\n",
      "Some weights of the model checkpoint at microsoft/table-transformer-structure-recognition were not used when initializing TableTransformerForObjectDetection: ['model.backbone.conv_encoder.model.layer2.0.downsample.1.num_batches_tracked', 'model.backbone.conv_encoder.model.layer3.0.downsample.1.num_batches_tracked', 'model.backbone.conv_encoder.model.layer4.0.downsample.1.num_batches_tracked']\n",
      "- This IS expected if you are initializing TableTransformerForObjectDetection from the checkpoint of a model trained on another task or with another architecture (e.g. initializing a BertForSequenceClassification model from a BertForPreTraining model).\n",
      "- This IS NOT expected if you are initializing TableTransformerForObjectDetection from the checkpoint of a model that you expect to be exactly identical (initializing a BertForSequenceClassification model from a BertForSequenceClassification model).\n"
     ]
    },
    {
     "name": "stdout",
     "output_type": "stream",
     "text": [
      "共产党宣⾔ ⻢克思 恩格斯1848 年\n",
      "\n",
      "1872 年德⽂版序⾔ 共产主义者同盟这个在当时条件下⾃然只能是秘密团体的国际⼯⼈组织。 标题⼀\n",
      "\n",
      "结果就产⽣了这个《宣⾔》，《宣⾔》原稿在⼆⽉⾰命前⼏星期送到伦敦付。不管最近 25 年来的情况发⽣了多 ⼤的变化。 当时(1847 年 12 ⽉)，卷⼊⽆产阶级运动的地区是多么狭⼩，这从《宣⾔》最后⼀章《共产党⼈对各国各种反 对党派的态度》中可以看得很清楚。\n",
      "\n",
      "《宣⾔》最初⽤德⽂出版，它⽤这种⽂字在德 国、英国和美国⾄少印过⼗⼆种不同的版本。第 ⼀个英译本是由海伦·⻨克法林⼥⼠翻译的，于 1850 年在伦敦《红⾊共和党⼈》杂志上发表。 今天，情况完全不同了！正是欧洲移⺠，使北美能 够进⾏⼤规模的农业⽣产，这种农业⽣产的竞争震\n",
      "\n",
      "撼着欧洲⼤⼩⼟地所有制的根基。此外，这种移⺠ 还使美国能够以巨⼤的⼒量和规模开发其丰富的⼯ 业资源，以⾄于很快就会摧毁⻄欧特别是英国迄今 为⽌的⼯业垄断地位。\n",
      "标题⼆\n",
      "\n",
      "巴枯宁翻译的《共产党宣⾔》俄⽂第⼀版，60 年代初由《钟声》印刷所出版。当时⻄⽅认为这件事(《宣⾔》 译成俄⽂出版)是著作界的⼀件奇闻。这种看法今天是不可能有了。 2.1 测试 11 这个《宣⾔》中所阐述的⼀般原理整个说来直到现在还是完全正确的。 2.2 测试 22 某些地⽅本来可以作⼀些修改。\n",
      "种类 单价 库存 苹果 5.0 122 香蕉 6.0 144 橘子 3.1 178\n",
      "⽔果种类\n",
      "\n",
      "卡尔·⻢克思 弗⾥德⾥希·恩格斯\n",
      "\n",
      "  \n",
      "\n",
      "1872 年 6 ⽉ 24 ⽇于伦敦\n",
      "种类 单价 库存 苹果 5.0 122\n",
      "香蕉 6.0 144 橘子 3.1 178\n",
      "跨⻚表格 在瑞⼠，共产党⼈⽀持激进派，但是并不忽略这个政党是由互相⽭盾的分⼦组成的，其中⼀部分是法国式的⺠ 主社会主义者，⼀部分是激进的资产者。 在波兰⼈中间，共产党⼈⽀持那个把⼟地⾰命当做⺠族解放的条件的政党，即发动过 1846 年克拉科夫起义的 政党。 在德国，只要资产阶级采取⾰命的⾏动，共产党就同它⼀起去反对专制君主制、封建⼟地所有制和⼩市⺠的反 动性。 但是，共产党⼀分钟也不忽略教育⼯⼈尽可能明确地意识到资产阶级和⽆产阶级的敌对的对⽴，以便德国⼯⼈ 能够⽴刻利⽤资产阶级统治所必然带来的社会的和政治的条件作为反对资产阶级的武器，以便在推翻德国的反 动阶级之后⽴即开始反对资产阶级本⾝的⽃争。 共产党⼈把⾃⼰的主要注意⼒集中在德国，因为德国正处在资产阶级⾰命的前夜，因为同 17 世纪的英国和 18 世纪的法国相⽐，德国将在整个欧洲⽂明更进步的条件下，拥有发展得多的⽆产阶级去实现这个变⾰，因⽽德 国的资产阶级⾰命只能是⽆产阶级⾰命的直接序幕。 总之，共产党⼈到处都⽀持⼀切反对现存的社会制度和政治制度的⾰命运动。\n",
      "在所有这些运动中，他们都特别强调所有制问题，把它作为运动的基本问题，不管这个问题当时的发展程度怎 样。 最后，共产党⼈到处都努⼒争取全世界的⺠主政党之间的团结和协调。\n",
      "\n",
      "共产党⼈不屑于隐瞒⾃⼰的观点和意图。他们公开宣布：他们的⽬的只有⽤暴⼒推翻全部现存的社会制度才能 达到。让统治阶级在共产主义⾰命⾯前发抖吧。⽆产者在这个⾰命中失去的只是锁链。他们获得的将是整个世 界。 全世界⽆产者，联合起来！\n"
     ]
    }
   ],
   "source": [
    "from unstructured.partition.pdf import partition_pdf  \n",
    "  \n",
    "file_path = '../data/测试.pdf'\n",
    "  \n",
    "# infer_table_structure=True automatically selects hi_res strategy  \n",
    "elements = partition_pdf(filename=file_path, infer_table_structure=True, languages=[\"chi_sim\"], chunking_strategy='by_title')\n",
    "\n",
    "for ele in elements:\n",
    "    print(ele.text)"
   ]
  },
  {
   "cell_type": "code",
   "execution_count": 2,
   "metadata": {},
   "outputs": [
    {
     "name": "stdout",
     "output_type": "stream",
     "text": [
      "某 些 地 方 本 来 可 以 作 一 些 修 改 。 种 类 单价 库存 苹果 5.0 122 香 6.0 144 橘子 3.1 178\n",
      "--------------------------------------------------\n",
      "<table><thead><th>种 类</th><th>王 攻 以 。 单价</th><th>库存</th></thead><tr><td>苹果</td><td>5.0</td><td>122</td></tr><tr><td>香 菩</td><td>6.0</td><td>144</td></tr><tr><td>橘子</td><td>| 3</td><td>178</td></tr></table>\n"
     ]
    }
   ],
   "source": [
    "tables = [el for el in elements if el.category == \"Table\"]  \n",
    "  \n",
    "print(tables[0].text)  \n",
    "print('--------------------------------------------------')  \n",
    "print(tables[0].metadata.text_as_html)"
   ]
  },
  {
   "cell_type": "code",
   "execution_count": null,
   "metadata": {},
   "outputs": [],
   "source": []
  }
 ],
 "metadata": {
  "kernelspec": {
   "display_name": "llm",
   "language": "python",
   "name": "python3"
  },
  "language_info": {
   "codemirror_mode": {
    "name": "ipython",
    "version": 3
   },
   "file_extension": ".py",
   "mimetype": "text/x-python",
   "name": "python",
   "nbconvert_exporter": "python",
   "pygments_lexer": "ipython3",
   "version": "3.11.9"
  }
 },
 "nbformat": 4,
 "nbformat_minor": 2
}
