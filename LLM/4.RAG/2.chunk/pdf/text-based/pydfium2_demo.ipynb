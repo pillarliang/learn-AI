{
 "cells": [
  {
   "cell_type": "code",
   "execution_count": 2,
   "metadata": {},
   "outputs": [],
   "source": [
    "import pypdfium2\n",
    "\n",
    "\n",
    "def get_pdf_result(file_path):\n",
    "    text_list = []\n",
    "    pdf_reader = pypdfium2.PdfDocument(file_path, autoclose=True)\n",
    "    try:\n",
    "        for page_number, page in enumerate(pdf_reader):\n",
    "            text_page = page.get_textpage()\n",
    "            content = text_page.get_text_range()\n",
    "            text_page.close()\n",
    "            page.close()\n",
    "            text_list.append(content)\n",
    "    finally:\n",
    "        pdf_reader.close()\n",
    "    return \"\\n\\n\".join(text_list)"
   ]
  },
  {
   "cell_type": "code",
   "execution_count": null,
   "metadata": {},
   "outputs": [],
   "source": [
    "file_path = './data/分栏.pdf'\n",
    "res = get_pdf_result(file_path)\n",
    "\n",
    "with open('./data/分栏.txt', 'w') as file:\n",
    "    file.write(res)"
   ]
  },
  {
   "cell_type": "code",
   "execution_count": 8,
   "metadata": {},
   "outputs": [
    {
     "name": "stdout",
     "output_type": "stream",
     "text": [
      "⽔果名称 单价（元） 库存数量\n",
      "苹果 5 129\n",
      "橙⼦ 7 34\n",
      "草莓 10 80\n",
      "这个表格展示了⼏种常⻅⽔果在⼀个虚拟商店中的价格和库存状况。\n"
     ]
    }
   ],
   "source": [
    "file_path = './data/表格.pdf'\n",
    "res = get_pdf_result(file_path)\n",
    "print(res)\n",
    "\n",
    "with open('./data/表格.txt', 'w') as file:\n",
    "    file.write(res)"
   ]
  },
  {
   "cell_type": "code",
   "execution_count": 6,
   "metadata": {},
   "outputs": [
    {
     "name": "stdout",
     "output_type": "stream",
     "text": [
      "\n",
      "\n",
      "\n"
     ]
    }
   ],
   "source": [
    "file_path = '../../data/image-based.pdf'\n",
    "res = get_pdf_result(file_path)\n",
    "print(res)"
   ]
  },
  {
   "cell_type": "code",
   "execution_count": 10,
   "metadata": {},
   "outputs": [
    {
     "name": "stdout",
     "output_type": "stream",
     "text": [
      "True\n"
     ]
    }
   ],
   "source": [
    "def is_text_based_pdf(pdf_path: str) -> bool:\n",
    "    try:\n",
    "        with open(pdf_path, 'rb') as file:\n",
    "            reader = pypdfium2.PdfDocument(pdf_path, autoclose=True)\n",
    "            if reader[0].get_textpage().get_text_range():\n",
    "                return True\n",
    "            else:\n",
    "                return False\n",
    "    except Exception as e:\n",
    "        print(f\"error occurs when open pdf, {e}\")\n",
    "\n",
    "# file_path = '../../data/image-based.pdf'\n",
    "file_path = '../../data/text-based.pdf'\n",
    "\n",
    "print(is_text_based_pdf(file_path))"
   ]
  },
  {
   "cell_type": "markdown",
   "metadata": {},
   "source": [
    "## 使用langchain 内部的 PyPDFium2Loader\n",
    "\n",
    "langchain 中 PyPDFium2Loader 内部使用了 rapidocr_onnxruntime 进行ocr 识别"
   ]
  },
  {
   "cell_type": "code",
   "execution_count": 3,
   "metadata": {},
   "outputs": [
    {
     "name": "stdout",
     "output_type": "stream",
     "text": [
      "page_content='\\n' metadata={'source': '../../data/image-based.pdf', 'page': 0}\n",
      "page_content='\\n' metadata={'source': '../../data/image-based.pdf', 'page': 1}\n"
     ]
    }
   ],
   "source": [
    "\n",
    "from langchain_community.document_loaders import PyPDFium2Loader\n",
    "\n",
    "# file_path = '../../data/image-based.pdf'\n",
    "file_path = '../../data/text-based.pdf'\n",
    "\n",
    "loader = PyPDFium2Loader(file_path)\n",
    "docs = loader.load()\n",
    "for doc in docs:\n",
    "    print(doc)"
   ]
  },
  {
   "cell_type": "code",
   "execution_count": 5,
   "metadata": {},
   "outputs": [
    {
     "name": "stdout",
     "output_type": "stream",
     "text": [
      "page_content='\\n得复制、转发或引用\\n本文件版权为黑龙江省交通投资集团有限公司所有，未经公司许可，不\\n编号\\n制度\\n黑龙江省交通投资集团有限公司\\nLJJT-1901A-02-2023（V1)\\n“三重一大”决策制度\\n密级\\n无' metadata={'source': '../../data/image-based.pdf', 'page': 0}\n",
      "page_content='\\n集团相关规定，保证各项决策合法合规\\n讨论决定的制度\\n人事任免、重要项目安排及大额度资金使用”需经领导班子集体\\n学慎重、务实高效，特制定本制度\\n基础上的集中相结合，按照“集体领导、民主集中、个别酝酿\\n规范从业行为，实现决策程序规范民主、依规合法，决策质量科\\n班子和领导干部集体决策、科学决策、民主决策、依法决策意识\\n一大”等重要事项决策意见的通知》要求，进一步强化集团领导\\n会议决定”的要求进行决策，保证权力正确运行\\n中的关系，严格执行民主集中制，坚持集中指导下的民主与民主\\n第二条\\n第一条\\n为深入贯彻省国资委党委《关于新组建投资集团规范“三重\\n（三）坚持科学决策。以新发展理念为指导，解放思想，求\\n（二）坚持民主决策。领导班子成员要正确处理好民主与集\\n（一）坚持依法决策。遵循国家法律法规、党内规章制度及\\n黑龙江省交通投资集团有限公司\\n“三重一大”事项决策必须遵循以下原则：\\n“三重一大”制度是指集团“重大事项决策、重要\\n“三重一大”决策制度\\n第一章总则' metadata={'source': '../../data/image-based.pdf', 'page': 1}\n"
     ]
    }
   ],
   "source": [
    "from langchain_community.document_loaders import PyPDFium2Loader\n",
    "\n",
    "file_path = '../../data/image-based.pdf'\n",
    "# file_path = '../../data/text-based.pdf'\n",
    "\n",
    "loader = PyPDFium2Loader(file_path, extract_images=True)\n",
    "docs = loader.load()\n",
    "for doc in docs:\n",
    "    print(doc)"
   ]
  },
  {
   "cell_type": "code",
   "execution_count": null,
   "metadata": {},
   "outputs": [],
   "source": []
  }
 ],
 "metadata": {
  "kernelspec": {
   "display_name": "dify",
   "language": "python",
   "name": "python3"
  },
  "language_info": {
   "codemirror_mode": {
    "name": "ipython",
    "version": 3
   },
   "file_extension": ".py",
   "mimetype": "text/x-python",
   "name": "python",
   "nbconvert_exporter": "python",
   "pygments_lexer": "ipython3",
   "version": "3.11.8"
  }
 },
 "nbformat": 4,
 "nbformat_minor": 2
}
