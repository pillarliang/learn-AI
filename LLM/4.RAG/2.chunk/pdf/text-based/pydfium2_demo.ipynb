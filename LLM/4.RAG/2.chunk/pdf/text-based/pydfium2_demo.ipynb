{
 "cells": [
  {
   "cell_type": "code",
   "execution_count": 4,
   "metadata": {},
   "outputs": [],
   "source": [
    "import pypdfium2\n",
    "\n",
    "\n",
    "def get_pdf_result(file_path):\n",
    "    text_list = []\n",
    "    pdf_reader = pypdfium2.PdfDocument(file_path, autoclose=True)\n",
    "    try:\n",
    "        for page_number, page in enumerate(pdf_reader):\n",
    "            text_page = page.get_textpage()\n",
    "            content = text_page.get_text_range()\n",
    "            text_page.close()\n",
    "            page.close()\n",
    "            text_list.append(content)\n",
    "    finally:\n",
    "        pdf_reader.close()\n",
    "    return \"\\n\\n\".join(text_list)"
   ]
  },
  {
   "cell_type": "code",
   "execution_count": null,
   "metadata": {},
   "outputs": [],
   "source": [
    "file_path = './data/分栏.pdf'\n",
    "res = get_pdf_result(file_path)\n",
    "\n",
    "with open('./data/分栏.txt', 'w') as file:\n",
    "    file.write(res)"
   ]
  },
  {
   "cell_type": "code",
   "execution_count": 8,
   "metadata": {},
   "outputs": [
    {
     "name": "stdout",
     "output_type": "stream",
     "text": [
      "⽔果名称 单价（元） 库存数量\n",
      "苹果 5 129\n",
      "橙⼦ 7 34\n",
      "草莓 10 80\n",
      "这个表格展示了⼏种常⻅⽔果在⼀个虚拟商店中的价格和库存状况。\n"
     ]
    }
   ],
   "source": [
    "file_path = './data/表格.pdf'\n",
    "res = get_pdf_result(file_path)\n",
    "print(res)\n",
    "\n",
    "with open('./data/表格.txt', 'w') as file:\n",
    "    file.write(res)"
   ]
  },
  {
   "cell_type": "code",
   "execution_count": null,
   "metadata": {},
   "outputs": [],
   "source": []
  }
 ],
 "metadata": {
  "kernelspec": {
   "display_name": "dify",
   "language": "python",
   "name": "python3"
  },
  "language_info": {
   "codemirror_mode": {
    "name": "ipython",
    "version": 3
   },
   "file_extension": ".py",
   "mimetype": "text/x-python",
   "name": "python",
   "nbconvert_exporter": "python",
   "pygments_lexer": "ipython3",
   "version": "3.10.14"
  }
 },
 "nbformat": 4,
 "nbformat_minor": 2
}
