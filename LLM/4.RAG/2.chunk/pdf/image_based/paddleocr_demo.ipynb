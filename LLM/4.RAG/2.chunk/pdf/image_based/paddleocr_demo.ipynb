{
 "cells": [
  {
   "cell_type": "code",
   "execution_count": 1,
   "metadata": {},
   "outputs": [],
   "source": [
    "import os\n",
    "import fitz  # pip install PyMuPDF\n",
    "from tqdm import tqdm\n",
    "import numpy as np\n",
    "import base64\n",
    "from paddleocr import PaddleOCR\n",
    "\n",
    "\n",
    "def pdf_ocr_txt(filepath, dir_path=\"tmp_files\"):\n",
    "    full_dir_path = os.path.join(os.path.dirname(filepath), dir_path)\n",
    "    if not os.path.exists(full_dir_path):\n",
    "        os.makedirs(full_dir_path)\n",
    "    doc = fitz.open(filepath)\n",
    "    txt_file_path = os.path.join(full_dir_path, \"{}.txt\".format(os.path.split(filepath)[-1]))\n",
    "    img_name = os.path.join(full_dir_path, 'tmp.png')\n",
    "    with open(txt_file_path, 'w', encoding='utf-8') as fout:\n",
    "        for i in tqdm(range(doc.page_count)):\n",
    "            page = doc.load_page(i)\n",
    "            pix = page.get_pixmap() # 将 PDF 页面转换成一个图像\n",
    "            img = np.frombuffer(pix.samples, dtype=np.uint8).reshape((pix.h, pix.w, pix.n))\n",
    "\n",
    "            img_data = {\"img64\": base64.b64encode(img).decode(\"utf-8\"), \"height\": pix.h, \"width\": pix.w,\n",
    "                        \"channels\": pix.n}\n",
    "            result = ocr(img_data)\n",
    "            result = [line for line in result if line]\n",
    "            ocr_result = [i[1][0] for line in result for i in line]\n",
    "            fout.write(\"\\n\".join(ocr_result))\n",
    "    if os.path.exists(img_name):\n",
    "        os.remove(img_name)\n",
    "    return txt_file_path\n",
    "\n",
    "\n",
    "def ocr(img_data):\n",
    "    # 初始化 PaddleOCR 引擎\n",
    "    ocr_engine = PaddleOCR(use_angle_cls=True, lang=\"ch\", use_gpu=True, show_log=False)\n",
    "\n",
    "\n",
    "    img_file = img_data['img64']\n",
    "    height = img_data['height']\n",
    "    width = img_data['width']\n",
    "    channels = img_data['channels']\n",
    "\n",
    "    binary_data = base64.b64decode(img_file)\n",
    "    img_array = np.frombuffer(binary_data, dtype=np.uint8).reshape((height, width, channels))\n",
    "\n",
    "    # 无文件上传，返回错误\n",
    "    if not img_file:\n",
    "        return 'error: No file was uploaded.'\n",
    "\n",
    "    # 调用 PaddleOCR 进行识别\n",
    "    res = ocr_engine.ocr(img_array)\n",
    "\n",
    "    # 返回识别结果\n",
    "    return res"
   ]
  },
  {
   "cell_type": "code",
   "execution_count": 3,
   "metadata": {},
   "outputs": [
    {
     "name": "stderr",
     "output_type": "stream",
     "text": [
      "  0%|          | 0/1 [00:00<?, ?it/s]"
     ]
    },
    {
     "name": "stderr",
     "output_type": "stream",
     "text": [
      "100%|██████████| 1/1 [00:03<00:00,  3.26s/it]"
     ]
    },
    {
     "name": "stdout",
     "output_type": "stream",
     "text": [
      "./data/tmp_files/image_分栏&表格.pdf.txt\n"
     ]
    },
    {
     "name": "stderr",
     "output_type": "stream",
     "text": [
      "\n"
     ]
    }
   ],
   "source": [
    "pdf_path = './data/image_分栏&表格.pdf'\n",
    "res = pdf_ocr_txt(pdf_path)\n",
    "print(res)"
   ]
  },
  {
   "cell_type": "code",
   "execution_count": null,
   "metadata": {},
   "outputs": [],
   "source": []
  }
 ],
 "metadata": {
  "kernelspec": {
   "display_name": "dify",
   "language": "python",
   "name": "python3"
  },
  "language_info": {
   "codemirror_mode": {
    "name": "ipython",
    "version": 3
   },
   "file_extension": ".py",
   "mimetype": "text/x-python",
   "name": "python",
   "nbconvert_exporter": "python",
   "pygments_lexer": "ipython3",
   "version": "3.10.14"
  }
 },
 "nbformat": 4,
 "nbformat_minor": 2
}
