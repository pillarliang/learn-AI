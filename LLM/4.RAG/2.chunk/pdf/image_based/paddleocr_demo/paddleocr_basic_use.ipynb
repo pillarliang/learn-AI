{
 "cells": [
  {
   "cell_type": "code",
   "execution_count": 2,
   "metadata": {},
   "outputs": [
    {
     "name": "stdout",
     "output_type": "stream",
     "text": [
      "[2024/05/30 14:06:04] ppocr DEBUG: Namespace(help='==SUPPRESS==', use_gpu=False, use_xpu=False, use_npu=False, ir_optim=True, use_tensorrt=False, min_subgraph_size=15, precision='fp32', gpu_mem=500, gpu_id=0, image_dir=None, page_num=2, det_algorithm='DB', det_model_dir='/Users/liangzhu/.paddleocr/whl/det/ch/ch_PP-OCRv4_det_infer', det_limit_side_len=960, det_limit_type='max', det_box_type='quad', det_db_thresh=0.3, det_db_box_thresh=0.6, det_db_unclip_ratio=1.5, max_batch_size=10, use_dilation=False, det_db_score_mode='fast', det_east_score_thresh=0.8, det_east_cover_thresh=0.1, det_east_nms_thresh=0.2, det_sast_score_thresh=0.5, det_sast_nms_thresh=0.2, det_pse_thresh=0, det_pse_box_thresh=0.85, det_pse_min_area=16, det_pse_scale=1, scales=[8, 16, 32], alpha=1.0, beta=1.0, fourier_degree=5, rec_algorithm='SVTR_LCNet', rec_model_dir='/Users/liangzhu/.paddleocr/whl/rec/ch/ch_PP-OCRv4_rec_infer', rec_image_inverse=True, rec_image_shape='3, 48, 320', rec_batch_num=6, max_text_length=25, rec_char_dict_path='/Users/liangzhu/anaconda3/envs/dify/lib/python3.10/site-packages/paddleocr/ppocr/utils/ppocr_keys_v1.txt', use_space_char=True, vis_font_path='./doc/fonts/simfang.ttf', drop_score=0.5, e2e_algorithm='PGNet', e2e_model_dir=None, e2e_limit_side_len=768, e2e_limit_type='max', e2e_pgnet_score_thresh=0.5, e2e_char_dict_path='./ppocr/utils/ic15_dict.txt', e2e_pgnet_valid_set='totaltext', e2e_pgnet_mode='fast', use_angle_cls=True, cls_model_dir='/Users/liangzhu/.paddleocr/whl/cls/ch_ppocr_mobile_v2.0_cls_infer', cls_image_shape='3, 48, 192', label_list=['0', '180'], cls_batch_num=6, cls_thresh=0.9, enable_mkldnn=False, cpu_threads=10, use_pdserving=False, warmup=False, sr_model_dir=None, sr_image_shape='3, 32, 128', sr_batch_num=1, draw_img_save_dir='./inference_results', save_crop_res=False, crop_res_save_dir='./output', use_mp=False, total_process_num=1, process_id=0, benchmark=False, save_log_path='./log_output/', show_log=True, use_onnx=False, output='./output', table_max_len=488, table_algorithm='TableAttn', table_model_dir=None, merge_no_span_structure=True, table_char_dict_path=None, layout_model_dir=None, layout_dict_path=None, layout_score_threshold=0.5, layout_nms_threshold=0.5, kie_algorithm='LayoutXLM', ser_model_dir=None, re_model_dir=None, use_visual_backbone=True, ser_dict_path='../train_data/XFUND/class_list_xfun.txt', ocr_order_method=None, mode='structure', image_orientation=False, layout=True, table=True, ocr=True, recovery=False, use_pdf2docx_api=False, invert=False, binarize=False, alphacolor=(255, 255, 255), lang='ch', det=True, rec=True, type='ocr', ocr_version='PP-OCRv4', structure_version='PP-StructureV2')\n",
      "[2024/05/30 14:06:05] ppocr DEBUG: dt_boxes num : 9, elapsed : 0.6352748870849609\n",
      "[2024/05/30 14:06:06] ppocr DEBUG: cls num  : 9, elapsed : 0.0851438045501709\n",
      "[2024/05/30 14:06:07] ppocr DEBUG: rec_res num  : 9, elapsed : 1.8859179019927979\n",
      "[2024/05/30 14:06:08] ppocr DEBUG: dt_boxes num : 20, elapsed : 0.618304967880249\n",
      "[2024/05/30 14:06:08] ppocr DEBUG: cls num  : 20, elapsed : 0.16940522193908691\n",
      "[2024/05/30 14:06:16] ppocr DEBUG: rec_res num  : 20, elapsed : 7.299256086349487\n",
      "[[[223.0, 244.0], [276.0, 244.0], [276.0, 277.0], [223.0, 277.0]], ('制度', 0.9999682903289795)]\n",
      "[[[370.0, 275.0], [677.0, 274.0], [677.0, 303.0], [371.0, 305.0]], ('LJJT-1901A-02-2023(V1)', 0.9690529108047485)]\n",
      "[[[780.0, 275.0], [828.0, 275.0], [828.0, 303.0], [780.0, 303.0]], ('密级', 0.9997453689575195)]\n",
      "[[[941.0, 272.0], [977.0, 272.0], [977.0, 305.0], [941.0, 305.0]], ('无', 0.9998787641525269)]\n",
      "[[[222.0, 307.0], [275.0, 307.0], [275.0, 340.0], [222.0, 340.0]], ('编号', 0.9999904036521912)]\n",
      "[[[406.0, 558.0], [823.0, 561.0], [822.0, 611.0], [406.0, 607.0]], ('“三重一大”决策制度', 0.9913738965988159)]\n",
      "[[[330.0, 972.0], [886.0, 970.0], [886.0, 1012.0], [330.0, 1014.0]], ('黑龙江省交通投资集团有限公司', 0.9968653321266174)]\n",
      "[[[184.0, 1316.0], [1039.0, 1314.0], [1039.0, 1349.0], [184.0, 1351.0]], ('本文件版权为黑龙江省交通投资集团有限公司所有，未经公司许可，不', 0.999305009841919)]\n",
      "[[[183.0, 1374.0], [440.0, 1374.0], [440.0, 1409.0], [183.0, 1409.0]], ('得复制、转发或引用', 0.9996726512908936)]\n",
      "[[[299.0, 207.0], [911.0, 205.0], [911.0, 247.0], [300.0, 249.0]], ('黑龙江省交通投资集团有限公司', 0.9977757334709167)]\n",
      "[[[410.0, 260.0], [822.0, 261.0], [822.0, 304.0], [409.0, 302.0]], ('“三重一大”决策制度', 0.9843043088912964)]\n",
      "[[[234.0, 388.0], [1042.0, 382.0], [1042.0, 412.0], [234.0, 418.0]], ('为深入贯彻省国资委党委《关于新组建投资集团规范“三重', 0.9991251230239868)]\n",
      "[[[170.0, 444.0], [1042.0, 438.0], [1042.0, 468.0], [170.0, 474.0]], ('一大”等重要事项决策意见的通知》要求，进一步强化集团领导', 0.998947024345398)]\n",
      "[[[168.0, 500.0], [1040.0, 495.0], [1040.0, 524.0], [168.0, 530.0]], ('班子和领导干部集体决策、科学决策、民主决策、依法决策意识，', 0.9984207153320312)]\n",
      "[[[168.0, 554.0], [1044.0, 551.0], [1044.0, 581.0], [168.0, 584.0]], ('规范从业行为，实现决策程序规范民主、依规合法，决策质量科', 0.9995440244674683)]\n",
      "[[[170.0, 610.0], [661.0, 609.0], [661.0, 640.0], [170.0, 642.0]], ('学慎重、务实高效，特制定本制度。', 0.9997948408126831)]\n",
      "[[[509.0, 723.0], [707.0, 723.0], [707.0, 753.0], [509.0, 753.0]], ('第一章总则', 0.9998186230659485)]\n",
      "[[[234.0, 833.0], [1047.0, 830.0], [1047.0, 861.0], [234.0, 865.0]], ('第一条“三重一大”制度是指集团“重大事项决策、重要', 0.9989176392555237)]\n",
      "[[[170.0, 891.0], [1047.0, 888.0], [1047.0, 917.0], [170.0, 921.0]], ('人事任免、重要项目安排及大额度资金使用”需经领导班子集体', 0.9987484216690063)]\n",
      "[[[172.0, 947.0], [409.0, 947.0], [409.0, 977.0], [172.0, 977.0]], ('讨论决定的制度。', 0.9998505115509033)]\n",
      "[[[234.0, 1003.0], [930.0, 998.0], [931.0, 1028.0], [234.0, 1033.0]], ('第二条“三重一大”事项决策必须遵循以下原则：', 0.9975680708885193)]\n",
      "[[[250.0, 1058.0], [1049.0, 1054.0], [1049.0, 1084.0], [250.0, 1088.0]], ('（一）坚持依法决策。遵循国家法律法规、党内规章制度及', 0.9991029500961304)]\n",
      "[[[174.0, 1114.0], [728.0, 1114.0], [728.0, 1144.0], [174.0, 1144.0]], ('集团相关规定，保证各项决策合法合规。', 0.9997643232345581)]\n",
      "[[[250.0, 1170.0], [1051.0, 1166.0], [1051.0, 1196.0], [250.0, 1200.0]], ('（二）坚持民主决策。领导班子成员要正确处理好民主与集', 0.998994767665863)]\n",
      "[[[175.0, 1226.0], [1049.0, 1223.0], [1049.0, 1252.0], [176.0, 1256.0]], ('中的关系，严格执行民主集中制，坚持集中指导下的民主与民主', 0.9994765520095825)]\n",
      "[[[174.0, 1282.0], [1047.0, 1279.0], [1047.0, 1309.0], [174.0, 1312.0]], ('基础上的集中相结合，按照“集体领导、民主集中、个别酝酿、', 0.9971391558647156)]\n",
      "[[[175.0, 1338.0], [859.0, 1335.0], [860.0, 1365.0], [176.0, 1368.0]], ('会议决定”的要求进行决策，保证权力正确运行。', 0.9995319247245789)]\n",
      "[[[252.0, 1395.0], [1054.0, 1391.0], [1055.0, 1421.0], [252.0, 1424.0]], ('（三）坚持科学决策。以新发展理念为指导，解放思想，求', 0.9991229772567749)]\n",
      "[[[987.0, 1556.0], [1056.0, 1556.0], [1056.0, 1588.0], [987.0, 1588.0]], ('-1一', 0.6965899467468262)]\n"
     ]
    }
   ],
   "source": [
    "from paddleocr import PaddleOCR, draw_ocr\n",
    "\n",
    "# Paddleocr目前支持的多语言语种可以通过修改lang参数进行切换\n",
    "# 例如`ch`, `en`, `fr`, `german`, `korean`, `japan`\n",
    "PAGE_NUM = 2 # 将识别页码前置作为全局，防止后续打开pdf的参数和前文识别参数不一致 / Set the recognition page number\n",
    "pdf_path = '../../../data/image-based.pdf'\n",
    "ocr = PaddleOCR(use_angle_cls=True, lang=\"ch\", page_num=PAGE_NUM)  # need to run only once to download and load model into memory\n",
    "# ocr = PaddleOCR(use_angle_cls=True, lang=\"ch\", page_num=PAGE_NUM,use_gpu=0) # 如果需要使用GPU，请取消此行的注释 并注释上一行 / To Use GPU,uncomment this line and comment the above one.\n",
    "result = ocr.ocr(pdf_path, cls=True) # 不是按页识别的，而是全部识别完，以行为单位。\n",
    "for idx in range(len(result)):\n",
    "    res = result[idx]\n",
    "    if res == None: # 识别到空页就跳过，防止程序报错 / Skip when empty result detected to avoid TypeError:NoneType\n",
    "        print(f\"[DEBUG] Empty page {idx+1} detected, skip it.\")\n",
    "        continue\n",
    "    for line in res:\n",
    "        print(line)\n",
    "        "
   ]
  },
  {
   "cell_type": "code",
   "execution_count": null,
   "metadata": {},
   "outputs": [],
   "source": [
    "# 显示结果\n",
    "import fitz\n",
    "from PIL import Image\n",
    "import cv2\n",
    "import numpy as np\n",
    "imgs = []\n",
    "with fitz.open(pdf_path) as pdf:\n",
    "    for pg in range(0, PAGE_NUM):\n",
    "        page = pdf[pg]\n",
    "        mat = fitz.Matrix(2, 2)\n",
    "        pm = page.get_pixmap(matrix=mat, alpha=False)\n",
    "        # if width or height > 2000 pixels, don't enlarge the image\n",
    "        if pm.width > 2000 or pm.height > 2000:\n",
    "            pm = page.get_pixmap(matrix=fitz.Matrix(1, 1), alpha=False)\n",
    "        img = Image.frombytes(\"RGB\", [pm.width, pm.height], pm.samples)\n",
    "        img = cv2.cvtColor(np.array(img), cv2.COLOR_RGB2BGR)\n",
    "        imgs.append(img)\n",
    "for idx in range(len(result)):\n",
    "    res = result[idx]\n",
    "    if res == None:\n",
    "        continue\n",
    "    image = imgs[idx]\n",
    "    boxes = [line[0] for line in res]\n",
    "    txts = [line[1][0] for line in res]\n",
    "    scores = [line[1][1] for line in res]\n",
    "    im_show = draw_ocr(image, boxes, txts, scores)\n",
    "    im_show = Image.fromarray(im_show)\n",
    "    im_show.save('result_page_{}.jpg'.format(idx))"
   ]
  },
  {
   "cell_type": "code",
   "execution_count": null,
   "metadata": {},
   "outputs": [],
   "source": []
  }
 ],
 "metadata": {
  "kernelspec": {
   "display_name": "dify",
   "language": "python",
   "name": "python3"
  },
  "language_info": {
   "codemirror_mode": {
    "name": "ipython",
    "version": 3
   },
   "file_extension": ".py",
   "mimetype": "text/x-python",
   "name": "python",
   "nbconvert_exporter": "python",
   "pygments_lexer": "ipython3",
   "version": "3.10.14"
  }
 },
 "nbformat": 4,
 "nbformat_minor": 2
}
