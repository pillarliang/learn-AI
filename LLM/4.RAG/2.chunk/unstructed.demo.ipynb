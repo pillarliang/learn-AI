{
 "cells": [
  {
   "cell_type": "markdown",
   "metadata": {},
   "source": [
    "### .doc\n"
   ]
  },
  {
   "cell_type": "code",
   "execution_count": 2,
   "metadata": {},
   "outputs": [
    {
     "name": "stderr",
     "output_type": "stream",
     "text": [
      "2024-04-25 20:57:30.250 soffice[13560:1028982] WARNING: Secure coding is not enabled for restorable state! Enable secure coding by implementing NSApplicationDelegate.applicationSupportsSecureRestorableState: and returning YES.\n"
     ]
    },
    {
     "data": {
      "text/plain": [
       "[<unstructured.documents.elements.Table at 0x143959b80>,\n",
       " <unstructured.documents.elements.Table at 0x144f66030>,\n",
       " <unstructured.documents.elements.Title at 0x1465030b0>,\n",
       " <unstructured.documents.elements.Title at 0x10d831100>,\n",
       " <unstructured.documents.elements.Title at 0x1483f6f90>,\n",
       " <unstructured.documents.elements.Text at 0x1483f71a0>,\n",
       " <unstructured.documents.elements.Text at 0x1483f6f30>,\n",
       " <unstructured.documents.elements.Title at 0x1483f7380>,\n",
       " <unstructured.documents.elements.Title at 0x1483f74a0>,\n",
       " <unstructured.documents.elements.Text at 0x1483f7560>,\n",
       " <unstructured.documents.elements.Text at 0x1483f7830>,\n",
       " <unstructured.documents.elements.Text at 0x1483f7860>,\n",
       " <unstructured.documents.elements.Text at 0x1483f7770>,\n",
       " <unstructured.documents.elements.Text at 0x1483f7a40>,\n",
       " <unstructured.documents.elements.Text at 0x1483f7aa0>,\n",
       " <unstructured.documents.elements.Title at 0x1483f79e0>,\n",
       " <unstructured.documents.elements.Title at 0x145ac7ef0>,\n",
       " <unstructured.documents.elements.Title at 0x14581fb00>,\n",
       " <unstructured.documents.elements.Title at 0x148400050>,\n",
       " <unstructured.documents.elements.Title at 0x142c583e0>,\n",
       " <unstructured.documents.elements.Title at 0x1484006e0>,\n",
       " <unstructured.documents.elements.Title at 0x143ce8770>,\n",
       " <unstructured.documents.elements.Title at 0x148400650>,\n",
       " <unstructured.documents.elements.Title at 0x148400830>,\n",
       " <unstructured.documents.elements.Title at 0x148400c80>,\n",
       " <unstructured.documents.elements.Title at 0x148400a10>,\n",
       " <unstructured.documents.elements.Title at 0x148400ef0>,\n",
       " <unstructured.documents.elements.Title at 0x148401010>,\n",
       " <unstructured.documents.elements.Title at 0x148401160>,\n",
       " <unstructured.documents.elements.Title at 0x1484010d0>,\n",
       " <unstructured.documents.elements.Title at 0x145c11490>,\n",
       " <unstructured.documents.elements.Title at 0x148401580>,\n",
       " <unstructured.documents.elements.Title at 0x1484016d0>,\n",
       " <unstructured.documents.elements.Title at 0x148401820>,\n",
       " <unstructured.documents.elements.Title at 0x148401970>,\n",
       " <unstructured.documents.elements.Title at 0x1484011c0>,\n",
       " <unstructured.documents.elements.Title at 0x148401c10>,\n",
       " <unstructured.documents.elements.Title at 0x148401d90>,\n",
       " <unstructured.documents.elements.Title at 0x148401f10>,\n",
       " <unstructured.documents.elements.Title at 0x148402090>,\n",
       " <unstructured.documents.elements.Title at 0x148402060>,\n",
       " <unstructured.documents.elements.Title at 0x148402300>,\n",
       " <unstructured.documents.elements.Title at 0x145c12510>,\n",
       " <unstructured.documents.elements.Title at 0x148402900>,\n",
       " <unstructured.documents.elements.Title at 0x148401940>,\n",
       " <unstructured.documents.elements.Title at 0x148402930>,\n",
       " <unstructured.documents.elements.Title at 0x148402810>,\n",
       " <unstructured.documents.elements.ListItem at 0x148402cf0>,\n",
       " <unstructured.documents.elements.ListItem at 0x148402d20>,\n",
       " <unstructured.documents.elements.ListItem at 0x148402d50>,\n",
       " <unstructured.documents.elements.ListItem at 0x148402d80>,\n",
       " <unstructured.documents.elements.ListItem at 0x1484028d0>,\n",
       " <unstructured.documents.elements.Title at 0x148403050>,\n",
       " <unstructured.documents.elements.Title at 0x1484032c0>,\n",
       " <unstructured.documents.elements.Title at 0x148403260>,\n",
       " <unstructured.documents.elements.Title at 0x148403320>,\n",
       " <unstructured.documents.elements.Title at 0x1484036b0>,\n",
       " <unstructured.documents.elements.Title at 0x148403800>]"
      ]
     },
     "execution_count": 2,
     "metadata": {},
     "output_type": "execute_result"
    }
   ],
   "source": [
    "from unstructured.partition.doc import partition_doc\n",
    "\n",
    "doc = partition_doc(\"./data/test.doc\")\n",
    "doc"
   ]
  },
  {
   "cell_type": "code",
   "execution_count": 3,
   "metadata": {},
   "outputs": [
    {
     "name": "stderr",
     "output_type": "stream",
     "text": [
      "2024-04-25 20:57:45.588 soffice[13662:1029957] WARNING: Secure coding is not enabled for restorable state! Enable secure coding by implementing NSApplicationDelegate.applicationSupportsSecureRestorableState: and returning YES.\n"
     ]
    },
    {
     "data": {
      "text/plain": [
       "[Document(page_content='制度 编号 LJJT-0208 A-01-2023（V） 密级 无 可持续发展（ESG）委员会议事规则 黑龙江省交通投资集团有限公司 本文件版权为黑龙江省交通投资集团有限公司所有，未经公司许可，不得复制、转发或引用\\n\\n文档说明 编制说明 版本 V 发布日期 2023年2月 主要规范 事项 委员会职责； 委员会组成； 委员会工作程序； 委员会议事规则。 起草部门 主要起草人 批准权限 解释权限 董事会办公室 刘颖 董事会 董事会办公室 修订记录 版本 发布日期 主要修订人 修订内容\\n\\n黑龙江省交通投资集团有限公司\\n\\n董事会可持续发展（ESG）委员会议事规则\\n\\n第一章  总则\\n\\n第一条 为增强黑龙江省交通投资集团有限公司（以下简称公司）的可持续发展能力，提升公司环境、社会及公司治理（ESG）绩效，根据董事会工作需要，依据《公司法》《公司章程》等相关规定，特设立董事会可持续发展（ESG）委员会（以下简称委员会），并制定本议事规则。\\n\\n第二条 董事会可持续发展（ESG）委员会是董事会下设的专门工作机构，根据董事会授权履行职责，为董事会有关决策提供咨询或建议，对董事会负责并报告工作。\\n\\n第二章  委员会职责\\n\\n第三条 委员会的主要职责是：\\n\\n（一）指导及制订公司的ESG愿景、目标、策略及管理体系架构，以确保其符合公司的需要及遵守适用法律、法规、监管规定及国际标准；\\n\\n（二）监督检查公司ESG愿景、策略及管理体系架构的发展及实施，包括制订公司的ESG管理绩效目标及监测目标执行进度，并对改善绩效表现提出建议；\\n\\n（三）关注公司ESG领域相关风险，并向董事会提出应对策略；\\n\\n（四）督导公司ESG政策即时跟进国家政策、法律法规等相关要求，确保其适用性和时效性，并满足国家ESG标准；\\n\\n（五）审议公司ESG相关报告，并向董事会提出建议，以维持ESG报告的完整性；\\n\\n（六）履行董事会授予的其他与ESG相关的职责。\\n\\n第三章  委员会组成\\n\\n第四条 委员会由3名董事组成，其中至少包含一名外部董事。\\n\\n第五条 委员会委员由董事长提名，并经董事会全体董事的过半数审议通过。\\n\\n第六条 委员会设主任委员一名，负责主持委员会工作；主任委员由董事长担任，并经董事会审议通过。\\n\\n第七条 委员会任期与董事会任期一致，委员每届任期为3年，委员任期届满，可以连选连任。在委员任期届满未及时改选，或委员在任期内辞职导致委员会成员低于3人时，在改选新委员就任前，原委员应继续履行委员职务。委员会委员在任职期间不再担任公司董事职务时，其委员资格自动丧失。\\n\\n第八条 经董事长提议并经董事会讨论通过，可在委员会任期内对成员进行调整。委员人数不足时，由董事会根据上述第五条规定补足委员人数。\\n\\n第九条 委员会设办公室，由社会责任管理部门和环境保护管理部门承担办公室工作，负责委员会对公司环境、社会及治理等相关事项开展研究、分析和风险评估收集相关事项的资料与草案准备等工作。\\n\\n第四章  工作程序\\n\\n第十条 委员会办公室负责组织准备委员会研究事项的草案工作。公司董事会秘书负责组织、协调委员会与相关部门工作。董事会办公室负责日常联络及制发会议通知、会议记录等会务工作。\\n\\n第十一条 委员会以会议方式对研究事项进行审议，并向董事会提出书面意见。\\n\\n第十二条 委员会根据需要不定期召开会议。有以下情况之一时，委员会主任应当自接到提议后5日内召集和主持委员会临时会议： \\n\\u2002\\u2002\\u2002\\u2002（一）全体董事的过半数或董事长认为有必要时；\\n\\u2002\\u2002\\u2002\\u2002（二）委员会主任认为有必要时；\\n\\u2002\\u2002\\u2002\\u2002（三）两名以上委员提议时。\\n\\n第五章  议事规则\\n\\n第十三条 委员会会议由主任委员召集、主持。会议召开至少提前2日通知全体委员。主任委员不能召集、主持时，可委托其他委员代为召集、主持。董事会办公室负责将会议通知于会议召开前2日（特殊情况除外）以书面形式送达各委员和应邀列席会议的有关人员。\\n\\n第十四条 委员会会议应由三分之二以上的委员出席方可举行。每一名委员有一票表决权。\\n\\n委员会委员应当亲自出席会议。委员因故不能亲自出席会议时，可提交由该委员签字的授权委托书，委托本委员会其他委员代为出席并发表意见。\\n\\n授权委托书应当载明：\\n\\n（一）委托人和受托人的姓名；\\n\\n（二）委托事项；\\n\\n（三）委托人对每项提案的简要意见；\\n\\n（四）委托人的授权范围、对提案表决意向的指示和有效期限；\\n\\n（五）委托人的签字、日期等。\\n\\n每一名委员不能同时接受两名以上委员委托。受托委员应当向会议主持人提交书面委托书，在会议上说明受托出席的情况。\\n\\n代为出席会议的委员应当在授权范围内行使权利。委员未亲自出席委员会会议，亦未委托本委员会其他委员代为行使权利，也未在会议召开前提交书面意见的，视为放弃权利。\\n\\n不能亲自出席会议的委员也可以提交对所议事项的书面意见的方式行使权利，但书面意见应当最迟在会议召开前向董事会办公室提交。\\n\\n委员会委员连续两次未亲自出席委员会会议，亦未委托本委员会其他委员，也未于会前提出书面意见；或者在一年内亲自出席委员会会议次数不足会议总次数的四分之三的，视为不能履行委员会职责，董事会可根据本规则调整委员会成员。\\u2002\\u2002\\u2002\\u2002\\u2002\\n\\n第十五条 委员会会议可以采取现场会议、视频会议、通讯、电话会议或微信会议等方式召开。会议做出的决议，须经参加会议的全体委员签字确认，并报公司董事会备案。采用通讯方式的，委员会委员应当在会议通知要求的期限内向董事会提交对所议事项的书面意见。\\n\\n委员会会议就所议事项进行研究讨论，委员会委员应依据其自身判断，明确、独立、充分地发表意见；意见不一致的，应当在向董事会提交的会议纪要中载明。\\n\\n第十六条 根据需要，委员会可邀请公司其他董事、监事及高级管理人员等列席会议。董事会秘书列席委员会会议。当委员会所议事项与委员会委员存在利害关系时，该委员应当回避。\\n\\n第十七条 委员会经董事会授权，可以聘请社会中介机构或相关领域专家为其提供专业咨询意见，费用由公司承担。\\n\\n第十八条 出席会议的人员均对会议所议事项负有保密义务，未经授权，不得擅自披露有关信息。\\n\\n第十九条 委员会会议通过的议案必须遵循有关法律、法规和公司章程的规定。\\n\\n第二十条 委员会会议应当制作会议记录。会议记录由董事会办公室制作，由主任委员签署，包括以下内容：\\n\\u2002\\u2002\\u2002\\u2002（一）会议编号及召开方式、日期、地点和主持人姓名；\\n\\n出席会议和缺席及委托出席情况；\\n\\n列席会议人员的姓名、职务；\\n\\n会议议题；\\n\\n委员及有关列席人员的发言要点；\\n\\n会议记录人姓名。\\n\\n第二十一条 委员会会议召开后，委员会办公室负责根据会议研究讨论情况制作委员会会议纪要，由主任委员签发。\\n\\n会议纪要除向公司董事会提交外，还应发送给委员会委员、董事会秘书、公司经营层相关高级管理人员和公司董事会管理部门、委员会办公室及所议事项涉及的有关部门和人员。\\n\\n第二十二条 委员会会议形成的会议通知、会议材料、授权委托书、委员的书面意见、会议记录、会议纪要以及其他会议材料由董事会办公室按照相关规定存档管理，会议档案永久保存。\\n\\n第六章  附则\\n\\n第二十三条 本规则所称以上、以内均含本数，超过、少于、低于、以下不含本数。\\n\\n第二十四条 本规则自董事会批准之日起生效。本规则由公司董事会管理部门负责解释。', metadata={'source': './data/test.doc'})]"
      ]
     },
     "execution_count": 3,
     "metadata": {},
     "output_type": "execute_result"
    }
   ],
   "source": [
    "from langchain_community.document_loaders import UnstructuredWordDocumentLoader\n",
    "\n",
    "loader = UnstructuredWordDocumentLoader(\"./data/test.doc\")\n",
    "data = loader.load()\n",
    "data"
   ]
  },
  {
   "cell_type": "markdown",
   "metadata": {},
   "source": [
    "### .pdf\n"
   ]
  },
  {
   "cell_type": "code",
   "execution_count": 1,
   "metadata": {},
   "outputs": [
    {
     "name": "stderr",
     "output_type": "stream",
     "text": [
      "[Errno 2] No such file or directory: './t1.pdf'\n",
      "PDF text extraction failed, skip text extraction...\n"
     ]
    },
    {
     "ename": "PDFPageCountError",
     "evalue": "Unable to get page count.\nI/O Error: Couldn't open file './t1.pdf': No such file or directory.\n",
     "output_type": "error",
     "traceback": [
      "\u001b[0;31m---------------------------------------------------------------------------\u001b[0m",
      "\u001b[0;31mValueError\u001b[0m                                Traceback (most recent call last)",
      "File \u001b[0;32m~/anaconda3/envs/dify/lib/python3.10/site-packages/pdf2image/pdf2image.py:602\u001b[0m, in \u001b[0;36mpdfinfo_from_path\u001b[0;34m(pdf_path, userpw, ownerpw, poppler_path, rawdates, timeout, first_page, last_page)\u001b[0m\n\u001b[1;32m    601\u001b[0m \u001b[38;5;28;01mif\u001b[39;00m \u001b[38;5;124m\"\u001b[39m\u001b[38;5;124mPages\u001b[39m\u001b[38;5;124m\"\u001b[39m \u001b[38;5;129;01mnot\u001b[39;00m \u001b[38;5;129;01min\u001b[39;00m d:\n\u001b[0;32m--> 602\u001b[0m     \u001b[38;5;28;01mraise\u001b[39;00m \u001b[38;5;167;01mValueError\u001b[39;00m\n\u001b[1;32m    604\u001b[0m \u001b[38;5;28;01mreturn\u001b[39;00m d\n",
      "\u001b[0;31mValueError\u001b[0m: ",
      "\nDuring handling of the above exception, another exception occurred:\n",
      "\u001b[0;31mPDFPageCountError\u001b[0m                         Traceback (most recent call last)",
      "Cell \u001b[0;32mIn[1], line 6\u001b[0m\n\u001b[1;32m      1\u001b[0m \u001b[38;5;28;01mfrom\u001b[39;00m \u001b[38;5;21;01munstructured\u001b[39;00m\u001b[38;5;21;01m.\u001b[39;00m\u001b[38;5;21;01mpartition\u001b[39;00m\u001b[38;5;21;01m.\u001b[39;00m\u001b[38;5;21;01mpdf\u001b[39;00m \u001b[38;5;28;01mimport\u001b[39;00m partition_pdf\n\u001b[1;32m      2\u001b[0m \u001b[38;5;28;01mfrom\u001b[39;00m \u001b[38;5;21;01munstructured\u001b[39;00m\u001b[38;5;21;01m.\u001b[39;00m\u001b[38;5;21;01mpartition\u001b[39;00m\u001b[38;5;21;01m.\u001b[39;00m\u001b[38;5;21;01mutils\u001b[39;00m\u001b[38;5;21;01m.\u001b[39;00m\u001b[38;5;21;01mconstants\u001b[39;00m \u001b[38;5;28;01mimport\u001b[39;00m (\n\u001b[1;32m      3\u001b[0m     PartitionStrategy,\n\u001b[1;32m      4\u001b[0m )\n\u001b[0;32m----> 6\u001b[0m elements \u001b[38;5;241m=\u001b[39m \u001b[43mpartition_pdf\u001b[49m\u001b[43m(\u001b[49m\n\u001b[1;32m      7\u001b[0m \u001b[43m    \u001b[49m\u001b[43mfilename\u001b[49m\u001b[38;5;241;43m=\u001b[39;49m\u001b[38;5;124;43m\"\u001b[39;49m\u001b[38;5;124;43m./t1.pdf\u001b[39;49m\u001b[38;5;124;43m\"\u001b[39;49m\u001b[43m,\u001b[49m\n\u001b[1;32m      8\u001b[0m \u001b[43m    \u001b[49m\u001b[43mstrategy\u001b[49m\u001b[38;5;241;43m=\u001b[39;49m\u001b[43mPartitionStrategy\u001b[49m\u001b[38;5;241;43m.\u001b[39;49m\u001b[43mOCR_ONLY\u001b[49m\u001b[43m,\u001b[49m\n\u001b[1;32m      9\u001b[0m \u001b[43m)\u001b[49m\n\u001b[1;32m     10\u001b[0m elements\n",
      "File \u001b[0;32m~/anaconda3/envs/dify/lib/python3.10/site-packages/unstructured/documents/elements.py:559\u001b[0m, in \u001b[0;36mprocess_metadata.<locals>.decorator.<locals>.wrapper\u001b[0;34m(*args, **kwargs)\u001b[0m\n\u001b[1;32m    557\u001b[0m \u001b[38;5;129m@functools\u001b[39m\u001b[38;5;241m.\u001b[39mwraps(func)\n\u001b[1;32m    558\u001b[0m \u001b[38;5;28;01mdef\u001b[39;00m \u001b[38;5;21mwrapper\u001b[39m(\u001b[38;5;241m*\u001b[39margs: _P\u001b[38;5;241m.\u001b[39margs, \u001b[38;5;241m*\u001b[39m\u001b[38;5;241m*\u001b[39mkwargs: _P\u001b[38;5;241m.\u001b[39mkwargs) \u001b[38;5;241m-\u001b[39m\u001b[38;5;241m>\u001b[39m \u001b[38;5;28mlist\u001b[39m[Element]:\n\u001b[0;32m--> 559\u001b[0m     elements \u001b[38;5;241m=\u001b[39m \u001b[43mfunc\u001b[49m\u001b[43m(\u001b[49m\u001b[38;5;241;43m*\u001b[39;49m\u001b[43margs\u001b[49m\u001b[43m,\u001b[49m\u001b[43m \u001b[49m\u001b[38;5;241;43m*\u001b[39;49m\u001b[38;5;241;43m*\u001b[39;49m\u001b[43mkwargs\u001b[49m\u001b[43m)\u001b[49m\n\u001b[1;32m    560\u001b[0m     sig \u001b[38;5;241m=\u001b[39m inspect\u001b[38;5;241m.\u001b[39msignature(func)\n\u001b[1;32m    561\u001b[0m     params: \u001b[38;5;28mdict\u001b[39m[\u001b[38;5;28mstr\u001b[39m, Any] \u001b[38;5;241m=\u001b[39m \u001b[38;5;28mdict\u001b[39m(\u001b[38;5;241m*\u001b[39m\u001b[38;5;241m*\u001b[39m\u001b[38;5;28mdict\u001b[39m(\u001b[38;5;28mzip\u001b[39m(sig\u001b[38;5;241m.\u001b[39mparameters, args)), \u001b[38;5;241m*\u001b[39m\u001b[38;5;241m*\u001b[39mkwargs)\n",
      "File \u001b[0;32m~/anaconda3/envs/dify/lib/python3.10/site-packages/unstructured/file_utils/filetype.py:622\u001b[0m, in \u001b[0;36madd_filetype.<locals>.decorator.<locals>.wrapper\u001b[0;34m(*args, **kwargs)\u001b[0m\n\u001b[1;32m    620\u001b[0m \u001b[38;5;129m@functools\u001b[39m\u001b[38;5;241m.\u001b[39mwraps(func)\n\u001b[1;32m    621\u001b[0m \u001b[38;5;28;01mdef\u001b[39;00m \u001b[38;5;21mwrapper\u001b[39m(\u001b[38;5;241m*\u001b[39margs: _P\u001b[38;5;241m.\u001b[39margs, \u001b[38;5;241m*\u001b[39m\u001b[38;5;241m*\u001b[39mkwargs: _P\u001b[38;5;241m.\u001b[39mkwargs) \u001b[38;5;241m-\u001b[39m\u001b[38;5;241m>\u001b[39m List[Element]:\n\u001b[0;32m--> 622\u001b[0m     elements \u001b[38;5;241m=\u001b[39m \u001b[43mfunc\u001b[49m\u001b[43m(\u001b[49m\u001b[38;5;241;43m*\u001b[39;49m\u001b[43margs\u001b[49m\u001b[43m,\u001b[49m\u001b[43m \u001b[49m\u001b[38;5;241;43m*\u001b[39;49m\u001b[38;5;241;43m*\u001b[39;49m\u001b[43mkwargs\u001b[49m\u001b[43m)\u001b[49m\n\u001b[1;32m    623\u001b[0m     sig \u001b[38;5;241m=\u001b[39m inspect\u001b[38;5;241m.\u001b[39msignature(func)\n\u001b[1;32m    624\u001b[0m     params: Dict[\u001b[38;5;28mstr\u001b[39m, Any] \u001b[38;5;241m=\u001b[39m \u001b[38;5;28mdict\u001b[39m(\u001b[38;5;241m*\u001b[39m\u001b[38;5;241m*\u001b[39m\u001b[38;5;28mdict\u001b[39m(\u001b[38;5;28mzip\u001b[39m(sig\u001b[38;5;241m.\u001b[39mparameters, args)), \u001b[38;5;241m*\u001b[39m\u001b[38;5;241m*\u001b[39mkwargs)\n",
      "File \u001b[0;32m~/anaconda3/envs/dify/lib/python3.10/site-packages/unstructured/file_utils/filetype.py:582\u001b[0m, in \u001b[0;36madd_metadata.<locals>.wrapper\u001b[0;34m(*args, **kwargs)\u001b[0m\n\u001b[1;32m    580\u001b[0m \u001b[38;5;129m@functools\u001b[39m\u001b[38;5;241m.\u001b[39mwraps(func)\n\u001b[1;32m    581\u001b[0m \u001b[38;5;28;01mdef\u001b[39;00m \u001b[38;5;21mwrapper\u001b[39m(\u001b[38;5;241m*\u001b[39margs: _P\u001b[38;5;241m.\u001b[39margs, \u001b[38;5;241m*\u001b[39m\u001b[38;5;241m*\u001b[39mkwargs: _P\u001b[38;5;241m.\u001b[39mkwargs) \u001b[38;5;241m-\u001b[39m\u001b[38;5;241m>\u001b[39m List[Element]:\n\u001b[0;32m--> 582\u001b[0m     elements \u001b[38;5;241m=\u001b[39m \u001b[43mfunc\u001b[49m\u001b[43m(\u001b[49m\u001b[38;5;241;43m*\u001b[39;49m\u001b[43margs\u001b[49m\u001b[43m,\u001b[49m\u001b[43m \u001b[49m\u001b[38;5;241;43m*\u001b[39;49m\u001b[38;5;241;43m*\u001b[39;49m\u001b[43mkwargs\u001b[49m\u001b[43m)\u001b[49m\n\u001b[1;32m    583\u001b[0m     sig \u001b[38;5;241m=\u001b[39m inspect\u001b[38;5;241m.\u001b[39msignature(func)\n\u001b[1;32m    584\u001b[0m     params: Dict[\u001b[38;5;28mstr\u001b[39m, Any] \u001b[38;5;241m=\u001b[39m \u001b[38;5;28mdict\u001b[39m(\u001b[38;5;241m*\u001b[39m\u001b[38;5;241m*\u001b[39m\u001b[38;5;28mdict\u001b[39m(\u001b[38;5;28mzip\u001b[39m(sig\u001b[38;5;241m.\u001b[39mparameters, args)), \u001b[38;5;241m*\u001b[39m\u001b[38;5;241m*\u001b[39mkwargs)\n",
      "File \u001b[0;32m~/anaconda3/envs/dify/lib/python3.10/site-packages/unstructured/chunking/dispatch.py:83\u001b[0m, in \u001b[0;36madd_chunking_strategy.<locals>.wrapper\u001b[0;34m(*args, **kwargs)\u001b[0m\n\u001b[1;32m     80\u001b[0m     \u001b[38;5;28;01mreturn\u001b[39;00m call_args\n\u001b[1;32m     82\u001b[0m \u001b[38;5;66;03m# -- call the partitioning function to get the elements --\u001b[39;00m\n\u001b[0;32m---> 83\u001b[0m elements \u001b[38;5;241m=\u001b[39m \u001b[43mfunc\u001b[49m\u001b[43m(\u001b[49m\u001b[38;5;241;43m*\u001b[39;49m\u001b[43margs\u001b[49m\u001b[43m,\u001b[49m\u001b[43m \u001b[49m\u001b[38;5;241;43m*\u001b[39;49m\u001b[38;5;241;43m*\u001b[39;49m\u001b[43mkwargs\u001b[49m\u001b[43m)\u001b[49m\n\u001b[1;32m     85\u001b[0m \u001b[38;5;66;03m# -- look for a chunking-strategy argument --\u001b[39;00m\n\u001b[1;32m     86\u001b[0m call_args \u001b[38;5;241m=\u001b[39m get_call_args_applying_defaults()\n",
      "File \u001b[0;32m~/anaconda3/envs/dify/lib/python3.10/site-packages/unstructured/partition/pdf.py:219\u001b[0m, in \u001b[0;36mpartition_pdf\u001b[0;34m(filename, file, include_page_breaks, strategy, infer_table_structure, ocr_languages, languages, include_metadata, metadata_filename, metadata_last_modified, chunking_strategy, links, hi_res_model_name, extract_images_in_pdf, extract_image_block_types, extract_image_block_output_dir, extract_image_block_to_payload, date_from_file_object, starting_page_number, **kwargs)\u001b[0m\n\u001b[1;32m    215\u001b[0m exactly_one(filename\u001b[38;5;241m=\u001b[39mfilename, file\u001b[38;5;241m=\u001b[39mfile)\n\u001b[1;32m    217\u001b[0m languages \u001b[38;5;241m=\u001b[39m check_language_args(languages \u001b[38;5;129;01mor\u001b[39;00m [], ocr_languages) \u001b[38;5;129;01mor\u001b[39;00m [\u001b[38;5;124m\"\u001b[39m\u001b[38;5;124meng\u001b[39m\u001b[38;5;124m\"\u001b[39m]\n\u001b[0;32m--> 219\u001b[0m \u001b[38;5;28;01mreturn\u001b[39;00m \u001b[43mpartition_pdf_or_image\u001b[49m\u001b[43m(\u001b[49m\n\u001b[1;32m    220\u001b[0m \u001b[43m    \u001b[49m\u001b[43mfilename\u001b[49m\u001b[38;5;241;43m=\u001b[39;49m\u001b[43mfilename\u001b[49m\u001b[43m,\u001b[49m\n\u001b[1;32m    221\u001b[0m \u001b[43m    \u001b[49m\u001b[43mfile\u001b[49m\u001b[38;5;241;43m=\u001b[39;49m\u001b[43mfile\u001b[49m\u001b[43m,\u001b[49m\n\u001b[1;32m    222\u001b[0m \u001b[43m    \u001b[49m\u001b[43minclude_page_breaks\u001b[49m\u001b[38;5;241;43m=\u001b[39;49m\u001b[43minclude_page_breaks\u001b[49m\u001b[43m,\u001b[49m\n\u001b[1;32m    223\u001b[0m \u001b[43m    \u001b[49m\u001b[43mstrategy\u001b[49m\u001b[38;5;241;43m=\u001b[39;49m\u001b[43mstrategy\u001b[49m\u001b[43m,\u001b[49m\n\u001b[1;32m    224\u001b[0m \u001b[43m    \u001b[49m\u001b[43minfer_table_structure\u001b[49m\u001b[38;5;241;43m=\u001b[39;49m\u001b[43minfer_table_structure\u001b[49m\u001b[43m,\u001b[49m\n\u001b[1;32m    225\u001b[0m \u001b[43m    \u001b[49m\u001b[43mlanguages\u001b[49m\u001b[38;5;241;43m=\u001b[39;49m\u001b[43mlanguages\u001b[49m\u001b[43m,\u001b[49m\n\u001b[1;32m    226\u001b[0m \u001b[43m    \u001b[49m\u001b[43mmetadata_last_modified\u001b[49m\u001b[38;5;241;43m=\u001b[39;49m\u001b[43mmetadata_last_modified\u001b[49m\u001b[43m,\u001b[49m\n\u001b[1;32m    227\u001b[0m \u001b[43m    \u001b[49m\u001b[43mhi_res_model_name\u001b[49m\u001b[38;5;241;43m=\u001b[39;49m\u001b[43mhi_res_model_name\u001b[49m\u001b[43m,\u001b[49m\n\u001b[1;32m    228\u001b[0m \u001b[43m    \u001b[49m\u001b[43mextract_images_in_pdf\u001b[49m\u001b[38;5;241;43m=\u001b[39;49m\u001b[43mextract_images_in_pdf\u001b[49m\u001b[43m,\u001b[49m\n\u001b[1;32m    229\u001b[0m \u001b[43m    \u001b[49m\u001b[43mextract_image_block_types\u001b[49m\u001b[38;5;241;43m=\u001b[39;49m\u001b[43mextract_image_block_types\u001b[49m\u001b[43m,\u001b[49m\n\u001b[1;32m    230\u001b[0m \u001b[43m    \u001b[49m\u001b[43mextract_image_block_output_dir\u001b[49m\u001b[38;5;241;43m=\u001b[39;49m\u001b[43mextract_image_block_output_dir\u001b[49m\u001b[43m,\u001b[49m\n\u001b[1;32m    231\u001b[0m \u001b[43m    \u001b[49m\u001b[43mextract_image_block_to_payload\u001b[49m\u001b[38;5;241;43m=\u001b[39;49m\u001b[43mextract_image_block_to_payload\u001b[49m\u001b[43m,\u001b[49m\n\u001b[1;32m    232\u001b[0m \u001b[43m    \u001b[49m\u001b[43mdate_from_file_object\u001b[49m\u001b[38;5;241;43m=\u001b[39;49m\u001b[43mdate_from_file_object\u001b[49m\u001b[43m,\u001b[49m\n\u001b[1;32m    233\u001b[0m \u001b[43m    \u001b[49m\u001b[43mstarting_page_number\u001b[49m\u001b[38;5;241;43m=\u001b[39;49m\u001b[43mstarting_page_number\u001b[49m\u001b[43m,\u001b[49m\n\u001b[1;32m    234\u001b[0m \u001b[43m    \u001b[49m\u001b[38;5;241;43m*\u001b[39;49m\u001b[38;5;241;43m*\u001b[39;49m\u001b[43mkwargs\u001b[49m\u001b[43m,\u001b[49m\n\u001b[1;32m    235\u001b[0m \u001b[43m\u001b[49m\u001b[43m)\u001b[49m\n",
      "File \u001b[0;32m~/anaconda3/envs/dify/lib/python3.10/site-packages/unstructured/partition/pdf.py:335\u001b[0m, in \u001b[0;36mpartition_pdf_or_image\u001b[0;34m(filename, file, is_image, include_page_breaks, strategy, infer_table_structure, ocr_languages, languages, metadata_last_modified, hi_res_model_name, extract_images_in_pdf, extract_image_block_types, extract_image_block_output_dir, extract_image_block_to_payload, date_from_file_object, starting_page_number, **kwargs)\u001b[0m\n\u001b[1;32m    332\u001b[0m \u001b[38;5;28;01melif\u001b[39;00m strategy \u001b[38;5;241m==\u001b[39m PartitionStrategy\u001b[38;5;241m.\u001b[39mOCR_ONLY:\n\u001b[1;32m    333\u001b[0m     \u001b[38;5;66;03m# NOTE(robinson): Catches file conversion warnings when running with PDFs\u001b[39;00m\n\u001b[1;32m    334\u001b[0m     \u001b[38;5;28;01mwith\u001b[39;00m warnings\u001b[38;5;241m.\u001b[39mcatch_warnings():\n\u001b[0;32m--> 335\u001b[0m         elements \u001b[38;5;241m=\u001b[39m \u001b[43m_partition_pdf_or_image_with_ocr\u001b[49m\u001b[43m(\u001b[49m\n\u001b[1;32m    336\u001b[0m \u001b[43m            \u001b[49m\u001b[43mfilename\u001b[49m\u001b[38;5;241;43m=\u001b[39;49m\u001b[43mfilename\u001b[49m\u001b[43m,\u001b[49m\n\u001b[1;32m    337\u001b[0m \u001b[43m            \u001b[49m\u001b[43mfile\u001b[49m\u001b[38;5;241;43m=\u001b[39;49m\u001b[43mfile\u001b[49m\u001b[43m,\u001b[49m\n\u001b[1;32m    338\u001b[0m \u001b[43m            \u001b[49m\u001b[43minclude_page_breaks\u001b[49m\u001b[38;5;241;43m=\u001b[39;49m\u001b[43minclude_page_breaks\u001b[49m\u001b[43m,\u001b[49m\n\u001b[1;32m    339\u001b[0m \u001b[43m            \u001b[49m\u001b[43mlanguages\u001b[49m\u001b[38;5;241;43m=\u001b[39;49m\u001b[43mlanguages\u001b[49m\u001b[43m,\u001b[49m\n\u001b[1;32m    340\u001b[0m \u001b[43m            \u001b[49m\u001b[43mis_image\u001b[49m\u001b[38;5;241;43m=\u001b[39;49m\u001b[43mis_image\u001b[49m\u001b[43m,\u001b[49m\n\u001b[1;32m    341\u001b[0m \u001b[43m            \u001b[49m\u001b[43mmetadata_last_modified\u001b[49m\u001b[38;5;241;43m=\u001b[39;49m\u001b[43mmetadata_last_modified\u001b[49m\u001b[43m \u001b[49m\u001b[38;5;129;43;01mor\u001b[39;49;00m\u001b[43m \u001b[49m\u001b[43mlast_modification_date\u001b[49m\u001b[43m,\u001b[49m\n\u001b[1;32m    342\u001b[0m \u001b[43m            \u001b[49m\u001b[43mstarting_page_number\u001b[49m\u001b[38;5;241;43m=\u001b[39;49m\u001b[43mstarting_page_number\u001b[49m\u001b[43m,\u001b[49m\n\u001b[1;32m    343\u001b[0m \u001b[43m            \u001b[49m\u001b[38;5;241;43m*\u001b[39;49m\u001b[38;5;241;43m*\u001b[39;49m\u001b[43mkwargs\u001b[49m\u001b[43m,\u001b[49m\n\u001b[1;32m    344\u001b[0m \u001b[43m        \u001b[49m\u001b[43m)\u001b[49m\n\u001b[1;32m    345\u001b[0m         out_elements \u001b[38;5;241m=\u001b[39m _process_uncategorized_text_elements(elements)\n\u001b[1;32m    347\u001b[0m \u001b[38;5;28;01mreturn\u001b[39;00m out_elements\n",
      "File \u001b[0;32m~/anaconda3/envs/dify/lib/python3.10/site-packages/unstructured/partition/pdf.py:936\u001b[0m, in \u001b[0;36m_partition_pdf_or_image_with_ocr\u001b[0;34m(filename, file, include_page_breaks, languages, is_image, metadata_last_modified, starting_page_number, **kwargs)\u001b[0m\n\u001b[1;32m    934\u001b[0m         elements\u001b[38;5;241m.\u001b[39mextend(page_elements)\n\u001b[1;32m    935\u001b[0m \u001b[38;5;28;01melse\u001b[39;00m:\n\u001b[0;32m--> 936\u001b[0m     \u001b[38;5;28;01mfor\u001b[39;00m page_number, image \u001b[38;5;129;01min\u001b[39;00m \u001b[38;5;28menumerate\u001b[39m(\n\u001b[1;32m    937\u001b[0m         convert_pdf_to_images(filename, file), start\u001b[38;5;241m=\u001b[39mstarting_page_number\n\u001b[1;32m    938\u001b[0m     ):\n\u001b[1;32m    939\u001b[0m         page_elements \u001b[38;5;241m=\u001b[39m _partition_pdf_or_image_with_ocr_from_image(\n\u001b[1;32m    940\u001b[0m             image\u001b[38;5;241m=\u001b[39mimage,\n\u001b[1;32m    941\u001b[0m             languages\u001b[38;5;241m=\u001b[39mlanguages,\n\u001b[0;32m   (...)\u001b[0m\n\u001b[1;32m    945\u001b[0m             \u001b[38;5;241m*\u001b[39m\u001b[38;5;241m*\u001b[39mkwargs,\n\u001b[1;32m    946\u001b[0m         )\n\u001b[1;32m    947\u001b[0m         elements\u001b[38;5;241m.\u001b[39mextend(page_elements)\n",
      "File \u001b[0;32m~/anaconda3/envs/dify/lib/python3.10/site-packages/unstructured/partition/pdf.py:884\u001b[0m, in \u001b[0;36mconvert_pdf_to_images\u001b[0;34m(filename, file, chunk_size)\u001b[0m\n\u001b[1;32m    882\u001b[0m \u001b[38;5;28;01melse\u001b[39;00m:\n\u001b[1;32m    883\u001b[0m     f_bytes \u001b[38;5;241m=\u001b[39m \u001b[38;5;28;01mNone\u001b[39;00m\n\u001b[0;32m--> 884\u001b[0m     info \u001b[38;5;241m=\u001b[39m \u001b[43mpdf2image\u001b[49m\u001b[38;5;241;43m.\u001b[39;49m\u001b[43mpdfinfo_from_path\u001b[49m\u001b[43m(\u001b[49m\u001b[43mfilename\u001b[49m\u001b[43m)\u001b[49m\n\u001b[1;32m    886\u001b[0m total_pages \u001b[38;5;241m=\u001b[39m info[\u001b[38;5;124m\"\u001b[39m\u001b[38;5;124mPages\u001b[39m\u001b[38;5;124m\"\u001b[39m]\n\u001b[1;32m    887\u001b[0m \u001b[38;5;28;01mfor\u001b[39;00m start_page \u001b[38;5;129;01min\u001b[39;00m \u001b[38;5;28mrange\u001b[39m(\u001b[38;5;241m1\u001b[39m, total_pages \u001b[38;5;241m+\u001b[39m \u001b[38;5;241m1\u001b[39m, chunk_size):\n",
      "File \u001b[0;32m~/anaconda3/envs/dify/lib/python3.10/site-packages/pdf2image/pdf2image.py:611\u001b[0m, in \u001b[0;36mpdfinfo_from_path\u001b[0;34m(pdf_path, userpw, ownerpw, poppler_path, rawdates, timeout, first_page, last_page)\u001b[0m\n\u001b[1;32m    607\u001b[0m     \u001b[38;5;28;01mraise\u001b[39;00m PDFInfoNotInstalledError(\n\u001b[1;32m    608\u001b[0m         \u001b[38;5;124m\"\u001b[39m\u001b[38;5;124mUnable to get page count. Is poppler installed and in PATH?\u001b[39m\u001b[38;5;124m\"\u001b[39m\n\u001b[1;32m    609\u001b[0m     )\n\u001b[1;32m    610\u001b[0m \u001b[38;5;28;01mexcept\u001b[39;00m \u001b[38;5;167;01mValueError\u001b[39;00m:\n\u001b[0;32m--> 611\u001b[0m     \u001b[38;5;28;01mraise\u001b[39;00m PDFPageCountError(\n\u001b[1;32m    612\u001b[0m         \u001b[38;5;124mf\u001b[39m\u001b[38;5;124m\"\u001b[39m\u001b[38;5;124mUnable to get page count.\u001b[39m\u001b[38;5;130;01m\\n\u001b[39;00m\u001b[38;5;132;01m{\u001b[39;00merr\u001b[38;5;241m.\u001b[39mdecode(\u001b[38;5;124m'\u001b[39m\u001b[38;5;124mutf8\u001b[39m\u001b[38;5;124m'\u001b[39m,\u001b[38;5;250m \u001b[39m\u001b[38;5;124m'\u001b[39m\u001b[38;5;124mignore\u001b[39m\u001b[38;5;124m'\u001b[39m)\u001b[38;5;132;01m}\u001b[39;00m\u001b[38;5;124m\"\u001b[39m\n\u001b[1;32m    613\u001b[0m     )\n",
      "\u001b[0;31mPDFPageCountError\u001b[0m: Unable to get page count.\nI/O Error: Couldn't open file './t1.pdf': No such file or directory.\n"
     ]
    }
   ],
   "source": [
    "from unstructured.partition.pdf import partition_pdf\n",
    "from unstructured.partition.utils.constants import (\n",
    "    PartitionStrategy,\n",
    ")\n",
    "\n",
    "elements = partition_pdf(\n",
    "    filename=\"./data/t1.pdf\",\n",
    "    strategy=PartitionStrategy.OCR_ONLY,\n",
    ")\n",
    "elements"
   ]
  },
  {
   "cell_type": "code",
   "execution_count": null,
   "metadata": {},
   "outputs": [],
   "source": []
  }
 ],
 "metadata": {
  "kernelspec": {
   "display_name": "llm",
   "language": "python",
   "name": "python3"
  },
  "language_info": {
   "codemirror_mode": {
    "name": "ipython",
    "version": 3
   },
   "file_extension": ".py",
   "mimetype": "text/x-python",
   "name": "python",
   "nbconvert_exporter": "python",
   "pygments_lexer": "ipython3",
   "version": "3.12.2"
  }
 },
 "nbformat": 4,
 "nbformat_minor": 2
}
