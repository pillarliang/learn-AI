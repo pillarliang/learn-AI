{
 "cells": [
  {
   "cell_type": "code",
   "execution_count": 2,
   "metadata": {},
   "outputs": [
    {
     "name": "stdout",
     "output_type": "stream",
     "text": [
      "Collecting BCEmbedding==0.1.3\n",
      "  Downloading BCEmbedding-0.1.3-py3-none-any.whl.metadata (29 kB)\n",
      "Requirement already satisfied: torch>=1.6.0 in /Users/liangzhu/anaconda3/envs/llm/lib/python3.12/site-packages (from BCEmbedding==0.1.3) (2.2.1)\n",
      "Requirement already satisfied: transformers>=4.35.0 in /Users/liangzhu/anaconda3/envs/llm/lib/python3.12/site-packages (from BCEmbedding==0.1.3) (4.40.0.dev0)\n",
      "Requirement already satisfied: datasets in /Users/liangzhu/anaconda3/envs/llm/lib/python3.12/site-packages (from BCEmbedding==0.1.3) (2.18.0)\n",
      "Collecting sentence-transformers (from BCEmbedding==0.1.3)\n",
      "  Using cached sentence_transformers-2.6.1-py3-none-any.whl.metadata (11 kB)\n",
      "Requirement already satisfied: filelock in /Users/liangzhu/anaconda3/envs/llm/lib/python3.12/site-packages (from torch>=1.6.0->BCEmbedding==0.1.3) (3.13.1)\n",
      "Requirement already satisfied: typing-extensions>=4.8.0 in /Users/liangzhu/anaconda3/envs/llm/lib/python3.12/site-packages (from torch>=1.6.0->BCEmbedding==0.1.3) (4.10.0)\n",
      "Requirement already satisfied: sympy in /Users/liangzhu/anaconda3/envs/llm/lib/python3.12/site-packages (from torch>=1.6.0->BCEmbedding==0.1.3) (1.12)\n",
      "Requirement already satisfied: networkx in /Users/liangzhu/anaconda3/envs/llm/lib/python3.12/site-packages (from torch>=1.6.0->BCEmbedding==0.1.3) (3.2.1)\n",
      "Requirement already satisfied: jinja2 in /Users/liangzhu/anaconda3/envs/llm/lib/python3.12/site-packages (from torch>=1.6.0->BCEmbedding==0.1.3) (3.1.3)\n",
      "Requirement already satisfied: fsspec in /Users/liangzhu/anaconda3/envs/llm/lib/python3.12/site-packages (from torch>=1.6.0->BCEmbedding==0.1.3) (2024.2.0)\n",
      "Requirement already satisfied: huggingface-hub<1.0,>=0.19.3 in /Users/liangzhu/anaconda3/envs/llm/lib/python3.12/site-packages (from transformers>=4.35.0->BCEmbedding==0.1.3) (0.21.4)\n",
      "Requirement already satisfied: numpy>=1.17 in /Users/liangzhu/anaconda3/envs/llm/lib/python3.12/site-packages (from transformers>=4.35.0->BCEmbedding==0.1.3) (1.26.4)\n",
      "Requirement already satisfied: packaging>=20.0 in /Users/liangzhu/anaconda3/envs/llm/lib/python3.12/site-packages (from transformers>=4.35.0->BCEmbedding==0.1.3) (23.2)\n",
      "Requirement already satisfied: pyyaml>=5.1 in /Users/liangzhu/anaconda3/envs/llm/lib/python3.12/site-packages (from transformers>=4.35.0->BCEmbedding==0.1.3) (6.0.1)\n",
      "Requirement already satisfied: regex!=2019.12.17 in /Users/liangzhu/anaconda3/envs/llm/lib/python3.12/site-packages (from transformers>=4.35.0->BCEmbedding==0.1.3) (2023.12.25)\n",
      "Requirement already satisfied: requests in /Users/liangzhu/anaconda3/envs/llm/lib/python3.12/site-packages (from transformers>=4.35.0->BCEmbedding==0.1.3) (2.31.0)\n",
      "Requirement already satisfied: tokenizers<0.19,>=0.14 in /Users/liangzhu/anaconda3/envs/llm/lib/python3.12/site-packages (from transformers>=4.35.0->BCEmbedding==0.1.3) (0.15.2)\n",
      "Requirement already satisfied: safetensors>=0.4.1 in /Users/liangzhu/anaconda3/envs/llm/lib/python3.12/site-packages (from transformers>=4.35.0->BCEmbedding==0.1.3) (0.4.2)\n",
      "Requirement already satisfied: tqdm>=4.27 in /Users/liangzhu/anaconda3/envs/llm/lib/python3.12/site-packages (from transformers>=4.35.0->BCEmbedding==0.1.3) (4.66.2)\n",
      "Requirement already satisfied: pyarrow>=12.0.0 in /Users/liangzhu/anaconda3/envs/llm/lib/python3.12/site-packages (from datasets->BCEmbedding==0.1.3) (15.0.1)\n",
      "Requirement already satisfied: pyarrow-hotfix in /Users/liangzhu/anaconda3/envs/llm/lib/python3.12/site-packages (from datasets->BCEmbedding==0.1.3) (0.6)\n",
      "Requirement already satisfied: dill<0.3.9,>=0.3.0 in /Users/liangzhu/anaconda3/envs/llm/lib/python3.12/site-packages (from datasets->BCEmbedding==0.1.3) (0.3.8)\n",
      "Requirement already satisfied: pandas in /Users/liangzhu/anaconda3/envs/llm/lib/python3.12/site-packages (from datasets->BCEmbedding==0.1.3) (2.2.1)\n",
      "Requirement already satisfied: xxhash in /Users/liangzhu/anaconda3/envs/llm/lib/python3.12/site-packages (from datasets->BCEmbedding==0.1.3) (3.4.1)\n",
      "Requirement already satisfied: multiprocess in /Users/liangzhu/anaconda3/envs/llm/lib/python3.12/site-packages (from datasets->BCEmbedding==0.1.3) (0.70.16)\n",
      "Requirement already satisfied: aiohttp in /Users/liangzhu/anaconda3/envs/llm/lib/python3.12/site-packages (from datasets->BCEmbedding==0.1.3) (3.9.3)\n",
      "Requirement already satisfied: scikit-learn in /Users/liangzhu/anaconda3/envs/llm/lib/python3.12/site-packages (from sentence-transformers->BCEmbedding==0.1.3) (1.4.1.post1)\n",
      "Requirement already satisfied: scipy in /Users/liangzhu/anaconda3/envs/llm/lib/python3.12/site-packages (from sentence-transformers->BCEmbedding==0.1.3) (1.12.0)\n",
      "Requirement already satisfied: Pillow in /Users/liangzhu/anaconda3/envs/llm/lib/python3.12/site-packages (from sentence-transformers->BCEmbedding==0.1.3) (10.2.0)\n",
      "Requirement already satisfied: aiosignal>=1.1.2 in /Users/liangzhu/anaconda3/envs/llm/lib/python3.12/site-packages (from aiohttp->datasets->BCEmbedding==0.1.3) (1.3.1)\n",
      "Requirement already satisfied: attrs>=17.3.0 in /Users/liangzhu/anaconda3/envs/llm/lib/python3.12/site-packages (from aiohttp->datasets->BCEmbedding==0.1.3) (23.2.0)\n",
      "Requirement already satisfied: frozenlist>=1.1.1 in /Users/liangzhu/anaconda3/envs/llm/lib/python3.12/site-packages (from aiohttp->datasets->BCEmbedding==0.1.3) (1.4.1)\n",
      "Requirement already satisfied: multidict<7.0,>=4.5 in /Users/liangzhu/anaconda3/envs/llm/lib/python3.12/site-packages (from aiohttp->datasets->BCEmbedding==0.1.3) (6.0.5)\n",
      "Requirement already satisfied: yarl<2.0,>=1.0 in /Users/liangzhu/anaconda3/envs/llm/lib/python3.12/site-packages (from aiohttp->datasets->BCEmbedding==0.1.3) (1.9.4)\n",
      "Requirement already satisfied: charset-normalizer<4,>=2 in /Users/liangzhu/anaconda3/envs/llm/lib/python3.12/site-packages (from requests->transformers>=4.35.0->BCEmbedding==0.1.3) (3.3.2)\n",
      "Requirement already satisfied: idna<4,>=2.5 in /Users/liangzhu/anaconda3/envs/llm/lib/python3.12/site-packages (from requests->transformers>=4.35.0->BCEmbedding==0.1.3) (3.6)\n",
      "Requirement already satisfied: urllib3<3,>=1.21.1 in /Users/liangzhu/anaconda3/envs/llm/lib/python3.12/site-packages (from requests->transformers>=4.35.0->BCEmbedding==0.1.3) (2.2.1)\n",
      "Requirement already satisfied: certifi>=2017.4.17 in /Users/liangzhu/anaconda3/envs/llm/lib/python3.12/site-packages (from requests->transformers>=4.35.0->BCEmbedding==0.1.3) (2024.2.2)\n",
      "Requirement already satisfied: MarkupSafe>=2.0 in /Users/liangzhu/anaconda3/envs/llm/lib/python3.12/site-packages (from jinja2->torch>=1.6.0->BCEmbedding==0.1.3) (2.1.5)\n",
      "Requirement already satisfied: python-dateutil>=2.8.2 in /Users/liangzhu/anaconda3/envs/llm/lib/python3.12/site-packages (from pandas->datasets->BCEmbedding==0.1.3) (2.9.0)\n",
      "Requirement already satisfied: pytz>=2020.1 in /Users/liangzhu/anaconda3/envs/llm/lib/python3.12/site-packages (from pandas->datasets->BCEmbedding==0.1.3) (2024.1)\n",
      "Requirement already satisfied: tzdata>=2022.7 in /Users/liangzhu/anaconda3/envs/llm/lib/python3.12/site-packages (from pandas->datasets->BCEmbedding==0.1.3) (2024.1)\n",
      "Requirement already satisfied: joblib>=1.2.0 in /Users/liangzhu/anaconda3/envs/llm/lib/python3.12/site-packages (from scikit-learn->sentence-transformers->BCEmbedding==0.1.3) (1.3.2)\n",
      "Requirement already satisfied: threadpoolctl>=2.0.0 in /Users/liangzhu/anaconda3/envs/llm/lib/python3.12/site-packages (from scikit-learn->sentence-transformers->BCEmbedding==0.1.3) (3.3.0)\n",
      "Requirement already satisfied: mpmath>=0.19 in /Users/liangzhu/anaconda3/envs/llm/lib/python3.12/site-packages (from sympy->torch>=1.6.0->BCEmbedding==0.1.3) (1.3.0)\n",
      "Requirement already satisfied: six>=1.5 in /Users/liangzhu/anaconda3/envs/llm/lib/python3.12/site-packages (from python-dateutil>=2.8.2->pandas->datasets->BCEmbedding==0.1.3) (1.16.0)\n",
      "Downloading BCEmbedding-0.1.3-py3-none-any.whl (29 kB)\n",
      "Using cached sentence_transformers-2.6.1-py3-none-any.whl (163 kB)\n",
      "Installing collected packages: sentence-transformers, BCEmbedding\n",
      "Successfully installed BCEmbedding-0.1.3 sentence-transformers-2.6.1\n"
     ]
    }
   ],
   "source": [
    "!pip install BCEmbedding==0.1.3"
   ]
  },
  {
   "cell_type": "code",
   "execution_count": 8,
   "metadata": {},
   "outputs": [
    {
     "name": "stderr",
     "output_type": "stream",
     "text": [
      "04/08/2024 15:20:02 - [INFO] -sentence_transformers.SentenceTransformer->>>    Load pretrained SentenceTransformer: maidalun1020/bce-embedding-base_v1\n",
      "04/08/2024 15:20:06 - [INFO] -sentence_transformers.SentenceTransformer->>>    Use pytorch device_name: mps\n"
     ]
    },
    {
     "data": {
      "application/vnd.jupyter.widget-view+json": {
       "model_id": "d81750f6ad27491bab954eba724c5644",
       "version_major": 2,
       "version_minor": 0
      },
      "text/plain": [
       "tokenizer_config.json:   0%|          | 0.00/1.17k [00:00<?, ?B/s]"
      ]
     },
     "metadata": {},
     "output_type": "display_data"
    },
    {
     "data": {
      "application/vnd.jupyter.widget-view+json": {
       "model_id": "f18beb879f2a468a9758942d564194b8",
       "version_major": 2,
       "version_minor": 0
      },
      "text/plain": [
       "sentencepiece.bpe.model:   0%|          | 0.00/5.07M [00:00<?, ?B/s]"
      ]
     },
     "metadata": {},
     "output_type": "display_data"
    },
    {
     "data": {
      "application/vnd.jupyter.widget-view+json": {
       "model_id": "e832b4a4faa747ec9568cfbbf1e4a865",
       "version_major": 2,
       "version_minor": 0
      },
      "text/plain": [
       "tokenizer.json:   0%|          | 0.00/17.1M [00:00<?, ?B/s]"
      ]
     },
     "metadata": {},
     "output_type": "display_data"
    },
    {
     "data": {
      "application/vnd.jupyter.widget-view+json": {
       "model_id": "4d674c38de444e7abf12539742bde6cc",
       "version_major": 2,
       "version_minor": 0
      },
      "text/plain": [
       "special_tokens_map.json:   0%|          | 0.00/964 [00:00<?, ?B/s]"
      ]
     },
     "metadata": {},
     "output_type": "display_data"
    },
    {
     "data": {
      "application/vnd.jupyter.widget-view+json": {
       "model_id": "bf5963818c6c4c2e9fd26da4c823b379",
       "version_major": 2,
       "version_minor": 0
      },
      "text/plain": [
       "config.json:   0%|          | 0.00/803 [00:00<?, ?B/s]"
      ]
     },
     "metadata": {},
     "output_type": "display_data"
    },
    {
     "data": {
      "application/vnd.jupyter.widget-view+json": {
       "model_id": "f0412a56f1884ee29e5f7006c8e72c94",
       "version_major": 2,
       "version_minor": 0
      },
      "text/plain": [
       "pytorch_model.bin:   0%|          | 0.00/1.11G [00:00<?, ?B/s]"
      ]
     },
     "metadata": {},
     "output_type": "display_data"
    },
    {
     "name": "stderr",
     "output_type": "stream",
     "text": [
      "04/08/2024 15:29:43 - [INFO] -BCEmbedding.models.RerankerModel->>>    Loading from `maidalun1020/bce-reranker-base_v1`.\n"
     ]
    },
    {
     "ename": "ValueError",
     "evalue": "Please input valid device: 'cpu', 'cuda', 'cuda:0', '0' !",
     "output_type": "error",
     "traceback": [
      "\u001b[0;31m---------------------------------------------------------------------------\u001b[0m",
      "\u001b[0;31mValueError\u001b[0m                                Traceback (most recent call last)",
      "Cell \u001b[0;32mIn[8], line 25\u001b[0m\n\u001b[1;32m     18\u001b[0m embed_model \u001b[38;5;241m=\u001b[39m HuggingFaceEmbeddings(\n\u001b[1;32m     19\u001b[0m   model_name\u001b[38;5;241m=\u001b[39membedding_model_name,\n\u001b[1;32m     20\u001b[0m \u001b[38;5;66;03m#   model_kwargs=embedding_model_kwargs,\u001b[39;00m\n\u001b[1;32m     21\u001b[0m   encode_kwargs\u001b[38;5;241m=\u001b[39membedding_encode_kwargs\n\u001b[1;32m     22\u001b[0m )\n\u001b[1;32m     24\u001b[0m reranker_args \u001b[38;5;241m=\u001b[39m {\u001b[38;5;124m'\u001b[39m\u001b[38;5;124mmodel\u001b[39m\u001b[38;5;124m'\u001b[39m: \u001b[38;5;124m'\u001b[39m\u001b[38;5;124mmaidalun1020/bce-reranker-base_v1\u001b[39m\u001b[38;5;124m'\u001b[39m, \u001b[38;5;124m'\u001b[39m\u001b[38;5;124mtop_n\u001b[39m\u001b[38;5;124m'\u001b[39m: \u001b[38;5;241m5\u001b[39m, \u001b[38;5;124m'\u001b[39m\u001b[38;5;124mdevice\u001b[39m\u001b[38;5;124m'\u001b[39m: \u001b[38;5;124m'\u001b[39m\u001b[38;5;124mcuda:1\u001b[39m\u001b[38;5;124m'\u001b[39m}\n\u001b[0;32m---> 25\u001b[0m reranker \u001b[38;5;241m=\u001b[39m \u001b[43mBCERerank\u001b[49m\u001b[43m(\u001b[49m\u001b[38;5;241;43m*\u001b[39;49m\u001b[38;5;241;43m*\u001b[39;49m\u001b[43mreranker_args\u001b[49m\u001b[43m)\u001b[49m\n\u001b[1;32m     27\u001b[0m \u001b[38;5;66;03m# init documents\u001b[39;00m\n\u001b[1;32m     28\u001b[0m documents \u001b[38;5;241m=\u001b[39m PyPDFLoader(\u001b[38;5;124m\"\u001b[39m\u001b[38;5;124m./data/高速公路养护管理办法.pdf\u001b[39m\u001b[38;5;124m\"\u001b[39m)\u001b[38;5;241m.\u001b[39mload()\n",
      "File \u001b[0;32m~/anaconda3/envs/llm/lib/python3.12/site-packages/BCEmbedding/tools/langchain/bce_rerank.py:55\u001b[0m, in \u001b[0;36mBCERerank.__init__\u001b[0;34m(self, top_n, model, device, **kwargs)\u001b[0m\n\u001b[1;32m     50\u001b[0m \u001b[38;5;28;01mexcept\u001b[39;00m \u001b[38;5;167;01mImportError\u001b[39;00m:\n\u001b[1;32m     51\u001b[0m     \u001b[38;5;28;01mraise\u001b[39;00m \u001b[38;5;167;01mImportError\u001b[39;00m(\n\u001b[1;32m     52\u001b[0m         \u001b[38;5;124m\"\u001b[39m\u001b[38;5;124mCannot import `BCEmbedding` package,\u001b[39m\u001b[38;5;124m\"\u001b[39m,\n\u001b[1;32m     53\u001b[0m         \u001b[38;5;124m\"\u001b[39m\u001b[38;5;124mplease `pip install BCEmbedding>=0.1.2`\u001b[39m\u001b[38;5;124m\"\u001b[39m,\n\u001b[1;32m     54\u001b[0m     )\n\u001b[0;32m---> 55\u001b[0m \u001b[38;5;28mself\u001b[39m\u001b[38;5;241m.\u001b[39m_model \u001b[38;5;241m=\u001b[39m \u001b[43mRerankerModel\u001b[49m\u001b[43m(\u001b[49m\u001b[43mmodel_name_or_path\u001b[49m\u001b[38;5;241;43m=\u001b[39;49m\u001b[43mmodel\u001b[49m\u001b[43m,\u001b[49m\u001b[43m \u001b[49m\u001b[43mdevice\u001b[49m\u001b[38;5;241;43m=\u001b[39;49m\u001b[43mdevice\u001b[49m\u001b[43m,\u001b[49m\u001b[43m \u001b[49m\u001b[38;5;241;43m*\u001b[39;49m\u001b[38;5;241;43m*\u001b[39;49m\u001b[43mkwargs\u001b[49m\u001b[43m)\u001b[49m\n\u001b[1;32m     56\u001b[0m \u001b[38;5;28msuper\u001b[39m()\u001b[38;5;241m.\u001b[39m\u001b[38;5;21m__init__\u001b[39m(top_n\u001b[38;5;241m=\u001b[39mtop_n, model\u001b[38;5;241m=\u001b[39mmodel)\n",
      "File \u001b[0;32m~/anaconda3/envs/llm/lib/python3.12/site-packages/BCEmbedding/models/reranker.py:49\u001b[0m, in \u001b[0;36mRerankerModel.__init__\u001b[0;34m(self, model_name_or_path, use_fp16, device, **kwargs)\u001b[0m\n\u001b[1;32m     47\u001b[0m     \u001b[38;5;28mself\u001b[39m\u001b[38;5;241m.\u001b[39mnum_gpus \u001b[38;5;241m=\u001b[39m num_gpus\n\u001b[1;32m     48\u001b[0m \u001b[38;5;28;01melse\u001b[39;00m:\n\u001b[0;32m---> 49\u001b[0m     \u001b[38;5;28;01mraise\u001b[39;00m \u001b[38;5;167;01mValueError\u001b[39;00m(\u001b[38;5;124m\"\u001b[39m\u001b[38;5;124mPlease input valid device: \u001b[39m\u001b[38;5;124m'\u001b[39m\u001b[38;5;124mcpu\u001b[39m\u001b[38;5;124m'\u001b[39m\u001b[38;5;124m, \u001b[39m\u001b[38;5;124m'\u001b[39m\u001b[38;5;124mcuda\u001b[39m\u001b[38;5;124m'\u001b[39m\u001b[38;5;124m, \u001b[39m\u001b[38;5;124m'\u001b[39m\u001b[38;5;124mcuda:0\u001b[39m\u001b[38;5;124m'\u001b[39m\u001b[38;5;124m, \u001b[39m\u001b[38;5;124m'\u001b[39m\u001b[38;5;124m0\u001b[39m\u001b[38;5;124m'\u001b[39m\u001b[38;5;124m !\u001b[39m\u001b[38;5;124m\"\u001b[39m)\n\u001b[1;32m     51\u001b[0m \u001b[38;5;28;01mif\u001b[39;00m use_fp16:\n\u001b[1;32m     52\u001b[0m     \u001b[38;5;28mself\u001b[39m\u001b[38;5;241m.\u001b[39mmodel\u001b[38;5;241m.\u001b[39mhalf()\n",
      "\u001b[0;31mValueError\u001b[0m: Please input valid device: 'cpu', 'cuda', 'cuda:0', '0' !"
     ]
    }
   ],
   "source": [
    "# 我们在`BCEmbedding`中提供langchain直接集成的接口。\n",
    "from BCEmbedding.tools.langchain import BCERerank\n",
    "\n",
    "from langchain.text_splitter import RecursiveCharacterTextSplitter\n",
    "from langchain_community.document_loaders import PyPDFLoader\n",
    "from langchain_community.vectorstores import FAISS\n",
    "\n",
    "from langchain.embeddings import HuggingFaceEmbeddings\n",
    "from langchain_community.vectorstores.utils import DistanceStrategy\n",
    "from langchain.retrievers import ContextualCompressionRetriever\n",
    "\n",
    "\n",
    "# init embedding model\n",
    "embedding_model_name = 'maidalun1020/bce-embedding-base_v1'\n",
    "embedding_model_kwargs = {'device': 'cuda:0'}\n",
    "embedding_encode_kwargs = {'batch_size': 32, 'normalize_embeddings': True, 'show_progress_bar': False}\n",
    "\n",
    "embed_model = HuggingFaceEmbeddings(\n",
    "  model_name=embedding_model_name,\n",
    "  model_kwargs=embedding_model_kwargs,\n",
    "  encode_kwargs=embedding_encode_kwargs\n",
    ")\n",
    "\n",
    "reranker_args = {'model': 'maidalun1020/bce-reranker-base_v1', 'top_n': 5, 'device': 'cuda:1'}\n",
    "reranker = BCERerank(**reranker_args)\n",
    "\n",
    "# init documents\n",
    "documents = PyPDFLoader(\"./data/高速公路养护管理办法.pdf\").load()\n",
    "text_splitter = RecursiveCharacterTextSplitter(chunk_size=1500, chunk_overlap=200)\n",
    "texts = text_splitter.split_documents(documents)\n",
    "\n",
    "# example 1. retrieval with embedding and reranker\n",
    "retriever = FAISS.from_documents(texts, embed_model, distance_strategy=DistanceStrategy.MAX_INNER_PRODUCT).as_retriever(search_type=\"similarity\", search_kwargs={\"score_threshold\": 0.3, \"k\": 10})\n",
    "\n",
    "compression_retriever = ContextualCompressionRetriever(\n",
    "    base_compressor=reranker, base_retriever=retriever\n",
    ")\n",
    "\n",
    "response = compression_retriever.get_relevant_documents(\"What is Llama 2?\")"
   ]
  },
  {
   "cell_type": "code",
   "execution_count": null,
   "metadata": {},
   "outputs": [],
   "source": []
  }
 ],
 "metadata": {
  "kernelspec": {
   "display_name": "llm",
   "language": "python",
   "name": "python3"
  },
  "language_info": {
   "codemirror_mode": {
    "name": "ipython",
    "version": 3
   },
   "file_extension": ".py",
   "mimetype": "text/x-python",
   "name": "python",
   "nbconvert_exporter": "python",
   "pygments_lexer": "ipython3",
   "version": "3.12.2"
  }
 },
 "nbformat": 4,
 "nbformat_minor": 2
}
