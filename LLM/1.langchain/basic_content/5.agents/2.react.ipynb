{
 "cells": [
  {
   "cell_type": "code",
   "execution_count": 6,
   "metadata": {},
   "outputs": [
    {
     "name": "stdout",
     "output_type": "stream",
     "text": [
      "\n",
      "\n",
      "\u001b[1m> Entering new AgentExecutor chain...\u001b[0m\n",
      "\u001b[32;1m\u001b[1;3m To find the answer, I should first use a search engine to look up information about Leonardo DiCaprio and his relationships. Then, I can use a calculator to calculate the age of his girlfriend.\n",
      "Action: Search\n",
      "Action Input: \"Leonardo DiCaprio girlfriend\"\u001b[0m\u001b[36;1m\u001b[1;3mModel Vittoria Ceretti, who is dating Leonardo DiCaprio, landed an Elle cover story to talk about modeling and not talk about Leo. The 49-year-old actor only warrants one mention in the piece about his 25-year-old girlfriend.\u001b[0m\u001b[32;1m\u001b[1;3m Now that I know his girlfriend's name, I can use a calculator to calculate her age.\n",
      "Action: Calculator\n",
      "Action Input: 25^0.43\u001b[0m\u001b[33;1m\u001b[1;3mAnswer: 3.991298452658078\u001b[0m\u001b[32;1m\u001b[1;3m I now know the final answer.\n",
      "Final Answer: 3.991298452658078\u001b[0m\n",
      "\n",
      "\u001b[1m> Finished chain.\u001b[0m\n"
     ]
    },
    {
     "data": {
      "text/plain": [
       "{'input': '谁是莱昂纳多·迪卡普里奥的女朋友？她现在年龄的0.43次方是多少?', 'output': '3.991298452658078'}"
      ]
     },
     "execution_count": 6,
     "metadata": {},
     "output_type": "execute_result"
    }
   ],
   "source": [
    "import os\n",
    "from langchain_openai import OpenAI\n",
    "from langchain.agents import load_tools, create_react_agent, AgentExecutor\n",
    "from langchain.agents import initialize_agent\n",
    "from langchain.agents import AgentType\n",
    "from langchain import hub\n",
    "\n",
    "prompt = hub.pull(\"hwchase17/react\")\n",
    "\n",
    "\n",
    "os.environ[\"SERPAPI_API_KEY\"] = (\n",
    "    \"14e30b63ff46764733327f1f28c977ce656d0e9830fd23100df44a21bee816a1\"\n",
    ")\n",
    "\n",
    "llm = OpenAI()\n",
    "tools = load_tools([\"serpapi\", \"llm-math\"], llm=llm)\n",
    "agent = create_react_agent(tools=tools, llm=llm, prompt=prompt)\n",
    "\n",
    "agent_executor = AgentExecutor(agent=agent, tools=tools, verbose=True)\n",
    "agent_executor.invoke(\n",
    "    {\"input\": \"谁是莱昂纳多·迪卡普里奥的女朋友？她现在年龄的0.43次方是多少?\"}\n",
    ")"
   ]
  },
  {
   "cell_type": "code",
   "execution_count": 8,
   "metadata": {},
   "outputs": [
    {
     "name": "stdout",
     "output_type": "stream",
     "text": [
      "\n",
      "\n",
      "\u001b[1m> Entering new AgentExecutor chain...\u001b[0m\n",
      "\u001b[32;1m\u001b[1;3mQuestion: 谁是莱昂纳多·迪卡普里奥的女朋友？\n",
      "Thought: 首先，我需要找出莱昂纳多·迪卡普里奥当前的女朋友是谁。这个信息可能会随时间而变化，所以我需要使用搜索工具来获取最新的信息。\n",
      "Action:\n",
      "```json\n",
      "{\n",
      "  \"action\": \"Search\",\n",
      "  \"action_input\": \"莱昂纳多·迪卡普里奥 当前女朋友\"\n",
      "}\n",
      "```\n",
      "\u001b[0m\n",
      "Observation: \u001b[36;1m\u001b[1;3m去年12月下旬，莱昂纳多·迪卡普里奥（Leonardo DiCaprio）被拍到和女友维多利亚·拉马斯（Victoria Lamas）在游艇欢度圣诞假期。\u001b[0m\n",
      "Thought:\u001b[32;1m\u001b[1;3m根据之前的搜索结果，莱昂纳多·迪卡普里奥的女朋友是维多利亚·拉马斯（Victoria Lamas）。下一步，我需要找出维多利亚·拉马斯的年龄，然后计算其年龄的0.43次方。\n",
      "\n",
      "Thought: 首先，我需要使用搜索工具来查找维多利亚·拉马斯的年龄。\n",
      "Action:\n",
      "```json\n",
      "{\n",
      "  \"action\": \"Search\",\n",
      "  \"action_input\": \"Victoria Lamas 年龄\"\n",
      "}\n",
      "```\n",
      "\u001b[0m\n",
      "Observation: \u001b[36;1m\u001b[1;3m24 years\u001b[0m\n",
      "Thought:\u001b[32;1m\u001b[1;3m维多利亚·拉马斯的年龄是24岁。现在我需要计算24岁的0.43次方。\n",
      "\n",
      "Action:\n",
      "```json\n",
      "{\n",
      "  \"action\": \"Calculator\",\n",
      "  \"action_input\": {\n",
      "    \"expression\": \"24^0.43\"\n",
      "  }\n",
      "}\n",
      "```\n",
      "\n",
      "\u001b[0m\n",
      "Observation: \u001b[33;1m\u001b[1;3mAnswer: 3.9218486893172186\u001b[0m\n",
      "Thought:\u001b[32;1m\u001b[1;3m维多利亚·拉马斯年龄的0.43次方是大约3.92。\n",
      "\n",
      "Final Answer: 维多利亚·拉马斯年龄的0.43次方是大约3.92。\u001b[0m\n",
      "\n",
      "\u001b[1m> Finished chain.\u001b[0m\n"
     ]
    },
    {
     "data": {
      "text/plain": [
       "'维多利亚·拉马斯年龄的0.43次方是大约3.92。'"
      ]
     },
     "execution_count": 8,
     "metadata": {},
     "output_type": "execute_result"
    }
   ],
   "source": [
    "from langchain_openai import ChatOpenAI\n",
    "\n",
    "chat_model = ChatOpenAI(model=\"gpt-4-1106-preview\", temperature=0)\n",
    "agent = initialize_agent(\n",
    "    tools, chat_model, agent=AgentType.CHAT_ZERO_SHOT_REACT_DESCRIPTION, verbose=True\n",
    ")\n",
    "agent.run(\"谁是莱昂纳多·迪卡普里奥的女朋友？她现在年龄的0.43次方是多少?\")"
   ]
  },
  {
   "cell_type": "code",
   "execution_count": null,
   "metadata": {},
   "outputs": [],
   "source": []
  }
 ],
 "metadata": {
  "kernelspec": {
   "display_name": "dev-11",
   "language": "python",
   "name": "python3"
  },
  "language_info": {
   "codemirror_mode": {
    "name": "ipython",
    "version": 3
   },
   "file_extension": ".py",
   "mimetype": "text/x-python",
   "name": "python",
   "nbconvert_exporter": "python",
   "pygments_lexer": "ipython3",
   "version": "3.12.2"
  }
 },
 "nbformat": 4,
 "nbformat_minor": 2
}
