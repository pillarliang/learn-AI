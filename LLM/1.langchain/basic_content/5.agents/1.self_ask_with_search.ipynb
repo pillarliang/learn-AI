{
 "cells": [
  {
   "cell_type": "code",
   "execution_count": 25,
   "metadata": {},
   "outputs": [
    {
     "name": "stdout",
     "output_type": "stream",
     "text": [
      "\n",
      "\n",
      "\u001b[1m> Entering new AgentExecutor chain...\u001b[0m\n",
      "\u001b[32;1m\u001b[1;3mCould not parse output:  No.\u001b[0mInvalid or incomplete response\u001b[32;1m\u001b[1;3mSo the final answer is: Invalid question\u001b[0m\n",
      "\n",
      "\u001b[1m> Finished chain.\u001b[0m\n",
      "{'input': '成都举办的大运会是第几届大运会？', 'output': 'Invalid question'}\n",
      "\n",
      "\n",
      "成都举办的大运会是第31届大运会。\n"
     ]
    }
   ],
   "source": [
    "import os\n",
    "from langchain import hub\n",
    "from langchain import SerpAPIWrapper\n",
    "from langchain_openai import OpenAI\n",
    "from langchain.agents import Tool, AgentExecutor, create_self_ask_with_search_agent\n",
    "\n",
    "os.environ[\"SERPAPI_API_KEY\"] = (\n",
    "    \"14e30b63ff46764733327f1f28c977ce656d0e9830fd23100df44a21bee816a1\"\n",
    ")\n",
    "\n",
    "prompt = hub.pull(\"hwchase17/self-ask-with-search\")\n",
    "\n",
    "llm = OpenAI()\n",
    "search = SerpAPIWrapper()\n",
    "tools = [\n",
    "    Tool(\n",
    "        name=\"Intermediate Answer\",\n",
    "        func=search.run,\n",
    "        description=\"useful for when you need to ask with search\",\n",
    "    )\n",
    "]\n",
    "\n",
    "agent = create_self_ask_with_search_agent(\n",
    "    tools=tools,\n",
    "    llm=llm,\n",
    "    prompt=prompt,\n",
    ")\n",
    "agent_executor = AgentExecutor(\n",
    "    agent=agent, tools=tools, verbose=True, handle_parsing_errors=True\n",
    ")\n",
    "\n",
    "print(agent_executor.invoke({\"input\": \"成都举办的大运会是第几届大运会？\"}))\n",
    "\n",
    "# # Reason-only 答案（错误）\n",
    "print(llm.invoke(\"成都举办的大运会是第几届大运会？\"))"
   ]
  },
  {
   "cell_type": "code",
   "execution_count": 28,
   "metadata": {},
   "outputs": [
    {
     "name": "stdout",
     "output_type": "stream",
     "text": [
      "\n",
      "\n",
      "\u001b[1m> Entering new AgentExecutor chain...\u001b[0m\n",
      "\u001b[32;1m\u001b[1;3m The first step should be to search for information about the Chengdu Universiade.\n",
      "Action: Search\n",
      "Action Input: Chengdu Universiade\u001b[0m\u001b[36;1m\u001b[1;3m['The 2021 Summer World University Games, the XXXI Summer World University Games, commonly known as Chengdu 2021, was a multi-sport event sanctioned by the International University Sports Federation, held from 28 July to 8 August 2023 primarily in Chengdu, Sichuan Province, China.', 'Chengdu 2021 Summer World University Games type: Jul 28, 2023 – Aug 8, 2023.', 'Chengdu 2021 Summer World University Games main_tab_text: Overview.', 'Chengdu 2021 Summer World University Games kgmid: /g/11c71c6xtg.', 'Chengdu 2021 Summer World University Games location: Chengdu.', 'Chengdu 2021 Summer World University Games sport: 18.', 'Chengdu 2021 Summer World University Games dates: Jul 28, 2023 – Aug 8, 2023.', 'Chengdu 2021 Summer World University Games athletes: 5059.', 'Chengdu 2021 Summer World University Games closing: 8 August 2023.', 'Chengdu 2021 Summer World University Games events: 269.', 'As the first world-class sports event to take place in western China, the Chengdu 2021 FISU World University Games is already helping usher an even-more ...', 'The 2021 Summer World University Games the XXXI Summer World University Games, commonly known as Chengdu 2021, was a multi-sport event sanctioned by the ...', 'After two postponements in 2021 and 2022 due to the pandemics, the Chengdu FISU Games finally took place from 28 July to 8 August 2023 in the Chinese megacity.', 'Welcome to Chengdu. Discover all the content and lives of the summer edition of the FISU Games, which will take place on 28 July - 8 August 2023.', 'Celebrating the #chinesenewyear of the Dragon! FISU President Leonz Eder and global participants of Chengdu FISU Games share heartfelt memories and ...', \"Watch live streaming of the 2023 FISU World University Games - Chengdu, People's Republic of China, and prepare to be amazed at this exciting event.\", '2023 National Badminton Team Championships are coming! 🗓️ Nov 14-19 High-tech Zone Sports Center, #Chengdu 21 teams. 297 players. 6 days of intense ...', 'The 31st Summer World University Games (Summer Universiade/ FISU Games), will be held in Chengdu, capital of Sichuan Province in 2023. The Summer Universiade is ...', 'The FISU World University Games, formerly the Universiade, is an international multi-sport event, organized for university athletes by the International ...', 'The Chengdu 2021 International University Sports Federation (FISU) Summer World University Games have come to an end in China with a ...']\u001b[0m\u001b[32;1m\u001b[1;3mI should search for the specific information I need.\n",
      "Action: Search\n",
      "Action Input: Chengdu Universiade 2023\u001b[0m\u001b[36;1m\u001b[1;3mAfter two postponements in 2021 and 2022 due to the pandemics, the Chengdu FISU Games finally took place from 28 July to 8 August 2023 in the Chinese megacity. The 21 million people Sichuan's capital witnessed over 6,500 student-athletes from the five continents compete in 269 medal events.\u001b[0m\u001b[32;1m\u001b[1;3m It looks like the Universiade in Chengdu is the 31st edition.\n",
      "Action: Search\n",
      "Action Input: Chengdu Universiade 2023 31st edition\u001b[0m\u001b[36;1m\u001b[1;3m['On the evening of July 28, 2023, the 31st summer edition of the FISU World University Games solemnly opened in Chengdu, Sichuan Province.', \"Chengdu Universiade | China defeats Japan to win women's volleyball title · Closing ceremony of 31st FISU Summer World University Games held in Chengdu · Chengdu ...\", 'Closing ceremony of 31st FISU Summer World University Games held in Chengdu ... Highlights of fencing team gold medal matches at Chengdu Universiade 2023-08-07 21 ...', \"See which nations won medals at the FISU World University Games 2023 in Chengdu in the People's Republic of China between 28 July and 8 August.\", 'After two postponements in 2021 and 2022 due to the pandemics, the Chengdu FISU Games finally took place from 28 July to 8 August 2023 in the Chinese megacity.', 'The 31st edition of FISU Summer Universiade had initially been scheduled for the summer of 2021 but were delayed to June 2022 following the postponement of the ...', \"In five days, the 31st edition of the FISU World University Games will open in Chengdu, southwest China's Sichuan Province.\", 'The 31st summer edition of the FISU World University Games is taking place in the vibrant city of Chengdu, China. This eagerly awaited event ...', 'The 2023 FISU Summer World University Games (Universiade), officially known as the 2023 Summer Universiade or the XXXII Summer World University Games, ...', \"The 31st summer edition of FISU World University Games opens on Friday in Chengdu, the capital of southwest China's Sichuan Province. Join CGTN ...\"]\u001b[0m\u001b[32;1m\u001b[1;3m I should search for the closing ceremony information to confirm.\n",
      "Action: Search\n",
      "Action Input: Chengdu Universiade 2023 closing ceremony\u001b[0m\u001b[36;1m\u001b[1;3m['The 31st FISU Summer World University Games wrapped up in Chengdu, Sichuan Province on August 8, where the closing ceremony at the Chengdu Open ...', 'Chengdu 2023 | Closing Ceremony. Chengdu ... Follow the story of some of our student-athletes competing at the Chengdu 2021 FISU World University Games Summer.', 'Closing ceremony of 31st FISU Summer World University Games held in Chengdu. Source: Xinhua. Editor: huaxia. 2023-08-08 20:50:59. Flag and placard bearers ...', 'The closing ceremony on Tuesday night will be about 70 minutes and compose of parts. The two directors said that it will be both a perfect ...', '... Universiade will be opened on 3 July at 21:00 CEST. Napoli 2019 | Closing Ceremony. Watch the closing ceremony during the Napoli 2019 Summer Universiade.', \"'Gathering' and 'farewell': Chengdu Universiade's closing ceremony themes revealed by director. (People's Daily Online) 17:33, August 04, 2023.\", 'Closing ceremony of 31st FISU Summer World University Games held in Chengdu. Xinhua | Updated: 2023-08-08 21:40. Share. Share - WeChat. CLOSE.']\u001b[0m\u001b[32;1m\u001b[1;3m It looks like the closing ceremony was on August 8, 2023, which confirms that the Chengdu Universiade is the 31st edition.\n",
      "Action: Search\n",
      "Action Input: Chengdu Universiade 2023 closing ceremony August 8\u001b[0m\u001b[36;1m\u001b[1;3m['The 31st FISU Summer World University Games wrapped up in Chengdu, Sichuan Province on August 8, where the closing ceremony at the Chengdu Open ...', 'Closing ceremony of 31st FISU Summer World University Games held in Chengdu ... Aug. 8, 2023. (Xinhua/Liu Kun). Fireworks are seen during the ...', 'As the directors of the closing ceremony, Jia Ding and Wei Sijia wanted to keep up their creativity that for the University Games until the end ...', '... World University Games? Check out this beauty, do you want to win it? Join in on 28 July - 8 August for the Summer edition of the FISU World University Games.', 'Updated: August 9, 2023 09:03 Xinhua. CHENGDU, Aug. 8 -- The 31st FISU World University Games closed on Tuesday evening at Open Air Music Park of Chengdu, ...', \"Closing ceremony of 31st FISU Summer World University Games held in Chengdu ... Chengdu, Southwest China's Sichuan province, Aug 8, 2023. [Photo ...\", 'Events, 247. Opening, 8 August (cancelled). Closing, 19 August (cancelled). Main venue, Ekaterinburg Arena (opening/closing ceremonies). ← Chengdu 2021 · Rhine ...', 'This special event will take place during the closing ceremony of the FISU ... 4 August 2023 – Chengdu. Festive Handover of FISU Flag. On 8 August 2023, ...', \"The closing ceremony of the 31st FISU Summer World University Games was held in Chengdu, southwest China's Sichuan province, Aug. 8, 2023. Flag ...\", 'After 11 exciting and spectacular days of sports, the 31st edition of the summer FISU World University Games has come to an end with the closing ceremony, ...']\u001b[0m\u001b[32;1m\u001b[1;3m I now know the final answer.\n",
      "Final Answer: The Chengdu Universiade is the 31st edition.\u001b[0m\n",
      "\n",
      "\u001b[1m> Finished chain.\u001b[0m\n",
      "{'input': '成都举办的大运会是第几届大运会？', 'output': 'The Chengdu Universiade is the 31st edition.'}\n"
     ]
    }
   ],
   "source": [
    "from langchain import hub\n",
    "from langchain.agents import (\n",
    "    create_react_agent,\n",
    "    AgentExecutor,\n",
    "    load_tools,\n",
    ")\n",
    "\n",
    "prompt = hub.pull(\"hwchase17/react\")\n",
    "os.environ[\"SERPAPI_API_KEY\"] = (\n",
    "    \"14e30b63ff46764733327f1f28c977ce656d0e9830fd23100df44a21bee816a1\"\n",
    ")\n",
    "\n",
    "llm = OpenAI()\n",
    "tools = load_tools([\"serpapi\", \"llm-math\"], llm=llm)\n",
    "\n",
    "agent = create_react_agent(\n",
    "    tools=tools,\n",
    "    llm=llm,\n",
    "    prompt=prompt,\n",
    ")\n",
    "agent_executor = AgentExecutor(\n",
    "    agent=agent, tools=tools, verbose=True, handle_parsing_errors=True\n",
    ")\n",
    "\n",
    "print(agent_executor.invoke({\"input\": \"成都举办的大运会是第几届大运会？\"}))"
   ]
  },
  {
   "cell_type": "code",
   "execution_count": null,
   "metadata": {},
   "outputs": [],
   "source": []
  }
 ],
 "metadata": {
  "kernelspec": {
   "display_name": "dev-11",
   "language": "python",
   "name": "python3"
  },
  "language_info": {
   "codemirror_mode": {
    "name": "ipython",
    "version": 3
   },
   "file_extension": ".py",
   "mimetype": "text/x-python",
   "name": "python",
   "nbconvert_exporter": "python",
   "pygments_lexer": "ipython3",
   "version": "3.12.2"
  }
 },
 "nbformat": 4,
 "nbformat_minor": 2
}
