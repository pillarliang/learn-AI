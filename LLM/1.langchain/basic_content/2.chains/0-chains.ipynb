{
 "cells": [
  {
   "cell_type": "markdown",
   "metadata": {},
   "source": [
    "## Single Chain\n"
   ]
  },
  {
   "cell_type": "code",
   "execution_count": 1,
   "metadata": {},
   "outputs": [
    {
     "name": "stderr",
     "output_type": "stream",
     "text": [
      "/Users/liangzhu/anaconda3/envs/llm/lib/python3.12/site-packages/langchain_core/_api/deprecation.py:117: LangChainDeprecationWarning: The function `run` was deprecated in LangChain 0.1.0 and will be removed in 0.2.0. Use invoke instead.\n",
      "  warn_deprecated(\n"
     ]
    },
    {
     "name": "stdout",
     "output_type": "stream",
     "text": [
      "\n",
      "\n",
      "1. GeForce RTX 2080\n",
      "2. Radeon RX 5700 XT\n",
      "3. Titan V\n",
      "4. Sapphire Nitro+ Radeon RX 590\n",
      "5. MSI Gaming X GeForce GTX 1080 Ti\n",
      "6. EVGA GeForce GTX 1660 Super\n",
      "7. Gigabyte AORUS GeForce RTX 2080 Ti\n",
      "8. ASUS ROG Strix Radeon RX 5600 XT\n",
      "9. Zotac Gaming GeForce GTX 1660\n",
      "10. PowerColor Red Devil Radeon RX 580\n"
     ]
    }
   ],
   "source": [
    "from langchain_openai import OpenAI\n",
    "from langchain.prompts import PromptTemplate\n",
    "from langchain.chains import LLMChain\n",
    "\n",
    "llm = OpenAI(temperature=0.9, max_tokens=500)\n",
    "prompt = PromptTemplate(\n",
    "    input_variables=[\"product\"],\n",
    "    template=\"Give 10 names for {product}\",\n",
    ")\n",
    "\n",
    "chain = LLMChain(llm=llm, prompt=prompt)\n",
    "print(chain.run({\"product\": \"GPU\"}))"
   ]
  },
  {
   "cell_type": "markdown",
   "metadata": {},
   "source": [
    "## Sequential Chain\n"
   ]
  },
  {
   "cell_type": "markdown",
   "metadata": {},
   "source": [
    "#### one input and one output: SimpleSequentialChain\n"
   ]
  },
  {
   "cell_type": "code",
   "execution_count": 3,
   "metadata": {},
   "outputs": [
    {
     "name": "stdout",
     "output_type": "stream",
     "text": [
      "\n",
      "\n",
      "\u001b[1m> Entering new SimpleSequentialChain chain...\u001b[0m\n",
      "\u001b[36;1m\u001b[1;3m\n",
      "\n",
      "\"I Have a Bright Future\" tells the story of a determined young individual who overcomes numerous challenges and obstacles to achieve success and fulfillment. From a young age, the protagonist faces adversity, whether it be financial struggles, personal setbacks, or societal pressures. Despite these difficulties, they possess a strong sense of self-belief and determination, fueling their drive to create a better future for themselves. With hard work, perseverance, and a positive mindset, the protagonist works towards their goals, taking advantage of every opportunity that comes their way. Along the way, they form meaningful relationships and discover their true passions, ultimately leading to a bright and promising future. Through this inspiring journey, \"I Have a Bright Future\" showcases the power of resilience and the importance of never giving up on one's dreams.\u001b[0m\n",
      "\u001b[33;1m\u001b[1;3m \n",
      "\n",
      "This book is an incredibly uplifting and motivational read. The protagonist's journey is relatable and inspiring, making it a great read for anyone who is facing challenges and seeking inspiration. The author does a fantastic job of depicting the protagonist's struggles and their unwavering determination to overcome them. This serves as a reminder that no matter what obstacles we face, we have the power within us to rise above them.\n",
      "\n",
      "The book also highlights the importance of having a positive attitude and mindset. Despite the difficulties the protagonist faces, they never let it bring them down or discourage them from pursuing their dreams. This sends a powerful message that our attitude and outlook towards life can greatly impact our journey towards success.\n",
      "\n",
      "One of the most heartwarming aspects of this book is the relationships the protagonist forms along the way. These relationships serve as a source of support and encouragement, further highlighting the importance of having a strong support system in our lives. The author beautifully portrays the bonds of friendship and family, showing how they can play a vital role in our personal growth and success.\n",
      "\n",
      "The writing style of the author is engaging and easy to follow, making it a captivating read. The story flows seamlessly, and the characters are well-developed, making them feel like real people. The book also has a great balance of drama, humor, and emotion, making it a well-rounded read.\n",
      "\n",
      "Overall, \"I Have a Bright Future\" is a powerful and uplifting story that will leave readers feeling motivated and inspired. It is a reminder that perseverance, hard work, and a positive mindset can lead us to achieve our dreams, no matter how difficult the journey may be. This book is a must-read for anyone looking for a dose of inspiration and a reminder that our future is in our hands. \u001b[0m\n",
      "\n",
      "\u001b[1m> Finished chain.\u001b[0m\n"
     ]
    }
   ],
   "source": [
    "from langchain.chains import SimpleSequentialChain\n",
    "from langchain_openai import OpenAI\n",
    "\n",
    "llm = OpenAI(temperature=0.7, max_tokens=1000)\n",
    "\n",
    "# chain1\n",
    "synopsis_template = \"Write a synopsis for {title}\"\n",
    "synopsis_prompt_template = PromptTemplate(\n",
    "    input_variables=[\"title\"], template=synopsis_template\n",
    ")\n",
    "synopsis_chain = LLMChain(llm=llm, prompt=synopsis_prompt_template)\n",
    "\n",
    "# chain2\n",
    "review_template = \"Write a review based on {synopsis}.\"\n",
    "review_prompt_template = PromptTemplate(\n",
    "    input_variables=[\"synopsis\"], template=review_template\n",
    ")\n",
    "review_chain = LLMChain(llm=llm, prompt=review_prompt_template)\n",
    "\n",
    "overall_chain = SimpleSequentialChain(\n",
    "    chains=[synopsis_chain, review_chain], verbose=True\n",
    ")\n",
    "review = overall_chain.run(\"I have a bright future.\")"
   ]
  },
  {
   "cell_type": "markdown",
   "metadata": {},
   "source": [
    "#### Multiple inputs and outputs\n"
   ]
  },
  {
   "cell_type": "code",
   "execution_count": 11,
   "metadata": {},
   "outputs": [
    {
     "name": "stdout",
     "output_type": "stream",
     "text": [
      "\n",
      "\n",
      "\u001b[1m> Entering new SequentialChain chain...\u001b[0m\n",
      "\n",
      "\n",
      "\u001b[1m> Entering new LLMChain chain...\u001b[0m\n",
      "Prompt after formatting:\n",
      "\u001b[32;1m\u001b[1;3mWrite a synopsis for I have a bright feature based on 2024\u001b[0m\n",
      "\n",
      "\u001b[1m> Finished chain.\u001b[0m\n",
      "\n",
      "\n",
      "\u001b[1m> Entering new LLMChain chain...\u001b[0m\n",
      "Prompt after formatting:\n",
      "\u001b[32;1m\u001b[1;3mWrite a review based on \n",
      "\n",
      "In \"I Have a Bright Future Based on 2024,\" we follow the journey of a young adult named Sarah as she navigates the year 2024, a time of great technological advancements and societal changes. Sarah, a recent college graduate, is struggling to find her place in this new world where jobs are scarce and competition is fierce. However, she is determined to make a better life for herself and her family.\n",
      "\n",
      "As she navigates through the challenges of this future world, Sarah is constantly reminded of the sacrifices her parents made to give her a better life. Her father, a blue-collar worker, lost his job due to automation and her mother, a nurse, faces increased pressure and demands in the healthcare industry. Despite these challenges, Sarah's parents instilled in her a strong work ethic and resilience, which she relies on as she faces her own struggles.\n",
      "\n",
      "Sarah's journey is not just about her personal growth, but also about the larger societal changes happening around her. She witnesses the effects of climate change and the efforts being made to combat it. She also sees the rise of artificial intelligence and how it impacts not only job opportunities but also human relationships.\n",
      "\n",
      "Amidst all these changes, Sarah finds solace in her passion for writing and starts a blog where she shares her thoughts and experiences. Through her blog, she connects with like-minded individuals and discovers a sense of community. She also learns to embrace the changes happening around her and finds hope for a brighter future.\n",
      "\n",
      "As the year 2024 comes to a close, Sarah reflects on her journey and realizes that she has a bright future ahead of her, filled with endless possibilities and opportunities. She is grateful for the lessons she has learned and the connections she has made, and is excited to see what the future holds. With determination and resilience, Sarah is ready to face whatever challenges come her way and make the most of her bright future in 2024..\u001b[0m\n",
      "\n",
      "\u001b[1m> Finished chain.\u001b[0m\n",
      "\n",
      "\u001b[1m> Finished chain.\u001b[0m\n"
     ]
    },
    {
     "data": {
      "text/plain": [
       "{'title': 'I have a bright feature',\n",
       " 'era': '2024',\n",
       " 'synopsis': '\\n\\nIn \"I Have a Bright Future Based on 2024,\" we follow the journey of a young adult named Sarah as she navigates the year 2024, a time of great technological advancements and societal changes. Sarah, a recent college graduate, is struggling to find her place in this new world where jobs are scarce and competition is fierce. However, she is determined to make a better life for herself and her family.\\n\\nAs she navigates through the challenges of this future world, Sarah is constantly reminded of the sacrifices her parents made to give her a better life. Her father, a blue-collar worker, lost his job due to automation and her mother, a nurse, faces increased pressure and demands in the healthcare industry. Despite these challenges, Sarah\\'s parents instilled in her a strong work ethic and resilience, which she relies on as she faces her own struggles.\\n\\nSarah\\'s journey is not just about her personal growth, but also about the larger societal changes happening around her. She witnesses the effects of climate change and the efforts being made to combat it. She also sees the rise of artificial intelligence and how it impacts not only job opportunities but also human relationships.\\n\\nAmidst all these changes, Sarah finds solace in her passion for writing and starts a blog where she shares her thoughts and experiences. Through her blog, she connects with like-minded individuals and discovers a sense of community. She also learns to embrace the changes happening around her and finds hope for a brighter future.\\n\\nAs the year 2024 comes to a close, Sarah reflects on her journey and realizes that she has a bright future ahead of her, filled with endless possibilities and opportunities. She is grateful for the lessons she has learned and the connections she has made, and is excited to see what the future holds. With determination and resilience, Sarah is ready to face whatever challenges come her way and make the most of her bright future in 2024.',\n",
       " 'review': '\\n\\n\"I Have a Bright Future Based on 2024\" is an inspiring and thought-provoking story that takes us on a journey into a not-so-distant future. Through the eyes of the protagonist, Sarah, we witness the societal changes and technological advancements that shape the world in 2024. But more importantly, we see the impact of these changes on individuals and how they navigate through the new landscape.\\n\\nSarah\\'s story is relatable and relevant to our current times, where we are experiencing rapid changes and uncertainties. The struggles she faces in finding a job and making a better life for herself and her family are things that many young adults can relate to. But what sets Sarah apart is her resilience and determination to not let these challenges bring her down.\\n\\nThe story also sheds light on larger societal issues such as climate change and the impact of technology on our lives. It raises important questions about our responsibility towards the environment and the role of artificial intelligence in shaping our future. These themes are seamlessly woven into the narrative, making the story both engaging and thought-provoking.\\n\\nOne of the most powerful aspects of the story is the emphasis on the importance of community and connections. In a world where technology has made us more connected than ever, Sarah finds solace and support in her online community through her blog. This highlights the need for human connections and a sense of belonging, even in a technologically advanced society.\\n\\nOverall, \"I Have a Bright Future Based on 2024\" is a captivating and uplifting read that leaves the reader with a sense of hope and optimism for the future. It reminds us that no matter what challenges we may face, we have the strength and resilience within us to overcome them and create a bright future for ourselves. I highly recommend this book to anyone looking for a thought-provoking and inspiring read. '}"
      ]
     },
     "execution_count": 11,
     "metadata": {},
     "output_type": "execute_result"
    }
   ],
   "source": [
    "from langchain.chains import SequentialChain\n",
    "\n",
    "llm = OpenAI(temperature=0.7, max_tokens=1000)\n",
    "\n",
    "# chain1\n",
    "synopsis_template = \"Write a synopsis for {title} based on {era}\"\n",
    "synopsis_prompt_template = PromptTemplate(\n",
    "    input_variables=[\"title\", \"era\"], template=synopsis_template\n",
    ")\n",
    "synopsis_chain = LLMChain(\n",
    "    llm=llm,\n",
    "    prompt=synopsis_prompt_template,\n",
    "    output_key=\"synopsis\",\n",
    "    verbose=True,\n",
    ")\n",
    "\n",
    "# chain2\n",
    "review_template = \"Write a review based on {synopsis}.\"\n",
    "review_prompt_template = PromptTemplate(\n",
    "    input_variables=[\"synopsis\"], template=review_template\n",
    ")\n",
    "review_chain = LLMChain(\n",
    "    llm=llm,\n",
    "    prompt=review_prompt_template,\n",
    "    output_key=\"review\",\n",
    "    verbose=True,\n",
    ")\n",
    "\n",
    "overall_chain = SequentialChain(\n",
    "    chains=[synopsis_chain, review_chain],\n",
    "    input_variables=[\"title\", \"era\"],\n",
    "    output_variables=[\"synopsis\", \"review\"],\n",
    "    verbose=True,\n",
    ")\n",
    "\n",
    "overall_chain({\"title\": \"I have a bright feature\", \"era\": \"2024\"})"
   ]
  },
  {
   "cell_type": "markdown",
   "metadata": {},
   "source": [
    "## Router Chain\n"
   ]
  },
  {
   "cell_type": "code",
   "execution_count": 6,
   "metadata": {},
   "outputs": [
    {
     "name": "stdout",
     "output_type": "stream",
     "text": [
      "\n",
      "\n",
      "\u001b[1m> Entering new MultiPromptChain chain...\u001b[0m\n"
     ]
    },
    {
     "name": "stderr",
     "output_type": "stream",
     "text": [
      "/Users/liangzhu/anaconda3/envs/dev-11/lib/python3.11/site-packages/langchain/chains/llm.py:316: UserWarning: The predict_and_parse method is deprecated, instead pass an output parser directly to LLMChain.\n",
      "  warnings.warn(\n"
     ]
    },
    {
     "name": "stdout",
     "output_type": "stream",
     "text": [
      "physics: {'input': 'What is the speed of light?'}\n",
      "\u001b[1m> Finished chain.\u001b[0m\n",
      "\n",
      "\n",
      "1. What is the speed of light?\n",
      "\n",
      "The speed of light is a physical constant that represents the speed at which light travels in a vacuum.\n",
      "\n",
      "2. What is the exact value of the speed of light?\n",
      "\n",
      "The exact value of the speed of light is 299,792,458 meters per second, or approximately 186,282 miles per second.\n",
      "\n",
      "3. Who first measured the speed of light?\n",
      "\n",
      "The first person to successfully measure the speed of light was Danish astronomer Ole Rømer in the late 17th century.\n",
      "\n",
      "4. How did Rømer measure the speed of light?\n",
      "\n",
      "Rømer observed the moons of Jupiter and noticed that their orbits appeared to be slightly delayed when Earth was farther away from Jupiter. He used this time delay to calculate the speed of light.\n",
      "\n",
      "5. Is the speed of light constant?\n",
      "\n",
      "Yes, according to Einstein's theory of relativity, the speed of light is a constant in all inertial frames of reference. This means that it does not change, regardless of the motion of the observer or the source of light.\n",
      "\n",
      "6. What is the significance of the speed of light?\n",
      "\n",
      "The speed of light plays a crucial role in many areas of physics, including relativity, quantum mechanics, and electromagnetism. It is also\n"
     ]
    }
   ],
   "source": [
    "from langchain.chains.router import MultiPromptChain\n",
    "from langchain_openai import OpenAI\n",
    "from langchain.chains import ConversationChain\n",
    "from langchain.chains.llm import LLMChain\n",
    "from langchain.prompts import PromptTemplate\n",
    "from langchain.chains.router.llm_router import LLMRouterChain, RouterOutputParser\n",
    "from langchain.chains.router.multi_prompt_prompt import MULTI_PROMPT_ROUTER_TEMPLATE\n",
    "\n",
    "\n",
    "llm = OpenAI()\n",
    "\n",
    "physics_template = \"You are a physicist. Answer the following questions about {input}.\"\n",
    "math_template = \"You are a mathematician. Answer the following questions about {input}.\"\n",
    "\n",
    "prompt_infos = [\n",
    "    {\n",
    "        \"name\": \"physics\",\n",
    "        \"description\": \"Physics questions\",\n",
    "        \"prompt_template\": physics_template,\n",
    "    },\n",
    "    {\n",
    "        \"name\": \"math\",\n",
    "        \"description\": \"Math questions\",\n",
    "        \"prompt_template\": math_template,\n",
    "    },\n",
    "]\n",
    "\n",
    "destination_chains = {}\n",
    "\n",
    "for p_info in prompt_infos:\n",
    "    name = p_info[\"name\"]  # 提取名称\n",
    "    prompt_template = p_info[\"prompt_template\"]  # 提取模板\n",
    "    # 创建PromptTemplate对象\n",
    "    prompt = PromptTemplate(template=prompt_template, input_variables=[\"input\"])\n",
    "    # 使用上述模板和llm对象创建LLMChain对象\n",
    "    chain = LLMChain(llm=llm, prompt=prompt)\n",
    "    # 将新创建的chain对象添加到destination_chains字典中\n",
    "    destination_chains[name] = chain\n",
    "\n",
    "# 创建一个默认的ConversationChain\n",
    "default_chain = ConversationChain(llm=llm, output_key=\"text\")\n",
    "\n",
    "\n",
    "destinations = [f\"{p['name']}: {p['description']}\" for p in prompt_infos]\n",
    "destinations_str = \"\\n\".join(destinations)\n",
    "router_template = MULTI_PROMPT_ROUTER_TEMPLATE.format(destinations=destinations_str)\n",
    "\n",
    "router_prompt = PromptTemplate(\n",
    "    template=router_template,\n",
    "    input_variables=[\"input\"],\n",
    "    output_parser=RouterOutputParser(),\n",
    ")\n",
    "router_chain = LLMRouterChain.from_llm(llm, router_prompt)\n",
    "\n",
    "chain = MultiPromptChain(\n",
    "    router_chain=router_chain,\n",
    "    destination_chains=destination_chains,\n",
    "    default_chain=default_chain,\n",
    "    verbose=True,\n",
    ")\n",
    "\n",
    "print(chain.run(\"What is the speed of light?\"))"
   ]
  },
  {
   "cell_type": "markdown",
   "metadata": {},
   "source": [
    "## Transform Chain\n"
   ]
  },
  {
   "cell_type": "code",
   "execution_count": 13,
   "metadata": {},
   "outputs": [
    {
     "name": "stdout",
     "output_type": "stream",
     "text": [
      "\n",
      "\n",
      "\u001b[1m> Entering new SimpleSequentialChain chain...\u001b[0m\n",
      "\n",
      "\n",
      "\u001b[1m> Entering new TransformChain chain...\u001b[0m\n",
      "\n",
      "\u001b[1m> Finished chain.\u001b[0m\n",
      "\u001b[36;1m\u001b[1;3m\n",
      "                 老人与海　\n",
      "　　　　　　　　        作者：海明威 \n",
      "\n",
      "　　他是个独自在湾流（注：指墨西哥湾暖流，向东穿过美国佛罗里达州南端和古巴之间的佛罗里达海峡，沿着北美\u001b[0m\n",
      "\n",
      "\n",
      "\u001b[1m> Entering new LLMChain chain...\u001b[0m\n",
      "Prompt after formatting:\n",
      "\u001b[32;1m\u001b[1;3msummary of the:\n",
      "\n",
      "\n",
      "                 老人与海　\n",
      "　　　　　　　　        作者：海明威 \n",
      "\n",
      "　　他是个独自在湾流（注：指墨西哥湾暖流，向东穿过美国佛罗里达州南端和古巴之间的佛罗里达海峡，沿着北美\n",
      "\n",
      "Summary:\u001b[0m\n",
      "\n",
      "\u001b[1m> Finished chain.\u001b[0m\n",
      "\u001b[33;1m\u001b[1;3m The Old Man and the Sea is a novel written by Ernest Hemingway. It tells the story of an old fisherman named Santiago who has not caught a fish in 84 days. He goes out to sea alone and catches a giant marlin, but struggles to bring it back to shore. Despite his determination, the fish is eventually eaten by sharks. Santiago returns to shore exhausted and defeated, but with a newfound respect from the villagers. The novel explores themes of perseverance, struggle, and the relationship between man and nature.\u001b[0m\n",
      "\n",
      "\u001b[1m> Finished chain.\u001b[0m\n"
     ]
    },
    {
     "data": {
      "text/plain": [
       "' The Old Man and the Sea is a novel written by Ernest Hemingway. It tells the story of an old fisherman named Santiago who has not caught a fish in 84 days. He goes out to sea alone and catches a giant marlin, but struggles to bring it back to shore. Despite his determination, the fish is eventually eaten by sharks. Santiago returns to shore exhausted and defeated, but with a newfound respect from the villagers. The novel explores themes of perseverance, struggle, and the relationship between man and nature.'"
      ]
     },
     "execution_count": 13,
     "metadata": {},
     "output_type": "execute_result"
    }
   ],
   "source": [
    "from langchain.chains import SimpleSequentialChain, LLMChain, TransformChain\n",
    "from langchain_openai import OpenAI\n",
    "from langchain.prompts import PromptTemplate\n",
    "\n",
    "with open(\"./the_old_man_and_the_sea.txt\", \"r\") as file:\n",
    "    novel_text = file.read()\n",
    "\n",
    "\n",
    "def transform_func(inputs: dict) -> dict:\n",
    "    # 从输入字典中获取\"text\"键对应的文本。\n",
    "    text = inputs[\"text\"]\n",
    "    # 使用split方法将文本按照\"\\n\\n\"分隔为多个段落，并只取前三个，然后再使用\"\\n\\n\"将其连接起来。\n",
    "    shortened_text = \"\\n\\n\".join(text.split(\"\\n\\n\")[:3])\n",
    "    # 返回裁剪后的文本，用\"output_text\"作为键。\n",
    "    return {\"output_text\": shortened_text}\n",
    "\n",
    "\n",
    "transform_chain = TransformChain(\n",
    "    input_variables=[\"text\"],\n",
    "    output_variables=[\"output_text\"],\n",
    "    transform=transform_func,\n",
    "    verbose=True,\n",
    ")\n",
    "\n",
    "\n",
    "template = \"\"\"summary of the:\n",
    "\n",
    "{output_text}\n",
    "\n",
    "Summary:\"\"\"\n",
    "prompt = PromptTemplate(input_variables=[\"output_text\"], template=template)\n",
    "llm_chain = LLMChain(llm=OpenAI(), prompt=prompt, verbose=True)\n",
    "\n",
    "sequential_chain = SimpleSequentialChain(\n",
    "    chains=[transform_chain, llm_chain], verbose=True\n",
    ")\n",
    "sequential_chain.run(novel_text[:100])"
   ]
  },
  {
   "cell_type": "code",
   "execution_count": null,
   "metadata": {},
   "outputs": [],
   "source": []
  }
 ],
 "metadata": {
  "kernelspec": {
   "display_name": "dev-11",
   "language": "python",
   "name": "python3"
  },
  "language_info": {
   "codemirror_mode": {
    "name": "ipython",
    "version": 3
   },
   "file_extension": ".py",
   "mimetype": "text/x-python",
   "name": "python",
   "nbconvert_exporter": "python",
   "pygments_lexer": "ipython3",
   "version": "3.12.2"
  }
 },
 "nbformat": 4,
 "nbformat_minor": 2
}
