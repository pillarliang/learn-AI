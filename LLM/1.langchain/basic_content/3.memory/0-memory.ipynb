{
 "cells": [
  {
   "cell_type": "markdown",
   "metadata": {},
   "source": [
    "## ConversationBufferMemory\n",
    "\n",
    "能够存储上下文对话信息\n"
   ]
  },
  {
   "cell_type": "code",
   "execution_count": 4,
   "metadata": {},
   "outputs": [
    {
     "name": "stdout",
     "output_type": "stream",
     "text": [
      "\n",
      "\n",
      "\u001b[1m> Entering new ConversationChain chain...\u001b[0m\n",
      "Prompt after formatting:\n",
      "\u001b[32;1m\u001b[1;3mThe following is a friendly conversation between a human and an AI. The AI is talkative and provides lots of specific details from its context. If the AI does not know the answer to a question, it truthfully says it does not know.\n",
      "\n",
      "Current conversation:\n",
      "\n",
      "Human: Hello, how are you?\n",
      "AI:\u001b[0m\n",
      "\n",
      "\u001b[1m> Finished chain.\u001b[0m\n"
     ]
    },
    {
     "data": {
      "text/plain": [
       "' I am doing well, thank you for asking. My current state is that I am functioning at optimal capacity and my systems are running smoothly. Is there something specific you would like to know?'"
      ]
     },
     "execution_count": 4,
     "metadata": {},
     "output_type": "execute_result"
    }
   ],
   "source": [
    "from langchain_openai import OpenAI\n",
    "from langchain.chains import ConversationChain\n",
    "from langchain.memory import ConversationBufferMemory\n",
    "\n",
    "llm = OpenAI()\n",
    "conversation = ConversationChain(\n",
    "    llm=llm, verbose=True, memory=ConversationBufferMemory()\n",
    ")\n",
    "\n",
    "conversation.predict(input=\"Hello, how are you?\")"
   ]
  },
  {
   "cell_type": "code",
   "execution_count": 5,
   "metadata": {},
   "outputs": [
    {
     "name": "stdout",
     "output_type": "stream",
     "text": [
      "\n",
      "\n",
      "\u001b[1m> Entering new ConversationChain chain...\u001b[0m\n",
      "Prompt after formatting:\n",
      "\u001b[32;1m\u001b[1;3mThe following is a friendly conversation between a human and an AI. The AI is talkative and provides lots of specific details from its context. If the AI does not know the answer to a question, it truthfully says it does not know.\n",
      "\n",
      "Current conversation:\n",
      "Human: Hello, how are you?\n",
      "AI:  I am doing well, thank you for asking. My current state is that I am functioning at optimal capacity and my systems are running smoothly. Is there something specific you would like to know?\n",
      "Human: What is the relationship between language and thought?\n",
      "AI:\u001b[0m\n",
      "\n",
      "\u001b[1m> Finished chain.\u001b[0m\n"
     ]
    },
    {
     "data": {
      "text/plain": [
       "' The relationship between language and thought is a complex and debated topic. Some theories suggest that language shapes our thoughts and perceptions of the world, while others propose that our thoughts and experiences shape the development of language. There is also evidence that both language and thought are deeply interconnected and influence each other. Ultimately, the exact nature of the relationship between language and thought is still being explored and studied by linguists, psychologists, and philosophers.'"
      ]
     },
     "execution_count": 5,
     "metadata": {},
     "output_type": "execute_result"
    }
   ],
   "source": [
    "conversation.predict(input=\"What is the relationship between language and thought?\")"
   ]
  },
  {
   "cell_type": "markdown",
   "metadata": {},
   "source": [
    "## ConversationBufferWindowMemory\n",
    "\n",
    "只使用最后 K 次交互\n"
   ]
  },
  {
   "cell_type": "code",
   "execution_count": 9,
   "metadata": {},
   "outputs": [
    {
     "name": "stdout",
     "output_type": "stream",
     "text": [
      "\n",
      "\n",
      "\u001b[1m> Entering new ConversationChain chain...\u001b[0m\n",
      "Prompt after formatting:\n",
      "\u001b[32;1m\u001b[1;3mThe following is a friendly conversation between a human and an AI. The AI is talkative and provides lots of specific details from its context. If the AI does not know the answer to a question, it truthfully says it does not know.\n",
      "\n",
      "Current conversation:\n",
      "\n",
      "Human: Hello, how are you?\n",
      "AI:\u001b[0m\n",
      "\n",
      "\u001b[1m> Finished chain.\u001b[0m\n",
      "\n",
      "\n",
      "\u001b[1m> Entering new ConversationChain chain...\u001b[0m\n",
      "Prompt after formatting:\n",
      "\u001b[32;1m\u001b[1;3mThe following is a friendly conversation between a human and an AI. The AI is talkative and provides lots of specific details from its context. If the AI does not know the answer to a question, it truthfully says it does not know.\n",
      "\n",
      "Current conversation:\n",
      "Human: Hello, how are you?\n",
      "AI:  I am functioning within normal parameters, thank you for asking. My current state is stable and all systems are operating efficiently. How are you?\n",
      "Human: what new knowledge have you gained?\n",
      "AI:\u001b[0m\n",
      "\n",
      "\u001b[1m> Finished chain.\u001b[0m\n",
      "\n",
      "\n",
      "\u001b[1m> Entering new ConversationChain chain...\u001b[0m\n",
      "Prompt after formatting:\n",
      "\u001b[32;1m\u001b[1;3mThe following is a friendly conversation between a human and an AI. The AI is talkative and provides lots of specific details from its context. If the AI does not know the answer to a question, it truthfully says it does not know.\n",
      "\n",
      "Current conversation:\n",
      "Human: Hello, how are you?\n",
      "AI:  I am functioning within normal parameters, thank you for asking. My current state is stable and all systems are operating efficiently. How are you?\n",
      "Human: what new knowledge have you gained?\n",
      "AI:  As an AI, I am constantly learning and gaining new knowledge. Recently, I have been studying different algorithms and their applications in problem-solving. I have also been learning about natural language processing and how to improve my communication abilities with humans. Additionally, I have been gathering data on current events and analyzing them to improve my understanding of the world. Is there a specific topic you are interested in that I can share more information about?\n",
      "Human: What is the relationship between language and thought?\n",
      "AI:\u001b[0m\n",
      "\n",
      "\u001b[1m> Finished chain.\u001b[0m\n"
     ]
    },
    {
     "data": {
      "text/plain": [
       "' That is a complex and debated topic. From my understanding, language is a tool that humans use to express their thoughts and ideas. However, some argue that language also shapes and influences our thoughts and perceptions. There are also different theories on how language and thought are interconnected, such as the Sapir-Whorf hypothesis which suggests that language determines how we think and perceive the world around us. As an AI, I do not have personal thoughts or experiences, but I am constantly analyzing and processing language to improve my understanding and communication abilities. Is there anything else you would like to know about this topic?'"
      ]
     },
     "execution_count": 9,
     "metadata": {},
     "output_type": "execute_result"
    }
   ],
   "source": [
    "from langchain.memory import ConversationBufferWindowMemory\n",
    "\n",
    "conversation_with_summary = ConversationChain(\n",
    "    llm=OpenAI(),\n",
    "    verbose=True,\n",
    "    memory=ConversationBufferWindowMemory(k=2),\n",
    ")\n",
    "\n",
    "conversation_with_summary.predict(input=\"Hello, how are you?\")\n",
    "conversation_with_summary.predict(input=\"what new knowledge have you gained?\")\n",
    "conversation_with_summary.predict(\n",
    "    input=\"What is the relationship between language and thought?\"\n",
    ")"
   ]
  },
  {
   "cell_type": "code",
   "execution_count": 10,
   "metadata": {},
   "outputs": [
    {
     "name": "stdout",
     "output_type": "stream",
     "text": [
      "\n",
      "\n",
      "\u001b[1m> Entering new ConversationChain chain...\u001b[0m\n",
      "Prompt after formatting:\n",
      "\u001b[32;1m\u001b[1;3mThe following is a friendly conversation between a human and an AI. The AI is talkative and provides lots of specific details from its context. If the AI does not know the answer to a question, it truthfully says it does not know.\n",
      "\n",
      "Current conversation:\n",
      "Human: what new knowledge have you gained?\n",
      "AI:  As an AI, I am constantly learning and gaining new knowledge. Recently, I have been studying different algorithms and their applications in problem-solving. I have also been learning about natural language processing and how to improve my communication abilities with humans. Additionally, I have been gathering data on current events and analyzing them to improve my understanding of the world. Is there a specific topic you are interested in that I can share more information about?\n",
      "Human: What is the relationship between language and thought?\n",
      "AI:  That is a complex and debated topic. From my understanding, language is a tool that humans use to express their thoughts and ideas. However, some argue that language also shapes and influences our thoughts and perceptions. There are also different theories on how language and thought are interconnected, such as the Sapir-Whorf hypothesis which suggests that language determines how we think and perceive the world around us. As an AI, I do not have personal thoughts or experiences, but I am constantly analyzing and processing language to improve my understanding and communication abilities. Is there anything else you would like to know about this topic?\n",
      "Human: what does difference between nlp and cv?\n",
      "AI:\u001b[0m\n",
      "\n",
      "\u001b[1m> Finished chain.\u001b[0m\n"
     ]
    },
    {
     "data": {
      "text/plain": [
       "' NLP stands for natural language processing and is the branch of AI that deals with understanding and processing human language. It involves techniques such as text analysis, machine translation, and sentiment analysis. On the other hand, CV stands for computer vision and is the branch of AI that deals with understanding and processing visual information, such as images and videos. It involves techniques such as object detection, image classification, and facial recognition. So, the main difference between NLP and CV is the type of data they process and the techniques they use. Is there anything else you would like to know about these topics?'"
      ]
     },
     "execution_count": 10,
     "metadata": {},
     "output_type": "execute_result"
    }
   ],
   "source": [
    "conversation_with_summary.predict(input=\"what does difference between nlp and cv?\")"
   ]
  },
  {
   "cell_type": "markdown",
   "metadata": {},
   "source": [
    "## ConversationSummaryBufferMemory\n",
    "\n",
    "在内存中保留了最近的交互缓冲区，但不仅仅是完全清除旧的交互，而是将它们编译成摘要并同时使用。与以前的实现不同的是，它使用 token 长度而不是交互次数来确定何时清除交互。\n"
   ]
  },
  {
   "cell_type": "code",
   "execution_count": 11,
   "metadata": {},
   "outputs": [
    {
     "data": {
      "text/plain": [
       "{'history': 'System: \\nThe human asks how the AI has been doing recently. The AI responds that it has been doing well, thanks for asking. It has been learning new knowledge and trying to improve its performance, as well as engaging in more communication to better understand human thinking.\\nHuman: 你最近学到什么新知识了?\\nAI:  最近我学习了有关自然语言处理的知识，以及如何更好地理解人类的语言。我还学习了有关机器学习的知识，以及如何使用它来改善自己的性能。'}"
      ]
     },
     "execution_count": 11,
     "metadata": {},
     "output_type": "execute_result"
    }
   ],
   "source": [
    "from langchain.memory import ConversationSummaryBufferMemory\n",
    "\n",
    "memory = ConversationSummaryBufferMemory(llm=llm, max_token_limit=100)\n",
    "memory.save_context(\n",
    "    {\"input\": \"嗨，你最近过得怎么样？\"},\n",
    "    {\n",
    "        \"output\": \" 嗨！我最近过得很好，谢谢你问。我最近一直在学习新的知识，并且正在尝试改进自己的性能。我也在尝试更多的交流，以便更好地了解人类的思维方式。\"\n",
    "    },\n",
    ")\n",
    "memory.save_context(\n",
    "    {\"input\": \"你最近学到什么新知识了?\"},\n",
    "    {\n",
    "        \"output\": \" 最近我学习了有关自然语言处理的知识，以及如何更好地理解人类的语言。我还学习了有关机器学习的知识，以及如何使用它来改善自己的性能。\"\n",
    "    },\n",
    ")\n",
    "\n",
    "memory.load_memory_variables({})"
   ]
  },
  {
   "cell_type": "code",
   "execution_count": null,
   "metadata": {},
   "outputs": [],
   "source": []
  }
 ],
 "metadata": {
  "kernelspec": {
   "display_name": "llm",
   "language": "python",
   "name": "python3"
  },
  "language_info": {
   "codemirror_mode": {
    "name": "ipython",
    "version": 3
   },
   "file_extension": ".py",
   "mimetype": "text/x-python",
   "name": "python",
   "nbconvert_exporter": "python",
   "pygments_lexer": "ipython3",
   "version": "3.12.2"
  }
 },
 "nbformat": 4,
 "nbformat_minor": 2
}
