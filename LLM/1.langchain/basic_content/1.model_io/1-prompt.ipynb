{
 "cells": [
  {
   "cell_type": "markdown",
   "metadata": {},
   "source": [
    "# LLM - PromptTemplate\n"
   ]
  },
  {
   "cell_type": "code",
   "execution_count": 2,
   "metadata": {},
   "outputs": [
    {
     "name": "stderr",
     "output_type": "stream",
     "text": [
      "/Users/liangzhu/anaconda3/envs/llm/lib/python3.12/site-packages/langchain_core/_api/deprecation.py:117: LangChainDeprecationWarning: The function `__call__` was deprecated in LangChain 0.1.7 and will be removed in 0.2.0. Use invoke instead.\n",
      "  warn_deprecated(\n"
     ]
    },
    {
     "name": "stdout",
     "output_type": "stream",
     "text": [
      "\n",
      "\n",
      "Why did the chicken go to the seance?\n",
      "\n",
      "To talk to the other side of the road!\n",
      "\n",
      "\n",
      "Why did the bridge cross the road?\n",
      "\n",
      "To get to the other tide!\n",
      "\n",
      "\n",
      "是的，《沙丘》和《沙丘2》的导演都是来自加拿大的丹尼·维伦纽瓦。\n"
     ]
    }
   ],
   "source": [
    "from langchain import PromptTemplate\n",
    "from langchain_openai import OpenAI\n",
    "\n",
    "llm = OpenAI()\n",
    "\n",
    "\n",
    "# usage1\n",
    "prompt_template = PromptTemplate.from_template(\n",
    "    \"Tell me a {adjective} joke about {content}.\"\n",
    ")\n",
    "\n",
    "prompt = prompt_template.format(adjective=\"funny\", content=\"chickens\")\n",
    "print(llm(prompt))\n",
    "\n",
    "\n",
    "# usage2\n",
    "prompt_template2 = PromptTemplate(\n",
    "    input_variables=[\"adjective\", \"content\"],\n",
    "    template=\"Tell me a {adjective} joke about {content}.\",\n",
    ")\n",
    "prompt2 = prompt_template2.format(adjective=\"funny\", content=\"brid\")\n",
    "print(llm(prompt2))\n",
    "print(llm(\"《沙丘》和《沙丘2》的导演是同一个国家的吗？\"))"
   ]
  },
  {
   "cell_type": "markdown",
   "metadata": {},
   "source": [
    "### Few-shot Prompt\n"
   ]
  },
  {
   "cell_type": "code",
   "execution_count": 11,
   "metadata": {},
   "outputs": [
    {
     "name": "stdout",
     "output_type": "stream",
     "text": [
      "\n",
      "Answer:\n",
      "            这里需要进一步的问题吗：是的。\n",
      "            追问：谁是《沙丘》的导演？\n",
      "            中间答案：《沙丘》的导演是Denis Villeneuve。\n",
      "            追问：Denis Villeneuve来自哪里？\n",
      "            中间答案：加拿大。\n",
      "            追问：谁是《沙丘2》的导演？\n",
      "            中间答案：《沙丘2》的导演是Denis Villeneuve。\n",
      "            追问：Denis Villeneuve来自哪里？\n",
      "            中间答案：加拿大。\n",
      "            所以最终答案是：是的。\n"
     ]
    }
   ],
   "source": [
    "from langchain.prompts.prompt import PromptTemplate\n",
    "from langchain.prompts.few_shot import FewShotPromptTemplate\n",
    "\n",
    "examples = [\n",
    "    {\n",
    "        \"question\": \"乔治·华盛顿的外祖父是谁？\",\n",
    "        \"answer\": \"\"\"\n",
    "            这里需要进一步的问题吗：是的。\n",
    "            追问：谁是乔治·华盛顿的母亲？\n",
    "            中间答案：乔治·华盛顿的母亲是Mary Ball Washington。\n",
    "            追问：Mary Ball Washington的父亲是谁？\n",
    "            中间答案：Mary Ball Washington的父亲是Joseph Ball。\n",
    "            所以最终答案是：Joseph Ball\n",
    "            \"\"\",\n",
    "    },\n",
    "    {\n",
    "        \"question\": \"《大白鲨》和《皇家赌场》的导演是同一个国家的吗？\",\n",
    "        \"answer\": \"\"\"\n",
    "            这里需要进一步的问题吗：是的。\n",
    "            追问：谁是《大白鲨》的导演？\n",
    "            中间答案：《大白鲨》的导演是Steven Spielberg。\n",
    "            追问：Steven Spielberg来自哪里？\n",
    "            中间答案：美国。\n",
    "            追问：谁是《皇家赌场》的导演？\n",
    "            中间答案：《皇家赌场》的导演是Martin Campbell。\n",
    "            追问：Martin Campbell来自哪里？\n",
    "            中间答案：新西兰。\n",
    "            所以最终答案是：不是\n",
    "            \"\"\",\n",
    "    },\n",
    "]\n",
    "\n",
    "example_prompt = PromptTemplate(\n",
    "    input_variables=[\"question\", \"answer\"],\n",
    "    template=\"Question：{question}\\nAnswer：{answer}\",\n",
    ")\n",
    "\n",
    "few_shot_prompt = FewShotPromptTemplate(\n",
    "    examples=examples,\n",
    "    example_prompt=example_prompt,\n",
    "    suffix=\"Question: {input}\",\n",
    "    input_variables=[\"input\"],\n",
    ")\n",
    "\n",
    "print(llm(few_shot_prompt.format(input=\"《沙丘》和《沙丘2》的导演是同一个国家的吗？\")))"
   ]
  },
  {
   "cell_type": "markdown",
   "metadata": {},
   "source": [
    "#### 根据某种条件或规则来自动选择 few prompt\n"
   ]
  },
  {
   "cell_type": "code",
   "execution_count": 13,
   "metadata": {},
   "outputs": [
    {
     "name": "stdout",
     "output_type": "stream",
     "text": [
      " short\n"
     ]
    }
   ],
   "source": [
    "# 从给定的示例中选择最相似的示例来返回输入的反义词\n",
    "from langchain.prompts.example_selector import SemanticSimilarityExampleSelector\n",
    "from langchain.vectorstores import Chroma\n",
    "from langchain_openai import OpenAIEmbeddings\n",
    "from langchain.prompts import FewShotPromptTemplate, PromptTemplate\n",
    "\n",
    "example_prompt = PromptTemplate(\n",
    "    input_variables=[\"input\", \"output\"],\n",
    "    template=\"Input: {input}\\nOutput: {output}\",\n",
    ")\n",
    "\n",
    "examples = [\n",
    "    {\"input\": \"happy\", \"output\": \"sad\"},\n",
    "    {\"input\": \"tall\", \"output\": \"short\"},\n",
    "    {\"input\": \"energetic\", \"output\": \"lethargic\"},\n",
    "    {\"input\": \"sunny\", \"output\": \"gloomy\"},\n",
    "    {\"input\": \"windy\", \"output\": \"calm\"},\n",
    "]\n",
    "\n",
    "example_selector = SemanticSimilarityExampleSelector.from_examples(\n",
    "    examples,\n",
    "    OpenAIEmbeddings(),\n",
    "    Chroma(),\n",
    "    k=1,\n",
    ")\n",
    "\n",
    "similar_prompt = FewShotPromptTemplate(\n",
    "    example_selector=example_selector,\n",
    "    example_prompt=example_prompt,\n",
    "    prefix=\"What is the opposite of input?\",\n",
    "    suffix=\"Input: {adjective}\\nOutput:\",\n",
    "    input_variables=[\"adjective\"],\n",
    ")\n",
    "\n",
    "prompt = similar_prompt.format(adjective=\"long\")\n",
    "print(llm(prompt))"
   ]
  },
  {
   "cell_type": "markdown",
   "metadata": {},
   "source": [
    "# Chat Model - ChatPromptTemplate\n"
   ]
  },
  {
   "cell_type": "code",
   "execution_count": 7,
   "metadata": {},
   "outputs": [
    {
     "name": "stdout",
     "output_type": "stream",
     "text": [
      "content=\"The iPhone is a line of smartphones designed and marketed by Apple Inc. It runs on Apple's iOS operating system and has become one of the most popular smartphones in the world.\"\n"
     ]
    }
   ],
   "source": [
    "from langchain.prompts import ChatPromptTemplate\n",
    "from langchain_openai import ChatOpenAI\n",
    "\n",
    "chat_model = ChatOpenAI()\n",
    "\n",
    "template = ChatPromptTemplate.from_messages(\n",
    "    [\n",
    "        (\"system\", \"You are a helpful AI bot. Your name is {name}\"),\n",
    "        (\"human\", \"Hello, how are you doing?\"),\n",
    "        (\"ai\", \"I'm doing well, thanks!\"),\n",
    "        (\"human\", \"{user_input}\"),\n",
    "    ]\n",
    ")\n",
    "\n",
    "messages = template.format_messages(name=\"Bob\", user_input=\"What is the IPhone?\")\n",
    "print(chat_model(messages))"
   ]
  },
  {
   "cell_type": "code",
   "execution_count": null,
   "metadata": {},
   "outputs": [],
   "source": []
  }
 ],
 "metadata": {
  "kernelspec": {
   "display_name": "dev-11",
   "language": "python",
   "name": "python3"
  },
  "language_info": {
   "codemirror_mode": {
    "name": "ipython",
    "version": 3
   },
   "file_extension": ".py",
   "mimetype": "text/x-python",
   "name": "python",
   "nbconvert_exporter": "python",
   "pygments_lexer": "ipython3",
   "version": "3.11.8"
  }
 },
 "nbformat": 4,
 "nbformat_minor": 2
}
